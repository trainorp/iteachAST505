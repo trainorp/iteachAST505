{
 "cells": [
  {
   "cell_type": "markdown",
   "metadata": {},
   "source": [
    "# Basic instructions (please follow along)"
   ]
  },
  {
   "cell_type": "markdown",
   "metadata": {},
   "source": [
    "This is an example notebook. It has two things in it, text (also called markdown) and some code. "
   ]
  },
  {
   "cell_type": "markdown",
   "metadata": {},
   "source": [
    "The notebook is organized into \"cells\", which are these rows. When you click on a cell it will be highlighted in blue."
   ]
  },
  {
   "cell_type": "markdown",
   "metadata": {},
   "source": [
    "If you double click one of the cells with text in it, it will allow you to modify the text. Also, if you double click the cell it will be highlighted in green, which means you can edit the text. When you are done modifying text that is in a cell, clicking the run button will set the text \"in stone\" untill you double click the cell again."
   ]
  },
  {
   "cell_type": "markdown",
   "metadata": {},
   "source": [
    "Please double click this cell, type your name after the period, and then click the run button."
   ]
  },
  {
   "cell_type": "markdown",
   "metadata": {},
   "source": [
    "If you want to type text into a cell, the drop down menu to the right of the run button needs to say \"Markdown\" and not \"code\" (or any of the other options)."
   ]
  },
  {
   "cell_type": "markdown",
   "metadata": {},
   "source": [
    "Okay, now we are going to do something interesting. Please click insert button and then click \"insert cell below\". It should put a new cell with nothing in it below this one. You will notice that to the right of the run button it says \"code\" in a drop down menu. Let's change this to \"Markdown\". After that, please type your favorite food and then click the run button."
   ]
  },
  {
   "cell_type": "markdown",
   "metadata": {},
   "source": [
    "You don't really need to know what \"code\" is. But for us it means getting the computer to do math for us. The next cell is going to be \"code\" instead of text. Please click the cell and then the run button and watch magic happen!"
   ]
  },
  {
   "cell_type": "code",
   "execution_count": null,
   "metadata": {},
   "outputs": [],
   "source": [
    "3 + 3"
   ]
  },
  {
   "cell_type": "markdown",
   "metadata": {},
   "source": [
    "That was pretty neat! We can do all kinds of math in these notebooks. Like calculate the square of 7, or $42 / 6$. Please try it out below."
   ]
  },
  {
   "cell_type": "code",
   "execution_count": null,
   "metadata": {},
   "outputs": [],
   "source": [
    "7^2"
   ]
  },
  {
   "cell_type": "code",
   "execution_count": null,
   "metadata": {},
   "outputs": [],
   "source": [
    "42 / 6"
   ]
  },
  {
   "cell_type": "markdown",
   "metadata": {},
   "source": [
    "There are a couple math functions that we will use. For example to take the square root of a number, $\\sqrt{x}$, we use the square root function \"sqrt(x)\". Below, lets take the square root of 100."
   ]
  },
  {
   "cell_type": "code",
   "execution_count": null,
   "metadata": {},
   "outputs": [],
   "source": [
    "sqrt(100)"
   ]
  },
  {
   "cell_type": "markdown",
   "metadata": {},
   "source": [
    "When you finish a lab notebook, please put your name at the top. To do this, click on the first cell (in this case the one that says \"Basic instructions\"). Then click \"Insert\", and then click \"Insert cell above\". Now change from \"code\" (in the drop down menu to the right of the run button) to \"markdown\". Now please put your name or names if you are working in a group. "
   ]
  },
  {
   "cell_type": "markdown",
   "metadata": {},
   "source": [
    "To turn in a finished lab notebook, please click \"File\" and then \"Download as -> Notebook (.ipynb)\", then you can submit this using Canvas."
   ]
  }
 ],
 "metadata": {
  "kernelspec": {
   "display_name": "R",
   "language": "R",
   "name": "ir"
  },
  "language_info": {
   "codemirror_mode": "r",
   "file_extension": ".r",
   "mimetype": "text/x-r-source",
   "name": "R",
   "pygments_lexer": "r",
   "version": "3.6.1"
  }
 },
 "nbformat": 4,
 "nbformat_minor": 1
}
