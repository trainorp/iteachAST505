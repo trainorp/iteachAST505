{
  "cells": [
    {
      "metadata": {},
      "cell_type": "markdown",
      "source": "# Basic instructions (please follow along)"
    },
    {
      "metadata": {},
      "cell_type": "markdown",
      "source": "This is an example notebook. It has two things in it, text (also called markdown) and some code. "
    },
    {
      "metadata": {},
      "cell_type": "markdown",
      "source": "The notebook is organized into \"cells\", which are these rows. When you click on a cell it will be highlighted in blue."
    },
    {
      "metadata": {},
      "cell_type": "markdown",
      "source": "If you double click one of the cells with text in it, it will allow you to modify the text. Also, if you double click the cell it will be highlighted in green, which means you can edit the text. When you are done modifying text that is in a cell, clicking the run button will set the text \"in stone\" untill you double click the cell again."
    },
    {
      "metadata": {},
      "cell_type": "markdown",
      "source": "Please double click this cell, type your name after the period, and then click the run button."
    },
    {
      "metadata": {},
      "cell_type": "markdown",
      "source": "If you want to type text into a cell, the drop down menu to the right of the run button needs to say \"Markdown\" and not \"code\" (or any of the other options)."
    },
    {
      "metadata": {},
      "cell_type": "markdown",
      "source": "Okay, now we are going to do something interesting. Please click insert button and then click \"insert cell below\". It should put a new cell with nothing in it below this one. You will notice that to the right of the run button it says \"code\" in a drop down menu. Let's change this to \"Markdown\". After that, please type your favorite food and then click the run button."
    },
    {
      "metadata": {},
      "cell_type": "markdown",
      "source": "You don't really need to know what \"code\" is. But for us it means getting the computer to do math for us. The next cell is going to be \"code\" instead of text. Please click the cell and then the run button and watch magic happen!"
    },
    {
      "metadata": {
        "trusted": true
      },
      "cell_type": "code",
      "source": "3 + 3",
      "execution_count": null,
      "outputs": []
    },
    {
      "metadata": {},
      "cell_type": "markdown",
      "source": "That was pretty neat! We can do all kinds of math in these notebooks. Like calculate the square of 7, or $42 / 6$. Please try it out below."
    },
    {
      "metadata": {
        "trusted": true
      },
      "cell_type": "code",
      "source": "7^2",
      "execution_count": null,
      "outputs": []
    },
    {
      "metadata": {
        "trusted": true
      },
      "cell_type": "code",
      "source": "42 / 6",
      "execution_count": null,
      "outputs": []
    },
    {
      "metadata": {},
      "cell_type": "markdown",
      "source": "There are a couple math functions that we will use. For example to take the square root of a number, $\\sqrt{x}$, we use the square root function \"sqrt(x)\". Below, lets take the square root of 100."
    },
    {
      "metadata": {
        "trusted": true
      },
      "cell_type": "code",
      "source": "sqrt(100)",
      "execution_count": null,
      "outputs": []
    },
    {
      "metadata": {},
      "cell_type": "markdown",
      "source": "When you finish a lab notebook, please put your name at the top. To do this, click on the first cell (in this case the one that says \"Basic instructions\"). Then click \"Insert\", and then click \"Insert cell above\". Now change from \"code\" (in the drop down menu to the right of the run button) to \"markdown\". Now please put your name or names if you are working in a group. "
    },
    {
      "metadata": {},
      "cell_type": "markdown",
      "source": "To turn in a finished lab notebook, please click \"File\" and then \"Download as -> Notebook (.ipynb)\", then you can submit this using Canvas."
    }
  ],
  "metadata": {
    "kernelspec": {
      "name": "r",
      "display_name": "R",
      "language": "R"
    },
    "language_info": {
      "mimetype": "text/x-r-source",
      "name": "R",
      "pygments_lexer": "r",
      "version": "3.5.3",
      "file_extension": ".r",
      "codemirror_mode": "r"
    }
  },
  "nbformat": 4,
  "nbformat_minor": 1
}