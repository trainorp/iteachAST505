{
  "nbformat": 4,
  "nbformat_minor": 0,
  "metadata": {
    "kernelspec": {
      "display_name": "R",
      "language": "R",
      "name": "ir"
    },
    "language_info": {
      "codemirror_mode": "r",
      "file_extension": ".r",
      "mimetype": "text/x-r-source",
      "name": "R",
      "pygments_lexer": "r",
      "version": "4.0.2"
    },
    "colab": {
      "name": "Lab0_NotebookIntroduction_Google.ipynb",
      "provenance": [],
      "collapsed_sections": []
    }
  },
  "cells": [
    {
      "cell_type": "markdown",
      "metadata": {
        "id": "60Wlxm3zhfln",
        "colab_type": "text"
      },
      "source": [
        "# Basic instructions (please follow along)"
      ]
    },
    {
      "cell_type": "markdown",
      "metadata": {
        "id": "55THXdYUhflp",
        "colab_type": "text"
      },
      "source": [
        "This is an example notebook. It has two things in it, text (also called markdown) and some code. "
      ]
    },
    {
      "cell_type": "markdown",
      "metadata": {
        "id": "NjcZ9xOFhfls",
        "colab_type": "text"
      },
      "source": [
        "The notebook is organized into \"cells\", which are these rows. When you click on a cell it will be highlighted with a grey box."
      ]
    },
    {
      "cell_type": "markdown",
      "metadata": {
        "id": "tEucBIg1hflu",
        "colab_type": "text"
      },
      "source": [
        "If you double click one of the cells with text in it, it will allow you to modify the text. Also, if you double click the cell it will open a text editor (which shows a preview to the right). When you are done modifying text that is in a cell, clicking somewhere else to close the text editor."
      ]
    },
    {
      "cell_type": "markdown",
      "metadata": {
        "id": "NhnHVE4Rhflx",
        "colab_type": "text"
      },
      "source": [
        "Please double click this cell, type your name after the period, and then click the run button."
      ]
    },
    {
      "cell_type": "markdown",
      "metadata": {
        "id": "lzdELEn3hfl0",
        "colab_type": "text"
      },
      "source": [
        "Okay, now we are going to do something interesting. Please click insert button and then click \"insert text cell\". It should put a new cell with nothing in it below this one. Please type your favorite food into the new text cell below and then close the cell."
      ]
    },
    {
      "cell_type": "markdown",
      "metadata": {
        "id": "HCGCBWzehfl6",
        "colab_type": "text"
      },
      "source": [
        "You don't really need to know what \"code\" is. But for us it means getting the computer to do math for us. The next cell is going to be \"code\" instead of text. Please click the cell and then the run button and watch magic happen!"
      ]
    },
    {
      "cell_type": "code",
      "metadata": {
        "id": "WNHjGZadhfl8",
        "colab_type": "code",
        "colab": {}
      },
      "source": [
        "3 + 3"
      ],
      "execution_count": null,
      "outputs": []
    },
    {
      "cell_type": "markdown",
      "metadata": {
        "id": "swtNtX86hfmF",
        "colab_type": "text"
      },
      "source": [
        "That was pretty neat! We can do all kinds of math in these notebooks. Like calculate the square of 7, or $42 / 6$. Please try it out below."
      ]
    },
    {
      "cell_type": "code",
      "metadata": {
        "id": "DmVsPIqChfmG",
        "colab_type": "code",
        "colab": {}
      },
      "source": [
        "7^2"
      ],
      "execution_count": null,
      "outputs": []
    },
    {
      "cell_type": "code",
      "metadata": {
        "id": "52JSrmC1hfmN",
        "colab_type": "code",
        "colab": {}
      },
      "source": [
        "42 / 6"
      ],
      "execution_count": null,
      "outputs": []
    },
    {
      "cell_type": "markdown",
      "metadata": {
        "id": "ITewg2KdhfmU",
        "colab_type": "text"
      },
      "source": [
        "There are a couple math functions that we will use. For example to take the square root of a number, $\\sqrt{x}$, we use the square root function \"sqrt(x)\". Below, lets take the square root of 100."
      ]
    },
    {
      "cell_type": "code",
      "metadata": {
        "id": "-4kubgwVhfmW",
        "colab_type": "code",
        "colab": {}
      },
      "source": [
        "sqrt(100)"
      ],
      "execution_count": null,
      "outputs": []
    },
    {
      "cell_type": "markdown",
      "metadata": {
        "id": "6KTMm9Q9hfmd",
        "colab_type": "text"
      },
      "source": [
        "When you finish a lab notebook, please put your name at the top. To do this, click on the first cell (in this case the one that says \"Basic instructions\"). Then click \"Insert\", and then click \"Insert text cell\". You can then use the up and down arrows to move that new text cell to the top. "
      ]
    },
    {
      "cell_type": "markdown",
      "metadata": {
        "id": "-iw8XN4Khfme",
        "colab_type": "text"
      },
      "source": [
        "To turn in a finished lab notebook, please click \"File\" and then \"Download .ipynb\", then you can submit this using Canvas."
      ]
    }
  ]
}