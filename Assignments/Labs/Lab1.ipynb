{
 "cells": [
  {
   "cell_type": "markdown",
   "metadata": {},
   "source": [
    "# Lab 1: Descriptive Statistics\n",
    "\n",
    "In this lab we are going to practice using software to generate some descriptive statistics. \n",
    "\n",
    "As you work through the lab, remember that you can refer back to \"Lab 0: The notebook introduction\" to help you use the notebook and to help you remeber how to save it for submission."
   ]
  },
  {
   "cell_type": "markdown",
   "metadata": {},
   "source": [
    "# Import data\n",
    "Please note that the \"<-\" is creating a new \"object\" named $x$ that is a list of numbers (called a \"vector\"). After you run the next cell, then $x$ will be equal to [0, 12, 12, 10, 21, 26, 2, 23, 3, 20, 27, 42, 23, 3, 39, 5]. In R you can also use the \"=\" sign for creating \"objects\" with specific names. "
   ]
  },
  {
   "cell_type": "code",
   "execution_count": null,
   "metadata": {},
   "outputs": [],
   "source": [
    "x <- c(0, 12, 12, 10, 21, 26, 2, 23, 3, 20, 27, 42, 23, 3, 39, 5)"
   ]
  },
  {
   "cell_type": "markdown",
   "metadata": {},
   "source": [
    "You can print an object by typing its name. Here we print the vector (or list of numbers) called $x$ that is our dataset. "
   ]
  },
  {
   "cell_type": "code",
   "execution_count": null,
   "metadata": {},
   "outputs": [],
   "source": [
    "x"
   ]
  },
  {
   "cell_type": "markdown",
   "metadata": {},
   "source": [
    "# Measures of \"centrality\"\n",
    "We want to take a look at different measures of where the middle of a data distribution is. First we will look at the mean of $x$. To compute it \"by hand\" using R, we would use the formula: $\\bar{x} = \\sum_{i}\\frac{x_i}{n}$. So we could do: "
   ]
  },
  {
   "cell_type": "code",
   "execution_count": null,
   "metadata": {},
   "outputs": [],
   "source": [
    "(0 + 12 + 12 + 10 + 21 + 26 + 2 + 23 + 3 + 20 + 27 + 42 + 23 + 3 + 39 + 5) / 16"
   ]
  },
  {
   "cell_type": "markdown",
   "metadata": {},
   "source": [
    "R has a function for computing sums, so we could use that:"
   ]
  },
  {
   "cell_type": "code",
   "execution_count": null,
   "metadata": {},
   "outputs": [],
   "source": [
    "sum(x) / 16"
   ]
  },
  {
   "cell_type": "markdown",
   "metadata": {},
   "source": [
    "But, more importantly, R has a function for computing the sample mean:"
   ]
  },
  {
   "cell_type": "code",
   "execution_count": null,
   "metadata": {},
   "outputs": [],
   "source": [
    "mean(x)"
   ]
  },
  {
   "cell_type": "markdown",
   "metadata": {},
   "source": [
    "Next, let's look at the median of $x$. We remember that the median is the middle number when the data is ordered from smallest to largest. If there are an even number of numbers in our dataset, we can take the average (or mean) of the two middle ones. First, we can ask R to sort our data for us:"
   ]
  },
  {
   "cell_type": "code",
   "execution_count": null,
   "metadata": {},
   "outputs": [],
   "source": [
    "sort(x)"
   ]
  },
  {
   "cell_type": "markdown",
   "metadata": {},
   "source": [
    "Since there are 16 numbers (which is even), we will need to find the middle two and take their average:"
   ]
  },
  {
   "cell_type": "code",
   "execution_count": null,
   "metadata": {},
   "outputs": [],
   "source": [
    "(12 + 20) / 2"
   ]
  },
  {
   "cell_type": "markdown",
   "metadata": {},
   "source": [
    "Not surprisingly, there is also an R function for computing the median:"
   ]
  },
  {
   "cell_type": "code",
   "execution_count": null,
   "metadata": {},
   "outputs": [],
   "source": [
    "median(x)"
   ]
  },
  {
   "cell_type": "markdown",
   "metadata": {
    "slideshow": {
     "slide_type": "fragment"
    }
   },
   "source": [
    "# Percentiles and Quantiles"
   ]
  },
  {
   "cell_type": "markdown",
   "metadata": {},
   "source": [
    "We are going to use a function that generates a list of numbers (a sequence). This function is called \"seq\" (short for sequence). It can have three arguments (from, to, and by). \"From\" means the smallest number in the sequence, \"to\" means the largetst number in the sequence, and \"by\" means the spacing (or interval) between each number in the sequence. For example I could make the sequence 1, 2, 3, 4, 5, 6 by using this code:"
   ]
  },
  {
   "cell_type": "code",
   "execution_count": null,
   "metadata": {},
   "outputs": [],
   "source": [
    "seq(from = 1, to = 6, by = 1)"
   ]
  },
  {
   "cell_type": "markdown",
   "metadata": {},
   "source": [
    "To make a sequence \"counting by twos\" from 2 to 12 we would do this:"
   ]
  },
  {
   "cell_type": "code",
   "execution_count": null,
   "metadata": {},
   "outputs": [],
   "source": [
    "seq(from = 2, to = 12, by = 2)"
   ]
  },
  {
   "cell_type": "markdown",
   "metadata": {},
   "source": [
    "Or to make percentages from 0% to 100%, we could use the code below. Remember that percentages are also decimals--so 10% is also 0.1, 0% is 0, and 100% is 1."
   ]
  },
  {
   "cell_type": "code",
   "execution_count": null,
   "metadata": {},
   "outputs": [],
   "source": [
    "seq(from = 0, to = 1, by = 0.1)"
   ]
  },
  {
   "cell_type": "markdown",
   "metadata": {},
   "source": [
    "We are now ready to find some percentiles of our data $x$. To do this we will use the \"quantile\" function. For example to find the 25th percentile of our data we would do this:"
   ]
  },
  {
   "cell_type": "code",
   "execution_count": null,
   "metadata": {},
   "outputs": [],
   "source": [
    "quantile(x, .25)"
   ]
  },
  {
   "cell_type": "markdown",
   "metadata": {},
   "source": [
    "Now if we wanted each tenth percentile (10%, 20%, 30%, 40%, 50%, 60%, 70%, 80%, 90%, 100%), we use the \"quantile\" function and the sequence from 0 to 1 by 0.1 as we made above."
   ]
  },
  {
   "cell_type": "code",
   "execution_count": null,
   "metadata": {},
   "outputs": [],
   "source": [
    "quantile(x, seq(from = 0, to = 1, by = .1))"
   ]
  },
  {
   "cell_type": "markdown",
   "metadata": {},
   "source": [
    "Okay, now lets find the quartiles of $x$. Recall that quartiles divide the data into four bins--so these will use the 0th, 25th, 75th, and 100th percentiles."
   ]
  },
  {
   "cell_type": "code",
   "execution_count": null,
   "metadata": {},
   "outputs": [],
   "source": [
    "quantile(x, seq(from = 0, to = 1, by = 0.25))"
   ]
  },
  {
   "cell_type": "markdown",
   "metadata": {},
   "source": [
    "# Measures of dispersion / spread\n",
    "Earlier we computed some measures of centrality (or where the center of a data distribution is located). Now we are going to compute some measures that describe how \"spread out\" our data is.\n",
    "\n",
    "### The interquartile range (IQR)\n",
    "The first measure of dispersion we will talk about is the Interquartile Range (IQR). The IQR is how wide the middle part of our data distribution is that has 1/2 of the data in it. This middle part will be between the 25th percentile and the 75th percentile. In the output right above, we computed these for $x$. So now we need to find out how wide the interval between 23.75 and 4.5 is:"
   ]
  },
  {
   "cell_type": "code",
   "execution_count": null,
   "metadata": {},
   "outputs": [],
   "source": [
    "23.75 - 4.5"
   ]
  },
  {
   "cell_type": "markdown",
   "metadata": {},
   "source": [
    "Now, let's check that our subtraction result gives us the same thing as the R function for computing the interquartile range (called IQR):"
   ]
  },
  {
   "cell_type": "code",
   "execution_count": null,
   "metadata": {},
   "outputs": [],
   "source": [
    "IQR(x)"
   ]
  },
  {
   "cell_type": "markdown",
   "metadata": {},
   "source": [
    "### The sample variance\n",
    "To compute the sample variance \"by hand\" we could use the formula: $variance(x) = \\frac{\\sum_i (x_i - \\bar{x})^2}{n-1}$ like below (you may have to scroll for a while to see the whole equation):"
   ]
  },
  {
   "cell_type": "code",
   "execution_count": null,
   "metadata": {},
   "outputs": [],
   "source": [
    "((0 - 16.75)^2 + (12 - 16.75)^2 + (12 - 16.75)^2 + (10 - 16.75)^2 + (21 - 16.75)^2 + (26 - 16.75)^2 + (2 - 16.75)^2 + (23 - 16.75)^2 + (3 - 16.75)^2 + (20 - 16.75)^2 + (27 - 16.75)^2 + (42 - 16.75)^2 + (23 - 16.75)^2 + (3 - 16.75)^2 + (39 - 16.75)^2 + (5 - 16.75)^2) / (16 - 1)"
   ]
  },
  {
   "cell_type": "markdown",
   "metadata": {},
   "source": [
    "We could make things a little easier by noticing that if we ask R to subtract a number (say 16.75) from a vector like $x$, it will subtract that number (16.75) from every single number that is in x. For example, run the next 2 lines:"
   ]
  },
  {
   "cell_type": "code",
   "execution_count": null,
   "metadata": {},
   "outputs": [],
   "source": [
    "x"
   ]
  },
  {
   "cell_type": "code",
   "execution_count": null,
   "metadata": {},
   "outputs": [],
   "source": [
    "x - 16.75"
   ]
  },
  {
   "cell_type": "markdown",
   "metadata": {},
   "source": [
    "Remember, that the number 16.75 is the mean of $x$, so this next line is the same as the line above:"
   ]
  },
  {
   "cell_type": "code",
   "execution_count": null,
   "metadata": {},
   "outputs": [],
   "source": [
    "x - mean(x)"
   ]
  },
  {
   "cell_type": "markdown",
   "metadata": {},
   "source": [
    "To make the squared deviations we could do this (notice that R subtracts the mean and squares the deviation for each number that is in the vector $x$):"
   ]
  },
  {
   "cell_type": "code",
   "execution_count": null,
   "metadata": {},
   "outputs": [],
   "source": [
    "(x - mean(x))^2"
   ]
  },
  {
   "cell_type": "markdown",
   "metadata": {},
   "source": [
    "To add all of those squared deviations up we can use the sum function:"
   ]
  },
  {
   "cell_type": "code",
   "execution_count": null,
   "metadata": {},
   "outputs": [],
   "source": [
    "sum((x - mean(x))^2)"
   ]
  },
  {
   "cell_type": "markdown",
   "metadata": {},
   "source": [
    "Now to compute the sample variance using the formula, we have one more step (dividing the squared deviations by $n-1$):"
   ]
  },
  {
   "cell_type": "code",
   "execution_count": null,
   "metadata": {},
   "outputs": [],
   "source": [
    "sum((x - mean(x))^2) / (16 - 1)"
   ]
  },
  {
   "cell_type": "markdown",
   "metadata": {},
   "source": [
    "All of those steps for computing the sample variance can be done at once using the \"var\" (short for variance) function in R:"
   ]
  },
  {
   "cell_type": "code",
   "execution_count": null,
   "metadata": {},
   "outputs": [],
   "source": [
    "var(x)"
   ]
  },
  {
   "cell_type": "markdown",
   "metadata": {},
   "source": [
    "### The sample standard deviation"
   ]
  },
  {
   "cell_type": "markdown",
   "metadata": {},
   "source": [
    "To compute the sample standard deviation we take the square root of the sample variance. So using the variance calculation from before:"
   ]
  },
  {
   "cell_type": "code",
   "execution_count": null,
   "metadata": {},
   "outputs": [],
   "source": [
    "sqrt(var(x))"
   ]
  },
  {
   "cell_type": "markdown",
   "metadata": {},
   "source": [
    "As you might expect by now, R has a function for computing the sample standard deviation right away:"
   ]
  },
  {
   "cell_type": "code",
   "execution_count": null,
   "metadata": {},
   "outputs": [],
   "source": [
    "sd(x)"
   ]
  },
  {
   "cell_type": "markdown",
   "metadata": {},
   "source": [
    "# Graphical descriptions of our data \n",
    "First, let's make a histogram that shows the distribution of $x$. We will use the \"hist\" function which is short for histogram."
   ]
  },
  {
   "cell_type": "code",
   "execution_count": null,
   "metadata": {},
   "outputs": [],
   "source": [
    "hist(x)"
   ]
  },
  {
   "cell_type": "markdown",
   "metadata": {},
   "source": [
    "Let's make a stem-and-leaf plot for $x$."
   ]
  },
  {
   "cell_type": "code",
   "execution_count": null,
   "metadata": {},
   "outputs": [],
   "source": [
    "stem(x)"
   ]
  },
  {
   "cell_type": "markdown",
   "metadata": {},
   "source": [
    "Next up, we will make a boxplot of $x$:"
   ]
  },
  {
   "cell_type": "code",
   "execution_count": null,
   "metadata": {},
   "outputs": [],
   "source": [
    "boxplot(x)"
   ]
  },
  {
   "cell_type": "markdown",
   "metadata": {},
   "source": [
    "# Two sets of data\n",
    "Now let's assume we have another set of data called $y$. We will create it below. The line below tells R to make an object called $y$ and that this object is the list of provided numbers (a vector):"
   ]
  },
  {
   "cell_type": "code",
   "execution_count": null,
   "metadata": {},
   "outputs": [],
   "source": [
    "y <- c(-4, 14, 11, 2, 22, 27, -1, 27, 4, 21, 38, 42, 23, 3, 42, 7)"
   ]
  },
  {
   "cell_type": "markdown",
   "metadata": {},
   "source": [
    "We can plot $x$ and $y$ at the same time. In this case we will put the data $x$ on the x-axis and the data $y$ on the y-axis:"
   ]
  },
  {
   "cell_type": "code",
   "execution_count": null,
   "metadata": {},
   "outputs": [],
   "source": [
    "plot(x, y)"
   ]
  },
  {
   "cell_type": "markdown",
   "metadata": {},
   "source": [
    "## The correlation coefficient\n",
    "Now, let's compute the correlation coefficient between $x$ and $y$. There are a couple of formulas (that are mathematically equivalent) in the textbook for $r$. We will use $r = \\frac{\\sum_{i=1}^{n} (x_i - \\bar{x})(y_i - \\bar{y})}{\\sqrt{\\sum_i (x_i - \\bar{x})^2 \\sum_i (y_i - \\bar{y})^2}}$. Before we compute $r$ we are going to take a look at each individual part of the formula:\n",
    "1. $(x_i - \\bar{x})$\n",
    "2. $(y_i - \\bar{y})$\n",
    "3. $(x_i - \\bar{x})^2$\n",
    "4. $(y_i - \\bar{y})^2$"
   ]
  },
  {
   "cell_type": "markdown",
   "metadata": {},
   "source": [
    "Here is part 1: $(x_i - \\bar{x})$"
   ]
  },
  {
   "cell_type": "code",
   "execution_count": null,
   "metadata": {},
   "outputs": [],
   "source": [
    "x - mean(x)"
   ]
  },
  {
   "cell_type": "markdown",
   "metadata": {},
   "source": [
    "Here is part 2: $(y_i - \\bar{y})$"
   ]
  },
  {
   "cell_type": "code",
   "execution_count": null,
   "metadata": {},
   "outputs": [],
   "source": [
    "y - mean(y)"
   ]
  },
  {
   "cell_type": "markdown",
   "metadata": {},
   "source": [
    "Here is part 3: $(x_i - \\bar{x})^2$"
   ]
  },
  {
   "cell_type": "code",
   "execution_count": null,
   "metadata": {},
   "outputs": [],
   "source": [
    "(x - mean(x))^2"
   ]
  },
  {
   "cell_type": "markdown",
   "metadata": {},
   "source": [
    "Here is part 4:  $(y_i - \\bar{y})^2$"
   ]
  },
  {
   "cell_type": "code",
   "execution_count": null,
   "metadata": {},
   "outputs": [],
   "source": [
    "(y - mean(y))^2"
   ]
  },
  {
   "cell_type": "markdown",
   "metadata": {
    "slideshow": {
     "slide_type": "subslide"
    }
   },
   "source": [
    "Okay, now we have to put some parts together. In the numerator of $r = \\frac{\\sum_{i=1}^{n} (x_i - \\bar{x})(y_i - \\bar{y})}{\\sqrt{\\sum_i (x_i - \\bar{x})^2 \\sum_i (y_i - \\bar{y})^2}}$ we see the individual numbers from part 1 and part 2 are multiplied together, and then they are all added. The numerator is this part: $\\sum_{i=1}^{n} (x_i - \\bar{x})(y_i - \\bar{y})$. Let's first try the multiplication part: $(x_i - \\bar{x})(y_i - \\bar{y})$ below:"
   ]
  },
  {
   "cell_type": "code",
   "execution_count": null,
   "metadata": {},
   "outputs": [],
   "source": [
    "(x - mean(x)) * (y - mean(y))"
   ]
  },
  {
   "cell_type": "markdown",
   "metadata": {},
   "source": [
    "Okay, now that we have seen what this multiplication part looks like, let's sum up these numbers to give us the numerator: $\\sum_{i=1}^{n} (x_i - \\bar{x})(y_i - \\bar{y})$"
   ]
  },
  {
   "cell_type": "code",
   "execution_count": null,
   "metadata": {},
   "outputs": [],
   "source": [
    "sum((x - mean(x)) * (y - mean(y)))"
   ]
  },
  {
   "cell_type": "markdown",
   "metadata": {},
   "source": [
    "All we have left to do now is calculate the denominator: $\\sqrt{\\sum_i (x_i - \\bar{x})^2 \\sum_i (y_i - \\bar{y})^2}$. This time we will just use one step:"
   ]
  },
  {
   "cell_type": "code",
   "execution_count": null,
   "metadata": {},
   "outputs": [],
   "source": [
    "sqrt(sum((x - mean(x))^2) * sum((y - mean(y))^2))"
   ]
  },
  {
   "cell_type": "markdown",
   "metadata": {},
   "source": [
    "Now let's see what happens when we divide the numerator term $\\sum_{i=1}^{n} (x_i - \\bar{x})(y_i - \\bar{y})$ by the denominator term $\\sqrt{\\sum_i (x_i - \\bar{x})^2 \\sum_i (y_i - \\bar{y})^2}$ to compute $r$:"
   ]
  },
  {
   "cell_type": "code",
   "execution_count": null,
   "metadata": {},
   "outputs": [],
   "source": [
    "sum((x - mean(x)) * (y - mean(y))) / sqrt((sum((x - mean(x))^2) * sum((y - mean(y))^2)))"
   ]
  },
  {
   "cell_type": "markdown",
   "metadata": {},
   "source": [
    "The line above that you used to compute $r$ had a ton of stuff in it. Luckily, there is an R function that does it all at once!"
   ]
  },
  {
   "cell_type": "code",
   "execution_count": null,
   "metadata": {},
   "outputs": [],
   "source": [
    "cor(x, y)"
   ]
  },
  {
   "cell_type": "markdown",
   "metadata": {},
   "source": [
    "### Many ways to do things, many ways to see things\n",
    "In the above excercise we calculated individual parts of the formula such as $(x_i - \\bar{x})$. We could have skipped this and put everything into the formula at once like this:"
   ]
  },
  {
   "cell_type": "code",
   "execution_count": null,
   "metadata": {},
   "outputs": [],
   "source": [
    "sum((x - mean(x)) * (y - mean(y))) / sqrt((sum((x - mean(x))^2) * sum((y - mean(y))^2)))"
   ]
  },
  {
   "cell_type": "markdown",
   "metadata": {},
   "source": [
    "But when working with formulas like $r = \\frac{\\sum_{i=1}^{n} (x_i - \\bar{x})(y_i - \\bar{y})}{\\sqrt{\\sum_i (x_i - \\bar{x})^2 \\sum_i (y_i - \\bar{y})^2}}$, it is often good to break things down into pieces, take a look at the pieces, and then assemble it all together. That way you are less likely to make a mistake such as misplacing parentheses."
   ]
  },
  {
   "cell_type": "markdown",
   "metadata": {},
   "source": [
    "Please put your names at the top of the notebook (click on the top cell, then click insert, then click \"insert cell above\", then change from \"code\" to \"markdown\" and type names). Then please download the notebook (Click file, then \"Download as Notebook .ipynb\") and please submit on Canvas."
   ]
  }
 ],
 "metadata": {
  "kernelspec": {
   "display_name": "R",
   "language": "R",
   "name": "ir"
  },
  "language_info": {
   "codemirror_mode": "r",
   "file_extension": ".r",
   "mimetype": "text/x-r-source",
   "name": "R",
   "pygments_lexer": "r",
   "version": "3.6.1"
  }
 },
 "nbformat": 4,
 "nbformat_minor": 2
}
