{
  "cells": [
    {
      "metadata": {},
      "cell_type": "markdown",
      "source": "# Import data\nPlease note that the \"<-\" is creating a new \"object\" named $x$ that is a list of numbers (called a \"vector\"). After you run the next cell, then $x$ will be equal to [0, 12, 12, 10, 21, 26, 2, 23, 3, 20, 27, 42, 23, 3, 39, 5]. In R you can also use the \"=\" sign for creating \"objects\" with specific names. "
    },
    {
      "metadata": {
        "trusted": true
      },
      "cell_type": "code",
      "source": "x <- c(0, 12, 12, 10, 21, 26, 2, 23, 3, 20, 27, 42, 23, 3, 39, 5)",
      "execution_count": null,
      "outputs": []
    },
    {
      "metadata": {},
      "cell_type": "markdown",
      "source": "You can print an object by typing its name. Here we print the vector (or list of numbers) called $x$ that is our dataset. "
    },
    {
      "metadata": {
        "trusted": true
      },
      "cell_type": "code",
      "source": "x",
      "execution_count": null,
      "outputs": []
    },
    {
      "metadata": {},
      "cell_type": "markdown",
      "source": "# Measures of \"centrality\"\nWe want to take a look at different measures of where the middle of a data distribution is. First we will look at the mean of $x$. To compute it \"by hand\" using R, we would use the formula: $\\bar{x} = \\sum_{i}\\frac{x_i}{n}$. So we could do: "
    },
    {
      "metadata": {
        "trusted": true
      },
      "cell_type": "code",
      "source": "(0 + 12 + 12 + 10 + 21 + 26 + 2 + 23 + 3 + 20 + 27 + 42 + 23 + 3 + 39 + 5) / 16",
      "execution_count": null,
      "outputs": []
    },
    {
      "metadata": {},
      "cell_type": "markdown",
      "source": "R has a function for computing sums, so we could use that:"
    },
    {
      "metadata": {
        "trusted": true
      },
      "cell_type": "code",
      "source": "sum(x) / 16",
      "execution_count": null,
      "outputs": []
    },
    {
      "metadata": {},
      "cell_type": "markdown",
      "source": "But, more importantly, R has a function for computing the sample mean:"
    },
    {
      "metadata": {
        "trusted": true
      },
      "cell_type": "code",
      "source": "mean(x)",
      "execution_count": null,
      "outputs": []
    },
    {
      "metadata": {},
      "cell_type": "markdown",
      "source": "Next, let's look at the median of $x$. We remember that the median is the middle number when the data is ordered from smallest to largest. If there are an even number of numbers in our dataset, we can take the average (or mean) of the two middle ones. First, we can ask R to sort our data for us:"
    },
    {
      "metadata": {
        "trusted": true
      },
      "cell_type": "code",
      "source": "sort(x)",
      "execution_count": null,
      "outputs": []
    },
    {
      "metadata": {},
      "cell_type": "markdown",
      "source": "Since there are 16 numbers (which is even), we will need to find the middle two and take their average:"
    },
    {
      "metadata": {
        "trusted": true
      },
      "cell_type": "code",
      "source": "(12 + 20) / 2",
      "execution_count": null,
      "outputs": []
    },
    {
      "metadata": {},
      "cell_type": "markdown",
      "source": "Not surprisingly, there is also an R function for computing the median:"
    },
    {
      "metadata": {
        "trusted": true
      },
      "cell_type": "code",
      "source": "median(x)",
      "execution_count": null,
      "outputs": []
    },
    {
      "metadata": {
        "slideshow": {
          "slide_type": "fragment"
        }
      },
      "cell_type": "markdown",
      "source": "# Percentiles and Quantiles"
    },
    {
      "metadata": {},
      "cell_type": "markdown",
      "source": "We are going to use a function that generates a list of numbers (a sequence). This function is called \"seq\" (short for sequence). It can have three arguments (from, to, and by). \"From\" means the smallest number in the sequence, \"to\" means the largetst number in the sequence, and \"by\" means the spacing (or interval) between each number in the sequence. For example I could make the sequence 1, 2, 3, 4, 5, 6 by using this code:"
    },
    {
      "metadata": {
        "trusted": true
      },
      "cell_type": "code",
      "source": "seq(from = 1, to = 6, by = 1)",
      "execution_count": null,
      "outputs": []
    },
    {
      "metadata": {},
      "cell_type": "markdown",
      "source": "To make a sequence \"counting by twos\" from 2 to 12 we would do this:"
    },
    {
      "metadata": {
        "trusted": true
      },
      "cell_type": "code",
      "source": "seq(from = 2, to = 12, by = 2)",
      "execution_count": null,
      "outputs": []
    },
    {
      "metadata": {},
      "cell_type": "markdown",
      "source": "Or to make percentages from 0% to 100%, we could use the code below. Remember that percentages are also decimals--so 10% is also 0.1, 0% is 0, and 100% is 1."
    },
    {
      "metadata": {
        "trusted": true
      },
      "cell_type": "code",
      "source": "seq(from = 0, to = 1, by = 0.1)",
      "execution_count": null,
      "outputs": []
    },
    {
      "metadata": {},
      "cell_type": "markdown",
      "source": "We are now ready to find some percentiles of our data $x$. To do this we will use the \"quantile\" function. For example to find the 25th percentile of our data we would do this:"
    },
    {
      "metadata": {
        "trusted": true
      },
      "cell_type": "code",
      "source": "quantile(x, .25)",
      "execution_count": null,
      "outputs": []
    },
    {
      "metadata": {},
      "cell_type": "markdown",
      "source": "Now if we wanted each tenth percentile (10%, 20%, 30%, 40%, 50%, 60%, 70%, 80%, 90%, 100%), we use the \"quantile\" function and the sequence from 0 to 1 by 0.1 as we made above."
    },
    {
      "metadata": {
        "trusted": true
      },
      "cell_type": "code",
      "source": "quantile(x, seq(from = 0, to = 1, by = .1))",
      "execution_count": null,
      "outputs": []
    },
    {
      "metadata": {},
      "cell_type": "markdown",
      "source": "Okay, now lets find the quartiles of $x$. Recall that quartiles divide the data into four bins--so these will use the 0th, 25th, 75th, and 100th percentiles."
    },
    {
      "metadata": {
        "trusted": true
      },
      "cell_type": "code",
      "source": "quantile(x, seq(from = 0, to = 1, by = 0.25))",
      "execution_count": null,
      "outputs": []
    },
    {
      "metadata": {},
      "cell_type": "markdown",
      "source": "# Measures of dispersion / spread\nEarlier we computed some measures of centrality (or where the center of a data distribution is located). Now we are going to compute some measures that describe how \"spread out\" our data is.\n\n### The interquartile range (IQR)\nThe first measure of dispersion we will talk about is the Interquartile Range (IQR). The IQR is how wide the middle part of our data distribution is that has 1/2 of the data in it. This middle part will be between the 25th percentile and the 75th percentile. In the output right above, we computed these for $x$. So now we need to find out how wide the interval between 23.75 and 4.5 is:"
    },
    {
      "metadata": {
        "trusted": true
      },
      "cell_type": "code",
      "source": "23.75 - 4.5",
      "execution_count": null,
      "outputs": []
    },
    {
      "metadata": {},
      "cell_type": "markdown",
      "source": "Now, let's check that our subtraction result gives us the same thing as the R function for computing the interquartile range (called IQR):"
    },
    {
      "metadata": {
        "trusted": true
      },
      "cell_type": "code",
      "source": "IQR(x)",
      "execution_count": null,
      "outputs": []
    },
    {
      "metadata": {},
      "cell_type": "markdown",
      "source": "### The sample variance\nTo compute the sample variance \"by hand\" we could use the formula: $variance(x) = \\frac{\\sum_i (x_i - \\bar{x})^2}{n-1}$ like below (you may have to scroll for a while to see the whole equation):"
    },
    {
      "metadata": {
        "trusted": true
      },
      "cell_type": "code",
      "source": "((0 - 16.75)^2 + (12 - 16.75)^2 + (12 - 16.75)^2 + (10 - 16.75)^2 + (21 - 16.75)^2 + (26 - 16.75)^2 + (2 - 16.75)^2 + (23 - 16.75)^2 + (3 - 16.75)^2 + (20 - 16.75)^2 + (27 - 16.75)^2 + (42 - 16.75)^2 + (23 - 16.75)^2 + (3 - 16.75)^2 + (39 - 16.75)^2 + (5 - 16.75)^2) / (16 - 1)",
      "execution_count": null,
      "outputs": []
    },
    {
      "metadata": {},
      "cell_type": "markdown",
      "source": "We could make things a little easier by noticing that if we ask R to subtract a number (say 16.75) from a vector like $x$, it will subtract that number (16.75) from every single number that is in x. For example, run the next 2 lines:"
    },
    {
      "metadata": {
        "trusted": true
      },
      "cell_type": "code",
      "source": "x",
      "execution_count": null,
      "outputs": []
    },
    {
      "metadata": {
        "trusted": true
      },
      "cell_type": "code",
      "source": "x - 16.75",
      "execution_count": null,
      "outputs": []
    },
    {
      "metadata": {},
      "cell_type": "markdown",
      "source": "Remember, that the number 16.75 is the mean of $x$, so this next line is the same as the line above:"
    },
    {
      "metadata": {
        "trusted": true
      },
      "cell_type": "code",
      "source": "x - mean(x)",
      "execution_count": null,
      "outputs": []
    },
    {
      "metadata": {},
      "cell_type": "markdown",
      "source": "To make the squared deviations we could do this (notice that R subtracts the mean and squares the deviation for each number that is in the vector $x$):"
    },
    {
      "metadata": {
        "trusted": true
      },
      "cell_type": "code",
      "source": "(x - mean(x))^2",
      "execution_count": null,
      "outputs": []
    },
    {
      "metadata": {},
      "cell_type": "markdown",
      "source": "To add all of those squared deviations up we can use the sum function:"
    },
    {
      "metadata": {
        "trusted": true
      },
      "cell_type": "code",
      "source": "sum((x - mean(x))^2)",
      "execution_count": null,
      "outputs": []
    },
    {
      "metadata": {},
      "cell_type": "markdown",
      "source": "Now to compute the sample variance using the formula, we have one more step (dividing the squared deviations by $n-1$):"
    },
    {
      "metadata": {
        "trusted": true
      },
      "cell_type": "code",
      "source": "sum((x - mean(x))^2) / (16 - 1)",
      "execution_count": null,
      "outputs": []
    },
    {
      "metadata": {},
      "cell_type": "markdown",
      "source": "All of those steps for computing the sample variance can be done at once using the \"var\" (short for variance) function in R:"
    },
    {
      "metadata": {
        "trusted": true
      },
      "cell_type": "code",
      "source": "var(x)",
      "execution_count": null,
      "outputs": []
    },
    {
      "metadata": {},
      "cell_type": "markdown",
      "source": "### The sample standard deviation"
    },
    {
      "metadata": {},
      "cell_type": "markdown",
      "source": "To compute the sample standard deviation we take the square root of the sample variance. So using the variance calculation from before:"
    },
    {
      "metadata": {
        "trusted": true
      },
      "cell_type": "code",
      "source": "sqrt(var(x))",
      "execution_count": null,
      "outputs": []
    },
    {
      "metadata": {},
      "cell_type": "markdown",
      "source": "As you might expect by now, R has a function for computing the sample standard deviation right away:"
    },
    {
      "metadata": {
        "trusted": true
      },
      "cell_type": "code",
      "source": "sd(x)",
      "execution_count": null,
      "outputs": []
    },
    {
      "metadata": {},
      "cell_type": "markdown",
      "source": "# Graphical descriptions of our data \nFirst, let's make a histogram that shows the distribution of $x$. We will use the \"hist\" function which is short for histogram."
    },
    {
      "metadata": {
        "trusted": true
      },
      "cell_type": "code",
      "source": "hist(x)",
      "execution_count": null,
      "outputs": []
    },
    {
      "metadata": {},
      "cell_type": "markdown",
      "source": "Let's make a stem-and-leaf plot for $x$."
    },
    {
      "metadata": {
        "trusted": true
      },
      "cell_type": "code",
      "source": "stem(x)",
      "execution_count": null,
      "outputs": []
    },
    {
      "metadata": {},
      "cell_type": "markdown",
      "source": "Next up, we will make a boxplot of $x$:"
    },
    {
      "metadata": {
        "trusted": true
      },
      "cell_type": "code",
      "source": "boxplot(x)",
      "execution_count": null,
      "outputs": []
    },
    {
      "metadata": {},
      "cell_type": "markdown",
      "source": "# Two sets of data\nNow let's assume we have another set of data called $y$. We will create it below. The line below tells R to make an object called $y$ and that this object is the list of provided numbers (a vector):"
    },
    {
      "metadata": {
        "trusted": true
      },
      "cell_type": "code",
      "source": "y <- c(-4, 14, 11, 2, 22, 27, -1, 27, 4, 21, 38, 42, 23, 3, 42, 7)",
      "execution_count": null,
      "outputs": []
    },
    {
      "metadata": {},
      "cell_type": "markdown",
      "source": "We can plot $x$ and $y$ at the same time. In this case we will put the data $x$ on the x-axis and the data $y$ on the y-axis:"
    },
    {
      "metadata": {
        "trusted": true
      },
      "cell_type": "code",
      "source": "plot(x, y)",
      "execution_count": null,
      "outputs": []
    },
    {
      "metadata": {},
      "cell_type": "markdown",
      "source": "## The correlation coefficient\nNow, let's compute the correlation coefficient between $x$ and $y$. There are a couple of formulas (that are mathematically equivalent) in the textbook for $r$. We will use $r = \\frac{\\sum_{i=1}^{n} (x_i - \\bar{x})(y_i - \\bar{y})}{\\sqrt{\\sum_i (x_i - \\bar{x})^2 \\sum_i (y_i - \\bar{y})^2}}$. Before we compute $r$ we are going to take a look at each individual part of the formula:\n1. $(x_i - \\bar{x})$\n2. $(y_i - \\bar{y})$\n3. $(x_i - \\bar{x})^2$\n4. $(y_i - \\bar{y})^2$"
    },
    {
      "metadata": {},
      "cell_type": "markdown",
      "source": "Here is part 1: $(x_i - \\bar{x})$"
    },
    {
      "metadata": {
        "trusted": true
      },
      "cell_type": "code",
      "source": "x - mean(x)",
      "execution_count": null,
      "outputs": []
    },
    {
      "metadata": {},
      "cell_type": "markdown",
      "source": "Here is part 2: $(y_i - \\bar{y})$"
    },
    {
      "metadata": {
        "trusted": true
      },
      "cell_type": "code",
      "source": "y - mean(y)",
      "execution_count": null,
      "outputs": []
    },
    {
      "metadata": {},
      "cell_type": "markdown",
      "source": "Here is part 3: $(x_i - \\bar{x})^2$"
    },
    {
      "metadata": {
        "trusted": true
      },
      "cell_type": "code",
      "source": "(x - mean(x))^2",
      "execution_count": null,
      "outputs": []
    },
    {
      "metadata": {},
      "cell_type": "markdown",
      "source": "Here is part 4:  $(y_i - \\bar{y})^2$"
    },
    {
      "metadata": {
        "trusted": true
      },
      "cell_type": "code",
      "source": "(y - mean(y))^2",
      "execution_count": null,
      "outputs": []
    },
    {
      "metadata": {
        "slideshow": {
          "slide_type": "subslide"
        }
      },
      "cell_type": "markdown",
      "source": "Okay, now we have to put some parts together. In the numerator of $r = \\frac{\\sum_{i=1}^{n} (x_i - \\bar{x})(y_i - \\bar{y})}{\\sqrt{\\sum_i (x_i - \\bar{x})^2 \\sum_i (y_i - \\bar{y})^2}}$ we see the individual numbers from part 1 and part 2 are multiplied together, and then they are all added. The numerator is this part: $\\sum_{i=1}^{n} (x_i - \\bar{x})(y_i - \\bar{y})$. Let's first try the multiplication part: $(x_i - \\bar{x})(y_i - \\bar{y})$ below:"
    },
    {
      "metadata": {
        "trusted": true
      },
      "cell_type": "code",
      "source": "(x - mean(x)) * (y - mean(y))",
      "execution_count": null,
      "outputs": []
    },
    {
      "metadata": {},
      "cell_type": "markdown",
      "source": "Okay, now that we have seen what this multiplication part looks like, let's sum up these numbers to give us the numerator: $\\sum_{i=1}^{n} (x_i - \\bar{x})(y_i - \\bar{y})$"
    },
    {
      "metadata": {
        "trusted": true
      },
      "cell_type": "code",
      "source": "sum((x - mean(x)) * (y - mean(y)))",
      "execution_count": null,
      "outputs": []
    },
    {
      "metadata": {},
      "cell_type": "markdown",
      "source": "All we have left to do now is calculate the denominator: $\\sqrt{\\sum_i (x_i - \\bar{x})^2 \\sum_i (y_i - \\bar{y})^2}$. This time we will just use one step:"
    },
    {
      "metadata": {
        "trusted": true
      },
      "cell_type": "code",
      "source": "sqrt(sum((x - mean(x))^2) * sum((y - mean(y))^2))",
      "execution_count": null,
      "outputs": []
    },
    {
      "metadata": {},
      "cell_type": "markdown",
      "source": "Now let's see what happens when we divide the numerator term $\\sum_{i=1}^{n} (x_i - \\bar{x})(y_i - \\bar{y})$ by the denominator term $\\sqrt{\\sum_i (x_i - \\bar{x})^2 \\sum_i (y_i - \\bar{y})^2}$ to compute $r$:"
    },
    {
      "metadata": {
        "trusted": true
      },
      "cell_type": "code",
      "source": "sum((x - mean(x)) * (y - mean(y))) / sqrt((sum((x - mean(x))^2) * sum((y - mean(y))^2)))",
      "execution_count": null,
      "outputs": []
    },
    {
      "metadata": {},
      "cell_type": "markdown",
      "source": "The line above that you used to compute $r$ had a ton of stuff in it. Luckily, there is an R function that does it all at once!"
    },
    {
      "metadata": {
        "trusted": true
      },
      "cell_type": "code",
      "source": "cor(x, y)",
      "execution_count": null,
      "outputs": []
    },
    {
      "metadata": {},
      "cell_type": "markdown",
      "source": "### Many ways to do things, many ways to see things\nIn the above excercise we calculated individual parts of the formula such as $(x_i - \\bar{x})$. We could have skipped this and put everything into the formula at once like this:"
    },
    {
      "metadata": {
        "trusted": true
      },
      "cell_type": "code",
      "source": "sum((x - mean(x)) * (y - mean(y))) / sqrt((sum((x - mean(x))^2) * sum((y - mean(y))^2)))",
      "execution_count": null,
      "outputs": []
    },
    {
      "metadata": {},
      "cell_type": "markdown",
      "source": "But when working with formulas like $r = \\frac{\\sum_{i=1}^{n} (x_i - \\bar{x})(y_i - \\bar{y})}{\\sqrt{\\sum_i (x_i - \\bar{x})^2 \\sum_i (y_i - \\bar{y})^2}}$, it is often good to break things down into pieces, take a look at the pieces, and then assemble it all together. That way you are less likely to make a mistake such as misplacing parentheses."
    },
    {
      "metadata": {},
      "cell_type": "markdown",
      "source": "Please put your names at the top of the notebook (click on the top cell, then click insert, then click \"insert cell above\", then change from \"code\" to \"markdown\" and type names). Then please download the notebook (Click file, then \"Download as Notebook .ipynb\") and please submit on Canvas."
    }
  ],
  "metadata": {
    "kernelspec": {
      "name": "r",
      "display_name": "R",
      "language": "R"
    },
    "language_info": {
      "mimetype": "text/x-r-source",
      "name": "R",
      "pygments_lexer": "r",
      "version": "3.5.3",
      "file_extension": ".r",
      "codemirror_mode": "r"
    }
  },
  "nbformat": 4,
  "nbformat_minor": 2
}