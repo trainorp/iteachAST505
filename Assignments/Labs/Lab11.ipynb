{
 "cells": [
  {
   "cell_type": "markdown",
   "metadata": {},
   "source": [
    "# 0) Instructions:\n",
    "Please complete the workbook below. Some of the calculations are already ready to be \"run\". However, please read the text carefully to find questions that you should answer for credit. Remember that to answer a question in text, you click \"insert\", then \"insert cell below\", switch the input from \"code\" to \"markdown\", type your answer, and finally click the run button to set your text in stone. In a few questions, you will need to do some calculations on your own. Hint: for these calculations you can copy, paste, and modify code that is above the calculation that you need to do. You may work by yourself or in groups of 2. Please remember to put your name on top, remember to save the workbook, and remember to upload to Canvas."
   ]
  },
  {
   "cell_type": "markdown",
   "metadata": {},
   "source": [
    "Please run the code below to load the *tidyverse* set of packages, load the *rpart* package and change the default image size to 5 x 4. Please ignore the output."
   ]
  },
  {
   "cell_type": "code",
   "execution_count": 1,
   "metadata": {},
   "outputs": [
    {
     "name": "stderr",
     "output_type": "stream",
     "text": [
      "Registered S3 methods overwritten by 'ggplot2':\n",
      "  method         from \n",
      "  [.quosures     rlang\n",
      "  c.quosures     rlang\n",
      "  print.quosures rlang\n",
      "Registered S3 method overwritten by 'rvest':\n",
      "  method            from\n",
      "  read_xml.response xml2\n",
      "-- Attaching packages --------------------------------------- tidyverse 1.2.1 --\n",
      "v ggplot2 3.1.1       v purrr   0.3.2  \n",
      "v tibble  2.1.1       v dplyr   0.8.0.1\n",
      "v tidyr   0.8.3       v stringr 1.4.0  \n",
      "v readr   1.3.1       v forcats 0.4.0  \n",
      "-- Conflicts ------------------------------------------ tidyverse_conflicts() --\n",
      "x dplyr::filter() masks stats::filter()\n",
      "x dplyr::lag()    masks stats::lag()\n"
     ]
    }
   ],
   "source": [
    "library(tidyverse)\n",
    "library(rpart)\n",
    "options(repr.plot.width = 5, repr.plot.height = 4)"
   ]
  },
  {
   "cell_type": "markdown",
   "metadata": {},
   "source": [
    "# 1) Non-parametric alternative to ANOVA\n",
    "In this part of lab, we will use the Kruskal-Wallis test in order to determine if there are differences in the distribution of a continous random variable between 3 or more populations. \n",
    "\n",
    "In the below article, the researchers wanted to determine (amoung other aims), if the percentage of cells in G2 phase was associated with the severity of prostate cancer tumors. We will answer this research question today.\n",
    "\n",
    "O. Nativ, Y. Raz, H.Z. Winkler, Y. Hosaka, E.T. Boyle, T.M. Therneau, G.M. Farrow, R.P. Meyers, H. Zincke, and M.M Lieber.  (1988). Prognostic value of flow cytometric nuclear DNA analysis in stage C prostate carcinoma. *Surgical Forum, 39*, 685-687.\n",
    "\n",
    "First, we will load the data and do some processing steps (which you can ignore). Basically these steps consist of converting some variables stored as numeric to categorical variables (which R calls \"factors\"), combining some factor levels, and removing missing data:"
   ]
  },
  {
   "cell_type": "code",
   "execution_count": 2,
   "metadata": {},
   "outputs": [],
   "source": [
    "data(stagec)\n",
    "stagec <- stagec[!is.na(stagec$g2) & !is.na(stagec$gleason),]\n",
    "stagec$grade <- as.factor(stagec$grade)\n",
    "stagec$gleason <- as.character(stagec$gleason)\n",
    "stagec$gleason[stagec$gleason %in% c(\"3\", \"4\")] <- \"3-4\"\n",
    "stagec$gleason[stagec$gleason %in% c(\"8\", \"9\", \"10\")] <- \"8-10\"\n",
    "stagec$gleason <- as.factor(stagec$gleason)"
   ]
  },
  {
   "cell_type": "markdown",
   "metadata": {},
   "source": [
    "Okay let's use the \"head\" function to show us the first few observations from the dataset:"
   ]
  },
  {
   "cell_type": "code",
   "execution_count": 3,
   "metadata": {},
   "outputs": [
    {
     "data": {
      "text/html": [
       "<table>\n",
       "<thead><tr><th></th><th scope=col>pgtime</th><th scope=col>pgstat</th><th scope=col>age</th><th scope=col>eet</th><th scope=col>g2</th><th scope=col>grade</th><th scope=col>gleason</th><th scope=col>ploidy</th></tr></thead>\n",
       "<tbody>\n",
       "\t<tr><th scope=row>1</th><td>6.1       </td><td>0         </td><td>64        </td><td>2         </td><td>10.26     </td><td>2         </td><td>3-4       </td><td>diploid   </td></tr>\n",
       "\t<tr><th scope=row>3</th><td>5.2       </td><td>1         </td><td>59        </td><td>2         </td><td> 9.99     </td><td>3         </td><td>7         </td><td>diploid   </td></tr>\n",
       "\t<tr><th scope=row>4</th><td>3.2       </td><td>1         </td><td>62        </td><td>2         </td><td> 3.57     </td><td>2         </td><td>3-4       </td><td>diploid   </td></tr>\n",
       "\t<tr><th scope=row>5</th><td>1.9       </td><td>1         </td><td>64        </td><td>2         </td><td>22.56     </td><td>4         </td><td>8-10      </td><td>tetraploid</td></tr>\n",
       "\t<tr><th scope=row>6</th><td>4.8       </td><td>0         </td><td>69        </td><td>1         </td><td> 6.14     </td><td>3         </td><td>7         </td><td>diploid   </td></tr>\n",
       "\t<tr><th scope=row>9</th><td>3.7       </td><td>1         </td><td>73        </td><td>2         </td><td>11.77     </td><td>3         </td><td>6         </td><td>diploid   </td></tr>\n",
       "</tbody>\n",
       "</table>\n"
      ],
      "text/latex": [
       "\\begin{tabular}{r|llllllll}\n",
       "  & pgtime & pgstat & age & eet & g2 & grade & gleason & ploidy\\\\\n",
       "\\hline\n",
       "\t1 & 6.1        & 0          & 64         & 2          & 10.26      & 2          & 3-4        & diploid   \\\\\n",
       "\t3 & 5.2        & 1          & 59         & 2          &  9.99      & 3          & 7          & diploid   \\\\\n",
       "\t4 & 3.2        & 1          & 62         & 2          &  3.57      & 2          & 3-4        & diploid   \\\\\n",
       "\t5 & 1.9        & 1          & 64         & 2          & 22.56      & 4          & 8-10       & tetraploid\\\\\n",
       "\t6 & 4.8        & 0          & 69         & 1          &  6.14      & 3          & 7          & diploid   \\\\\n",
       "\t9 & 3.7        & 1          & 73         & 2          & 11.77      & 3          & 6          & diploid   \\\\\n",
       "\\end{tabular}\n"
      ],
      "text/markdown": [
       "\n",
       "| <!--/--> | pgtime | pgstat | age | eet | g2 | grade | gleason | ploidy |\n",
       "|---|---|---|---|---|---|---|---|---|\n",
       "| 1 | 6.1        | 0          | 64         | 2          | 10.26      | 2          | 3-4        | diploid    |\n",
       "| 3 | 5.2        | 1          | 59         | 2          |  9.99      | 3          | 7          | diploid    |\n",
       "| 4 | 3.2        | 1          | 62         | 2          |  3.57      | 2          | 3-4        | diploid    |\n",
       "| 5 | 1.9        | 1          | 64         | 2          | 22.56      | 4          | 8-10       | tetraploid |\n",
       "| 6 | 4.8        | 0          | 69         | 1          |  6.14      | 3          | 7          | diploid    |\n",
       "| 9 | 3.7        | 1          | 73         | 2          | 11.77      | 3          | 6          | diploid    |\n",
       "\n"
      ],
      "text/plain": [
       "  pgtime pgstat age eet g2    grade gleason ploidy    \n",
       "1 6.1    0      64  2   10.26 2     3-4     diploid   \n",
       "3 5.2    1      59  2    9.99 3     7       diploid   \n",
       "4 3.2    1      62  2    3.57 2     3-4     diploid   \n",
       "5 1.9    1      64  2   22.56 4     8-10    tetraploid\n",
       "6 4.8    0      69  1    6.14 3     7       diploid   \n",
       "9 3.7    1      73  2   11.77 3     6       diploid   "
      ]
     },
     "metadata": {},
     "output_type": "display_data"
    }
   ],
   "source": [
    "head(stagec)"
   ]
  },
  {
   "cell_type": "markdown",
   "metadata": {},
   "source": [
    "For us, we will be interested in the \"g2\" variable (the % of cells counted that are in G2 phase) and the \"gleason\" variable. This variable is a scoring system for judging the appearance of cells in the prostate gland. We will want to determine if the distribution of the \"g2\" variable differs between different levels of the \"gleason\" variable. Our first step will be to determine if the data looks approximately normally distributed. Let's make a Q-Q plot now!"
   ]
  },
  {
   "cell_type": "code",
   "execution_count": 4,
   "metadata": {},
   "outputs": [
    {
     "data": {
      "image/png": "[encoded data removed]",
      "text/plain": [
       "Plot with title \"Normal Q-Q Plot\""
      ]
     },
     "metadata": {},
     "output_type": "display_data"
    }
   ],
   "source": [
    "options(repr.plot.width = 6, repr.plot.height = 5.5)\n",
    "qqnorm(stagec$g2)\n",
    "qqline(stagec$g2)"
   ]
  },
  {
   "cell_type": "markdown",
   "metadata": {},
   "source": [
    "**Question for you.** Based on the Q-Q plot above, do you believe that the \"g2\" random variable is approximately normally distributed? Please answer below in a new markdown cell."
   ]
  },
  {
   "cell_type": "markdown",
   "metadata": {},
   "source": [
    "Let's also take a look at a histogram of the same data:"
   ]
  },
  {
   "cell_type": "code",
   "execution_count": 5,
   "metadata": {},
   "outputs": [
    {
     "data": {
      "image/png": "[encoded data removed]",
      "text/plain": [
       "plot without title"
      ]
     },
     "metadata": {},
     "output_type": "display_data"
    }
   ],
   "source": [
    "ggplot(stagec, aes(x = g2, y = ..density..)) + geom_histogram(color = \"black\", fill = \"grey70\", bins = 22) + theme_bw()"
   ]
  },
  {
   "cell_type": "markdown",
   "metadata": {},
   "source": [
    "**Question for you.** Based on the histogram above, how would you describe the distribution of the \"g2\" random variable? Is there skew present? If so on which side? Is the distribution symmetric? Is it unimodal, bimodal, or multi-modal? Please answer below in a new markdown cell."
   ]
  },
  {
   "cell_type": "markdown",
   "metadata": {},
   "source": [
    "Okay, before we set up our hypotheses and statistical test, let's examine how many observations (indidual tumors) there are by the Gelason type. We can use the \"table\" function to do this. This tabulates the number of times a specific value occurs in a variable: "
   ]
  },
  {
   "cell_type": "code",
   "execution_count": 6,
   "metadata": {},
   "outputs": [
    {
     "data": {
      "text/plain": [
       "\n",
       " 3-4    5    6    7 8-10 \n",
       "   8   34   33   36   25 "
      ]
     },
     "metadata": {},
     "output_type": "display_data"
    }
   ],
   "source": [
    "table(stagec$gleason)"
   ]
  },
  {
   "cell_type": "markdown",
   "metadata": {},
   "source": [
    "**Question for you**. Based on the graphical distribution of the \"g2\" variable you have seen thus far, do you think it is more appropriate to use parametric tests for comparing population means (like ANOVA), or non-parametric tests for comparing population distributions to answer our research question (whether the percentage of cells in G2 phase differs by Gleason category)? Please answer this question in a new markdown cell below. "
   ]
  },
  {
   "cell_type": "markdown",
   "metadata": {},
   "source": [
    "**Question for you**. Given your answer from above, please state the null and alternative hypotheses for the test that we should conduct. Rather than using fancy Greek letters, you can just write \"Delta\" (for example). Please write these hypotheses below in a new markdown cell. "
   ]
  },
  {
   "cell_type": "markdown",
   "metadata": {},
   "source": [
    "Let's take a final step in our exploratory analysis and produce a boxplot showing the distribution of the \"g2\" variable by \"gleason\": "
   ]
  },
  {
   "cell_type": "code",
   "execution_count": 7,
   "metadata": {},
   "outputs": [
    {
     "data": {
      "image/png": "[encoded data removed]",
      "text/plain": [
       "plot without title"
      ]
     },
     "metadata": {},
     "output_type": "display_data"
    }
   ],
   "source": [
    "options(repr.plot.width = 6, repr.plot.height = 5)\n",
    "ggplot(stagec, aes(x = gleason, group = gleason, y = g2, fill = gleason)) + geom_boxplot() + theme_bw()"
   ]
  },
  {
   "cell_type": "markdown",
   "metadata": {},
   "source": [
    "**Question for you**. Based on the boxplot above, do you think that we will find evidence that not all of the distributions are the same? This question only requires you to guess. Please answer below with your guess in a new markdown cell. "
   ]
  },
  {
   "cell_type": "markdown",
   "metadata": {},
   "source": [
    "## 1.1) Doing the test \"by hand\": \n",
    "Okay, so to compute a test statistic for our Kruskal-Wallis rank sum test, we will need to combine all of the \"g2\" values from each group, assign ranks to each value, and then sum the ranks within each group. First let's take a look at our full set of values from the \"g2\" variable. To do this we will use the \"\\\\$\" notation, which retrieves a variable from a \"data.frame\" (in our case it will retrieve the \"g2\" variable from the data.frame \"stagec\"): "
   ]
  },
  {
   "cell_type": "code",
   "execution_count": 8,
   "metadata": {},
   "outputs": [
    {
     "data": {
      "text/html": [
       "<ol class=list-inline>\n",
       "\t<li>10.26</li>\n",
       "\t<li>9.99</li>\n",
       "\t<li>3.57</li>\n",
       "\t<li>22.56</li>\n",
       "\t<li>6.14</li>\n",
       "\t<li>11.77</li>\n",
       "\t<li>27.27</li>\n",
       "\t<li>19.34</li>\n",
       "\t<li>14.82</li>\n",
       "\t<li>10.22</li>\n",
       "\t<li>15.66</li>\n",
       "\t<li>17.79</li>\n",
       "\t<li>11.11</li>\n",
       "\t<li>11.44</li>\n",
       "\t<li>14.78</li>\n",
       "\t<li>54.93</li>\n",
       "\t<li>24.58</li>\n",
       "\t<li>27.79</li>\n",
       "\t<li>14.86</li>\n",
       "\t<li>10.51</li>\n",
       "\t<li>14.22</li>\n",
       "\t<li>15.28</li>\n",
       "\t<li>16.91</li>\n",
       "\t<li>17.87</li>\n",
       "\t<li>12.13</li>\n",
       "\t<li>17.25</li>\n",
       "\t<li>16.53</li>\n",
       "\t<li>17.49</li>\n",
       "\t<li>3.85</li>\n",
       "\t<li>7.88</li>\n",
       "\t<li>16.64</li>\n",
       "\t<li>13.19</li>\n",
       "\t<li>9.42</li>\n",
       "\t<li>22.79</li>\n",
       "\t<li>11.37</li>\n",
       "\t<li>3.77</li>\n",
       "\t<li>13.76</li>\n",
       "\t<li>14.52</li>\n",
       "\t<li>7.55</li>\n",
       "\t<li>8.46</li>\n",
       "\t<li>7.66</li>\n",
       "\t<li>8.4</li>\n",
       "\t<li>4.43</li>\n",
       "\t<li>10.37</li>\n",
       "\t<li>10.82</li>\n",
       "\t<li>7.81</li>\n",
       "\t<li>11.23</li>\n",
       "\t<li>13.99</li>\n",
       "\t<li>6.41</li>\n",
       "\t<li>16.05</li>\n",
       "\t<li>22.97</li>\n",
       "\t<li>2.4</li>\n",
       "\t<li>11.92</li>\n",
       "\t<li>5.29</li>\n",
       "\t<li>5.75</li>\n",
       "\t<li>7.64</li>\n",
       "\t<li>16.81</li>\n",
       "\t<li>29.56</li>\n",
       "\t<li>13.35</li>\n",
       "\t<li>8.1</li>\n",
       "\t<li>12.62</li>\n",
       "\t<li>14.14</li>\n",
       "\t<li>10.16</li>\n",
       "\t<li>17.21</li>\n",
       "\t<li>11.35</li>\n",
       "\t<li>11.35</li>\n",
       "\t<li>7.61</li>\n",
       "\t<li>20.82</li>\n",
       "\t<li>12.93</li>\n",
       "\t<li>21.75</li>\n",
       "\t<li>8.58</li>\n",
       "\t<li>14.94</li>\n",
       "\t<li>17.16</li>\n",
       "\t<li>23.62</li>\n",
       "\t<li>16.06</li>\n",
       "\t<li>7.15</li>\n",
       "\t<li>13.21</li>\n",
       "\t<li>11.35</li>\n",
       "\t<li>8.11</li>\n",
       "\t<li>11.18</li>\n",
       "\t<li>24.84</li>\n",
       "\t<li>7.67</li>\n",
       "\t<li>15.23</li>\n",
       "\t<li>6.8</li>\n",
       "\t<li>14.58</li>\n",
       "\t<li>13.17</li>\n",
       "\t<li>9.76</li>\n",
       "\t<li>38.05</li>\n",
       "\t<li>13.87</li>\n",
       "\t<li>21.2</li>\n",
       "\t<li>17.96</li>\n",
       "\t<li>27.14</li>\n",
       "\t<li>6.74</li>\n",
       "\t<li>11.21</li>\n",
       "\t<li>20.22</li>\n",
       "\t<li>15.35</li>\n",
       "\t<li>16.79</li>\n",
       "\t<li>8.76</li>\n",
       "\t<li>13.23</li>\n",
       "\t<li>34.01</li>\n",
       "\t<li>14.68</li>\n",
       "\t<li>17.95</li>\n",
       "\t<li>23.34</li>\n",
       "\t<li>10.25</li>\n",
       "\t<li>15.1</li>\n",
       "\t<li>26.55</li>\n",
       "\t<li>7.78</li>\n",
       "\t<li>21.2</li>\n",
       "\t<li>7.93</li>\n",
       "\t<li>10.58</li>\n",
       "\t<li>5.92</li>\n",
       "\t<li>5.08</li>\n",
       "\t<li>13.1</li>\n",
       "\t<li>41.31</li>\n",
       "\t<li>11.29</li>\n",
       "\t<li>14.02</li>\n",
       "\t<li>12.46</li>\n",
       "\t<li>13.69</li>\n",
       "\t<li>12.06</li>\n",
       "\t<li>13.01</li>\n",
       "\t<li>13.21</li>\n",
       "\t<li>10.43</li>\n",
       "\t<li>13.33</li>\n",
       "\t<li>37.49</li>\n",
       "\t<li>11.69</li>\n",
       "\t<li>9.9</li>\n",
       "\t<li>13.01</li>\n",
       "\t<li>4.81</li>\n",
       "\t<li>14.71</li>\n",
       "\t<li>9.01</li>\n",
       "\t<li>10.9</li>\n",
       "\t<li>10.72</li>\n",
       "\t<li>5.14</li>\n",
       "\t<li>46.92</li>\n",
       "\t<li>9.59</li>\n",
       "\t<li>9.01</li>\n",
       "</ol>\n"
      ],
      "text/latex": [
       "\\begin{enumerate*}\n",
       "\\item 10.26\n",
       "\\item 9.99\n",
       "\\item 3.57\n",
       "\\item 22.56\n",
       "\\item 6.14\n",
       "\\item 11.77\n",
       "\\item 27.27\n",
       "\\item 19.34\n",
       "\\item 14.82\n",
       "\\item 10.22\n",
       "\\item 15.66\n",
       "\\item 17.79\n",
       "\\item 11.11\n",
       "\\item 11.44\n",
       "\\item 14.78\n",
       "\\item 54.93\n",
       "\\item 24.58\n",
       "\\item 27.79\n",
       "\\item 14.86\n",
       "\\item 10.51\n",
       "\\item 14.22\n",
       "\\item 15.28\n",
       "\\item 16.91\n",
       "\\item 17.87\n",
       "\\item 12.13\n",
       "\\item 17.25\n",
       "\\item 16.53\n",
       "\\item 17.49\n",
       "\\item 3.85\n",
       "\\item 7.88\n",
       "\\item 16.64\n",
       "\\item 13.19\n",
       "\\item 9.42\n",
       "\\item 22.79\n",
       "\\item 11.37\n",
       "\\item 3.77\n",
       "\\item 13.76\n",
       "\\item 14.52\n",
       "\\item 7.55\n",
       "\\item 8.46\n",
       "\\item 7.66\n",
       "\\item 8.4\n",
       "\\item 4.43\n",
       "\\item 10.37\n",
       "\\item 10.82\n",
       "\\item 7.81\n",
       "\\item 11.23\n",
       "\\item 13.99\n",
       "\\item 6.41\n",
       "\\item 16.05\n",
       "\\item 22.97\n",
       "\\item 2.4\n",
       "\\item 11.92\n",
       "\\item 5.29\n",
       "\\item 5.75\n",
       "\\item 7.64\n",
       "\\item 16.81\n",
       "\\item 29.56\n",
       "\\item 13.35\n",
       "\\item 8.1\n",
       "\\item 12.62\n",
       "\\item 14.14\n",
       "\\item 10.16\n",
       "\\item 17.21\n",
       "\\item 11.35\n",
       "\\item 11.35\n",
       "\\item 7.61\n",
       "\\item 20.82\n",
       "\\item 12.93\n",
       "\\item 21.75\n",
       "\\item 8.58\n",
       "\\item 14.94\n",
       "\\item 17.16\n",
       "\\item 23.62\n",
       "\\item 16.06\n",
       "\\item 7.15\n",
       "\\item 13.21\n",
       "\\item 11.35\n",
       "\\item 8.11\n",
       "\\item 11.18\n",
       "\\item 24.84\n",
       "\\item 7.67\n",
       "\\item 15.23\n",
       "\\item 6.8\n",
       "\\item 14.58\n",
       "\\item 13.17\n",
       "\\item 9.76\n",
       "\\item 38.05\n",
       "\\item 13.87\n",
       "\\item 21.2\n",
       "\\item 17.96\n",
       "\\item 27.14\n",
       "\\item 6.74\n",
       "\\item 11.21\n",
       "\\item 20.22\n",
       "\\item 15.35\n",
       "\\item 16.79\n",
       "\\item 8.76\n",
       "\\item 13.23\n",
       "\\item 34.01\n",
       "\\item 14.68\n",
       "\\item 17.95\n",
       "\\item 23.34\n",
       "\\item 10.25\n",
       "\\item 15.1\n",
       "\\item 26.55\n",
       "\\item 7.78\n",
       "\\item 21.2\n",
       "\\item 7.93\n",
       "\\item 10.58\n",
       "\\item 5.92\n",
       "\\item 5.08\n",
       "\\item 13.1\n",
       "\\item 41.31\n",
       "\\item 11.29\n",
       "\\item 14.02\n",
       "\\item 12.46\n",
       "\\item 13.69\n",
       "\\item 12.06\n",
       "\\item 13.01\n",
       "\\item 13.21\n",
       "\\item 10.43\n",
       "\\item 13.33\n",
       "\\item 37.49\n",
       "\\item 11.69\n",
       "\\item 9.9\n",
       "\\item 13.01\n",
       "\\item 4.81\n",
       "\\item 14.71\n",
       "\\item 9.01\n",
       "\\item 10.9\n",
       "\\item 10.72\n",
       "\\item 5.14\n",
       "\\item 46.92\n",
       "\\item 9.59\n",
       "\\item 9.01\n",
       "\\end{enumerate*}\n"
      ],
      "text/markdown": [
       "1. 10.26\n",
       "2. 9.99\n",
       "3. 3.57\n",
       "4. 22.56\n",
       "5. 6.14\n",
       "6. 11.77\n",
       "7. 27.27\n",
       "8. 19.34\n",
       "9. 14.82\n",
       "10. 10.22\n",
       "11. 15.66\n",
       "12. 17.79\n",
       "13. 11.11\n",
       "14. 11.44\n",
       "15. 14.78\n",
       "16. 54.93\n",
       "17. 24.58\n",
       "18. 27.79\n",
       "19. 14.86\n",
       "20. 10.51\n",
       "21. 14.22\n",
       "22. 15.28\n",
       "23. 16.91\n",
       "24. 17.87\n",
       "25. 12.13\n",
       "26. 17.25\n",
       "27. 16.53\n",
       "28. 17.49\n",
       "29. 3.85\n",
       "30. 7.88\n",
       "31. 16.64\n",
       "32. 13.19\n",
       "33. 9.42\n",
       "34. 22.79\n",
       "35. 11.37\n",
       "36. 3.77\n",
       "37. 13.76\n",
       "38. 14.52\n",
       "39. 7.55\n",
       "40. 8.46\n",
       "41. 7.66\n",
       "42. 8.4\n",
       "43. 4.43\n",
       "44. 10.37\n",
       "45. 10.82\n",
       "46. 7.81\n",
       "47. 11.23\n",
       "48. 13.99\n",
       "49. 6.41\n",
       "50. 16.05\n",
       "51. 22.97\n",
       "52. 2.4\n",
       "53. 11.92\n",
       "54. 5.29\n",
       "55. 5.75\n",
       "56. 7.64\n",
       "57. 16.81\n",
       "58. 29.56\n",
       "59. 13.35\n",
       "60. 8.1\n",
       "61. 12.62\n",
       "62. 14.14\n",
       "63. 10.16\n",
       "64. 17.21\n",
       "65. 11.35\n",
       "66. 11.35\n",
       "67. 7.61\n",
       "68. 20.82\n",
       "69. 12.93\n",
       "70. 21.75\n",
       "71. 8.58\n",
       "72. 14.94\n",
       "73. 17.16\n",
       "74. 23.62\n",
       "75. 16.06\n",
       "76. 7.15\n",
       "77. 13.21\n",
       "78. 11.35\n",
       "79. 8.11\n",
       "80. 11.18\n",
       "81. 24.84\n",
       "82. 7.67\n",
       "83. 15.23\n",
       "84. 6.8\n",
       "85. 14.58\n",
       "86. 13.17\n",
       "87. 9.76\n",
       "88. 38.05\n",
       "89. 13.87\n",
       "90. 21.2\n",
       "91. 17.96\n",
       "92. 27.14\n",
       "93. 6.74\n",
       "94. 11.21\n",
       "95. 20.22\n",
       "96. 15.35\n",
       "97. 16.79\n",
       "98. 8.76\n",
       "99. 13.23\n",
       "100. 34.01\n",
       "101. 14.68\n",
       "102. 17.95\n",
       "103. 23.34\n",
       "104. 10.25\n",
       "105. 15.1\n",
       "106. 26.55\n",
       "107. 7.78\n",
       "108. 21.2\n",
       "109. 7.93\n",
       "110. 10.58\n",
       "111. 5.92\n",
       "112. 5.08\n",
       "113. 13.1\n",
       "114. 41.31\n",
       "115. 11.29\n",
       "116. 14.02\n",
       "117. 12.46\n",
       "118. 13.69\n",
       "119. 12.06\n",
       "120. 13.01\n",
       "121. 13.21\n",
       "122. 10.43\n",
       "123. 13.33\n",
       "124. 37.49\n",
       "125. 11.69\n",
       "126. 9.9\n",
       "127. 13.01\n",
       "128. 4.81\n",
       "129. 14.71\n",
       "130. 9.01\n",
       "131. 10.9\n",
       "132. 10.72\n",
       "133. 5.14\n",
       "134. 46.92\n",
       "135. 9.59\n",
       "136. 9.01\n",
       "\n",
       "\n"
      ],
      "text/plain": [
       "  [1] 10.26  9.99  3.57 22.56  6.14 11.77 27.27 19.34 14.82 10.22 15.66 17.79\n",
       " [13] 11.11 11.44 14.78 54.93 24.58 27.79 14.86 10.51 14.22 15.28 16.91 17.87\n",
       " [25] 12.13 17.25 16.53 17.49  3.85  7.88 16.64 13.19  9.42 22.79 11.37  3.77\n",
       " [37] 13.76 14.52  7.55  8.46  7.66  8.40  4.43 10.37 10.82  7.81 11.23 13.99\n",
       " [49]  6.41 16.05 22.97  2.40 11.92  5.29  5.75  7.64 16.81 29.56 13.35  8.10\n",
       " [61] 12.62 14.14 10.16 17.21 11.35 11.35  7.61 20.82 12.93 21.75  8.58 14.94\n",
       " [73] 17.16 23.62 16.06  7.15 13.21 11.35  8.11 11.18 24.84  7.67 15.23  6.80\n",
       " [85] 14.58 13.17  9.76 38.05 13.87 21.20 17.96 27.14  6.74 11.21 20.22 15.35\n",
       " [97] 16.79  8.76 13.23 34.01 14.68 17.95 23.34 10.25 15.10 26.55  7.78 21.20\n",
       "[109]  7.93 10.58  5.92  5.08 13.10 41.31 11.29 14.02 12.46 13.69 12.06 13.01\n",
       "[121] 13.21 10.43 13.33 37.49 11.69  9.90 13.01  4.81 14.71  9.01 10.90 10.72\n",
       "[133]  5.14 46.92  9.59  9.01"
      ]
     },
     "metadata": {},
     "output_type": "display_data"
    }
   ],
   "source": [
    "stagec$g2"
   ]
  },
  {
   "cell_type": "markdown",
   "metadata": {},
   "source": [
    "So now, to rank the values of this \"g2\" variable, we will need to determine their order. We can use the \"order\" function to do this. The output of this function can be a bit tricky to understand. Basically, this function will return the order in the original data that would arrange the data from smallest to largest. So below, you will find the first value is \"52\". This means that the smallest \"g2\" value comes from the 52 row in the dataset. Let's take a look below: "
   ]
  },
  {
   "cell_type": "code",
   "execution_count": 9,
   "metadata": {},
   "outputs": [
    {
     "data": {
      "text/html": [
       "<ol class=list-inline>\n",
       "\t<li>52</li>\n",
       "\t<li>3</li>\n",
       "\t<li>36</li>\n",
       "\t<li>29</li>\n",
       "\t<li>43</li>\n",
       "\t<li>128</li>\n",
       "\t<li>112</li>\n",
       "\t<li>133</li>\n",
       "\t<li>54</li>\n",
       "\t<li>55</li>\n",
       "\t<li>111</li>\n",
       "\t<li>5</li>\n",
       "\t<li>49</li>\n",
       "\t<li>93</li>\n",
       "\t<li>84</li>\n",
       "\t<li>76</li>\n",
       "\t<li>39</li>\n",
       "\t<li>67</li>\n",
       "\t<li>56</li>\n",
       "\t<li>41</li>\n",
       "\t<li>82</li>\n",
       "\t<li>107</li>\n",
       "\t<li>46</li>\n",
       "\t<li>30</li>\n",
       "\t<li>109</li>\n",
       "\t<li>60</li>\n",
       "\t<li>79</li>\n",
       "\t<li>42</li>\n",
       "\t<li>40</li>\n",
       "\t<li>71</li>\n",
       "\t<li>98</li>\n",
       "\t<li>130</li>\n",
       "\t<li>136</li>\n",
       "\t<li>33</li>\n",
       "\t<li>135</li>\n",
       "\t<li>87</li>\n",
       "\t<li>126</li>\n",
       "\t<li>2</li>\n",
       "\t<li>63</li>\n",
       "\t<li>10</li>\n",
       "\t<li>104</li>\n",
       "\t<li>1</li>\n",
       "\t<li>44</li>\n",
       "\t<li>122</li>\n",
       "\t<li>20</li>\n",
       "\t<li>110</li>\n",
       "\t<li>132</li>\n",
       "\t<li>45</li>\n",
       "\t<li>131</li>\n",
       "\t<li>13</li>\n",
       "\t<li>80</li>\n",
       "\t<li>94</li>\n",
       "\t<li>47</li>\n",
       "\t<li>115</li>\n",
       "\t<li>65</li>\n",
       "\t<li>66</li>\n",
       "\t<li>78</li>\n",
       "\t<li>35</li>\n",
       "\t<li>14</li>\n",
       "\t<li>125</li>\n",
       "\t<li>6</li>\n",
       "\t<li>53</li>\n",
       "\t<li>119</li>\n",
       "\t<li>25</li>\n",
       "\t<li>117</li>\n",
       "\t<li>61</li>\n",
       "\t<li>69</li>\n",
       "\t<li>120</li>\n",
       "\t<li>127</li>\n",
       "\t<li>113</li>\n",
       "\t<li>86</li>\n",
       "\t<li>32</li>\n",
       "\t<li>77</li>\n",
       "\t<li>121</li>\n",
       "\t<li>99</li>\n",
       "\t<li>123</li>\n",
       "\t<li>59</li>\n",
       "\t<li>118</li>\n",
       "\t<li>37</li>\n",
       "\t<li>89</li>\n",
       "\t<li>48</li>\n",
       "\t<li>116</li>\n",
       "\t<li>62</li>\n",
       "\t<li>21</li>\n",
       "\t<li>38</li>\n",
       "\t<li>85</li>\n",
       "\t<li>101</li>\n",
       "\t<li>129</li>\n",
       "\t<li>15</li>\n",
       "\t<li>9</li>\n",
       "\t<li>19</li>\n",
       "\t<li>72</li>\n",
       "\t<li>105</li>\n",
       "\t<li>83</li>\n",
       "\t<li>22</li>\n",
       "\t<li>96</li>\n",
       "\t<li>11</li>\n",
       "\t<li>50</li>\n",
       "\t<li>75</li>\n",
       "\t<li>27</li>\n",
       "\t<li>31</li>\n",
       "\t<li>97</li>\n",
       "\t<li>57</li>\n",
       "\t<li>23</li>\n",
       "\t<li>73</li>\n",
       "\t<li>64</li>\n",
       "\t<li>26</li>\n",
       "\t<li>28</li>\n",
       "\t<li>12</li>\n",
       "\t<li>24</li>\n",
       "\t<li>102</li>\n",
       "\t<li>91</li>\n",
       "\t<li>8</li>\n",
       "\t<li>95</li>\n",
       "\t<li>68</li>\n",
       "\t<li>90</li>\n",
       "\t<li>108</li>\n",
       "\t<li>70</li>\n",
       "\t<li>4</li>\n",
       "\t<li>34</li>\n",
       "\t<li>51</li>\n",
       "\t<li>103</li>\n",
       "\t<li>74</li>\n",
       "\t<li>17</li>\n",
       "\t<li>81</li>\n",
       "\t<li>106</li>\n",
       "\t<li>92</li>\n",
       "\t<li>7</li>\n",
       "\t<li>18</li>\n",
       "\t<li>58</li>\n",
       "\t<li>100</li>\n",
       "\t<li>124</li>\n",
       "\t<li>88</li>\n",
       "\t<li>114</li>\n",
       "\t<li>134</li>\n",
       "\t<li>16</li>\n",
       "</ol>\n"
      ],
      "text/latex": [
       "\\begin{enumerate*}\n",
       "\\item 52\n",
       "\\item 3\n",
       "\\item 36\n",
       "\\item 29\n",
       "\\item 43\n",
       "\\item 128\n",
       "\\item 112\n",
       "\\item 133\n",
       "\\item 54\n",
       "\\item 55\n",
       "\\item 111\n",
       "\\item 5\n",
       "\\item 49\n",
       "\\item 93\n",
       "\\item 84\n",
       "\\item 76\n",
       "\\item 39\n",
       "\\item 67\n",
       "\\item 56\n",
       "\\item 41\n",
       "\\item 82\n",
       "\\item 107\n",
       "\\item 46\n",
       "\\item 30\n",
       "\\item 109\n",
       "\\item 60\n",
       "\\item 79\n",
       "\\item 42\n",
       "\\item 40\n",
       "\\item 71\n",
       "\\item 98\n",
       "\\item 130\n",
       "\\item 136\n",
       "\\item 33\n",
       "\\item 135\n",
       "\\item 87\n",
       "\\item 126\n",
       "\\item 2\n",
       "\\item 63\n",
       "\\item 10\n",
       "\\item 104\n",
       "\\item 1\n",
       "\\item 44\n",
       "\\item 122\n",
       "\\item 20\n",
       "\\item 110\n",
       "\\item 132\n",
       "\\item 45\n",
       "\\item 131\n",
       "\\item 13\n",
       "\\item 80\n",
       "\\item 94\n",
       "\\item 47\n",
       "\\item 115\n",
       "\\item 65\n",
       "\\item 66\n",
       "\\item 78\n",
       "\\item 35\n",
       "\\item 14\n",
       "\\item 125\n",
       "\\item 6\n",
       "\\item 53\n",
       "\\item 119\n",
       "\\item 25\n",
       "\\item 117\n",
       "\\item 61\n",
       "\\item 69\n",
       "\\item 120\n",
       "\\item 127\n",
       "\\item 113\n",
       "\\item 86\n",
       "\\item 32\n",
       "\\item 77\n",
       "\\item 121\n",
       "\\item 99\n",
       "\\item 123\n",
       "\\item 59\n",
       "\\item 118\n",
       "\\item 37\n",
       "\\item 89\n",
       "\\item 48\n",
       "\\item 116\n",
       "\\item 62\n",
       "\\item 21\n",
       "\\item 38\n",
       "\\item 85\n",
       "\\item 101\n",
       "\\item 129\n",
       "\\item 15\n",
       "\\item 9\n",
       "\\item 19\n",
       "\\item 72\n",
       "\\item 105\n",
       "\\item 83\n",
       "\\item 22\n",
       "\\item 96\n",
       "\\item 11\n",
       "\\item 50\n",
       "\\item 75\n",
       "\\item 27\n",
       "\\item 31\n",
       "\\item 97\n",
       "\\item 57\n",
       "\\item 23\n",
       "\\item 73\n",
       "\\item 64\n",
       "\\item 26\n",
       "\\item 28\n",
       "\\item 12\n",
       "\\item 24\n",
       "\\item 102\n",
       "\\item 91\n",
       "\\item 8\n",
       "\\item 95\n",
       "\\item 68\n",
       "\\item 90\n",
       "\\item 108\n",
       "\\item 70\n",
       "\\item 4\n",
       "\\item 34\n",
       "\\item 51\n",
       "\\item 103\n",
       "\\item 74\n",
       "\\item 17\n",
       "\\item 81\n",
       "\\item 106\n",
       "\\item 92\n",
       "\\item 7\n",
       "\\item 18\n",
       "\\item 58\n",
       "\\item 100\n",
       "\\item 124\n",
       "\\item 88\n",
       "\\item 114\n",
       "\\item 134\n",
       "\\item 16\n",
       "\\end{enumerate*}\n"
      ],
      "text/markdown": [
       "1. 52\n",
       "2. 3\n",
       "3. 36\n",
       "4. 29\n",
       "5. 43\n",
       "6. 128\n",
       "7. 112\n",
       "8. 133\n",
       "9. 54\n",
       "10. 55\n",
       "11. 111\n",
       "12. 5\n",
       "13. 49\n",
       "14. 93\n",
       "15. 84\n",
       "16. 76\n",
       "17. 39\n",
       "18. 67\n",
       "19. 56\n",
       "20. 41\n",
       "21. 82\n",
       "22. 107\n",
       "23. 46\n",
       "24. 30\n",
       "25. 109\n",
       "26. 60\n",
       "27. 79\n",
       "28. 42\n",
       "29. 40\n",
       "30. 71\n",
       "31. 98\n",
       "32. 130\n",
       "33. 136\n",
       "34. 33\n",
       "35. 135\n",
       "36. 87\n",
       "37. 126\n",
       "38. 2\n",
       "39. 63\n",
       "40. 10\n",
       "41. 104\n",
       "42. 1\n",
       "43. 44\n",
       "44. 122\n",
       "45. 20\n",
       "46. 110\n",
       "47. 132\n",
       "48. 45\n",
       "49. 131\n",
       "50. 13\n",
       "51. 80\n",
       "52. 94\n",
       "53. 47\n",
       "54. 115\n",
       "55. 65\n",
       "56. 66\n",
       "57. 78\n",
       "58. 35\n",
       "59. 14\n",
       "60. 125\n",
       "61. 6\n",
       "62. 53\n",
       "63. 119\n",
       "64. 25\n",
       "65. 117\n",
       "66. 61\n",
       "67. 69\n",
       "68. 120\n",
       "69. 127\n",
       "70. 113\n",
       "71. 86\n",
       "72. 32\n",
       "73. 77\n",
       "74. 121\n",
       "75. 99\n",
       "76. 123\n",
       "77. 59\n",
       "78. 118\n",
       "79. 37\n",
       "80. 89\n",
       "81. 48\n",
       "82. 116\n",
       "83. 62\n",
       "84. 21\n",
       "85. 38\n",
       "86. 85\n",
       "87. 101\n",
       "88. 129\n",
       "89. 15\n",
       "90. 9\n",
       "91. 19\n",
       "92. 72\n",
       "93. 105\n",
       "94. 83\n",
       "95. 22\n",
       "96. 96\n",
       "97. 11\n",
       "98. 50\n",
       "99. 75\n",
       "100. 27\n",
       "101. 31\n",
       "102. 97\n",
       "103. 57\n",
       "104. 23\n",
       "105. 73\n",
       "106. 64\n",
       "107. 26\n",
       "108. 28\n",
       "109. 12\n",
       "110. 24\n",
       "111. 102\n",
       "112. 91\n",
       "113. 8\n",
       "114. 95\n",
       "115. 68\n",
       "116. 90\n",
       "117. 108\n",
       "118. 70\n",
       "119. 4\n",
       "120. 34\n",
       "121. 51\n",
       "122. 103\n",
       "123. 74\n",
       "124. 17\n",
       "125. 81\n",
       "126. 106\n",
       "127. 92\n",
       "128. 7\n",
       "129. 18\n",
       "130. 58\n",
       "131. 100\n",
       "132. 124\n",
       "133. 88\n",
       "134. 114\n",
       "135. 134\n",
       "136. 16\n",
       "\n",
       "\n"
      ],
      "text/plain": [
       "  [1]  52   3  36  29  43 128 112 133  54  55 111   5  49  93  84  76  39  67\n",
       " [19]  56  41  82 107  46  30 109  60  79  42  40  71  98 130 136  33 135  87\n",
       " [37] 126   2  63  10 104   1  44 122  20 110 132  45 131  13  80  94  47 115\n",
       " [55]  65  66  78  35  14 125   6  53 119  25 117  61  69 120 127 113  86  32\n",
       " [73]  77 121  99 123  59 118  37  89  48 116  62  21  38  85 101 129  15   9\n",
       " [91]  19  72 105  83  22  96  11  50  75  27  31  97  57  23  73  64  26  28\n",
       "[109]  12  24 102  91   8  95  68  90 108  70   4  34  51 103  74  17  81 106\n",
       "[127]  92   7  18  58 100 124  88 114 134  16"
      ]
     },
     "metadata": {},
     "output_type": "display_data"
    }
   ],
   "source": [
    "order(stagec$g2)"
   ]
  },
  {
   "cell_type": "markdown",
   "metadata": {},
   "source": [
    "Let's now save this ordering as \"newOrder\":"
   ]
  },
  {
   "cell_type": "code",
   "execution_count": 10,
   "metadata": {},
   "outputs": [],
   "source": [
    "newOrder <- order(stagec$g2)"
   ]
  },
  {
   "cell_type": "markdown",
   "metadata": {},
   "source": [
    "Now to make use of the ordering, we will want to order our \"g2\" variable using this list. To do this we will use the '[]'. Let's take a quick look at how this is used. To get the first value of the \"g2\" variable (which is not yet ordered) we would do this: "
   ]
  },
  {
   "cell_type": "code",
   "execution_count": 11,
   "metadata": {},
   "outputs": [
    {
     "data": {
      "text/html": [
       "10.26"
      ],
      "text/latex": [
       "10.26"
      ],
      "text/markdown": [
       "10.26"
      ],
      "text/plain": [
       "[1] 10.26"
      ]
     },
     "metadata": {},
     "output_type": "display_data"
    }
   ],
   "source": [
    "stagec$g2[1]"
   ]
  },
  {
   "cell_type": "markdown",
   "metadata": {},
   "source": [
    "Or to get the fisrt through the 10th values we would do this:"
   ]
  },
  {
   "cell_type": "code",
   "execution_count": 12,
   "metadata": {},
   "outputs": [
    {
     "data": {
      "text/html": [
       "<ol class=list-inline>\n",
       "\t<li>10.26</li>\n",
       "\t<li>9.99</li>\n",
       "\t<li>3.57</li>\n",
       "\t<li>22.56</li>\n",
       "\t<li>6.14</li>\n",
       "\t<li>11.77</li>\n",
       "\t<li>27.27</li>\n",
       "\t<li>19.34</li>\n",
       "\t<li>14.82</li>\n",
       "\t<li>10.22</li>\n",
       "</ol>\n"
      ],
      "text/latex": [
       "\\begin{enumerate*}\n",
       "\\item 10.26\n",
       "\\item 9.99\n",
       "\\item 3.57\n",
       "\\item 22.56\n",
       "\\item 6.14\n",
       "\\item 11.77\n",
       "\\item 27.27\n",
       "\\item 19.34\n",
       "\\item 14.82\n",
       "\\item 10.22\n",
       "\\end{enumerate*}\n"
      ],
      "text/markdown": [
       "1. 10.26\n",
       "2. 9.99\n",
       "3. 3.57\n",
       "4. 22.56\n",
       "5. 6.14\n",
       "6. 11.77\n",
       "7. 27.27\n",
       "8. 19.34\n",
       "9. 14.82\n",
       "10. 10.22\n",
       "\n",
       "\n"
      ],
      "text/plain": [
       " [1] 10.26  9.99  3.57 22.56  6.14 11.77 27.27 19.34 14.82 10.22"
      ]
     },
     "metadata": {},
     "output_type": "display_data"
    }
   ],
   "source": [
    "stagec$g2[1:10]"
   ]
  },
  {
   "cell_type": "markdown",
   "metadata": {},
   "source": [
    "Now to order the \"g2\" variable we will want to follow the same process but using our \"newOrder\" list:"
   ]
  },
  {
   "cell_type": "code",
   "execution_count": 14,
   "metadata": {},
   "outputs": [
    {
     "data": {
      "text/html": [
       "<ol class=list-inline>\n",
       "\t<li>2.4</li>\n",
       "\t<li>3.57</li>\n",
       "\t<li>3.77</li>\n",
       "\t<li>3.85</li>\n",
       "\t<li>4.43</li>\n",
       "\t<li>4.81</li>\n",
       "\t<li>5.08</li>\n",
       "\t<li>5.14</li>\n",
       "\t<li>5.29</li>\n",
       "\t<li>5.75</li>\n",
       "\t<li>5.92</li>\n",
       "\t<li>6.14</li>\n",
       "\t<li>6.41</li>\n",
       "\t<li>6.74</li>\n",
       "\t<li>6.8</li>\n",
       "\t<li>7.15</li>\n",
       "\t<li>7.55</li>\n",
       "\t<li>7.61</li>\n",
       "\t<li>7.64</li>\n",
       "\t<li>7.66</li>\n",
       "\t<li>7.67</li>\n",
       "\t<li>7.78</li>\n",
       "\t<li>7.81</li>\n",
       "\t<li>7.88</li>\n",
       "\t<li>7.93</li>\n",
       "\t<li>8.1</li>\n",
       "\t<li>8.11</li>\n",
       "\t<li>8.4</li>\n",
       "\t<li>8.46</li>\n",
       "\t<li>8.58</li>\n",
       "\t<li>8.76</li>\n",
       "\t<li>9.01</li>\n",
       "\t<li>9.01</li>\n",
       "\t<li>9.42</li>\n",
       "\t<li>9.59</li>\n",
       "\t<li>9.76</li>\n",
       "\t<li>9.9</li>\n",
       "\t<li>9.99</li>\n",
       "\t<li>10.16</li>\n",
       "\t<li>10.22</li>\n",
       "\t<li>10.25</li>\n",
       "\t<li>10.26</li>\n",
       "\t<li>10.37</li>\n",
       "\t<li>10.43</li>\n",
       "\t<li>10.51</li>\n",
       "\t<li>10.58</li>\n",
       "\t<li>10.72</li>\n",
       "\t<li>10.82</li>\n",
       "\t<li>10.9</li>\n",
       "\t<li>11.11</li>\n",
       "\t<li>11.18</li>\n",
       "\t<li>11.21</li>\n",
       "\t<li>11.23</li>\n",
       "\t<li>11.29</li>\n",
       "\t<li>11.35</li>\n",
       "\t<li>11.35</li>\n",
       "\t<li>11.35</li>\n",
       "\t<li>11.37</li>\n",
       "\t<li>11.44</li>\n",
       "\t<li>11.69</li>\n",
       "\t<li>11.77</li>\n",
       "\t<li>11.92</li>\n",
       "\t<li>12.06</li>\n",
       "\t<li>12.13</li>\n",
       "\t<li>12.46</li>\n",
       "\t<li>12.62</li>\n",
       "\t<li>12.93</li>\n",
       "\t<li>13.01</li>\n",
       "\t<li>13.01</li>\n",
       "\t<li>13.1</li>\n",
       "\t<li>13.17</li>\n",
       "\t<li>13.19</li>\n",
       "\t<li>13.21</li>\n",
       "\t<li>13.21</li>\n",
       "\t<li>13.23</li>\n",
       "\t<li>13.33</li>\n",
       "\t<li>13.35</li>\n",
       "\t<li>13.69</li>\n",
       "\t<li>13.76</li>\n",
       "\t<li>13.87</li>\n",
       "\t<li>13.99</li>\n",
       "\t<li>14.02</li>\n",
       "\t<li>14.14</li>\n",
       "\t<li>14.22</li>\n",
       "\t<li>14.52</li>\n",
       "\t<li>14.58</li>\n",
       "\t<li>14.68</li>\n",
       "\t<li>14.71</li>\n",
       "\t<li>14.78</li>\n",
       "\t<li>14.82</li>\n",
       "\t<li>14.86</li>\n",
       "\t<li>14.94</li>\n",
       "\t<li>15.1</li>\n",
       "\t<li>15.23</li>\n",
       "\t<li>15.28</li>\n",
       "\t<li>15.35</li>\n",
       "\t<li>15.66</li>\n",
       "\t<li>16.05</li>\n",
       "\t<li>16.06</li>\n",
       "\t<li>16.53</li>\n",
       "\t<li>16.64</li>\n",
       "\t<li>16.79</li>\n",
       "\t<li>16.81</li>\n",
       "\t<li>16.91</li>\n",
       "\t<li>17.16</li>\n",
       "\t<li>17.21</li>\n",
       "\t<li>17.25</li>\n",
       "\t<li>17.49</li>\n",
       "\t<li>17.79</li>\n",
       "\t<li>17.87</li>\n",
       "\t<li>17.95</li>\n",
       "\t<li>17.96</li>\n",
       "\t<li>19.34</li>\n",
       "\t<li>20.22</li>\n",
       "\t<li>20.82</li>\n",
       "\t<li>21.2</li>\n",
       "\t<li>21.2</li>\n",
       "\t<li>21.75</li>\n",
       "\t<li>22.56</li>\n",
       "\t<li>22.79</li>\n",
       "\t<li>22.97</li>\n",
       "\t<li>23.34</li>\n",
       "\t<li>23.62</li>\n",
       "\t<li>24.58</li>\n",
       "\t<li>24.84</li>\n",
       "\t<li>26.55</li>\n",
       "\t<li>27.14</li>\n",
       "\t<li>27.27</li>\n",
       "\t<li>27.79</li>\n",
       "\t<li>29.56</li>\n",
       "\t<li>34.01</li>\n",
       "\t<li>37.49</li>\n",
       "\t<li>38.05</li>\n",
       "\t<li>41.31</li>\n",
       "\t<li>46.92</li>\n",
       "\t<li>54.93</li>\n",
       "</ol>\n"
      ],
      "text/latex": [
       "\\begin{enumerate*}\n",
       "\\item 2.4\n",
       "\\item 3.57\n",
       "\\item 3.77\n",
       "\\item 3.85\n",
       "\\item 4.43\n",
       "\\item 4.81\n",
       "\\item 5.08\n",
       "\\item 5.14\n",
       "\\item 5.29\n",
       "\\item 5.75\n",
       "\\item 5.92\n",
       "\\item 6.14\n",
       "\\item 6.41\n",
       "\\item 6.74\n",
       "\\item 6.8\n",
       "\\item 7.15\n",
       "\\item 7.55\n",
       "\\item 7.61\n",
       "\\item 7.64\n",
       "\\item 7.66\n",
       "\\item 7.67\n",
       "\\item 7.78\n",
       "\\item 7.81\n",
       "\\item 7.88\n",
       "\\item 7.93\n",
       "\\item 8.1\n",
       "\\item 8.11\n",
       "\\item 8.4\n",
       "\\item 8.46\n",
       "\\item 8.58\n",
       "\\item 8.76\n",
       "\\item 9.01\n",
       "\\item 9.01\n",
       "\\item 9.42\n",
       "\\item 9.59\n",
       "\\item 9.76\n",
       "\\item 9.9\n",
       "\\item 9.99\n",
       "\\item 10.16\n",
       "\\item 10.22\n",
       "\\item 10.25\n",
       "\\item 10.26\n",
       "\\item 10.37\n",
       "\\item 10.43\n",
       "\\item 10.51\n",
       "\\item 10.58\n",
       "\\item 10.72\n",
       "\\item 10.82\n",
       "\\item 10.9\n",
       "\\item 11.11\n",
       "\\item 11.18\n",
       "\\item 11.21\n",
       "\\item 11.23\n",
       "\\item 11.29\n",
       "\\item 11.35\n",
       "\\item 11.35\n",
       "\\item 11.35\n",
       "\\item 11.37\n",
       "\\item 11.44\n",
       "\\item 11.69\n",
       "\\item 11.77\n",
       "\\item 11.92\n",
       "\\item 12.06\n",
       "\\item 12.13\n",
       "\\item 12.46\n",
       "\\item 12.62\n",
       "\\item 12.93\n",
       "\\item 13.01\n",
       "\\item 13.01\n",
       "\\item 13.1\n",
       "\\item 13.17\n",
       "\\item 13.19\n",
       "\\item 13.21\n",
       "\\item 13.21\n",
       "\\item 13.23\n",
       "\\item 13.33\n",
       "\\item 13.35\n",
       "\\item 13.69\n",
       "\\item 13.76\n",
       "\\item 13.87\n",
       "\\item 13.99\n",
       "\\item 14.02\n",
       "\\item 14.14\n",
       "\\item 14.22\n",
       "\\item 14.52\n",
       "\\item 14.58\n",
       "\\item 14.68\n",
       "\\item 14.71\n",
       "\\item 14.78\n",
       "\\item 14.82\n",
       "\\item 14.86\n",
       "\\item 14.94\n",
       "\\item 15.1\n",
       "\\item 15.23\n",
       "\\item 15.28\n",
       "\\item 15.35\n",
       "\\item 15.66\n",
       "\\item 16.05\n",
       "\\item 16.06\n",
       "\\item 16.53\n",
       "\\item 16.64\n",
       "\\item 16.79\n",
       "\\item 16.81\n",
       "\\item 16.91\n",
       "\\item 17.16\n",
       "\\item 17.21\n",
       "\\item 17.25\n",
       "\\item 17.49\n",
       "\\item 17.79\n",
       "\\item 17.87\n",
       "\\item 17.95\n",
       "\\item 17.96\n",
       "\\item 19.34\n",
       "\\item 20.22\n",
       "\\item 20.82\n",
       "\\item 21.2\n",
       "\\item 21.2\n",
       "\\item 21.75\n",
       "\\item 22.56\n",
       "\\item 22.79\n",
       "\\item 22.97\n",
       "\\item 23.34\n",
       "\\item 23.62\n",
       "\\item 24.58\n",
       "\\item 24.84\n",
       "\\item 26.55\n",
       "\\item 27.14\n",
       "\\item 27.27\n",
       "\\item 27.79\n",
       "\\item 29.56\n",
       "\\item 34.01\n",
       "\\item 37.49\n",
       "\\item 38.05\n",
       "\\item 41.31\n",
       "\\item 46.92\n",
       "\\item 54.93\n",
       "\\end{enumerate*}\n"
      ],
      "text/markdown": [
       "1. 2.4\n",
       "2. 3.57\n",
       "3. 3.77\n",
       "4. 3.85\n",
       "5. 4.43\n",
       "6. 4.81\n",
       "7. 5.08\n",
       "8. 5.14\n",
       "9. 5.29\n",
       "10. 5.75\n",
       "11. 5.92\n",
       "12. 6.14\n",
       "13. 6.41\n",
       "14. 6.74\n",
       "15. 6.8\n",
       "16. 7.15\n",
       "17. 7.55\n",
       "18. 7.61\n",
       "19. 7.64\n",
       "20. 7.66\n",
       "21. 7.67\n",
       "22. 7.78\n",
       "23. 7.81\n",
       "24. 7.88\n",
       "25. 7.93\n",
       "26. 8.1\n",
       "27. 8.11\n",
       "28. 8.4\n",
       "29. 8.46\n",
       "30. 8.58\n",
       "31. 8.76\n",
       "32. 9.01\n",
       "33. 9.01\n",
       "34. 9.42\n",
       "35. 9.59\n",
       "36. 9.76\n",
       "37. 9.9\n",
       "38. 9.99\n",
       "39. 10.16\n",
       "40. 10.22\n",
       "41. 10.25\n",
       "42. 10.26\n",
       "43. 10.37\n",
       "44. 10.43\n",
       "45. 10.51\n",
       "46. 10.58\n",
       "47. 10.72\n",
       "48. 10.82\n",
       "49. 10.9\n",
       "50. 11.11\n",
       "51. 11.18\n",
       "52. 11.21\n",
       "53. 11.23\n",
       "54. 11.29\n",
       "55. 11.35\n",
       "56. 11.35\n",
       "57. 11.35\n",
       "58. 11.37\n",
       "59. 11.44\n",
       "60. 11.69\n",
       "61. 11.77\n",
       "62. 11.92\n",
       "63. 12.06\n",
       "64. 12.13\n",
       "65. 12.46\n",
       "66. 12.62\n",
       "67. 12.93\n",
       "68. 13.01\n",
       "69. 13.01\n",
       "70. 13.1\n",
       "71. 13.17\n",
       "72. 13.19\n",
       "73. 13.21\n",
       "74. 13.21\n",
       "75. 13.23\n",
       "76. 13.33\n",
       "77. 13.35\n",
       "78. 13.69\n",
       "79. 13.76\n",
       "80. 13.87\n",
       "81. 13.99\n",
       "82. 14.02\n",
       "83. 14.14\n",
       "84. 14.22\n",
       "85. 14.52\n",
       "86. 14.58\n",
       "87. 14.68\n",
       "88. 14.71\n",
       "89. 14.78\n",
       "90. 14.82\n",
       "91. 14.86\n",
       "92. 14.94\n",
       "93. 15.1\n",
       "94. 15.23\n",
       "95. 15.28\n",
       "96. 15.35\n",
       "97. 15.66\n",
       "98. 16.05\n",
       "99. 16.06\n",
       "100. 16.53\n",
       "101. 16.64\n",
       "102. 16.79\n",
       "103. 16.81\n",
       "104. 16.91\n",
       "105. 17.16\n",
       "106. 17.21\n",
       "107. 17.25\n",
       "108. 17.49\n",
       "109. 17.79\n",
       "110. 17.87\n",
       "111. 17.95\n",
       "112. 17.96\n",
       "113. 19.34\n",
       "114. 20.22\n",
       "115. 20.82\n",
       "116. 21.2\n",
       "117. 21.2\n",
       "118. 21.75\n",
       "119. 22.56\n",
       "120. 22.79\n",
       "121. 22.97\n",
       "122. 23.34\n",
       "123. 23.62\n",
       "124. 24.58\n",
       "125. 24.84\n",
       "126. 26.55\n",
       "127. 27.14\n",
       "128. 27.27\n",
       "129. 27.79\n",
       "130. 29.56\n",
       "131. 34.01\n",
       "132. 37.49\n",
       "133. 38.05\n",
       "134. 41.31\n",
       "135. 46.92\n",
       "136. 54.93\n",
       "\n",
       "\n"
      ],
      "text/plain": [
       "  [1]  2.40  3.57  3.77  3.85  4.43  4.81  5.08  5.14  5.29  5.75  5.92  6.14\n",
       " [13]  6.41  6.74  6.80  7.15  7.55  7.61  7.64  7.66  7.67  7.78  7.81  7.88\n",
       " [25]  7.93  8.10  8.11  8.40  8.46  8.58  8.76  9.01  9.01  9.42  9.59  9.76\n",
       " [37]  9.90  9.99 10.16 10.22 10.25 10.26 10.37 10.43 10.51 10.58 10.72 10.82\n",
       " [49] 10.90 11.11 11.18 11.21 11.23 11.29 11.35 11.35 11.35 11.37 11.44 11.69\n",
       " [61] 11.77 11.92 12.06 12.13 12.46 12.62 12.93 13.01 13.01 13.10 13.17 13.19\n",
       " [73] 13.21 13.21 13.23 13.33 13.35 13.69 13.76 13.87 13.99 14.02 14.14 14.22\n",
       " [85] 14.52 14.58 14.68 14.71 14.78 14.82 14.86 14.94 15.10 15.23 15.28 15.35\n",
       " [97] 15.66 16.05 16.06 16.53 16.64 16.79 16.81 16.91 17.16 17.21 17.25 17.49\n",
       "[109] 17.79 17.87 17.95 17.96 19.34 20.22 20.82 21.20 21.20 21.75 22.56 22.79\n",
       "[121] 22.97 23.34 23.62 24.58 24.84 26.55 27.14 27.27 27.79 29.56 34.01 37.49\n",
       "[133] 38.05 41.31 46.92 54.93"
      ]
     },
     "metadata": {},
     "output_type": "display_data"
    }
   ],
   "source": [
    "stagec$g2[newOrder]"
   ]
  },
  {
   "cell_type": "markdown",
   "metadata": {},
   "source": [
    "Looking at the above, you can see that we have ordered the \"g2\" variable from smallest to largest. However, we will later need to know not only the order of the \"g2\" values, but also which group they come from. So instead of just ordering the \"g2\" variable, we should order the entire dataset. To do this we will do the following: "
   ]
  },
  {
   "cell_type": "code",
   "execution_count": 15,
   "metadata": {},
   "outputs": [
    {
     "data": {
      "text/html": [
       "<table>\n",
       "<thead><tr><th></th><th scope=col>pgtime</th><th scope=col>pgstat</th><th scope=col>age</th><th scope=col>eet</th><th scope=col>g2</th><th scope=col>grade</th><th scope=col>gleason</th><th scope=col>ploidy</th></tr></thead>\n",
       "<tbody>\n",
       "\t<tr><th scope=row>55</th><td> 1.0     </td><td>1        </td><td>61       </td><td>1        </td><td>2.40     </td><td>4        </td><td>8-10     </td><td>diploid  </td></tr>\n",
       "\t<tr><th scope=row>4</th><td> 3.2     </td><td>1        </td><td>62       </td><td>2        </td><td>3.57     </td><td>2        </td><td>3-4      </td><td>diploid  </td></tr>\n",
       "\t<tr><th scope=row>39</th><td> 0.3     </td><td>1        </td><td>59       </td><td>2        </td><td>3.77     </td><td>3        </td><td>6        </td><td>aneuploid</td></tr>\n",
       "\t<tr><th scope=row>32</th><td> 9.3     </td><td>0        </td><td>64       </td><td>1        </td><td>3.85     </td><td>3        </td><td>6        </td><td>aneuploid</td></tr>\n",
       "\t<tr><th scope=row>46</th><td> 8.7     </td><td>0        </td><td>70       </td><td>1        </td><td>4.43     </td><td>1        </td><td>3-4      </td><td>diploid  </td></tr>\n",
       "\t<tr><th scope=row>137</th><td> 2.4     </td><td>0        </td><td>63       </td><td>2        </td><td>4.81     </td><td>3        </td><td>8-10     </td><td>diploid  </td></tr>\n",
       "\t<tr><th scope=row>120</th><td> 3.1     </td><td>0        </td><td>59       </td><td>2        </td><td>5.08     </td><td>3        </td><td>7        </td><td>diploid  </td></tr>\n",
       "\t<tr><th scope=row>142</th><td>10.2     </td><td>0        </td><td>63       </td><td>2        </td><td>5.14     </td><td>2        </td><td>5        </td><td>diploid  </td></tr>\n",
       "\t<tr><th scope=row>58</th><td>16.7     </td><td>0        </td><td>56       </td><td>2        </td><td>5.29     </td><td>1        </td><td>3-4      </td><td>diploid  </td></tr>\n",
       "\t<tr><th scope=row>59</th><td> 4.5     </td><td>0        </td><td>63       </td><td>2        </td><td>5.75     </td><td>2        </td><td>5        </td><td>diploid  </td></tr>\n",
       "\t<tr><th scope=row>119</th><td> 6.5     </td><td>0        </td><td>66       </td><td>2        </td><td>5.92     </td><td>2        </td><td>5        </td><td>diploid  </td></tr>\n",
       "\t<tr><th scope=row>6</th><td> 4.8     </td><td>0        </td><td>69       </td><td>1        </td><td>6.14     </td><td>3        </td><td>7        </td><td>diploid  </td></tr>\n",
       "\t<tr><th scope=row>52</th><td> 4.9     </td><td>0        </td><td>67       </td><td>2        </td><td>6.41     </td><td>2        </td><td>5        </td><td>diploid  </td></tr>\n",
       "\t<tr><th scope=row>99</th><td> 9.2     </td><td>0        </td><td>62       </td><td>1        </td><td>6.74     </td><td>2        </td><td>5        </td><td>diploid  </td></tr>\n",
       "\t<tr><th scope=row>89</th><td>10.9     </td><td>0        </td><td>72       </td><td>2        </td><td>6.80     </td><td>2        </td><td>5        </td><td>diploid  </td></tr>\n",
       "\t<tr><th scope=row>80</th><td> 7.0     </td><td>0        </td><td>52       </td><td>2        </td><td>7.15     </td><td>2        </td><td>7        </td><td>diploid  </td></tr>\n",
       "\t<tr><th scope=row>42</th><td> 2.0     </td><td>1        </td><td>62       </td><td>2        </td><td>7.55     </td><td>3        </td><td>7        </td><td>diploid  </td></tr>\n",
       "\t<tr><th scope=row>71</th><td>11.4     </td><td>0        </td><td>59       </td><td>2        </td><td>7.61     </td><td>2        </td><td>5        </td><td>diploid  </td></tr>\n",
       "\t<tr><th scope=row>60</th><td> 3.4     </td><td>1        </td><td>69       </td><td>1        </td><td>7.64     </td><td>3        </td><td>8-10     </td><td>aneuploid</td></tr>\n",
       "\t<tr><th scope=row>44</th><td>13.5     </td><td>0        </td><td>63       </td><td>2        </td><td>7.66     </td><td>3        </td><td>7        </td><td>diploid  </td></tr>\n",
       "\t<tr><th scope=row>86</th><td> 8.7     </td><td>0        </td><td>67       </td><td>2        </td><td>7.67     </td><td>3        </td><td>6        </td><td>diploid  </td></tr>\n",
       "\t<tr><th scope=row>114</th><td> 7.0     </td><td>0        </td><td>67       </td><td>2        </td><td>7.78     </td><td>2        </td><td>6        </td><td>diploid  </td></tr>\n",
       "\t<tr><th scope=row>49</th><td>10.6     </td><td>0        </td><td>55       </td><td>2        </td><td>7.81     </td><td>2        </td><td>5        </td><td>diploid  </td></tr>\n",
       "\t<tr><th scope=row>33</th><td> 6.5     </td><td>0        </td><td>70       </td><td>1        </td><td>7.88     </td><td>2        </td><td>6        </td><td>diploid  </td></tr>\n",
       "\t<tr><th scope=row>117</th><td> 6.0     </td><td>0        </td><td>69       </td><td>2        </td><td>7.93     </td><td>3        </td><td>6        </td><td>diploid  </td></tr>\n",
       "\t<tr><th scope=row>64</th><td>10.4     </td><td>0        </td><td>55       </td><td>2        </td><td>8.10     </td><td>2        </td><td>5        </td><td>diploid  </td></tr>\n",
       "\t<tr><th scope=row>83</th><td> 6.7     </td><td>0        </td><td>54       </td><td>2        </td><td>8.11     </td><td>2        </td><td>3-4      </td><td>diploid  </td></tr>\n",
       "\t<tr><th scope=row>45</th><td>11.7     </td><td>0        </td><td>61       </td><td>2        </td><td>8.40     </td><td>2        </td><td>5        </td><td>diploid  </td></tr>\n",
       "\t<tr><th scope=row>43</th><td> 7.3     </td><td>0        </td><td>69       </td><td>2        </td><td>8.46     </td><td>2        </td><td>5        </td><td>diploid  </td></tr>\n",
       "\t<tr><th scope=row>75</th><td> 6.1     </td><td>0        </td><td>69       </td><td>2        </td><td>8.58     </td><td>2        </td><td>6        </td><td>diploid  </td></tr>\n",
       "\t<tr><th scope=row>...</th><td>...</td><td>...</td><td>...</td><td>...</td><td>...</td><td>...</td><td>...</td><td>...</td></tr>\n",
       "\t<tr><th scope=row>29</th><td> 4.9      </td><td>1         </td><td>54        </td><td>1         </td><td>17.25     </td><td>2         </td><td>5         </td><td>tetraploid</td></tr>\n",
       "\t<tr><th scope=row>31</th><td> 2.9      </td><td>1         </td><td>68        </td><td>2         </td><td>17.49     </td><td>2         </td><td>3-4       </td><td>tetraploid</td></tr>\n",
       "\t<tr><th scope=row>15</th><td> 4.2      </td><td>1         </td><td>66        </td><td>2         </td><td>17.79     </td><td>3         </td><td>7         </td><td>tetraploid</td></tr>\n",
       "\t<tr><th scope=row>27</th><td> 3.7      </td><td>1         </td><td>58        </td><td>1         </td><td>17.87     </td><td>3         </td><td>7         </td><td>tetraploid</td></tr>\n",
       "\t<tr><th scope=row>108</th><td> 4.9      </td><td>0         </td><td>67        </td><td>1         </td><td>17.95     </td><td>3         </td><td>8-10      </td><td>tetraploid</td></tr>\n",
       "\t<tr><th scope=row>97</th><td> 3.6      </td><td>0         </td><td>64        </td><td>1         </td><td>17.96     </td><td>3         </td><td>7         </td><td>tetraploid</td></tr>\n",
       "\t<tr><th scope=row>11</th><td> 6.3      </td><td>0         </td><td>65        </td><td>2         </td><td>19.34     </td><td>3         </td><td>7         </td><td>tetraploid</td></tr>\n",
       "\t<tr><th scope=row>101</th><td> 8.7      </td><td>0         </td><td>59        </td><td>2         </td><td>20.22     </td><td>3         </td><td>6         </td><td>tetraploid</td></tr>\n",
       "\t<tr><th scope=row>72</th><td> 7.0      </td><td>1         </td><td>61        </td><td>2         </td><td>20.82     </td><td>3         </td><td>6         </td><td>tetraploid</td></tr>\n",
       "\t<tr><th scope=row>96</th><td> 1.9      </td><td>1         </td><td>64        </td><td>2         </td><td>21.20     </td><td>3         </td><td>7         </td><td>tetraploid</td></tr>\n",
       "\t<tr><th scope=row>116</th><td> 7.1      </td><td>0         </td><td>63        </td><td>2         </td><td>21.20     </td><td>3         </td><td>7         </td><td>tetraploid</td></tr>\n",
       "\t<tr><th scope=row>74</th><td> 0.5      </td><td>1         </td><td>57        </td><td>1         </td><td>21.75     </td><td>3         </td><td>7         </td><td>tetraploid</td></tr>\n",
       "\t<tr><th scope=row>5</th><td> 1.9      </td><td>1         </td><td>64        </td><td>2         </td><td>22.56     </td><td>4         </td><td>8-10      </td><td>tetraploid</td></tr>\n",
       "\t<tr><th scope=row>37</th><td> 5.7      </td><td>0         </td><td>70        </td><td>2         </td><td>22.79     </td><td>2         </td><td>5         </td><td>tetraploid</td></tr>\n",
       "\t<tr><th scope=row>54</th><td>17.7      </td><td>0         </td><td>58        </td><td>2         </td><td>22.97     </td><td>3         </td><td>6         </td><td>tetraploid</td></tr>\n",
       "\t<tr><th scope=row>109</th><td> 3.4      </td><td>1         </td><td>57        </td><td>1         </td><td>23.34     </td><td>3         </td><td>8-10      </td><td>tetraploid</td></tr>\n",
       "\t<tr><th scope=row>78</th><td>12.2      </td><td>0         </td><td>57        </td><td>2         </td><td>23.62     </td><td>3         </td><td>8-10      </td><td>tetraploid</td></tr>\n",
       "\t<tr><th scope=row>20</th><td>13.0      </td><td>0         </td><td>65        </td><td>2         </td><td>24.58     </td><td>3         </td><td>7         </td><td>tetraploid</td></tr>\n",
       "\t<tr><th scope=row>85</th><td> 5.2      </td><td>1         </td><td>65        </td><td>2         </td><td>24.84     </td><td>3         </td><td>7         </td><td>tetraploid</td></tr>\n",
       "\t<tr><th scope=row>113</th><td> 6.3      </td><td>0         </td><td>68        </td><td>1         </td><td>26.55     </td><td>2         </td><td>6         </td><td>tetraploid</td></tr>\n",
       "\t<tr><th scope=row>98</th><td> 8.2      </td><td>0         </td><td>68        </td><td>2         </td><td>27.14     </td><td>3         </td><td>8-10      </td><td>tetraploid</td></tr>\n",
       "\t<tr><th scope=row>10</th><td>15.9      </td><td>0         </td><td>64        </td><td>2         </td><td>27.27     </td><td>3         </td><td>7         </td><td>tetraploid</td></tr>\n",
       "\t<tr><th scope=row>21</th><td>11.4      </td><td>0         </td><td>62        </td><td>2         </td><td>27.79     </td><td>2         </td><td>5         </td><td>tetraploid</td></tr>\n",
       "\t<tr><th scope=row>62</th><td> 6.8      </td><td>0         </td><td>70        </td><td>2         </td><td>29.56     </td><td>2         </td><td>5         </td><td>tetraploid</td></tr>\n",
       "\t<tr><th scope=row>106</th><td> 5.7      </td><td>0         </td><td>61        </td><td>2         </td><td>34.01     </td><td>2         </td><td>7         </td><td>tetraploid</td></tr>\n",
       "\t<tr><th scope=row>133</th><td> 6.0      </td><td>0         </td><td>66        </td><td>2         </td><td>37.49     </td><td>3         </td><td>7         </td><td>tetraploid</td></tr>\n",
       "\t<tr><th scope=row>94</th><td> 7.7      </td><td>1         </td><td>62        </td><td>2         </td><td>38.05     </td><td>3         </td><td>7         </td><td>tetraploid</td></tr>\n",
       "\t<tr><th scope=row>122</th><td> 6.7      </td><td>0         </td><td>73        </td><td>1         </td><td>41.31     </td><td>3         </td><td>8-10      </td><td>tetraploid</td></tr>\n",
       "\t<tr><th scope=row>143</th><td> 2.5      </td><td>1         </td><td>73        </td><td>2         </td><td>46.92     </td><td>4         </td><td>8-10      </td><td>tetraploid</td></tr>\n",
       "\t<tr><th scope=row>19</th><td>10.9      </td><td>0         </td><td>63        </td><td>2         </td><td>54.93     </td><td>3         </td><td>8-10      </td><td>tetraploid</td></tr>\n",
       "</tbody>\n",
       "</table>\n"
      ],
      "text/latex": [
       "\\begin{tabular}{r|llllllll}\n",
       "  & pgtime & pgstat & age & eet & g2 & grade & gleason & ploidy\\\\\n",
       "\\hline\n",
       "\t55 &  1.0      & 1         & 61        & 1         & 2.40      & 4         & 8-10      & diploid  \\\\\n",
       "\t4 &  3.2      & 1         & 62        & 2         & 3.57      & 2         & 3-4       & diploid  \\\\\n",
       "\t39 &  0.3      & 1         & 59        & 2         & 3.77      & 3         & 6         & aneuploid\\\\\n",
       "\t32 &  9.3      & 0         & 64        & 1         & 3.85      & 3         & 6         & aneuploid\\\\\n",
       "\t46 &  8.7      & 0         & 70        & 1         & 4.43      & 1         & 3-4       & diploid  \\\\\n",
       "\t137 &  2.4      & 0         & 63        & 2         & 4.81      & 3         & 8-10      & diploid  \\\\\n",
       "\t120 &  3.1      & 0         & 59        & 2         & 5.08      & 3         & 7         & diploid  \\\\\n",
       "\t142 & 10.2      & 0         & 63        & 2         & 5.14      & 2         & 5         & diploid  \\\\\n",
       "\t58 & 16.7      & 0         & 56        & 2         & 5.29      & 1         & 3-4       & diploid  \\\\\n",
       "\t59 &  4.5      & 0         & 63        & 2         & 5.75      & 2         & 5         & diploid  \\\\\n",
       "\t119 &  6.5      & 0         & 66        & 2         & 5.92      & 2         & 5         & diploid  \\\\\n",
       "\t6 &  4.8      & 0         & 69        & 1         & 6.14      & 3         & 7         & diploid  \\\\\n",
       "\t52 &  4.9      & 0         & 67        & 2         & 6.41      & 2         & 5         & diploid  \\\\\n",
       "\t99 &  9.2      & 0         & 62        & 1         & 6.74      & 2         & 5         & diploid  \\\\\n",
       "\t89 & 10.9      & 0         & 72        & 2         & 6.80      & 2         & 5         & diploid  \\\\\n",
       "\t80 &  7.0      & 0         & 52        & 2         & 7.15      & 2         & 7         & diploid  \\\\\n",
       "\t42 &  2.0      & 1         & 62        & 2         & 7.55      & 3         & 7         & diploid  \\\\\n",
       "\t71 & 11.4      & 0         & 59        & 2         & 7.61      & 2         & 5         & diploid  \\\\\n",
       "\t60 &  3.4      & 1         & 69        & 1         & 7.64      & 3         & 8-10      & aneuploid\\\\\n",
       "\t44 & 13.5      & 0         & 63        & 2         & 7.66      & 3         & 7         & diploid  \\\\\n",
       "\t86 &  8.7      & 0         & 67        & 2         & 7.67      & 3         & 6         & diploid  \\\\\n",
       "\t114 &  7.0      & 0         & 67        & 2         & 7.78      & 2         & 6         & diploid  \\\\\n",
       "\t49 & 10.6      & 0         & 55        & 2         & 7.81      & 2         & 5         & diploid  \\\\\n",
       "\t33 &  6.5      & 0         & 70        & 1         & 7.88      & 2         & 6         & diploid  \\\\\n",
       "\t117 &  6.0      & 0         & 69        & 2         & 7.93      & 3         & 6         & diploid  \\\\\n",
       "\t64 & 10.4      & 0         & 55        & 2         & 8.10      & 2         & 5         & diploid  \\\\\n",
       "\t83 &  6.7      & 0         & 54        & 2         & 8.11      & 2         & 3-4       & diploid  \\\\\n",
       "\t45 & 11.7      & 0         & 61        & 2         & 8.40      & 2         & 5         & diploid  \\\\\n",
       "\t43 &  7.3      & 0         & 69        & 2         & 8.46      & 2         & 5         & diploid  \\\\\n",
       "\t75 &  6.1      & 0         & 69        & 2         & 8.58      & 2         & 6         & diploid  \\\\\n",
       "\t... & ... & ... & ... & ... & ... & ... & ... & ...\\\\\n",
       "\t29 &  4.9       & 1          & 54         & 1          & 17.25      & 2          & 5          & tetraploid\\\\\n",
       "\t31 &  2.9       & 1          & 68         & 2          & 17.49      & 2          & 3-4        & tetraploid\\\\\n",
       "\t15 &  4.2       & 1          & 66         & 2          & 17.79      & 3          & 7          & tetraploid\\\\\n",
       "\t27 &  3.7       & 1          & 58         & 1          & 17.87      & 3          & 7          & tetraploid\\\\\n",
       "\t108 &  4.9       & 0          & 67         & 1          & 17.95      & 3          & 8-10       & tetraploid\\\\\n",
       "\t97 &  3.6       & 0          & 64         & 1          & 17.96      & 3          & 7          & tetraploid\\\\\n",
       "\t11 &  6.3       & 0          & 65         & 2          & 19.34      & 3          & 7          & tetraploid\\\\\n",
       "\t101 &  8.7       & 0          & 59         & 2          & 20.22      & 3          & 6          & tetraploid\\\\\n",
       "\t72 &  7.0       & 1          & 61         & 2          & 20.82      & 3          & 6          & tetraploid\\\\\n",
       "\t96 &  1.9       & 1          & 64         & 2          & 21.20      & 3          & 7          & tetraploid\\\\\n",
       "\t116 &  7.1       & 0          & 63         & 2          & 21.20      & 3          & 7          & tetraploid\\\\\n",
       "\t74 &  0.5       & 1          & 57         & 1          & 21.75      & 3          & 7          & tetraploid\\\\\n",
       "\t5 &  1.9       & 1          & 64         & 2          & 22.56      & 4          & 8-10       & tetraploid\\\\\n",
       "\t37 &  5.7       & 0          & 70         & 2          & 22.79      & 2          & 5          & tetraploid\\\\\n",
       "\t54 & 17.7       & 0          & 58         & 2          & 22.97      & 3          & 6          & tetraploid\\\\\n",
       "\t109 &  3.4       & 1          & 57         & 1          & 23.34      & 3          & 8-10       & tetraploid\\\\\n",
       "\t78 & 12.2       & 0          & 57         & 2          & 23.62      & 3          & 8-10       & tetraploid\\\\\n",
       "\t20 & 13.0       & 0          & 65         & 2          & 24.58      & 3          & 7          & tetraploid\\\\\n",
       "\t85 &  5.2       & 1          & 65         & 2          & 24.84      & 3          & 7          & tetraploid\\\\\n",
       "\t113 &  6.3       & 0          & 68         & 1          & 26.55      & 2          & 6          & tetraploid\\\\\n",
       "\t98 &  8.2       & 0          & 68         & 2          & 27.14      & 3          & 8-10       & tetraploid\\\\\n",
       "\t10 & 15.9       & 0          & 64         & 2          & 27.27      & 3          & 7          & tetraploid\\\\\n",
       "\t21 & 11.4       & 0          & 62         & 2          & 27.79      & 2          & 5          & tetraploid\\\\\n",
       "\t62 &  6.8       & 0          & 70         & 2          & 29.56      & 2          & 5          & tetraploid\\\\\n",
       "\t106 &  5.7       & 0          & 61         & 2          & 34.01      & 2          & 7          & tetraploid\\\\\n",
       "\t133 &  6.0       & 0          & 66         & 2          & 37.49      & 3          & 7          & tetraploid\\\\\n",
       "\t94 &  7.7       & 1          & 62         & 2          & 38.05      & 3          & 7          & tetraploid\\\\\n",
       "\t122 &  6.7       & 0          & 73         & 1          & 41.31      & 3          & 8-10       & tetraploid\\\\\n",
       "\t143 &  2.5       & 1          & 73         & 2          & 46.92      & 4          & 8-10       & tetraploid\\\\\n",
       "\t19 & 10.9       & 0          & 63         & 2          & 54.93      & 3          & 8-10       & tetraploid\\\\\n",
       "\\end{tabular}\n"
      ],
      "text/markdown": [
       "\n",
       "| <!--/--> | pgtime | pgstat | age | eet | g2 | grade | gleason | ploidy |\n",
       "|---|---|---|---|---|---|---|---|---|\n",
       "| 55 |  1.0      | 1         | 61        | 1         | 2.40      | 4         | 8-10      | diploid   |\n",
       "| 4 |  3.2      | 1         | 62        | 2         | 3.57      | 2         | 3-4       | diploid   |\n",
       "| 39 |  0.3      | 1         | 59        | 2         | 3.77      | 3         | 6         | aneuploid |\n",
       "| 32 |  9.3      | 0         | 64        | 1         | 3.85      | 3         | 6         | aneuploid |\n",
       "| 46 |  8.7      | 0         | 70        | 1         | 4.43      | 1         | 3-4       | diploid   |\n",
       "| 137 |  2.4      | 0         | 63        | 2         | 4.81      | 3         | 8-10      | diploid   |\n",
       "| 120 |  3.1      | 0         | 59        | 2         | 5.08      | 3         | 7         | diploid   |\n",
       "| 142 | 10.2      | 0         | 63        | 2         | 5.14      | 2         | 5         | diploid   |\n",
       "| 58 | 16.7      | 0         | 56        | 2         | 5.29      | 1         | 3-4       | diploid   |\n",
       "| 59 |  4.5      | 0         | 63        | 2         | 5.75      | 2         | 5         | diploid   |\n",
       "| 119 |  6.5      | 0         | 66        | 2         | 5.92      | 2         | 5         | diploid   |\n",
       "| 6 |  4.8      | 0         | 69        | 1         | 6.14      | 3         | 7         | diploid   |\n",
       "| 52 |  4.9      | 0         | 67        | 2         | 6.41      | 2         | 5         | diploid   |\n",
       "| 99 |  9.2      | 0         | 62        | 1         | 6.74      | 2         | 5         | diploid   |\n",
       "| 89 | 10.9      | 0         | 72        | 2         | 6.80      | 2         | 5         | diploid   |\n",
       "| 80 |  7.0      | 0         | 52        | 2         | 7.15      | 2         | 7         | diploid   |\n",
       "| 42 |  2.0      | 1         | 62        | 2         | 7.55      | 3         | 7         | diploid   |\n",
       "| 71 | 11.4      | 0         | 59        | 2         | 7.61      | 2         | 5         | diploid   |\n",
       "| 60 |  3.4      | 1         | 69        | 1         | 7.64      | 3         | 8-10      | aneuploid |\n",
       "| 44 | 13.5      | 0         | 63        | 2         | 7.66      | 3         | 7         | diploid   |\n",
       "| 86 |  8.7      | 0         | 67        | 2         | 7.67      | 3         | 6         | diploid   |\n",
       "| 114 |  7.0      | 0         | 67        | 2         | 7.78      | 2         | 6         | diploid   |\n",
       "| 49 | 10.6      | 0         | 55        | 2         | 7.81      | 2         | 5         | diploid   |\n",
       "| 33 |  6.5      | 0         | 70        | 1         | 7.88      | 2         | 6         | diploid   |\n",
       "| 117 |  6.0      | 0         | 69        | 2         | 7.93      | 3         | 6         | diploid   |\n",
       "| 64 | 10.4      | 0         | 55        | 2         | 8.10      | 2         | 5         | diploid   |\n",
       "| 83 |  6.7      | 0         | 54        | 2         | 8.11      | 2         | 3-4       | diploid   |\n",
       "| 45 | 11.7      | 0         | 61        | 2         | 8.40      | 2         | 5         | diploid   |\n",
       "| 43 |  7.3      | 0         | 69        | 2         | 8.46      | 2         | 5         | diploid   |\n",
       "| 75 |  6.1      | 0         | 69        | 2         | 8.58      | 2         | 6         | diploid   |\n",
       "| ... | ... | ... | ... | ... | ... | ... | ... | ... |\n",
       "| 29 |  4.9       | 1          | 54         | 1          | 17.25      | 2          | 5          | tetraploid |\n",
       "| 31 |  2.9       | 1          | 68         | 2          | 17.49      | 2          | 3-4        | tetraploid |\n",
       "| 15 |  4.2       | 1          | 66         | 2          | 17.79      | 3          | 7          | tetraploid |\n",
       "| 27 |  3.7       | 1          | 58         | 1          | 17.87      | 3          | 7          | tetraploid |\n",
       "| 108 |  4.9       | 0          | 67         | 1          | 17.95      | 3          | 8-10       | tetraploid |\n",
       "| 97 |  3.6       | 0          | 64         | 1          | 17.96      | 3          | 7          | tetraploid |\n",
       "| 11 |  6.3       | 0          | 65         | 2          | 19.34      | 3          | 7          | tetraploid |\n",
       "| 101 |  8.7       | 0          | 59         | 2          | 20.22      | 3          | 6          | tetraploid |\n",
       "| 72 |  7.0       | 1          | 61         | 2          | 20.82      | 3          | 6          | tetraploid |\n",
       "| 96 |  1.9       | 1          | 64         | 2          | 21.20      | 3          | 7          | tetraploid |\n",
       "| 116 |  7.1       | 0          | 63         | 2          | 21.20      | 3          | 7          | tetraploid |\n",
       "| 74 |  0.5       | 1          | 57         | 1          | 21.75      | 3          | 7          | tetraploid |\n",
       "| 5 |  1.9       | 1          | 64         | 2          | 22.56      | 4          | 8-10       | tetraploid |\n",
       "| 37 |  5.7       | 0          | 70         | 2          | 22.79      | 2          | 5          | tetraploid |\n",
       "| 54 | 17.7       | 0          | 58         | 2          | 22.97      | 3          | 6          | tetraploid |\n",
       "| 109 |  3.4       | 1          | 57         | 1          | 23.34      | 3          | 8-10       | tetraploid |\n",
       "| 78 | 12.2       | 0          | 57         | 2          | 23.62      | 3          | 8-10       | tetraploid |\n",
       "| 20 | 13.0       | 0          | 65         | 2          | 24.58      | 3          | 7          | tetraploid |\n",
       "| 85 |  5.2       | 1          | 65         | 2          | 24.84      | 3          | 7          | tetraploid |\n",
       "| 113 |  6.3       | 0          | 68         | 1          | 26.55      | 2          | 6          | tetraploid |\n",
       "| 98 |  8.2       | 0          | 68         | 2          | 27.14      | 3          | 8-10       | tetraploid |\n",
       "| 10 | 15.9       | 0          | 64         | 2          | 27.27      | 3          | 7          | tetraploid |\n",
       "| 21 | 11.4       | 0          | 62         | 2          | 27.79      | 2          | 5          | tetraploid |\n",
       "| 62 |  6.8       | 0          | 70         | 2          | 29.56      | 2          | 5          | tetraploid |\n",
       "| 106 |  5.7       | 0          | 61         | 2          | 34.01      | 2          | 7          | tetraploid |\n",
       "| 133 |  6.0       | 0          | 66         | 2          | 37.49      | 3          | 7          | tetraploid |\n",
       "| 94 |  7.7       | 1          | 62         | 2          | 38.05      | 3          | 7          | tetraploid |\n",
       "| 122 |  6.7       | 0          | 73         | 1          | 41.31      | 3          | 8-10       | tetraploid |\n",
       "| 143 |  2.5       | 1          | 73         | 2          | 46.92      | 4          | 8-10       | tetraploid |\n",
       "| 19 | 10.9       | 0          | 63         | 2          | 54.93      | 3          | 8-10       | tetraploid |\n",
       "\n"
      ],
      "text/plain": [
       "    pgtime pgstat age eet g2    grade gleason ploidy    \n",
       "55   1.0   1      61  1   2.40  4     8-10    diploid   \n",
       "4    3.2   1      62  2   3.57  2     3-4     diploid   \n",
       "39   0.3   1      59  2   3.77  3     6       aneuploid \n",
       "32   9.3   0      64  1   3.85  3     6       aneuploid \n",
       "46   8.7   0      70  1   4.43  1     3-4     diploid   \n",
       "137  2.4   0      63  2   4.81  3     8-10    diploid   \n",
       "120  3.1   0      59  2   5.08  3     7       diploid   \n",
       "142 10.2   0      63  2   5.14  2     5       diploid   \n",
       "58  16.7   0      56  2   5.29  1     3-4     diploid   \n",
       "59   4.5   0      63  2   5.75  2     5       diploid   \n",
       "119  6.5   0      66  2   5.92  2     5       diploid   \n",
       "6    4.8   0      69  1   6.14  3     7       diploid   \n",
       "52   4.9   0      67  2   6.41  2     5       diploid   \n",
       "99   9.2   0      62  1   6.74  2     5       diploid   \n",
       "89  10.9   0      72  2   6.80  2     5       diploid   \n",
       "80   7.0   0      52  2   7.15  2     7       diploid   \n",
       "42   2.0   1      62  2   7.55  3     7       diploid   \n",
       "71  11.4   0      59  2   7.61  2     5       diploid   \n",
       "60   3.4   1      69  1   7.64  3     8-10    aneuploid \n",
       "44  13.5   0      63  2   7.66  3     7       diploid   \n",
       "86   8.7   0      67  2   7.67  3     6       diploid   \n",
       "114  7.0   0      67  2   7.78  2     6       diploid   \n",
       "49  10.6   0      55  2   7.81  2     5       diploid   \n",
       "33   6.5   0      70  1   7.88  2     6       diploid   \n",
       "117  6.0   0      69  2   7.93  3     6       diploid   \n",
       "64  10.4   0      55  2   8.10  2     5       diploid   \n",
       "83   6.7   0      54  2   8.11  2     3-4     diploid   \n",
       "45  11.7   0      61  2   8.40  2     5       diploid   \n",
       "43   7.3   0      69  2   8.46  2     5       diploid   \n",
       "75   6.1   0      69  2   8.58  2     6       diploid   \n",
       "... ...    ...    ... ... ...   ...   ...     ...       \n",
       "29   4.9   1      54  1   17.25 2     5       tetraploid\n",
       "31   2.9   1      68  2   17.49 2     3-4     tetraploid\n",
       "15   4.2   1      66  2   17.79 3     7       tetraploid\n",
       "27   3.7   1      58  1   17.87 3     7       tetraploid\n",
       "108  4.9   0      67  1   17.95 3     8-10    tetraploid\n",
       "97   3.6   0      64  1   17.96 3     7       tetraploid\n",
       "11   6.3   0      65  2   19.34 3     7       tetraploid\n",
       "101  8.7   0      59  2   20.22 3     6       tetraploid\n",
       "72   7.0   1      61  2   20.82 3     6       tetraploid\n",
       "96   1.9   1      64  2   21.20 3     7       tetraploid\n",
       "116  7.1   0      63  2   21.20 3     7       tetraploid\n",
       "74   0.5   1      57  1   21.75 3     7       tetraploid\n",
       "5    1.9   1      64  2   22.56 4     8-10    tetraploid\n",
       "37   5.7   0      70  2   22.79 2     5       tetraploid\n",
       "54  17.7   0      58  2   22.97 3     6       tetraploid\n",
       "109  3.4   1      57  1   23.34 3     8-10    tetraploid\n",
       "78  12.2   0      57  2   23.62 3     8-10    tetraploid\n",
       "20  13.0   0      65  2   24.58 3     7       tetraploid\n",
       "85   5.2   1      65  2   24.84 3     7       tetraploid\n",
       "113  6.3   0      68  1   26.55 2     6       tetraploid\n",
       "98   8.2   0      68  2   27.14 3     8-10    tetraploid\n",
       "10  15.9   0      64  2   27.27 3     7       tetraploid\n",
       "21  11.4   0      62  2   27.79 2     5       tetraploid\n",
       "62   6.8   0      70  2   29.56 2     5       tetraploid\n",
       "106  5.7   0      61  2   34.01 2     7       tetraploid\n",
       "133  6.0   0      66  2   37.49 3     7       tetraploid\n",
       "94   7.7   1      62  2   38.05 3     7       tetraploid\n",
       "122  6.7   0      73  1   41.31 3     8-10    tetraploid\n",
       "143  2.5   1      73  2   46.92 4     8-10    tetraploid\n",
       "19  10.9   0      63  2   54.93 3     8-10    tetraploid"
      ]
     },
     "metadata": {},
     "output_type": "display_data"
    }
   ],
   "source": [
    "stagec[newOrder,]"
   ]
  },
  {
   "cell_type": "markdown",
   "metadata": {},
   "source": [
    "Okay, so above we can see how to order the data.frame by the ordering of the \"g2\" variable. Now let's permanantly order the observations in the data.frame; we will overwrite the \"stagec\" data.frame, with an ordered version of itself: "
   ]
  },
  {
   "cell_type": "code",
   "execution_count": 16,
   "metadata": {},
   "outputs": [],
   "source": [
    "stagec <- stagec[order(stagec$g2),]"
   ]
  },
  {
   "cell_type": "markdown",
   "metadata": {},
   "source": [
    "Alright! Now we are ready to assign the ranks. We can do this using the \"rank\" function. The rank function has an argument that allows us to specify how ties are handled. We can specify 'ties.method = \"average\"' so that ties are handled by assigning the average rank to all of the tied observations in one tie group. "
   ]
  },
  {
   "cell_type": "code",
   "execution_count": 21,
   "metadata": {},
   "outputs": [
    {
     "data": {
      "text/html": [
       "<ol class=list-inline>\n",
       "\t<li>1</li>\n",
       "\t<li>2</li>\n",
       "\t<li>3</li>\n",
       "\t<li>4</li>\n",
       "\t<li>5</li>\n",
       "\t<li>6</li>\n",
       "\t<li>7</li>\n",
       "\t<li>8</li>\n",
       "\t<li>9</li>\n",
       "\t<li>10</li>\n",
       "\t<li>11</li>\n",
       "\t<li>12</li>\n",
       "\t<li>13</li>\n",
       "\t<li>14</li>\n",
       "\t<li>15</li>\n",
       "\t<li>16</li>\n",
       "\t<li>17</li>\n",
       "\t<li>18</li>\n",
       "\t<li>19</li>\n",
       "\t<li>20</li>\n",
       "\t<li>21</li>\n",
       "\t<li>22</li>\n",
       "\t<li>23</li>\n",
       "\t<li>24</li>\n",
       "\t<li>25</li>\n",
       "\t<li>26</li>\n",
       "\t<li>27</li>\n",
       "\t<li>28</li>\n",
       "\t<li>29</li>\n",
       "\t<li>30</li>\n",
       "\t<li>31</li>\n",
       "\t<li>32.5</li>\n",
       "\t<li>32.5</li>\n",
       "\t<li>34</li>\n",
       "\t<li>35</li>\n",
       "\t<li>36</li>\n",
       "\t<li>37</li>\n",
       "\t<li>38</li>\n",
       "\t<li>39</li>\n",
       "\t<li>40</li>\n",
       "\t<li>41</li>\n",
       "\t<li>42</li>\n",
       "\t<li>43</li>\n",
       "\t<li>44</li>\n",
       "\t<li>45</li>\n",
       "\t<li>46</li>\n",
       "\t<li>47</li>\n",
       "\t<li>48</li>\n",
       "\t<li>49</li>\n",
       "\t<li>50</li>\n",
       "\t<li>51</li>\n",
       "\t<li>52</li>\n",
       "\t<li>53</li>\n",
       "\t<li>54</li>\n",
       "\t<li>56</li>\n",
       "\t<li>56</li>\n",
       "\t<li>56</li>\n",
       "\t<li>58</li>\n",
       "\t<li>59</li>\n",
       "\t<li>60</li>\n",
       "\t<li>61</li>\n",
       "\t<li>62</li>\n",
       "\t<li>63</li>\n",
       "\t<li>64</li>\n",
       "\t<li>65</li>\n",
       "\t<li>66</li>\n",
       "\t<li>67</li>\n",
       "\t<li>68.5</li>\n",
       "\t<li>68.5</li>\n",
       "\t<li>70</li>\n",
       "\t<li>71</li>\n",
       "\t<li>72</li>\n",
       "\t<li>73.5</li>\n",
       "\t<li>73.5</li>\n",
       "\t<li>75</li>\n",
       "\t<li>76</li>\n",
       "\t<li>77</li>\n",
       "\t<li>78</li>\n",
       "\t<li>79</li>\n",
       "\t<li>80</li>\n",
       "\t<li>81</li>\n",
       "\t<li>82</li>\n",
       "\t<li>83</li>\n",
       "\t<li>84</li>\n",
       "\t<li>85</li>\n",
       "\t<li>86</li>\n",
       "\t<li>87</li>\n",
       "\t<li>88</li>\n",
       "\t<li>89</li>\n",
       "\t<li>90</li>\n",
       "\t<li>91</li>\n",
       "\t<li>92</li>\n",
       "\t<li>93</li>\n",
       "\t<li>94</li>\n",
       "\t<li>95</li>\n",
       "\t<li>96</li>\n",
       "\t<li>97</li>\n",
       "\t<li>98</li>\n",
       "\t<li>99</li>\n",
       "\t<li>100</li>\n",
       "\t<li>101</li>\n",
       "\t<li>102</li>\n",
       "\t<li>103</li>\n",
       "\t<li>104</li>\n",
       "\t<li>105</li>\n",
       "\t<li>106</li>\n",
       "\t<li>107</li>\n",
       "\t<li>108</li>\n",
       "\t<li>109</li>\n",
       "\t<li>110</li>\n",
       "\t<li>111</li>\n",
       "\t<li>112</li>\n",
       "\t<li>113</li>\n",
       "\t<li>114</li>\n",
       "\t<li>115</li>\n",
       "\t<li>116.5</li>\n",
       "\t<li>116.5</li>\n",
       "\t<li>118</li>\n",
       "\t<li>119</li>\n",
       "\t<li>120</li>\n",
       "\t<li>121</li>\n",
       "\t<li>122</li>\n",
       "\t<li>123</li>\n",
       "\t<li>124</li>\n",
       "\t<li>125</li>\n",
       "\t<li>126</li>\n",
       "\t<li>127</li>\n",
       "\t<li>128</li>\n",
       "\t<li>129</li>\n",
       "\t<li>130</li>\n",
       "\t<li>131</li>\n",
       "\t<li>132</li>\n",
       "\t<li>133</li>\n",
       "\t<li>134</li>\n",
       "\t<li>135</li>\n",
       "\t<li>136</li>\n",
       "</ol>\n"
      ],
      "text/latex": [
       "\\begin{enumerate*}\n",
       "\\item 1\n",
       "\\item 2\n",
       "\\item 3\n",
       "\\item 4\n",
       "\\item 5\n",
       "\\item 6\n",
       "\\item 7\n",
       "\\item 8\n",
       "\\item 9\n",
       "\\item 10\n",
       "\\item 11\n",
       "\\item 12\n",
       "\\item 13\n",
       "\\item 14\n",
       "\\item 15\n",
       "\\item 16\n",
       "\\item 17\n",
       "\\item 18\n",
       "\\item 19\n",
       "\\item 20\n",
       "\\item 21\n",
       "\\item 22\n",
       "\\item 23\n",
       "\\item 24\n",
       "\\item 25\n",
       "\\item 26\n",
       "\\item 27\n",
       "\\item 28\n",
       "\\item 29\n",
       "\\item 30\n",
       "\\item 31\n",
       "\\item 32.5\n",
       "\\item 32.5\n",
       "\\item 34\n",
       "\\item 35\n",
       "\\item 36\n",
       "\\item 37\n",
       "\\item 38\n",
       "\\item 39\n",
       "\\item 40\n",
       "\\item 41\n",
       "\\item 42\n",
       "\\item 43\n",
       "\\item 44\n",
       "\\item 45\n",
       "\\item 46\n",
       "\\item 47\n",
       "\\item 48\n",
       "\\item 49\n",
       "\\item 50\n",
       "\\item 51\n",
       "\\item 52\n",
       "\\item 53\n",
       "\\item 54\n",
       "\\item 56\n",
       "\\item 56\n",
       "\\item 56\n",
       "\\item 58\n",
       "\\item 59\n",
       "\\item 60\n",
       "\\item 61\n",
       "\\item 62\n",
       "\\item 63\n",
       "\\item 64\n",
       "\\item 65\n",
       "\\item 66\n",
       "\\item 67\n",
       "\\item 68.5\n",
       "\\item 68.5\n",
       "\\item 70\n",
       "\\item 71\n",
       "\\item 72\n",
       "\\item 73.5\n",
       "\\item 73.5\n",
       "\\item 75\n",
       "\\item 76\n",
       "\\item 77\n",
       "\\item 78\n",
       "\\item 79\n",
       "\\item 80\n",
       "\\item 81\n",
       "\\item 82\n",
       "\\item 83\n",
       "\\item 84\n",
       "\\item 85\n",
       "\\item 86\n",
       "\\item 87\n",
       "\\item 88\n",
       "\\item 89\n",
       "\\item 90\n",
       "\\item 91\n",
       "\\item 92\n",
       "\\item 93\n",
       "\\item 94\n",
       "\\item 95\n",
       "\\item 96\n",
       "\\item 97\n",
       "\\item 98\n",
       "\\item 99\n",
       "\\item 100\n",
       "\\item 101\n",
       "\\item 102\n",
       "\\item 103\n",
       "\\item 104\n",
       "\\item 105\n",
       "\\item 106\n",
       "\\item 107\n",
       "\\item 108\n",
       "\\item 109\n",
       "\\item 110\n",
       "\\item 111\n",
       "\\item 112\n",
       "\\item 113\n",
       "\\item 114\n",
       "\\item 115\n",
       "\\item 116.5\n",
       "\\item 116.5\n",
       "\\item 118\n",
       "\\item 119\n",
       "\\item 120\n",
       "\\item 121\n",
       "\\item 122\n",
       "\\item 123\n",
       "\\item 124\n",
       "\\item 125\n",
       "\\item 126\n",
       "\\item 127\n",
       "\\item 128\n",
       "\\item 129\n",
       "\\item 130\n",
       "\\item 131\n",
       "\\item 132\n",
       "\\item 133\n",
       "\\item 134\n",
       "\\item 135\n",
       "\\item 136\n",
       "\\end{enumerate*}\n"
      ],
      "text/markdown": [
       "1. 1\n",
       "2. 2\n",
       "3. 3\n",
       "4. 4\n",
       "5. 5\n",
       "6. 6\n",
       "7. 7\n",
       "8. 8\n",
       "9. 9\n",
       "10. 10\n",
       "11. 11\n",
       "12. 12\n",
       "13. 13\n",
       "14. 14\n",
       "15. 15\n",
       "16. 16\n",
       "17. 17\n",
       "18. 18\n",
       "19. 19\n",
       "20. 20\n",
       "21. 21\n",
       "22. 22\n",
       "23. 23\n",
       "24. 24\n",
       "25. 25\n",
       "26. 26\n",
       "27. 27\n",
       "28. 28\n",
       "29. 29\n",
       "30. 30\n",
       "31. 31\n",
       "32. 32.5\n",
       "33. 32.5\n",
       "34. 34\n",
       "35. 35\n",
       "36. 36\n",
       "37. 37\n",
       "38. 38\n",
       "39. 39\n",
       "40. 40\n",
       "41. 41\n",
       "42. 42\n",
       "43. 43\n",
       "44. 44\n",
       "45. 45\n",
       "46. 46\n",
       "47. 47\n",
       "48. 48\n",
       "49. 49\n",
       "50. 50\n",
       "51. 51\n",
       "52. 52\n",
       "53. 53\n",
       "54. 54\n",
       "55. 56\n",
       "56. 56\n",
       "57. 56\n",
       "58. 58\n",
       "59. 59\n",
       "60. 60\n",
       "61. 61\n",
       "62. 62\n",
       "63. 63\n",
       "64. 64\n",
       "65. 65\n",
       "66. 66\n",
       "67. 67\n",
       "68. 68.5\n",
       "69. 68.5\n",
       "70. 70\n",
       "71. 71\n",
       "72. 72\n",
       "73. 73.5\n",
       "74. 73.5\n",
       "75. 75\n",
       "76. 76\n",
       "77. 77\n",
       "78. 78\n",
       "79. 79\n",
       "80. 80\n",
       "81. 81\n",
       "82. 82\n",
       "83. 83\n",
       "84. 84\n",
       "85. 85\n",
       "86. 86\n",
       "87. 87\n",
       "88. 88\n",
       "89. 89\n",
       "90. 90\n",
       "91. 91\n",
       "92. 92\n",
       "93. 93\n",
       "94. 94\n",
       "95. 95\n",
       "96. 96\n",
       "97. 97\n",
       "98. 98\n",
       "99. 99\n",
       "100. 100\n",
       "101. 101\n",
       "102. 102\n",
       "103. 103\n",
       "104. 104\n",
       "105. 105\n",
       "106. 106\n",
       "107. 107\n",
       "108. 108\n",
       "109. 109\n",
       "110. 110\n",
       "111. 111\n",
       "112. 112\n",
       "113. 113\n",
       "114. 114\n",
       "115. 115\n",
       "116. 116.5\n",
       "117. 116.5\n",
       "118. 118\n",
       "119. 119\n",
       "120. 120\n",
       "121. 121\n",
       "122. 122\n",
       "123. 123\n",
       "124. 124\n",
       "125. 125\n",
       "126. 126\n",
       "127. 127\n",
       "128. 128\n",
       "129. 129\n",
       "130. 130\n",
       "131. 131\n",
       "132. 132\n",
       "133. 133\n",
       "134. 134\n",
       "135. 135\n",
       "136. 136\n",
       "\n",
       "\n"
      ],
      "text/plain": [
       "  [1]   1.0   2.0   3.0   4.0   5.0   6.0   7.0   8.0   9.0  10.0  11.0  12.0\n",
       " [13]  13.0  14.0  15.0  16.0  17.0  18.0  19.0  20.0  21.0  22.0  23.0  24.0\n",
       " [25]  25.0  26.0  27.0  28.0  29.0  30.0  31.0  32.5  32.5  34.0  35.0  36.0\n",
       " [37]  37.0  38.0  39.0  40.0  41.0  42.0  43.0  44.0  45.0  46.0  47.0  48.0\n",
       " [49]  49.0  50.0  51.0  52.0  53.0  54.0  56.0  56.0  56.0  58.0  59.0  60.0\n",
       " [61]  61.0  62.0  63.0  64.0  65.0  66.0  67.0  68.5  68.5  70.0  71.0  72.0\n",
       " [73]  73.5  73.5  75.0  76.0  77.0  78.0  79.0  80.0  81.0  82.0  83.0  84.0\n",
       " [85]  85.0  86.0  87.0  88.0  89.0  90.0  91.0  92.0  93.0  94.0  95.0  96.0\n",
       " [97]  97.0  98.0  99.0 100.0 101.0 102.0 103.0 104.0 105.0 106.0 107.0 108.0\n",
       "[109] 109.0 110.0 111.0 112.0 113.0 114.0 115.0 116.5 116.5 118.0 119.0 120.0\n",
       "[121] 121.0 122.0 123.0 124.0 125.0 126.0 127.0 128.0 129.0 130.0 131.0 132.0\n",
       "[133] 133.0 134.0 135.0 136.0"
      ]
     },
     "metadata": {},
     "output_type": "display_data"
    }
   ],
   "source": [
    "rank(stagec$g2, ties.method = \"average\")"
   ]
  },
  {
   "cell_type": "markdown",
   "metadata": {},
   "source": [
    "**Question for you**. Based on the ranks above, are there any ties present? Please answer below."
   ]
  },
  {
   "cell_type": "markdown",
   "metadata": {},
   "source": [
    "We can also check for ties using the \"table\" function. The idea here will be to count each time we see a specific value. Under the specific value, you will see how many times it was observed:"
   ]
  },
  {
   "cell_type": "code",
   "execution_count": 22,
   "metadata": {},
   "outputs": [
    {
     "data": {
      "text/plain": [
       "\n",
       "  2.4  3.57  3.77  3.85  4.43  4.81  5.08  5.14  5.29  5.75  5.92  6.14  6.41 \n",
       "    1     1     1     1     1     1     1     1     1     1     1     1     1 \n",
       " 6.74   6.8  7.15  7.55  7.61  7.64  7.66  7.67  7.78  7.81  7.88  7.93   8.1 \n",
       "    1     1     1     1     1     1     1     1     1     1     1     1     1 \n",
       " 8.11   8.4  8.46  8.58  8.76  9.01  9.42  9.59  9.76   9.9  9.99 10.16 10.22 \n",
       "    1     1     1     1     1     2     1     1     1     1     1     1     1 \n",
       "10.25 10.26 10.37 10.43 10.51 10.58 10.72 10.82  10.9 11.11 11.18 11.21 11.23 \n",
       "    1     1     1     1     1     1     1     1     1     1     1     1     1 \n",
       "11.29 11.35 11.37 11.44 11.69 11.77 11.92 12.06 12.13 12.46 12.62 12.93 13.01 \n",
       "    1     3     1     1     1     1     1     1     1     1     1     1     2 \n",
       " 13.1 13.17 13.19 13.21 13.23 13.33 13.35 13.69 13.76 13.87 13.99 14.02 14.14 \n",
       "    1     1     1     2     1     1     1     1     1     1     1     1     1 \n",
       "14.22 14.52 14.58 14.68 14.71 14.78 14.82 14.86 14.94  15.1 15.23 15.28 15.35 \n",
       "    1     1     1     1     1     1     1     1     1     1     1     1     1 \n",
       "15.66 16.05 16.06 16.53 16.64 16.79 16.81 16.91 17.16 17.21 17.25 17.49 17.79 \n",
       "    1     1     1     1     1     1     1     1     1     1     1     1     1 \n",
       "17.87 17.95 17.96 19.34 20.22 20.82  21.2 21.75 22.56 22.79 22.97 23.34 23.62 \n",
       "    1     1     1     1     1     1     2     1     1     1     1     1     1 \n",
       "24.58 24.84 26.55 27.14 27.27 27.79 29.56 34.01 37.49 38.05 41.31 46.92 54.93 \n",
       "    1     1     1     1     1     1     1     1     1     1     1     1     1 "
      ]
     },
     "metadata": {},
     "output_type": "display_data"
    }
   ],
   "source": [
    "table(stagec$g2)"
   ]
  },
  {
   "cell_type": "markdown",
   "metadata": {},
   "source": [
    "**Question for you**. Based on the above table, how many groups of tied observations are there? Is it more than 6? Please answer below. "
   ]
  },
  {
   "cell_type": "markdown",
   "metadata": {},
   "source": [
    "Okay, let's see what we have done in creating this rank variable \"G2Rank\" by printing out the first few observations:"
   ]
  },
  {
   "cell_type": "code",
   "execution_count": 23,
   "metadata": {},
   "outputs": [
    {
     "data": {
      "text/html": [
       "<table>\n",
       "<thead><tr><th></th><th scope=col>pgtime</th><th scope=col>pgstat</th><th scope=col>age</th><th scope=col>eet</th><th scope=col>g2</th><th scope=col>grade</th><th scope=col>gleason</th><th scope=col>ploidy</th><th scope=col>G2Rank</th></tr></thead>\n",
       "<tbody>\n",
       "\t<tr><th scope=row>55</th><td>1.0      </td><td>1        </td><td>61       </td><td>1        </td><td>2.40     </td><td>4        </td><td>8-10     </td><td>diploid  </td><td>1        </td></tr>\n",
       "\t<tr><th scope=row>4</th><td>3.2      </td><td>1        </td><td>62       </td><td>2        </td><td>3.57     </td><td>2        </td><td>3-4      </td><td>diploid  </td><td>2        </td></tr>\n",
       "\t<tr><th scope=row>39</th><td>0.3      </td><td>1        </td><td>59       </td><td>2        </td><td>3.77     </td><td>3        </td><td>6        </td><td>aneuploid</td><td>3        </td></tr>\n",
       "\t<tr><th scope=row>32</th><td>9.3      </td><td>0        </td><td>64       </td><td>1        </td><td>3.85     </td><td>3        </td><td>6        </td><td>aneuploid</td><td>4        </td></tr>\n",
       "\t<tr><th scope=row>46</th><td>8.7      </td><td>0        </td><td>70       </td><td>1        </td><td>4.43     </td><td>1        </td><td>3-4      </td><td>diploid  </td><td>5        </td></tr>\n",
       "\t<tr><th scope=row>137</th><td>2.4      </td><td>0        </td><td>63       </td><td>2        </td><td>4.81     </td><td>3        </td><td>8-10     </td><td>diploid  </td><td>6        </td></tr>\n",
       "</tbody>\n",
       "</table>\n"
      ],
      "text/latex": [
       "\\begin{tabular}{r|lllllllll}\n",
       "  & pgtime & pgstat & age & eet & g2 & grade & gleason & ploidy & G2Rank\\\\\n",
       "\\hline\n",
       "\t55 & 1.0       & 1         & 61        & 1         & 2.40      & 4         & 8-10      & diploid   & 1        \\\\\n",
       "\t4 & 3.2       & 1         & 62        & 2         & 3.57      & 2         & 3-4       & diploid   & 2        \\\\\n",
       "\t39 & 0.3       & 1         & 59        & 2         & 3.77      & 3         & 6         & aneuploid & 3        \\\\\n",
       "\t32 & 9.3       & 0         & 64        & 1         & 3.85      & 3         & 6         & aneuploid & 4        \\\\\n",
       "\t46 & 8.7       & 0         & 70        & 1         & 4.43      & 1         & 3-4       & diploid   & 5        \\\\\n",
       "\t137 & 2.4       & 0         & 63        & 2         & 4.81      & 3         & 8-10      & diploid   & 6        \\\\\n",
       "\\end{tabular}\n"
      ],
      "text/markdown": [
       "\n",
       "| <!--/--> | pgtime | pgstat | age | eet | g2 | grade | gleason | ploidy | G2Rank |\n",
       "|---|---|---|---|---|---|---|---|---|---|\n",
       "| 55 | 1.0       | 1         | 61        | 1         | 2.40      | 4         | 8-10      | diploid   | 1         |\n",
       "| 4 | 3.2       | 1         | 62        | 2         | 3.57      | 2         | 3-4       | diploid   | 2         |\n",
       "| 39 | 0.3       | 1         | 59        | 2         | 3.77      | 3         | 6         | aneuploid | 3         |\n",
       "| 32 | 9.3       | 0         | 64        | 1         | 3.85      | 3         | 6         | aneuploid | 4         |\n",
       "| 46 | 8.7       | 0         | 70        | 1         | 4.43      | 1         | 3-4       | diploid   | 5         |\n",
       "| 137 | 2.4       | 0         | 63        | 2         | 4.81      | 3         | 8-10      | diploid   | 6         |\n",
       "\n"
      ],
      "text/plain": [
       "    pgtime pgstat age eet g2   grade gleason ploidy    G2Rank\n",
       "55  1.0    1      61  1   2.40 4     8-10    diploid   1     \n",
       "4   3.2    1      62  2   3.57 2     3-4     diploid   2     \n",
       "39  0.3    1      59  2   3.77 3     6       aneuploid 3     \n",
       "32  9.3    0      64  1   3.85 3     6       aneuploid 4     \n",
       "46  8.7    0      70  1   4.43 1     3-4     diploid   5     \n",
       "137 2.4    0      63  2   4.81 3     8-10    diploid   6     "
      ]
     },
     "metadata": {},
     "output_type": "display_data"
    }
   ],
   "source": [
    "head(stagec)"
   ]
  },
  {
   "cell_type": "markdown",
   "metadata": {},
   "source": [
    "Okay, since there are not too many ties, we will just compute our test statistic $H$ directly. For this we need to determine the sum of ranks $T_j$ for each of the groups $j$. Below we will subset the data.frame for the observations where the Gleason category is \"3-4\". The \"==\" is a test for equivalence. So if we say 'stagec$gleason == \"3-4\"', we are asking R to test each observation and see if the Gleason category is \"3-4\", if yes the test value will be \"TRUE\". We then subset the data.frame for cases where this value is true: "
   ]
  },
  {
   "cell_type": "code",
   "execution_count": 24,
   "metadata": {},
   "outputs": [
    {
     "data": {
      "text/html": [
       "<table>\n",
       "<thead><tr><th></th><th scope=col>pgtime</th><th scope=col>pgstat</th><th scope=col>age</th><th scope=col>eet</th><th scope=col>g2</th><th scope=col>grade</th><th scope=col>gleason</th><th scope=col>ploidy</th><th scope=col>G2Rank</th></tr></thead>\n",
       "<tbody>\n",
       "\t<tr><th scope=row>4</th><td> 3.2      </td><td>1         </td><td>62        </td><td>2         </td><td> 3.57     </td><td>2         </td><td>3-4       </td><td>diploid   </td><td>  2       </td></tr>\n",
       "\t<tr><th scope=row>46</th><td> 8.7      </td><td>0         </td><td>70        </td><td>1         </td><td> 4.43     </td><td>1         </td><td>3-4       </td><td>diploid   </td><td>  5       </td></tr>\n",
       "\t<tr><th scope=row>58</th><td>16.7      </td><td>0         </td><td>56        </td><td>2         </td><td> 5.29     </td><td>1         </td><td>3-4       </td><td>diploid   </td><td>  9       </td></tr>\n",
       "\t<tr><th scope=row>83</th><td> 6.7      </td><td>0         </td><td>54        </td><td>2         </td><td> 8.11     </td><td>2         </td><td>3-4       </td><td>diploid   </td><td> 27       </td></tr>\n",
       "\t<tr><th scope=row>135</th><td> 6.0      </td><td>0         </td><td>52        </td><td>2         </td><td> 9.90     </td><td>2         </td><td>3-4       </td><td>diploid   </td><td> 37       </td></tr>\n",
       "\t<tr><th scope=row>1</th><td> 6.1      </td><td>0         </td><td>64        </td><td>2         </td><td>10.26     </td><td>2         </td><td>3-4       </td><td>diploid   </td><td> 42       </td></tr>\n",
       "\t<tr><th scope=row>18</th><td>13.2      </td><td>0         </td><td>57        </td><td>2         </td><td>14.78     </td><td>2         </td><td>3-4       </td><td>tetraploid</td><td> 89       </td></tr>\n",
       "\t<tr><th scope=row>31</th><td> 2.9      </td><td>1         </td><td>68        </td><td>2         </td><td>17.49     </td><td>2         </td><td>3-4       </td><td>tetraploid</td><td>108       </td></tr>\n",
       "</tbody>\n",
       "</table>\n"
      ],
      "text/latex": [
       "\\begin{tabular}{r|lllllllll}\n",
       "  & pgtime & pgstat & age & eet & g2 & grade & gleason & ploidy & G2Rank\\\\\n",
       "\\hline\n",
       "\t4 &  3.2       & 1          & 62         & 2          &  3.57      & 2          & 3-4        & diploid    &   2       \\\\\n",
       "\t46 &  8.7       & 0          & 70         & 1          &  4.43      & 1          & 3-4        & diploid    &   5       \\\\\n",
       "\t58 & 16.7       & 0          & 56         & 2          &  5.29      & 1          & 3-4        & diploid    &   9       \\\\\n",
       "\t83 &  6.7       & 0          & 54         & 2          &  8.11      & 2          & 3-4        & diploid    &  27       \\\\\n",
       "\t135 &  6.0       & 0          & 52         & 2          &  9.90      & 2          & 3-4        & diploid    &  37       \\\\\n",
       "\t1 &  6.1       & 0          & 64         & 2          & 10.26      & 2          & 3-4        & diploid    &  42       \\\\\n",
       "\t18 & 13.2       & 0          & 57         & 2          & 14.78      & 2          & 3-4        & tetraploid &  89       \\\\\n",
       "\t31 &  2.9       & 1          & 68         & 2          & 17.49      & 2          & 3-4        & tetraploid & 108       \\\\\n",
       "\\end{tabular}\n"
      ],
      "text/markdown": [
       "\n",
       "| <!--/--> | pgtime | pgstat | age | eet | g2 | grade | gleason | ploidy | G2Rank |\n",
       "|---|---|---|---|---|---|---|---|---|---|\n",
       "| 4 |  3.2       | 1          | 62         | 2          |  3.57      | 2          | 3-4        | diploid    |   2        |\n",
       "| 46 |  8.7       | 0          | 70         | 1          |  4.43      | 1          | 3-4        | diploid    |   5        |\n",
       "| 58 | 16.7       | 0          | 56         | 2          |  5.29      | 1          | 3-4        | diploid    |   9        |\n",
       "| 83 |  6.7       | 0          | 54         | 2          |  8.11      | 2          | 3-4        | diploid    |  27        |\n",
       "| 135 |  6.0       | 0          | 52         | 2          |  9.90      | 2          | 3-4        | diploid    |  37        |\n",
       "| 1 |  6.1       | 0          | 64         | 2          | 10.26      | 2          | 3-4        | diploid    |  42        |\n",
       "| 18 | 13.2       | 0          | 57         | 2          | 14.78      | 2          | 3-4        | tetraploid |  89        |\n",
       "| 31 |  2.9       | 1          | 68         | 2          | 17.49      | 2          | 3-4        | tetraploid | 108        |\n",
       "\n"
      ],
      "text/plain": [
       "    pgtime pgstat age eet g2    grade gleason ploidy     G2Rank\n",
       "4    3.2   1      62  2    3.57 2     3-4     diploid      2   \n",
       "46   8.7   0      70  1    4.43 1     3-4     diploid      5   \n",
       "58  16.7   0      56  2    5.29 1     3-4     diploid      9   \n",
       "83   6.7   0      54  2    8.11 2     3-4     diploid     27   \n",
       "135  6.0   0      52  2    9.90 2     3-4     diploid     37   \n",
       "1    6.1   0      64  2   10.26 2     3-4     diploid     42   \n",
       "18  13.2   0      57  2   14.78 2     3-4     tetraploid  89   \n",
       "31   2.9   1      68  2   17.49 2     3-4     tetraploid 108   "
      ]
     },
     "metadata": {},
     "output_type": "display_data"
    }
   ],
   "source": [
    "stagec[stagec$gleason == \"3-4\",]"
   ]
  },
  {
   "cell_type": "markdown",
   "metadata": {},
   "source": [
    "Okay, so above we see the subset of the data.frame where \"gleason\" is \"3-4\". However, we don't want the whole data.frame, we just want the \"G2Rank\" values for finding our $T_j$ for this group. So we can ask for just those values: "
   ]
  },
  {
   "cell_type": "code",
   "execution_count": 25,
   "metadata": {},
   "outputs": [
    {
     "data": {
      "text/html": [
       "<ol class=list-inline>\n",
       "\t<li>2</li>\n",
       "\t<li>5</li>\n",
       "\t<li>9</li>\n",
       "\t<li>27</li>\n",
       "\t<li>37</li>\n",
       "\t<li>42</li>\n",
       "\t<li>89</li>\n",
       "\t<li>108</li>\n",
       "</ol>\n"
      ],
      "text/latex": [
       "\\begin{enumerate*}\n",
       "\\item 2\n",
       "\\item 5\n",
       "\\item 9\n",
       "\\item 27\n",
       "\\item 37\n",
       "\\item 42\n",
       "\\item 89\n",
       "\\item 108\n",
       "\\end{enumerate*}\n"
      ],
      "text/markdown": [
       "1. 2\n",
       "2. 5\n",
       "3. 9\n",
       "4. 27\n",
       "5. 37\n",
       "6. 42\n",
       "7. 89\n",
       "8. 108\n",
       "\n",
       "\n"
      ],
      "text/plain": [
       "[1]   2   5   9  27  37  42  89 108"
      ]
     },
     "metadata": {},
     "output_type": "display_data"
    }
   ],
   "source": [
    "stagec$G2Rank[stagec$gleason == \"3-4\"]"
   ]
  },
  {
   "cell_type": "markdown",
   "metadata": {},
   "source": [
    "Now for $T_j$ for this group we need to sum them:"
   ]
  },
  {
   "cell_type": "code",
   "execution_count": 26,
   "metadata": {},
   "outputs": [
    {
     "data": {
      "text/html": [
       "319"
      ],
      "text/latex": [
       "319"
      ],
      "text/markdown": [
       "319"
      ],
      "text/plain": [
       "[1] 319"
      ]
     },
     "metadata": {},
     "output_type": "display_data"
    }
   ],
   "source": [
    "sum(stagec$G2Rank[stagec$gleason == \"3-4\"])"
   ]
  },
  {
   "cell_type": "markdown",
   "metadata": {},
   "source": [
    "**Question for you.** Now that you have seen the process, please compute $T_j$ for the Gleason category \"5\". You should be able to copy, paste, and modify code from above into new code cells below. Once you have the rank sum $T_j$, please type it in a markdown cell below all of the code cells you created. "
   ]
  },
  {
   "cell_type": "markdown",
   "metadata": {},
   "source": [
    "Continuing on, we need to find $T_j^2 / n_j$ for each of the groups, as this will go into our test statistic $H$. To see the $n_j$ for each of the groups we can use the \"table\" function again: "
   ]
  },
  {
   "cell_type": "code",
   "execution_count": 27,
   "metadata": {},
   "outputs": [
    {
     "data": {
      "text/plain": [
       "\n",
       " 3-4    5    6    7 8-10 \n",
       "   8   34   33   36   25 "
      ]
     },
     "metadata": {},
     "output_type": "display_data"
    }
   ],
   "source": [
    "table(stagec$gleason)"
   ]
  },
  {
   "cell_type": "markdown",
   "metadata": {},
   "source": [
    "Okay, so now, let's compute $T_j^2 / n_j$ for the group where the Gleason category is \"3-4\":"
   ]
  },
  {
   "cell_type": "code",
   "execution_count": 28,
   "metadata": {},
   "outputs": [
    {
     "data": {
      "text/html": [
       "12720.125"
      ],
      "text/latex": [
       "12720.125"
      ],
      "text/markdown": [
       "12720.125"
      ],
      "text/plain": [
       "[1] 12720.12"
      ]
     },
     "metadata": {},
     "output_type": "display_data"
    }
   ],
   "source": [
    "319^2 / 8"
   ]
  },
  {
   "cell_type": "markdown",
   "metadata": {},
   "source": [
    "Okay, so this has all been painful so far. However, we will use a shortcut to get the rest of the $T_j^2 / n_j$. This uses the pipping (%>%) provided by a package called *dplyr*. Basically this is a trick where we pipe things through one function to another:"
   ]
  },
  {
   "cell_type": "code",
   "execution_count": 29,
   "metadata": {},
   "outputs": [
    {
     "data": {
      "text/html": [
       "<table>\n",
       "<thead><tr><th scope=col>gleason</th><th scope=col>sumOfRanks</th><th scope=col>n</th><th scope=col>sumOfRanksSqDivn</th></tr></thead>\n",
       "<tbody>\n",
       "\t<tr><td>3-4      </td><td> 319     </td><td> 8       </td><td> 12720.12</td></tr>\n",
       "\t<tr><td>5        </td><td>1970     </td><td>34       </td><td>114144.12</td></tr>\n",
       "\t<tr><td>6        </td><td>2083     </td><td>33       </td><td>131481.48</td></tr>\n",
       "\t<tr><td>7        </td><td>2872     </td><td>36       </td><td>229121.78</td></tr>\n",
       "\t<tr><td>8-10     </td><td>2072     </td><td>25       </td><td>171727.36</td></tr>\n",
       "</tbody>\n",
       "</table>\n"
      ],
      "text/latex": [
       "\\begin{tabular}{r|llll}\n",
       " gleason & sumOfRanks & n & sumOfRanksSqDivn\\\\\n",
       "\\hline\n",
       "\t 3-4       &  319      &  8        &  12720.12\\\\\n",
       "\t 5         & 1970      & 34        & 114144.12\\\\\n",
       "\t 6         & 2083      & 33        & 131481.48\\\\\n",
       "\t 7         & 2872      & 36        & 229121.78\\\\\n",
       "\t 8-10      & 2072      & 25        & 171727.36\\\\\n",
       "\\end{tabular}\n"
      ],
      "text/markdown": [
       "\n",
       "| gleason | sumOfRanks | n | sumOfRanksSqDivn |\n",
       "|---|---|---|---|\n",
       "| 3-4       |  319      |  8        |  12720.12 |\n",
       "| 5         | 1970      | 34        | 114144.12 |\n",
       "| 6         | 2083      | 33        | 131481.48 |\n",
       "| 7         | 2872      | 36        | 229121.78 |\n",
       "| 8-10      | 2072      | 25        | 171727.36 |\n",
       "\n"
      ],
      "text/plain": [
       "  gleason sumOfRanks n  sumOfRanksSqDivn\n",
       "1 3-4      319        8  12720.12       \n",
       "2 5       1970       34 114144.12       \n",
       "3 6       2083       33 131481.48       \n",
       "4 7       2872       36 229121.78       \n",
       "5 8-10    2072       25 171727.36       "
      ]
     },
     "metadata": {},
     "output_type": "display_data"
    }
   ],
   "source": [
    "stagec %>% group_by(gleason) %>% summarize(sumOfRanks = sum(G2Rank), n = n(), sumOfRanksSqDivn = sumOfRanks^2 / n)"
   ]
  },
  {
   "cell_type": "markdown",
   "metadata": {},
   "source": [
    "Okay, so now we will save (as \"sr\") that table that we just made, as we will need it later: "
   ]
  },
  {
   "cell_type": "code",
   "execution_count": 30,
   "metadata": {},
   "outputs": [],
   "source": [
    "sr <- stagec %>% group_by(gleason) %>% summarize(sumOfRanks = sum(G2Rank), n = n(), sumOfRanksSqDivn = sumOfRanks^2 / n)"
   ]
  },
  {
   "cell_type": "markdown",
   "metadata": {},
   "source": [
    "Okay, it is time to find our test statistic $H$. Here is the formula... $H = \\frac{12}{N (N+1)} \\sum_{j=1}^p \\frac{T_j^2}{n_j} - 3(N+1)$"
   ]
  },
  {
   "cell_type": "markdown",
   "metadata": {},
   "source": [
    "Okay, from our table above we determined the sample size from each group $n_j$. Let's add these all together to give us $N$: "
   ]
  },
  {
   "cell_type": "code",
   "execution_count": 31,
   "metadata": {},
   "outputs": [
    {
     "data": {
      "text/html": [
       "136"
      ],
      "text/latex": [
       "136"
      ],
      "text/markdown": [
       "136"
      ],
      "text/plain": [
       "[1] 136"
      ]
     },
     "metadata": {},
     "output_type": "display_data"
    }
   ],
   "source": [
    "sum(sr$n)"
   ]
  },
  {
   "cell_type": "markdown",
   "metadata": {},
   "source": [
    "Okay, now to find $\\sum_{j=1}^p \\frac{T_j^2}{n_j}$, we can use that same \"sr\" table, but now we want to sum the variable we called \"sumOfRanksSqDivn\": "
   ]
  },
  {
   "cell_type": "code",
   "execution_count": 32,
   "metadata": {},
   "outputs": [
    {
     "data": {
      "text/html": [
       "659194.865273322"
      ],
      "text/latex": [
       "659194.865273322"
      ],
      "text/markdown": [
       "659194.865273322"
      ],
      "text/plain": [
       "[1] 659194.9"
      ]
     },
     "metadata": {},
     "output_type": "display_data"
    }
   ],
   "source": [
    "sum(sr$sumOfRanksSqDivn)"
   ]
  },
  {
   "cell_type": "markdown",
   "metadata": {},
   "source": [
    "Now we can find $H$: "
   ]
  },
  {
   "cell_type": "code",
   "execution_count": 33,
   "metadata": {},
   "outputs": [
    {
     "data": {
      "text/html": [
       "13.5565899141187"
      ],
      "text/latex": [
       "13.5565899141187"
      ],
      "text/markdown": [
       "13.5565899141187"
      ],
      "text/plain": [
       "[1] 13.55659"
      ]
     },
     "metadata": {},
     "output_type": "display_data"
    }
   ],
   "source": [
    "12 / (136 * 137) * sum(sr$sumOfRanksSqDivn) - 3 * (136 + 1)"
   ]
  },
  {
   "cell_type": "markdown",
   "metadata": {},
   "source": [
    "So we now have a test statistic.\n",
    "\n",
    "**Question for you.** What is the sampling distribution of this test statistic if the null hypothesis is true. If you don't remember, please revisit the lecture slides. Please answer below in a new markdown cell. "
   ]
  },
  {
   "cell_type": "markdown",
   "metadata": {},
   "source": [
    "**Question for you.** Now that we remember the sampling distribution of the test statistic, let's find the critical value for a test assuming $\\alpha = 0.05$. For this you can use the book tables, or use on of the functions: \"qf\" for quantile from an $F$ distribution, \"qt\" for quantiles from a $t$ distribution, \"qnorm\" for quantiles from a normal distribution, or \"qchisq\" for quantiles from a $\\chi^2$ distribution. Please find this quantile below: "
   ]
  },
  {
   "cell_type": "markdown",
   "metadata": {},
   "source": [
    "**Question for you**. Now please find the p-value of this test. It is probably easiest to use one of the following functions: \"pf\", \"pt\", \"pnorm\", \"pchisq\". You will want to think about whether you want a p-value for the probability less than or equal to your test statistic ('lower.tail = TRUE'), or a p-value for the proability greater than or equal to your test statistic ('lower.tail = FALSE'):"
   ]
  },
  {
   "cell_type": "markdown",
   "metadata": {},
   "source": [
    "If you forget how to use a function you can just type ?function. Try this below: "
   ]
  },
  {
   "cell_type": "code",
   "execution_count": null,
   "metadata": {},
   "outputs": [],
   "source": [
    "?pf"
   ]
  },
  {
   "cell_type": "markdown",
   "metadata": {},
   "source": [
    "## 1.2) By software\n",
    "As you might expect, it is time to do all of the work we just did in one step.\n",
    "\n",
    "We will use the \"kruskal.test\" function. This function can use something called formula notation \"Dependent variable ~ Independent variable\" as the first argument: "
   ]
  },
  {
   "cell_type": "code",
   "execution_count": 34,
   "metadata": {},
   "outputs": [
    {
     "data": {
      "text/plain": [
       "\n",
       "\tKruskal-Wallis rank sum test\n",
       "\n",
       "data:  g2 by gleason\n",
       "Kruskal-Wallis chi-squared = 13.559, df = 4, p-value = 0.008845\n"
      ]
     },
     "metadata": {},
     "output_type": "display_data"
    }
   ],
   "source": [
    "kruskal.test(g2 ~ gleason, data = stagec)"
   ]
  },
  {
   "cell_type": "markdown",
   "metadata": {},
   "source": [
    "### 1.2.1) Pairwise comparisons\n",
    "From above we can see that there is evidence that the distribution of the \"g2\" variable differs by \"gleason\". Now, if we want to determine pairs of populations differ from eachother, we can use the \"pairwise.wilcoxon.test\" function. This function has a few arguments; first we specify the dependent variable, second we specify the indpendent variable (the variable that says the population; and finally we can adjust the p-values to account for multiple comparisons (remember Mr. Bonferroni? He's back to save you from Type I errors). First, let's make the pairwise comparisons with no p-value adjustment:"
   ]
  },
  {
   "cell_type": "code",
   "execution_count": 35,
   "metadata": {},
   "outputs": [
    {
     "name": "stderr",
     "output_type": "stream",
     "text": [
      "Warning message in wilcox.test.default(xi, xj, paired = paired, ...):\n",
      "\"cannot compute exact p-value with ties\"Warning message in wilcox.test.default(xi, xj, paired = paired, ...):\n",
      "\"cannot compute exact p-value with ties\"Warning message in wilcox.test.default(xi, xj, paired = paired, ...):\n",
      "\"cannot compute exact p-value with ties\"Warning message in wilcox.test.default(xi, xj, paired = paired, ...):\n",
      "\"cannot compute exact p-value with ties\"Warning message in wilcox.test.default(xi, xj, paired = paired, ...):\n",
      "\"cannot compute exact p-value with ties\"Warning message in wilcox.test.default(xi, xj, paired = paired, ...):\n",
      "\"cannot compute exact p-value with ties\"Warning message in wilcox.test.default(xi, xj, paired = paired, ...):\n",
      "\"cannot compute exact p-value with ties\""
     ]
    },
    {
     "data": {
      "text/plain": [
       "\n",
       "\tPairwise comparisons using Wilcoxon rank sum test \n",
       "\n",
       "data:  stagec$g2 and stagec$gleason \n",
       "\n",
       "     3-4   5     6     7    \n",
       "5    0.199 -     -     -    \n",
       "6    0.118 0.506 -     -    \n",
       "7    0.012 0.022 0.073 -    \n",
       "8-10 0.015 0.020 0.044 0.741\n",
       "\n",
       "P value adjustment method: none "
      ]
     },
     "metadata": {},
     "output_type": "display_data"
    }
   ],
   "source": [
    "pairwise.wilcox.test(stagec$g2, stagec$gleason, p.adjust.method = \"none\")"
   ]
  },
  {
   "cell_type": "markdown",
   "metadata": {},
   "source": [
    "Now we will ask for the pairwise comparisons with the \"Bonferroni\" corrected p-values:"
   ]
  },
  {
   "cell_type": "code",
   "execution_count": 36,
   "metadata": {},
   "outputs": [
    {
     "name": "stderr",
     "output_type": "stream",
     "text": [
      "Warning message in wilcox.test.default(xi, xj, paired = paired, ...):\n",
      "\"cannot compute exact p-value with ties\"Warning message in wilcox.test.default(xi, xj, paired = paired, ...):\n",
      "\"cannot compute exact p-value with ties\"Warning message in wilcox.test.default(xi, xj, paired = paired, ...):\n",
      "\"cannot compute exact p-value with ties\"Warning message in wilcox.test.default(xi, xj, paired = paired, ...):\n",
      "\"cannot compute exact p-value with ties\"Warning message in wilcox.test.default(xi, xj, paired = paired, ...):\n",
      "\"cannot compute exact p-value with ties\"Warning message in wilcox.test.default(xi, xj, paired = paired, ...):\n",
      "\"cannot compute exact p-value with ties\"Warning message in wilcox.test.default(xi, xj, paired = paired, ...):\n",
      "\"cannot compute exact p-value with ties\""
     ]
    },
    {
     "data": {
      "text/plain": [
       "\n",
       "\tPairwise comparisons using Wilcoxon rank sum test \n",
       "\n",
       "data:  stagec$g2 and stagec$gleason \n",
       "\n",
       "     3-4  5    6    7   \n",
       "5    1.00 -    -    -   \n",
       "6    1.00 1.00 -    -   \n",
       "7    0.12 0.22 0.73 -   \n",
       "8-10 0.15 0.20 0.44 1.00\n",
       "\n",
       "P value adjustment method: bonferroni "
      ]
     },
     "metadata": {},
     "output_type": "display_data"
    }
   ],
   "source": [
    "pairwise.wilcox.test(stagec$g2, stagec$gleason, p.adjust.method = \"bonf\")"
   ]
  },
  {
   "cell_type": "markdown",
   "metadata": {},
   "source": [
    "**Question for you**. Based on the above table of pairwise comparisons, which of the populations have different distributions? "
   ]
  },
  {
   "cell_type": "markdown",
   "metadata": {},
   "source": [
    "**Caveat** In this section we analyzed the data assuming that each Gleason score, that is 3-4, 5, 6, 7, 8-10, was a separate population. We did not treat this Gleason variable as a being orderd, but rather treated it as a nominal variable. In this case, this probably a horrible idea. We did it to illustrate the Kruskal test. It is a horrible idea because we are not recognizing that there is some order amoung the Gleason score categories. That is 3-4 < 5 < 6 < 7 < 8-10. There are other superior methods for ordinal data out there. "
   ]
  },
  {
   "cell_type": "markdown",
   "metadata": {},
   "source": [
    "# 2) Inferences regarding a single population proportion\n",
    "Now, we will pivot to something very different--proportions. In this part we will determine point estimates and confidence intervals for a population proportion as well as conduct a hypothesis test for one. First, we will define some data. This data comes from the article: Sallan SE, Cronin C, Zelen M, Zinberg NE (1980), \"Antiemetics in patients receiving chemotherapy for cancer: a randomized comparison of delta-9-tetrahydrocannabinol and prochlorperazine,\" *New England Journal of Medicine, 302*(3) p.135-138. This article evaluated the efficacy of both THC and Prochlorperaizne for the treatment of vomiting and nausea in patients undergoing chemotherapy. Below we will create the data as a matrix or table: "
   ]
  },
  {
   "cell_type": "code",
   "execution_count": 37,
   "metadata": {},
   "outputs": [],
   "source": [
    "antiemetics <- matrix(c(36, 43, 16, 62), nrow = 2, ncol = 2, byrow = TRUE)\n",
    "colnames(antiemetics) <- c(\"Effective\", \"NotEffective\")\n",
    "rownames(antiemetics) <- c(\"THC\", \"Prochlorperazine\")"
   ]
  },
  {
   "cell_type": "markdown",
   "metadata": {},
   "source": [
    "This data is in a $2\\times 2$ data that shows the count of study subjects in each category. Let's take a look at the data below: "
   ]
  },
  {
   "cell_type": "code",
   "execution_count": 38,
   "metadata": {},
   "outputs": [
    {
     "data": {
      "text/html": [
       "<table>\n",
       "<thead><tr><th></th><th scope=col>Effective</th><th scope=col>NotEffective</th></tr></thead>\n",
       "<tbody>\n",
       "\t<tr><th scope=row>THC</th><td>36</td><td>43</td></tr>\n",
       "\t<tr><th scope=row>Prochlorperazine</th><td>16</td><td>62</td></tr>\n",
       "</tbody>\n",
       "</table>\n"
      ],
      "text/latex": [
       "\\begin{tabular}{r|ll}\n",
       "  & Effective & NotEffective\\\\\n",
       "\\hline\n",
       "\tTHC & 36 & 43\\\\\n",
       "\tProchlorperazine & 16 & 62\\\\\n",
       "\\end{tabular}\n"
      ],
      "text/markdown": [
       "\n",
       "| <!--/--> | Effective | NotEffective |\n",
       "|---|---|---|\n",
       "| THC | 36 | 43 |\n",
       "| Prochlorperazine | 16 | 62 |\n",
       "\n"
      ],
      "text/plain": [
       "                 Effective NotEffective\n",
       "THC              36        43          \n",
       "Prochlorperazine 16        62          "
      ]
     },
     "metadata": {},
     "output_type": "display_data"
    }
   ],
   "source": [
    "antiemetics"
   ]
  },
  {
   "cell_type": "markdown",
   "metadata": {},
   "source": [
    "## 2.1) Point estimates and confidence intervals\n",
    "First, let's determine a point estimate for the propotion of chemotherapy patients for whom THC would be effective as an antiemetic. We will first save this sample proportion as \"piHatTHC\", and then we will view it in the cell after we save it. Remember that to compute a sample proportion we do $\\hat{\\pi}=y/n$:"
   ]
  },
  {
   "cell_type": "code",
   "execution_count": 41,
   "metadata": {},
   "outputs": [],
   "source": [
    "piHatTHC <- 36 / (36 + 43)"
   ]
  },
  {
   "cell_type": "code",
   "execution_count": 42,
   "metadata": {},
   "outputs": [
    {
     "data": {
      "text/html": [
       "0.455696202531646"
      ],
      "text/latex": [
       "0.455696202531646"
      ],
      "text/markdown": [
       "0.455696202531646"
      ],
      "text/plain": [
       "[1] 0.4556962"
      ]
     },
     "metadata": {},
     "output_type": "display_data"
    }
   ],
   "source": [
    "piHatTHC"
   ]
  },
  {
   "cell_type": "markdown",
   "metadata": {},
   "source": [
    "Now let's suppose that we would like to determine a 95% confidence interval for the population proportion of chemotherapy patients for whom THC would be effective as an antiemetic. We will determine both a Wald CI and a WAC CI. For the Wald CI remember that we need to use the following form: $\\hat{\\pi} \\pm z_{\\alpha / 2} \\text{SE}(\\hat{\\pi})$. To determine $\\text{SE}(\\hat{\\pi})$ we will use $\\text{SE}(\\hat{\\pi}) = \\sqrt{\\frac{(\\hat{\\pi})(1-\\hat{\\pi})}{n}}$. We will first save this value as \"seTHC\" and then we will take a look a the value in the following cell: "
   ]
  },
  {
   "cell_type": "code",
   "execution_count": 43,
   "metadata": {},
   "outputs": [],
   "source": [
    "seTHC <- sqrt(piHatTHC * (1 - piHatTHC) / (36 + 43))"
   ]
  },
  {
   "cell_type": "code",
   "execution_count": 44,
   "metadata": {},
   "outputs": [
    {
     "data": {
      "text/html": [
       "0.0560331246437345"
      ],
      "text/latex": [
       "0.0560331246437345"
      ],
      "text/markdown": [
       "0.0560331246437345"
      ],
      "text/plain": [
       "[1] 0.05603312"
      ]
     },
     "metadata": {},
     "output_type": "display_data"
    }
   ],
   "source": [
    "seTHC"
   ]
  },
  {
   "cell_type": "markdown",
   "metadata": {},
   "source": [
    "Now for the $z_{\\alpha / 2} = z_{.05/2}$, we can use the following:"
   ]
  },
  {
   "cell_type": "code",
   "execution_count": 45,
   "metadata": {},
   "outputs": [
    {
     "data": {
      "text/html": [
       "1.95996398454005"
      ],
      "text/latex": [
       "1.95996398454005"
      ],
      "text/markdown": [
       "1.95996398454005"
      ],
      "text/plain": [
       "[1] 1.959964"
      ]
     },
     "metadata": {},
     "output_type": "display_data"
    }
   ],
   "source": [
    "qnorm(0.05 / 2, lower.tail = FALSE)"
   ]
  },
  {
   "cell_type": "markdown",
   "metadata": {},
   "source": [
    "We now have all of the ingredients that we need, let's put them together to find the lower endpoint for the confidence interval: "
   ]
  },
  {
   "cell_type": "code",
   "execution_count": 46,
   "metadata": {},
   "outputs": [
    {
     "data": {
      "text/html": [
       "0.345873296288682"
      ],
      "text/latex": [
       "0.345873296288682"
      ],
      "text/markdown": [
       "0.345873296288682"
      ],
      "text/plain": [
       "[1] 0.3458733"
      ]
     },
     "metadata": {},
     "output_type": "display_data"
    }
   ],
   "source": [
    "piHatTHC - qnorm(0.05 / 2, lower.tail = FALSE) * seTHC"
   ]
  },
  {
   "cell_type": "markdown",
   "metadata": {},
   "source": [
    "**Question for you**. Now please find the upper endpoint of this 95% Wald confidence interval. You can copy, paste, and modify code from above into a new code cell below to do this."
   ]
  },
  {
   "cell_type": "markdown",
   "metadata": {},
   "source": [
    "As you might expect, there is a function for that. We can use the \"BinomCI\" function that comes from the *DescTools* package. Since this package has been problematic for us to install, I pulled the functions that we need out of it, and placed it on my website. We can read these functions in using the \"source\" function. "
   ]
  },
  {
   "cell_type": "code",
   "execution_count": null,
   "metadata": {},
   "outputs": [],
   "source": [
    "?BinomCI"
   ]
  },
  {
   "cell_type": "markdown",
   "metadata": {},
   "source": [
    "Okay, so you can see the arguments that we need are the number of successes, the number of trials, the confidence coefficient, and the method (in our case \"wald\"): "
   ]
  },
  {
   "cell_type": "code",
   "execution_count": null,
   "metadata": {},
   "outputs": [],
   "source": [
    "BinomCI(36, 36 + 43, conf.level = 0.95, method = \"wald\")"
   ]
  },
  {
   "cell_type": "markdown",
   "metadata": {},
   "source": [
    "**Question for you.** Determine a point estimate and 95% confidence interval for the population proportion of chemotherapy patients for whom Prochlorperaizne would be effective as an antiemetic. Please determine these below in new cells."
   ]
  },
  {
   "cell_type": "markdown",
   "metadata": {},
   "source": [
    "Now to determine a 95% WAC confidence interval for the population proportion of chemotherapy patients for whom THC would be effective as an antiemetic. We will first need to find $\\tilde{y}$, $\\tilde{n}$, $\\tilde{\\pi}$, and $\\text{SE}(\\tilde{\\pi})$.\n",
    "\n",
    "For $\\tilde{y}$, we have that $\\tilde{y}=y + 0.5 \\times z_{\\alpha / 2}^2$:"
   ]
  },
  {
   "cell_type": "code",
   "execution_count": null,
   "metadata": {},
   "outputs": [],
   "source": [
    "yTildeTHC <- 36 + 0.5 * qnorm(0.05 / 2, lower.tail = FALSE) ^ 2"
   ]
  },
  {
   "cell_type": "code",
   "execution_count": null,
   "metadata": {},
   "outputs": [],
   "source": [
    "yTildeTHC"
   ]
  },
  {
   "cell_type": "markdown",
   "metadata": {},
   "source": [
    "**Question for you**. Now below, please also find $\\tilde{n}$. You may need to consult the lecture notes to do this. Please insert a new code cell and save $\\tilde{n}$, as \"nTildeTHC\". "
   ]
  },
  {
   "cell_type": "markdown",
   "metadata": {},
   "source": [
    "Now we can find $\\tilde{\\pi}$:"
   ]
  },
  {
   "cell_type": "code",
   "execution_count": null,
   "metadata": {},
   "outputs": [],
   "source": [
    "piTildeTHC <- yTildeTHC / nTildeTHC"
   ]
  },
  {
   "cell_type": "code",
   "execution_count": null,
   "metadata": {},
   "outputs": [],
   "source": [
    "piTildeTHC"
   ]
  },
  {
   "cell_type": "markdown",
   "metadata": {},
   "source": [
    "And now we can find $\\text{SE}(\\tilde{\\pi})$:"
   ]
  },
  {
   "cell_type": "code",
   "execution_count": null,
   "metadata": {},
   "outputs": [],
   "source": [
    "sePiTildeTHC <- sqrt(piTildeTHC * (1 - piTildeTHC) / nTildeTHC)"
   ]
  },
  {
   "cell_type": "code",
   "execution_count": null,
   "metadata": {},
   "outputs": [],
   "source": [
    "sePiTildeTHC"
   ]
  },
  {
   "cell_type": "markdown",
   "metadata": {},
   "source": [
    "**Question for you.** Now that you have all of the ingredients that you need for a 95% WAC confidence interval, please find the lower and upper endpoints in two separate code cells (please insert below). You should be able to repeat the same process as we used for finding Wald CI's. "
   ]
  },
  {
   "cell_type": "markdown",
   "metadata": {},
   "source": [
    "Now we can double check our work using the \"BinomCI\" function with the 'method = \"agresti-coull\"' for WAC:"
   ]
  },
  {
   "cell_type": "code",
   "execution_count": null,
   "metadata": {},
   "outputs": [],
   "source": [
    "BinomCI(36, 36 + 43, conf.level = 0.95, method = \"agresti-coull\")"
   ]
  },
  {
   "cell_type": "markdown",
   "metadata": {},
   "source": [
    "## 3.2) Hypothesis testing\n",
    "Now we will discuss hypothesis tests regardin the value of one population parameter. Let's say that we have the following research question, \"Is the population proportion of chemotherapy patients for whom THC would be effective as an antiemetic higher than 0.30 or 30%\".\n",
    "\n",
    "**Question for you**. Below in a new markdown cell please state what the null and alternative hypotheses would be for addressing this research question. "
   ]
  },
  {
   "cell_type": "markdown",
   "metadata": {},
   "source": [
    "Now, to determine a test statistic, we will use $z^* = \\frac{\\hat{\\pi}-\\pi_0}{\\text{SE}(\\pi_0)}$. So for this we will need to determine $\\text{SE}(\\pi_0)$. Below, please determine this quantity and save it as \"seNullTHC\". You can find the code for computing the standard error values above in the lab. "
   ]
  },
  {
   "cell_type": "markdown",
   "metadata": {},
   "source": [
    "So then here is our test statistic $z^*$: "
   ]
  },
  {
   "cell_type": "code",
   "execution_count": null,
   "metadata": {},
   "outputs": [],
   "source": [
    "zStar <- (piHatTHC - .30) / seNullTHC"
   ]
  },
  {
   "cell_type": "code",
   "execution_count": null,
   "metadata": {},
   "outputs": [],
   "source": [
    "zStar"
   ]
  },
  {
   "cell_type": "markdown",
   "metadata": {},
   "source": [
    "We can now determine the p-value as $P(Z \\geq z^*)$: "
   ]
  },
  {
   "cell_type": "code",
   "execution_count": null,
   "metadata": {},
   "outputs": [],
   "source": [
    "pnorm(zStar, lower.tail = FALSE)"
   ]
  },
  {
   "cell_type": "markdown",
   "metadata": {},
   "source": [
    "And now here comes the hypothesis test using R: "
   ]
  },
  {
   "cell_type": "code",
   "execution_count": null,
   "metadata": {},
   "outputs": [],
   "source": [
    "prop.test(x = 36, n = 36 + 43, p = .30, alternative = \"greater\", correct = FALSE)"
   ]
  }
 ],
 "metadata": {
  "kernelspec": {
   "display_name": "R",
   "language": "R",
   "name": "ir"
  },
  "language_info": {
   "codemirror_mode": "r",
   "file_extension": ".r",
   "mimetype": "text/x-r-source",
   "name": "R",
   "pygments_lexer": "r",
   "version": "3.6.1"
  }
 },
 "nbformat": 4,
 "nbformat_minor": 2
}
