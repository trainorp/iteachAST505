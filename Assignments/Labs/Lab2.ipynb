{
 "cells": [
  {
   "cell_type": "markdown",
   "metadata": {},
   "source": [
    "# 1) Generating random numbers & generating simple random samples\n",
    "## 1.1) Generating random numbers:\n",
    "The R language has functions for generating random numbers. These random number generating functions are usefull for many things. If you need to do simple random sampling (or more complex sampling) in your own research, you can use these functions easily. Okay before we talk about generating random numbers let's talk about sequences (again). Remember from Lab 1 that we used the \"seq\" function to generate sequences of numbers. For example, take a look at what the following gives you:"
   ]
  },
  {
   "cell_type": "code",
   "execution_count": 5,
   "metadata": {},
   "outputs": [
    {
     "data": {
      "text/html": [
       "<ol class=list-inline>\n",
       "\t<li>2</li>\n",
       "\t<li>4</li>\n",
       "\t<li>6</li>\n",
       "\t<li>8</li>\n",
       "\t<li>10</li>\n",
       "\t<li>12</li>\n",
       "\t<li>14</li>\n",
       "\t<li>16</li>\n",
       "\t<li>18</li>\n",
       "\t<li>20</li>\n",
       "</ol>\n"
      ],
      "text/latex": [
       "\\begin{enumerate*}\n",
       "\\item 2\n",
       "\\item 4\n",
       "\\item 6\n",
       "\\item 8\n",
       "\\item 10\n",
       "\\item 12\n",
       "\\item 14\n",
       "\\item 16\n",
       "\\item 18\n",
       "\\item 20\n",
       "\\end{enumerate*}\n"
      ],
      "text/markdown": [
       "1. 2\n",
       "2. 4\n",
       "3. 6\n",
       "4. 8\n",
       "5. 10\n",
       "6. 12\n",
       "7. 14\n",
       "8. 16\n",
       "9. 18\n",
       "10. 20\n",
       "\n",
       "\n"
      ],
      "text/plain": [
       " [1]  2  4  6  8 10 12 14 16 18 20"
      ]
     },
     "metadata": {},
     "output_type": "display_data"
    }
   ],
   "source": [
    "seq(from = 2, to = 20, by = 2)"
   ]
  },
  {
   "cell_type": "markdown",
   "metadata": {},
   "source": [
    "And also take a look at this:\n"
   ]
  },
  {
   "cell_type": "code",
   "execution_count": 6,
   "metadata": {},
   "outputs": [
    {
     "data": {
      "text/html": [
       "<ol class=list-inline>\n",
       "\t<li>1</li>\n",
       "\t<li>2</li>\n",
       "\t<li>3</li>\n",
       "\t<li>4</li>\n",
       "\t<li>5</li>\n",
       "\t<li>6</li>\n",
       "\t<li>7</li>\n",
       "\t<li>8</li>\n",
       "\t<li>9</li>\n",
       "\t<li>10</li>\n",
       "</ol>\n"
      ],
      "text/latex": [
       "\\begin{enumerate*}\n",
       "\\item 1\n",
       "\\item 2\n",
       "\\item 3\n",
       "\\item 4\n",
       "\\item 5\n",
       "\\item 6\n",
       "\\item 7\n",
       "\\item 8\n",
       "\\item 9\n",
       "\\item 10\n",
       "\\end{enumerate*}\n"
      ],
      "text/markdown": [
       "1. 1\n",
       "2. 2\n",
       "3. 3\n",
       "4. 4\n",
       "5. 5\n",
       "6. 6\n",
       "7. 7\n",
       "8. 8\n",
       "9. 9\n",
       "10. 10\n",
       "\n",
       "\n"
      ],
      "text/plain": [
       " [1]  1  2  3  4  5  6  7  8  9 10"
      ]
     },
     "metadata": {},
     "output_type": "display_data"
    }
   ],
   "source": [
    "seq(from = 1, to = 10, by = 1)"
   ]
  },
  {
   "cell_type": "markdown",
   "metadata": {},
   "source": [
    "\n",
    "Okay, you get the idea. Now let's say we want to select three numbers at random from the sequence of numbers from 1 to 10. To do this we will use the \"sample\" function. Before we use the sample function, I am going to create a \"vector\" (or list of numbers) called $x$ that stores the numbers from 1 to 10:"
   ]
  },
  {
   "cell_type": "code",
   "execution_count": 7,
   "metadata": {},
   "outputs": [],
   "source": [
    "x <- seq(from = 1, to = 10, by = 1)"
   ]
  },
  {
   "cell_type": "markdown",
   "metadata": {},
   "source": [
    "Let's check that $x$ really is the numbers from 1 to to 10:\n"
   ]
  },
  {
   "cell_type": "code",
   "execution_count": 8,
   "metadata": {},
   "outputs": [
    {
     "data": {
      "text/html": [
       "<ol class=list-inline>\n",
       "\t<li>1</li>\n",
       "\t<li>2</li>\n",
       "\t<li>3</li>\n",
       "\t<li>4</li>\n",
       "\t<li>5</li>\n",
       "\t<li>6</li>\n",
       "\t<li>7</li>\n",
       "\t<li>8</li>\n",
       "\t<li>9</li>\n",
       "\t<li>10</li>\n",
       "</ol>\n"
      ],
      "text/latex": [
       "\\begin{enumerate*}\n",
       "\\item 1\n",
       "\\item 2\n",
       "\\item 3\n",
       "\\item 4\n",
       "\\item 5\n",
       "\\item 6\n",
       "\\item 7\n",
       "\\item 8\n",
       "\\item 9\n",
       "\\item 10\n",
       "\\end{enumerate*}\n"
      ],
      "text/markdown": [
       "1. 1\n",
       "2. 2\n",
       "3. 3\n",
       "4. 4\n",
       "5. 5\n",
       "6. 6\n",
       "7. 7\n",
       "8. 8\n",
       "9. 9\n",
       "10. 10\n",
       "\n",
       "\n"
      ],
      "text/plain": [
       " [1]  1  2  3  4  5  6  7  8  9 10"
      ]
     },
     "metadata": {},
     "output_type": "display_data"
    }
   ],
   "source": [
    "x"
   ]
  },
  {
   "cell_type": "markdown",
   "metadata": {},
   "source": [
    "Okay, so now back to the simple random sample we want to make. We want three random numbers between 1 and 10. So remember that $x$ is the numbers between 1 and 10 and try this:"
   ]
  },
  {
   "cell_type": "code",
   "execution_count": 9,
   "metadata": {},
   "outputs": [
    {
     "data": {
      "text/html": [
       "<ol class=list-inline>\n",
       "\t<li>3</li>\n",
       "\t<li>2</li>\n",
       "\t<li>4</li>\n",
       "</ol>\n"
      ],
      "text/latex": [
       "\\begin{enumerate*}\n",
       "\\item 3\n",
       "\\item 2\n",
       "\\item 4\n",
       "\\end{enumerate*}\n"
      ],
      "text/markdown": [
       "1. 3\n",
       "2. 2\n",
       "3. 4\n",
       "\n",
       "\n"
      ],
      "text/plain": [
       "[1] 3 2 4"
      ]
     },
     "metadata": {},
     "output_type": "display_data"
    }
   ],
   "source": [
    "sample(x, 3)"
   ]
  },
  {
   "cell_type": "markdown",
   "metadata": {},
   "source": [
    "Okay, you should have gotten three random numbers between 1 and 10. Now select the cell above with the sample command and click the run button again. Question for you: Did you get the same three numbers? Please answer this question below. To answer this question, please click \"insert\", then \"insert cell below\", then once that cell has been created switch from \"code\" to \"markdown\" and answer the question. "
   ]
  },
  {
   "cell_type": "markdown",
   "metadata": {},
   "source": [
    "Let's try drawing (or making) one more simple random sample from a set of numbers. This time lets draw a simple random sample from all of the even numbers from 2 to 200. Please generate a simple random sample of ten of these numbers below, by first creating a new \"vector\" called $y$ that is a list of even numbers between 2 and 200. I have already put the code for you, you just need to run it and observe the result."
   ]
  },
  {
   "cell_type": "code",
   "execution_count": 10,
   "metadata": {},
   "outputs": [],
   "source": [
    "y <- seq(from = 2, to = 200, by = 2)"
   ]
  },
  {
   "cell_type": "code",
   "execution_count": 11,
   "metadata": {},
   "outputs": [
    {
     "data": {
      "text/html": [
       "<ol class=list-inline>\n",
       "\t<li>2</li>\n",
       "\t<li>4</li>\n",
       "\t<li>6</li>\n",
       "\t<li>8</li>\n",
       "\t<li>10</li>\n",
       "\t<li>12</li>\n",
       "\t<li>14</li>\n",
       "\t<li>16</li>\n",
       "\t<li>18</li>\n",
       "\t<li>20</li>\n",
       "\t<li>22</li>\n",
       "\t<li>24</li>\n",
       "\t<li>26</li>\n",
       "\t<li>28</li>\n",
       "\t<li>30</li>\n",
       "\t<li>32</li>\n",
       "\t<li>34</li>\n",
       "\t<li>36</li>\n",
       "\t<li>38</li>\n",
       "\t<li>40</li>\n",
       "\t<li>42</li>\n",
       "\t<li>44</li>\n",
       "\t<li>46</li>\n",
       "\t<li>48</li>\n",
       "\t<li>50</li>\n",
       "\t<li>52</li>\n",
       "\t<li>54</li>\n",
       "\t<li>56</li>\n",
       "\t<li>58</li>\n",
       "\t<li>60</li>\n",
       "\t<li>62</li>\n",
       "\t<li>64</li>\n",
       "\t<li>66</li>\n",
       "\t<li>68</li>\n",
       "\t<li>70</li>\n",
       "\t<li>72</li>\n",
       "\t<li>74</li>\n",
       "\t<li>76</li>\n",
       "\t<li>78</li>\n",
       "\t<li>80</li>\n",
       "\t<li>82</li>\n",
       "\t<li>84</li>\n",
       "\t<li>86</li>\n",
       "\t<li>88</li>\n",
       "\t<li>90</li>\n",
       "\t<li>92</li>\n",
       "\t<li>94</li>\n",
       "\t<li>96</li>\n",
       "\t<li>98</li>\n",
       "\t<li>100</li>\n",
       "\t<li>102</li>\n",
       "\t<li>104</li>\n",
       "\t<li>106</li>\n",
       "\t<li>108</li>\n",
       "\t<li>110</li>\n",
       "\t<li>112</li>\n",
       "\t<li>114</li>\n",
       "\t<li>116</li>\n",
       "\t<li>118</li>\n",
       "\t<li>120</li>\n",
       "\t<li>122</li>\n",
       "\t<li>124</li>\n",
       "\t<li>126</li>\n",
       "\t<li>128</li>\n",
       "\t<li>130</li>\n",
       "\t<li>132</li>\n",
       "\t<li>134</li>\n",
       "\t<li>136</li>\n",
       "\t<li>138</li>\n",
       "\t<li>140</li>\n",
       "\t<li>142</li>\n",
       "\t<li>144</li>\n",
       "\t<li>146</li>\n",
       "\t<li>148</li>\n",
       "\t<li>150</li>\n",
       "\t<li>152</li>\n",
       "\t<li>154</li>\n",
       "\t<li>156</li>\n",
       "\t<li>158</li>\n",
       "\t<li>160</li>\n",
       "\t<li>162</li>\n",
       "\t<li>164</li>\n",
       "\t<li>166</li>\n",
       "\t<li>168</li>\n",
       "\t<li>170</li>\n",
       "\t<li>172</li>\n",
       "\t<li>174</li>\n",
       "\t<li>176</li>\n",
       "\t<li>178</li>\n",
       "\t<li>180</li>\n",
       "\t<li>182</li>\n",
       "\t<li>184</li>\n",
       "\t<li>186</li>\n",
       "\t<li>188</li>\n",
       "\t<li>190</li>\n",
       "\t<li>192</li>\n",
       "\t<li>194</li>\n",
       "\t<li>196</li>\n",
       "\t<li>198</li>\n",
       "\t<li>200</li>\n",
       "</ol>\n"
      ],
      "text/latex": [
       "\\begin{enumerate*}\n",
       "\\item 2\n",
       "\\item 4\n",
       "\\item 6\n",
       "\\item 8\n",
       "\\item 10\n",
       "\\item 12\n",
       "\\item 14\n",
       "\\item 16\n",
       "\\item 18\n",
       "\\item 20\n",
       "\\item 22\n",
       "\\item 24\n",
       "\\item 26\n",
       "\\item 28\n",
       "\\item 30\n",
       "\\item 32\n",
       "\\item 34\n",
       "\\item 36\n",
       "\\item 38\n",
       "\\item 40\n",
       "\\item 42\n",
       "\\item 44\n",
       "\\item 46\n",
       "\\item 48\n",
       "\\item 50\n",
       "\\item 52\n",
       "\\item 54\n",
       "\\item 56\n",
       "\\item 58\n",
       "\\item 60\n",
       "\\item 62\n",
       "\\item 64\n",
       "\\item 66\n",
       "\\item 68\n",
       "\\item 70\n",
       "\\item 72\n",
       "\\item 74\n",
       "\\item 76\n",
       "\\item 78\n",
       "\\item 80\n",
       "\\item 82\n",
       "\\item 84\n",
       "\\item 86\n",
       "\\item 88\n",
       "\\item 90\n",
       "\\item 92\n",
       "\\item 94\n",
       "\\item 96\n",
       "\\item 98\n",
       "\\item 100\n",
       "\\item 102\n",
       "\\item 104\n",
       "\\item 106\n",
       "\\item 108\n",
       "\\item 110\n",
       "\\item 112\n",
       "\\item 114\n",
       "\\item 116\n",
       "\\item 118\n",
       "\\item 120\n",
       "\\item 122\n",
       "\\item 124\n",
       "\\item 126\n",
       "\\item 128\n",
       "\\item 130\n",
       "\\item 132\n",
       "\\item 134\n",
       "\\item 136\n",
       "\\item 138\n",
       "\\item 140\n",
       "\\item 142\n",
       "\\item 144\n",
       "\\item 146\n",
       "\\item 148\n",
       "\\item 150\n",
       "\\item 152\n",
       "\\item 154\n",
       "\\item 156\n",
       "\\item 158\n",
       "\\item 160\n",
       "\\item 162\n",
       "\\item 164\n",
       "\\item 166\n",
       "\\item 168\n",
       "\\item 170\n",
       "\\item 172\n",
       "\\item 174\n",
       "\\item 176\n",
       "\\item 178\n",
       "\\item 180\n",
       "\\item 182\n",
       "\\item 184\n",
       "\\item 186\n",
       "\\item 188\n",
       "\\item 190\n",
       "\\item 192\n",
       "\\item 194\n",
       "\\item 196\n",
       "\\item 198\n",
       "\\item 200\n",
       "\\end{enumerate*}\n"
      ],
      "text/markdown": [
       "1. 2\n",
       "2. 4\n",
       "3. 6\n",
       "4. 8\n",
       "5. 10\n",
       "6. 12\n",
       "7. 14\n",
       "8. 16\n",
       "9. 18\n",
       "10. 20\n",
       "11. 22\n",
       "12. 24\n",
       "13. 26\n",
       "14. 28\n",
       "15. 30\n",
       "16. 32\n",
       "17. 34\n",
       "18. 36\n",
       "19. 38\n",
       "20. 40\n",
       "21. 42\n",
       "22. 44\n",
       "23. 46\n",
       "24. 48\n",
       "25. 50\n",
       "26. 52\n",
       "27. 54\n",
       "28. 56\n",
       "29. 58\n",
       "30. 60\n",
       "31. 62\n",
       "32. 64\n",
       "33. 66\n",
       "34. 68\n",
       "35. 70\n",
       "36. 72\n",
       "37. 74\n",
       "38. 76\n",
       "39. 78\n",
       "40. 80\n",
       "41. 82\n",
       "42. 84\n",
       "43. 86\n",
       "44. 88\n",
       "45. 90\n",
       "46. 92\n",
       "47. 94\n",
       "48. 96\n",
       "49. 98\n",
       "50. 100\n",
       "51. 102\n",
       "52. 104\n",
       "53. 106\n",
       "54. 108\n",
       "55. 110\n",
       "56. 112\n",
       "57. 114\n",
       "58. 116\n",
       "59. 118\n",
       "60. 120\n",
       "61. 122\n",
       "62. 124\n",
       "63. 126\n",
       "64. 128\n",
       "65. 130\n",
       "66. 132\n",
       "67. 134\n",
       "68. 136\n",
       "69. 138\n",
       "70. 140\n",
       "71. 142\n",
       "72. 144\n",
       "73. 146\n",
       "74. 148\n",
       "75. 150\n",
       "76. 152\n",
       "77. 154\n",
       "78. 156\n",
       "79. 158\n",
       "80. 160\n",
       "81. 162\n",
       "82. 164\n",
       "83. 166\n",
       "84. 168\n",
       "85. 170\n",
       "86. 172\n",
       "87. 174\n",
       "88. 176\n",
       "89. 178\n",
       "90. 180\n",
       "91. 182\n",
       "92. 184\n",
       "93. 186\n",
       "94. 188\n",
       "95. 190\n",
       "96. 192\n",
       "97. 194\n",
       "98. 196\n",
       "99. 198\n",
       "100. 200\n",
       "\n",
       "\n"
      ],
      "text/plain": [
       "  [1]   2   4   6   8  10  12  14  16  18  20  22  24  26  28  30  32  34  36\n",
       " [19]  38  40  42  44  46  48  50  52  54  56  58  60  62  64  66  68  70  72\n",
       " [37]  74  76  78  80  82  84  86  88  90  92  94  96  98 100 102 104 106 108\n",
       " [55] 110 112 114 116 118 120 122 124 126 128 130 132 134 136 138 140 142 144\n",
       " [73] 146 148 150 152 154 156 158 160 162 164 166 168 170 172 174 176 178 180\n",
       " [91] 182 184 186 188 190 192 194 196 198 200"
      ]
     },
     "metadata": {},
     "output_type": "display_data"
    }
   ],
   "source": [
    "y"
   ]
  },
  {
   "cell_type": "code",
   "execution_count": 12,
   "metadata": {},
   "outputs": [
    {
     "data": {
      "text/html": [
       "<ol class=list-inline>\n",
       "\t<li>178</li>\n",
       "\t<li>164</li>\n",
       "\t<li>162</li>\n",
       "\t<li>142</li>\n",
       "\t<li>20</li>\n",
       "\t<li>144</li>\n",
       "\t<li>10</li>\n",
       "\t<li>6</li>\n",
       "\t<li>138</li>\n",
       "\t<li>22</li>\n",
       "</ol>\n"
      ],
      "text/latex": [
       "\\begin{enumerate*}\n",
       "\\item 178\n",
       "\\item 164\n",
       "\\item 162\n",
       "\\item 142\n",
       "\\item 20\n",
       "\\item 144\n",
       "\\item 10\n",
       "\\item 6\n",
       "\\item 138\n",
       "\\item 22\n",
       "\\end{enumerate*}\n"
      ],
      "text/markdown": [
       "1. 178\n",
       "2. 164\n",
       "3. 162\n",
       "4. 142\n",
       "5. 20\n",
       "6. 144\n",
       "7. 10\n",
       "8. 6\n",
       "9. 138\n",
       "10. 22\n",
       "\n",
       "\n"
      ],
      "text/plain": [
       " [1] 178 164 162 142  20 144  10   6 138  22"
      ]
     },
     "metadata": {},
     "output_type": "display_data"
    }
   ],
   "source": [
    "sample(y, 10)"
   ]
  },
  {
   "cell_type": "markdown",
   "metadata": {},
   "source": [
    "### Question 1.1.1)\n",
    "Okay, now it's your turn! Please generate a simple random sample of 12 numbers between 1 and 1000. To do this, first create a new \"vector\" called $z$ that is a sequence from 1 to 1000, then use the sample function to select 12 numbers from $z$. To get started click \"insert\" then \"insert new cell\", then create $z$ and sample from it."
   ]
  },
  {
   "cell_type": "markdown",
   "metadata": {},
   "source": [
    "## 1.2) Generating simple random samples from a list of other \"things\"\n",
    "We can also take a simple random sample from a list of things that aren't numbers. Assume we have a class of ten students. You want to select three of these students to give a survey to. Their names are: \"Cynthia Mack\", \"Sebastian Schultz\", \"Sid Whelan\", \"Rohaan Baldwin\", \"Isma Conroy\", \"Elvis Hodges\", \"Bob Ortega\", \"Sianna Ireland\", \"Marlon Leigh\", and\n",
    "\"Keyan Villanueva\". Okay, to select a simple random sample of three of these students we will do the following: (1) make a \"vector\" of the student names called $x2$, (2) randomly select three of the names from our \"vector\" called $x2$. Please run the code below:"
   ]
  },
  {
   "cell_type": "code",
   "execution_count": 13,
   "metadata": {},
   "outputs": [],
   "source": [
    "x2 <- c(\"Cynthia Mack\", \"Sebastian Schultz\", \"Sid Whelan\", \"Rohaan Baldwin\", \"Isma Conroy\", \"Elvis Hodges\", \"Bob Ortega\", \"Sianna Ireland\", \"Marlon Leigh\", \"Keyan Villanueva\")"
   ]
  },
  {
   "cell_type": "code",
   "execution_count": 14,
   "metadata": {},
   "outputs": [
    {
     "data": {
      "text/html": [
       "<ol class=list-inline>\n",
       "\t<li>'Cynthia Mack'</li>\n",
       "\t<li>'Sebastian Schultz'</li>\n",
       "\t<li>'Sid Whelan'</li>\n",
       "\t<li>'Rohaan Baldwin'</li>\n",
       "\t<li>'Isma Conroy'</li>\n",
       "\t<li>'Elvis Hodges'</li>\n",
       "\t<li>'Bob Ortega'</li>\n",
       "\t<li>'Sianna Ireland'</li>\n",
       "\t<li>'Marlon Leigh'</li>\n",
       "\t<li>'Keyan Villanueva'</li>\n",
       "</ol>\n"
      ],
      "text/latex": [
       "\\begin{enumerate*}\n",
       "\\item 'Cynthia Mack'\n",
       "\\item 'Sebastian Schultz'\n",
       "\\item 'Sid Whelan'\n",
       "\\item 'Rohaan Baldwin'\n",
       "\\item 'Isma Conroy'\n",
       "\\item 'Elvis Hodges'\n",
       "\\item 'Bob Ortega'\n",
       "\\item 'Sianna Ireland'\n",
       "\\item 'Marlon Leigh'\n",
       "\\item 'Keyan Villanueva'\n",
       "\\end{enumerate*}\n"
      ],
      "text/markdown": [
       "1. 'Cynthia Mack'\n",
       "2. 'Sebastian Schultz'\n",
       "3. 'Sid Whelan'\n",
       "4. 'Rohaan Baldwin'\n",
       "5. 'Isma Conroy'\n",
       "6. 'Elvis Hodges'\n",
       "7. 'Bob Ortega'\n",
       "8. 'Sianna Ireland'\n",
       "9. 'Marlon Leigh'\n",
       "10. 'Keyan Villanueva'\n",
       "\n",
       "\n"
      ],
      "text/plain": [
       " [1] \"Cynthia Mack\"      \"Sebastian Schultz\" \"Sid Whelan\"       \n",
       " [4] \"Rohaan Baldwin\"    \"Isma Conroy\"       \"Elvis Hodges\"     \n",
       " [7] \"Bob Ortega\"        \"Sianna Ireland\"    \"Marlon Leigh\"     \n",
       "[10] \"Keyan Villanueva\" "
      ]
     },
     "metadata": {},
     "output_type": "display_data"
    }
   ],
   "source": [
    "x2"
   ]
  },
  {
   "cell_type": "markdown",
   "metadata": {},
   "source": [
    "You may have noticed that we put the list of names in between parentheses with the letter \"c\" in front. This is how we save a list of objects that is a _categorical variable_. Okay, now let's make a simple random sample of three of the names."
   ]
  },
  {
   "cell_type": "code",
   "execution_count": 15,
   "metadata": {},
   "outputs": [
    {
     "data": {
      "text/html": [
       "<ol class=list-inline>\n",
       "\t<li>'Marlon Leigh'</li>\n",
       "\t<li>'Isma Conroy'</li>\n",
       "\t<li>'Elvis Hodges'</li>\n",
       "</ol>\n"
      ],
      "text/latex": [
       "\\begin{enumerate*}\n",
       "\\item 'Marlon Leigh'\n",
       "\\item 'Isma Conroy'\n",
       "\\item 'Elvis Hodges'\n",
       "\\end{enumerate*}\n"
      ],
      "text/markdown": [
       "1. 'Marlon Leigh'\n",
       "2. 'Isma Conroy'\n",
       "3. 'Elvis Hodges'\n",
       "\n",
       "\n"
      ],
      "text/plain": [
       "[1] \"Marlon Leigh\" \"Isma Conroy\"  \"Elvis Hodges\""
      ]
     },
     "metadata": {},
     "output_type": "display_data"
    }
   ],
   "source": [
    "sample(x2, 3)"
   ]
  },
  {
   "cell_type": "markdown",
   "metadata": {},
   "source": [
    "Please run the \"sample\" code above a few more times. Do you get the same list of names each time or are they different. Please answer this question below."
   ]
  },
  {
   "cell_type": "markdown",
   "metadata": {},
   "source": [
    "Okay, now let's pause. You have a new tool for generating simple random samples for your own research. It's not much more complicated to input a list of objects (say from Microsoft excel) or other data sources and then generate a simple random sample (or a stratefied random sample, or to conduct cluster sampling). "
   ]
  },
  {
   "cell_type": "markdown",
   "metadata": {},
   "source": [
    "# 2) Probability rules:\n",
    "Okay, now we are going to discuss the probability rules that we learned in lecture and work through some problems involving these rules. To do these problems, we are going to use the dataset on the passengers that were onboard the Titanic. \n",
    "\n",
    "## 2.1) The Titanic\n",
    "Below you will see some code that imports this Titanic data. Please don't worry about what it is doing right now, but please run the three cells below containing code."
   ]
  },
  {
   "cell_type": "code",
   "execution_count": 40,
   "metadata": {},
   "outputs": [],
   "source": [
    "data(Titanic)\n",
    "Titanic <- as.data.frame(Titanic)"
   ]
  },
  {
   "cell_type": "code",
   "execution_count": 41,
   "metadata": {},
   "outputs": [
    {
     "data": {
      "text/html": [
       "<table>\n",
       "<thead><tr><th scope=col>Class</th><th scope=col>Sex</th><th scope=col>Age</th><th scope=col>Survived</th><th scope=col>Freq</th></tr></thead>\n",
       "<tbody>\n",
       "\t<tr><td>1st   </td><td>Male  </td><td>Child </td><td>No    </td><td>  0   </td></tr>\n",
       "\t<tr><td>2nd   </td><td>Male  </td><td>Child </td><td>No    </td><td>  0   </td></tr>\n",
       "\t<tr><td>3rd   </td><td>Male  </td><td>Child </td><td>No    </td><td> 35   </td></tr>\n",
       "\t<tr><td>Crew  </td><td>Male  </td><td>Child </td><td>No    </td><td>  0   </td></tr>\n",
       "\t<tr><td>1st   </td><td>Female</td><td>Child </td><td>No    </td><td>  0   </td></tr>\n",
       "\t<tr><td>2nd   </td><td>Female</td><td>Child </td><td>No    </td><td>  0   </td></tr>\n",
       "\t<tr><td>3rd   </td><td>Female</td><td>Child </td><td>No    </td><td> 17   </td></tr>\n",
       "\t<tr><td>Crew  </td><td>Female</td><td>Child </td><td>No    </td><td>  0   </td></tr>\n",
       "\t<tr><td>1st   </td><td>Male  </td><td>Adult </td><td>No    </td><td>118   </td></tr>\n",
       "\t<tr><td>2nd   </td><td>Male  </td><td>Adult </td><td>No    </td><td>154   </td></tr>\n",
       "\t<tr><td>3rd   </td><td>Male  </td><td>Adult </td><td>No    </td><td>387   </td></tr>\n",
       "\t<tr><td>Crew  </td><td>Male  </td><td>Adult </td><td>No    </td><td>670   </td></tr>\n",
       "\t<tr><td>1st   </td><td>Female</td><td>Adult </td><td>No    </td><td>  4   </td></tr>\n",
       "\t<tr><td>2nd   </td><td>Female</td><td>Adult </td><td>No    </td><td> 13   </td></tr>\n",
       "\t<tr><td>3rd   </td><td>Female</td><td>Adult </td><td>No    </td><td> 89   </td></tr>\n",
       "\t<tr><td>Crew  </td><td>Female</td><td>Adult </td><td>No    </td><td>  3   </td></tr>\n",
       "\t<tr><td>1st   </td><td>Male  </td><td>Child </td><td>Yes   </td><td>  5   </td></tr>\n",
       "\t<tr><td>2nd   </td><td>Male  </td><td>Child </td><td>Yes   </td><td> 11   </td></tr>\n",
       "\t<tr><td>3rd   </td><td>Male  </td><td>Child </td><td>Yes   </td><td> 13   </td></tr>\n",
       "\t<tr><td>Crew  </td><td>Male  </td><td>Child </td><td>Yes   </td><td>  0   </td></tr>\n",
       "\t<tr><td>1st   </td><td>Female</td><td>Child </td><td>Yes   </td><td>  1   </td></tr>\n",
       "\t<tr><td>2nd   </td><td>Female</td><td>Child </td><td>Yes   </td><td> 13   </td></tr>\n",
       "\t<tr><td>3rd   </td><td>Female</td><td>Child </td><td>Yes   </td><td> 14   </td></tr>\n",
       "\t<tr><td>Crew  </td><td>Female</td><td>Child </td><td>Yes   </td><td>  0   </td></tr>\n",
       "\t<tr><td>1st   </td><td>Male  </td><td>Adult </td><td>Yes   </td><td> 57   </td></tr>\n",
       "\t<tr><td>2nd   </td><td>Male  </td><td>Adult </td><td>Yes   </td><td> 14   </td></tr>\n",
       "\t<tr><td>3rd   </td><td>Male  </td><td>Adult </td><td>Yes   </td><td> 75   </td></tr>\n",
       "\t<tr><td>Crew  </td><td>Male  </td><td>Adult </td><td>Yes   </td><td>192   </td></tr>\n",
       "\t<tr><td>1st   </td><td>Female</td><td>Adult </td><td>Yes   </td><td>140   </td></tr>\n",
       "\t<tr><td>2nd   </td><td>Female</td><td>Adult </td><td>Yes   </td><td> 80   </td></tr>\n",
       "\t<tr><td>3rd   </td><td>Female</td><td>Adult </td><td>Yes   </td><td> 76   </td></tr>\n",
       "\t<tr><td>Crew  </td><td>Female</td><td>Adult </td><td>Yes   </td><td> 20   </td></tr>\n",
       "</tbody>\n",
       "</table>\n"
      ],
      "text/latex": [
       "\\begin{tabular}{r|lllll}\n",
       " Class & Sex & Age & Survived & Freq\\\\\n",
       "\\hline\n",
       "\t 1st    & Male   & Child  & No     &   0   \\\\\n",
       "\t 2nd    & Male   & Child  & No     &   0   \\\\\n",
       "\t 3rd    & Male   & Child  & No     &  35   \\\\\n",
       "\t Crew   & Male   & Child  & No     &   0   \\\\\n",
       "\t 1st    & Female & Child  & No     &   0   \\\\\n",
       "\t 2nd    & Female & Child  & No     &   0   \\\\\n",
       "\t 3rd    & Female & Child  & No     &  17   \\\\\n",
       "\t Crew   & Female & Child  & No     &   0   \\\\\n",
       "\t 1st    & Male   & Adult  & No     & 118   \\\\\n",
       "\t 2nd    & Male   & Adult  & No     & 154   \\\\\n",
       "\t 3rd    & Male   & Adult  & No     & 387   \\\\\n",
       "\t Crew   & Male   & Adult  & No     & 670   \\\\\n",
       "\t 1st    & Female & Adult  & No     &   4   \\\\\n",
       "\t 2nd    & Female & Adult  & No     &  13   \\\\\n",
       "\t 3rd    & Female & Adult  & No     &  89   \\\\\n",
       "\t Crew   & Female & Adult  & No     &   3   \\\\\n",
       "\t 1st    & Male   & Child  & Yes    &   5   \\\\\n",
       "\t 2nd    & Male   & Child  & Yes    &  11   \\\\\n",
       "\t 3rd    & Male   & Child  & Yes    &  13   \\\\\n",
       "\t Crew   & Male   & Child  & Yes    &   0   \\\\\n",
       "\t 1st    & Female & Child  & Yes    &   1   \\\\\n",
       "\t 2nd    & Female & Child  & Yes    &  13   \\\\\n",
       "\t 3rd    & Female & Child  & Yes    &  14   \\\\\n",
       "\t Crew   & Female & Child  & Yes    &   0   \\\\\n",
       "\t 1st    & Male   & Adult  & Yes    &  57   \\\\\n",
       "\t 2nd    & Male   & Adult  & Yes    &  14   \\\\\n",
       "\t 3rd    & Male   & Adult  & Yes    &  75   \\\\\n",
       "\t Crew   & Male   & Adult  & Yes    & 192   \\\\\n",
       "\t 1st    & Female & Adult  & Yes    & 140   \\\\\n",
       "\t 2nd    & Female & Adult  & Yes    &  80   \\\\\n",
       "\t 3rd    & Female & Adult  & Yes    &  76   \\\\\n",
       "\t Crew   & Female & Adult  & Yes    &  20   \\\\\n",
       "\\end{tabular}\n"
      ],
      "text/markdown": [
       "\n",
       "| Class | Sex | Age | Survived | Freq |\n",
       "|---|---|---|---|---|\n",
       "| 1st    | Male   | Child  | No     |   0    |\n",
       "| 2nd    | Male   | Child  | No     |   0    |\n",
       "| 3rd    | Male   | Child  | No     |  35    |\n",
       "| Crew   | Male   | Child  | No     |   0    |\n",
       "| 1st    | Female | Child  | No     |   0    |\n",
       "| 2nd    | Female | Child  | No     |   0    |\n",
       "| 3rd    | Female | Child  | No     |  17    |\n",
       "| Crew   | Female | Child  | No     |   0    |\n",
       "| 1st    | Male   | Adult  | No     | 118    |\n",
       "| 2nd    | Male   | Adult  | No     | 154    |\n",
       "| 3rd    | Male   | Adult  | No     | 387    |\n",
       "| Crew   | Male   | Adult  | No     | 670    |\n",
       "| 1st    | Female | Adult  | No     |   4    |\n",
       "| 2nd    | Female | Adult  | No     |  13    |\n",
       "| 3rd    | Female | Adult  | No     |  89    |\n",
       "| Crew   | Female | Adult  | No     |   3    |\n",
       "| 1st    | Male   | Child  | Yes    |   5    |\n",
       "| 2nd    | Male   | Child  | Yes    |  11    |\n",
       "| 3rd    | Male   | Child  | Yes    |  13    |\n",
       "| Crew   | Male   | Child  | Yes    |   0    |\n",
       "| 1st    | Female | Child  | Yes    |   1    |\n",
       "| 2nd    | Female | Child  | Yes    |  13    |\n",
       "| 3rd    | Female | Child  | Yes    |  14    |\n",
       "| Crew   | Female | Child  | Yes    |   0    |\n",
       "| 1st    | Male   | Adult  | Yes    |  57    |\n",
       "| 2nd    | Male   | Adult  | Yes    |  14    |\n",
       "| 3rd    | Male   | Adult  | Yes    |  75    |\n",
       "| Crew   | Male   | Adult  | Yes    | 192    |\n",
       "| 1st    | Female | Adult  | Yes    | 140    |\n",
       "| 2nd    | Female | Adult  | Yes    |  80    |\n",
       "| 3rd    | Female | Adult  | Yes    |  76    |\n",
       "| Crew   | Female | Adult  | Yes    |  20    |\n",
       "\n"
      ],
      "text/plain": [
       "   Class Sex    Age   Survived Freq\n",
       "1  1st   Male   Child No         0 \n",
       "2  2nd   Male   Child No         0 \n",
       "3  3rd   Male   Child No        35 \n",
       "4  Crew  Male   Child No         0 \n",
       "5  1st   Female Child No         0 \n",
       "6  2nd   Female Child No         0 \n",
       "7  3rd   Female Child No        17 \n",
       "8  Crew  Female Child No         0 \n",
       "9  1st   Male   Adult No       118 \n",
       "10 2nd   Male   Adult No       154 \n",
       "11 3rd   Male   Adult No       387 \n",
       "12 Crew  Male   Adult No       670 \n",
       "13 1st   Female Adult No         4 \n",
       "14 2nd   Female Adult No        13 \n",
       "15 3rd   Female Adult No        89 \n",
       "16 Crew  Female Adult No         3 \n",
       "17 1st   Male   Child Yes        5 \n",
       "18 2nd   Male   Child Yes       11 \n",
       "19 3rd   Male   Child Yes       13 \n",
       "20 Crew  Male   Child Yes        0 \n",
       "21 1st   Female Child Yes        1 \n",
       "22 2nd   Female Child Yes       13 \n",
       "23 3rd   Female Child Yes       14 \n",
       "24 Crew  Female Child Yes        0 \n",
       "25 1st   Male   Adult Yes       57 \n",
       "26 2nd   Male   Adult Yes       14 \n",
       "27 3rd   Male   Adult Yes       75 \n",
       "28 Crew  Male   Adult Yes      192 \n",
       "29 1st   Female Adult Yes      140 \n",
       "30 2nd   Female Adult Yes       80 \n",
       "31 3rd   Female Adult Yes       76 \n",
       "32 Crew  Female Adult Yes       20 "
      ]
     },
     "metadata": {},
     "output_type": "display_data"
    }
   ],
   "source": [
    "Titanic"
   ]
  },
  {
   "cell_type": "markdown",
   "metadata": {},
   "source": [
    "After running the last line of code you should see a frequency table of the passengers that were on board the Titanic, along with the variables \"Class\", \"Sex\", \"Age\" (whether the passenger survived), and \"Freq\" (short for \"Frequency\"). Below, I have included some complicating looking code to make a barplot. Please don't worry about the code, but let's focus on the barplot and answer a few questions below."
   ]
  },
  {
   "cell_type": "code",
   "execution_count": 42,
   "metadata": {},
   "outputs": [
    {
     "data": {
      "image/png": "[encoded data removed]",
      "text/plain": [
       "plot without title"
      ]
     },
     "metadata": {},
     "output_type": "display_data"
    }
   ],
   "source": [
    "library(tidyverse)\n",
    "ggplot(Titanic, aes(x = Sex, y = Freq, fill = Survived)) + geom_bar(stat = \"identity\", position = \"dodge\") + theme_bw()"
   ]
  },
  {
   "cell_type": "markdown",
   "metadata": {},
   "source": [
    "### Question 2.1.1) \n",
    "Given the barplot above, do you think that females were more likely to survive the sinking of the Titanic than males? Please explain your answer. Please answer the question below (rember to insert a new cell, switch from code to markdown, and type your answer). "
   ]
  },
  {
   "cell_type": "markdown",
   "metadata": {},
   "source": [
    "Okay now, let's determine the probability that a given male on board the Titanic survived and the probability that a given female survived. "
   ]
  },
  {
   "cell_type": "code",
   "execution_count": 46,
   "metadata": {},
   "outputs": [
    {
     "data": {
      "text/html": [
       "<table>\n",
       "<thead><tr><th scope=col>Sex</th><th scope=col>Survived</th><th scope=col>Frequencey</th></tr></thead>\n",
       "<tbody>\n",
       "\t<tr><td>Male  </td><td>No    </td><td>1364  </td></tr>\n",
       "\t<tr><td>Male  </td><td>Yes   </td><td> 367  </td></tr>\n",
       "\t<tr><td>Female</td><td>No    </td><td> 126  </td></tr>\n",
       "\t<tr><td>Female</td><td>Yes   </td><td> 344  </td></tr>\n",
       "</tbody>\n",
       "</table>\n"
      ],
      "text/latex": [
       "\\begin{tabular}{r|lll}\n",
       " Sex & Survived & Frequencey\\\\\n",
       "\\hline\n",
       "\t Male   & No     & 1364  \\\\\n",
       "\t Male   & Yes    &  367  \\\\\n",
       "\t Female & No     &  126  \\\\\n",
       "\t Female & Yes    &  344  \\\\\n",
       "\\end{tabular}\n"
      ],
      "text/markdown": [
       "\n",
       "| Sex | Survived | Frequencey |\n",
       "|---|---|---|\n",
       "| Male   | No     | 1364   |\n",
       "| Male   | Yes    |  367   |\n",
       "| Female | No     |  126   |\n",
       "| Female | Yes    |  344   |\n",
       "\n"
      ],
      "text/plain": [
       "  Sex    Survived Frequencey\n",
       "1 Male   No       1364      \n",
       "2 Male   Yes       367      \n",
       "3 Female No        126      \n",
       "4 Female Yes       344      "
      ]
     },
     "metadata": {},
     "output_type": "display_data"
    }
   ],
   "source": [
    "Titanic %>% group_by(Sex, Survived) %>% summarize(Frequencey = sum(Freq))"
   ]
  }
 ],
 "metadata": {
  "kernelspec": {
   "display_name": "R",
   "language": "R",
   "name": "ir"
  },
  "language_info": {
   "codemirror_mode": "r",
   "file_extension": ".r",
   "mimetype": "text/x-r-source",
   "name": "R",
   "pygments_lexer": "r",
   "version": "3.6.1"
  }
 },
 "nbformat": 4,
 "nbformat_minor": 2
}
