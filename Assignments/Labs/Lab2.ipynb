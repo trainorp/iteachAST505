{
 "cells": [
  {
   "cell_type": "markdown",
   "metadata": {},
   "source": [
    "# 0) Instructions:\n",
    "Please complete the workbook below. Some of the calculations are already ready to be \"run\". However, please read the text carefully to find questions that you should answer for credit. Remember that to answer a question in text, you click \"insert\", then \"insert cell below\", switch the input from \"code\" to \"markdown\", type your answer, and finally click the run button to set your text in stone. In a few questions, you will need to do some calculations on your own. Hint: for these calculations you can copy, paste, and modify code that is above the calculation that you need to do. You may work by yourself or in groups of 2. Please remember to put your name on top, remember to save the workbook, and remember to upload to Canvas."
   ]
  },
  {
   "cell_type": "markdown",
   "metadata": {},
   "source": [
    "# 1) Generating random numbers & generating simple random samples\n",
    "## 1.1) Generating random numbers:\n",
    "The R language has functions for generating random numbers. These random number generating functions are usefull for many things. If you need to do simple random sampling (or more complex sampling) in your own research, you can use these functions easily. Okay before we talk about generating random numbers let's talk about sequences (again). Remember from Lab 1 that we used the \"seq\" function to generate sequences of numbers. For example, take a look at what the following gives you:"
   ]
  },
  {
   "cell_type": "code",
   "execution_count": null,
   "metadata": {},
   "outputs": [],
   "source": [
    "seq(from = 2, to = 20, by = 2)"
   ]
  },
  {
   "cell_type": "markdown",
   "metadata": {},
   "source": [
    "And also take a look at this:\n"
   ]
  },
  {
   "cell_type": "code",
   "execution_count": null,
   "metadata": {},
   "outputs": [],
   "source": [
    "seq(from = 1, to = 10, by = 1)"
   ]
  },
  {
   "cell_type": "markdown",
   "metadata": {},
   "source": [
    "\n",
    "Okay, you get the idea. Now let's say we want to select three numbers at random from the sequence of numbers from 1 to 10. To do this we will use the \"sample\" function. Before we use the sample function, I am going to create a \"vector\" (or list of numbers) called $x$ that stores the numbers from 1 to 10:"
   ]
  },
  {
   "cell_type": "code",
   "execution_count": null,
   "metadata": {},
   "outputs": [],
   "source": [
    "x <- seq(from = 1, to = 10, by = 1)"
   ]
  },
  {
   "cell_type": "markdown",
   "metadata": {},
   "source": [
    "Let's check that $x$ really is the numbers from 1 to 10:\n"
   ]
  },
  {
   "cell_type": "code",
   "execution_count": null,
   "metadata": {},
   "outputs": [],
   "source": [
    "x"
   ]
  },
  {
   "cell_type": "markdown",
   "metadata": {},
   "source": [
    "Okay, so now back to the simple random sample we want to make. We want three random numbers between 1 and 10. So remember that $x$ is the numbers between 1 and 10 and try this:"
   ]
  },
  {
   "cell_type": "code",
   "execution_count": null,
   "metadata": {},
   "outputs": [],
   "source": [
    "sample(x, 3)"
   ]
  },
  {
   "cell_type": "markdown",
   "metadata": {},
   "source": [
    "Okay, you should have gotten three random numbers between 1 and 10. Now select the cell above with the sample command and click the run button again. Question for you: Did you get the same three numbers? Please answer this question below. To answer this question, please click \"insert\", then \"insert cell below\", then once that cell has been created switch from \"code\" to \"markdown\" and answer the question. "
   ]
  },
  {
   "cell_type": "markdown",
   "metadata": {},
   "source": [
    "Let's try drawing (or making) one more simple random sample from a set of numbers. This time lets draw a simple random sample from all of the even numbers from 2 to 200. Please generate a simple random sample of ten of these numbers below, by first creating a new \"vector\" called $y$ that is a list of even numbers between 2 and 200. I have already put the code for you, you just need to run it and observe the result."
   ]
  },
  {
   "cell_type": "code",
   "execution_count": null,
   "metadata": {},
   "outputs": [],
   "source": [
    "y <- seq(from = 2, to = 200, by = 2)"
   ]
  },
  {
   "cell_type": "code",
   "execution_count": null,
   "metadata": {},
   "outputs": [],
   "source": [
    "y"
   ]
  },
  {
   "cell_type": "code",
   "execution_count": null,
   "metadata": {},
   "outputs": [],
   "source": [
    "sample(y, 10)"
   ]
  },
  {
   "cell_type": "markdown",
   "metadata": {},
   "source": [
    "### Question 1.1.1)\n",
    "Okay, now it's your turn! Please generate a simple random sample of 12 numbers between 1 and 1000. To do this, first create a new \"vector\" called $z$ that is a sequence from 1 to 1000, then use the sample function to select 12 numbers from $z$. To get started click \"insert\" then \"insert new cell\", then create $z$ and sample from it. Each of these cells should be \"code\" not markdown. Copying, pasting, and modifying calculations from above may help. Please make sure each calculation is in it's own cell (do not put two calculations in one cell)."
   ]
  },
  {
   "cell_type": "markdown",
   "metadata": {},
   "source": [
    "## 1.2) Generating simple random samples from a list of other \"things\"\n",
    "We can also take a simple random sample from a list of things that aren't numbers. Assume we have a class of ten students. You want to select three of these students to give a survey to. Their names are: \"Cynthia Mack\", \"Sebastian Schultz\", \"Sid Whelan\", \"Rohaan Baldwin\", \"Isma Conroy\", \"Elvis Hodges\", \"Bob Ortega\", \"Sianna Ireland\", \"Marlon Leigh\", and\n",
    "\"Keyan Villanueva\". Okay, to select a simple random sample of three of these students we will do the following: (1) make a \"vector\" of the student names called $x2$, (2) randomly select three of the names from our \"vector\" called $x2$. Please run the code below:"
   ]
  },
  {
   "cell_type": "code",
   "execution_count": null,
   "metadata": {},
   "outputs": [],
   "source": [
    "x2 <- c(\"Cynthia Mack\", \"Sebastian Schultz\", \"Sid Whelan\", \"Rohaan Baldwin\", \"Isma Conroy\", \"Elvis Hodges\", \"Bob Ortega\", \"Sianna Ireland\", \"Marlon Leigh\", \"Keyan Villanueva\")"
   ]
  },
  {
   "cell_type": "code",
   "execution_count": null,
   "metadata": {},
   "outputs": [],
   "source": [
    "x2"
   ]
  },
  {
   "cell_type": "markdown",
   "metadata": {},
   "source": [
    "You may have noticed that we put the list of names in between parentheses with the letter \"c\" in front. This is how we save a list of objects that is a _categorical variable_. Okay, now let's make a simple random sample of three of the names."
   ]
  },
  {
   "cell_type": "code",
   "execution_count": null,
   "metadata": {},
   "outputs": [],
   "source": [
    "sample(x2, 3)"
   ]
  },
  {
   "cell_type": "markdown",
   "metadata": {},
   "source": [
    "Please run the \"sample\" code above a few more times. **Question for you**: Do you get the same list of names each time or are they different? Please answer this question below (insert new cell, change to markdown, and type and set your response)."
   ]
  },
  {
   "cell_type": "markdown",
   "metadata": {},
   "source": [
    "Okay, now let's pause. You have a new tool for generating simple random samples for your own research. It's not much more complicated to input a list of objects (say from Microsoft excel) or other data sources and then generate a simple random sample (or a stratefied random sample, or to conduct cluster sampling). "
   ]
  },
  {
   "cell_type": "markdown",
   "metadata": {},
   "source": [
    "# 2) Probability rules:\n",
    "Okay, now we are going to discuss the probability rules that we learned in lecture and work through some problems involving these rules. To do these problems, we are going to use the dataset on the passengers that were onboard the Titanic. \n",
    "\n",
    "## 2.1) The Titanic Data\n",
    "Below you will see some code that imports this Titanic data. Please don't worry about what it is doing right now, but please run the two cells below containing code."
   ]
  },
  {
   "cell_type": "code",
   "execution_count": null,
   "metadata": {},
   "outputs": [],
   "source": [
    "data(Titanic)\n",
    "Titanic <- as.data.frame(Titanic)"
   ]
  },
  {
   "cell_type": "code",
   "execution_count": null,
   "metadata": {},
   "outputs": [],
   "source": [
    "Titanic"
   ]
  },
  {
   "cell_type": "markdown",
   "metadata": {},
   "source": [
    "After running the last line of code you should see a frequency table of the passengers that were on board the Titanic, along with the variables \"Class\", \"Sex\", \"Age\", \"Survived\" (whether the passenger survived), and \"Freq\" (short for \"Frequency\"). Below, I have included some complicated looking code to make a barplot. Please don't worry about the code, but let's focus on the barplot and answer a few questions below."
   ]
  },
  {
   "cell_type": "code",
   "execution_count": null,
   "metadata": {},
   "outputs": [],
   "source": [
    "library(tidyverse)\n",
    "ggplot(Titanic, aes(x = Sex, weight = Freq, fill = Survived)) + geom_bar(position = \"dodge\") + theme_bw()"
   ]
  },
  {
   "cell_type": "markdown",
   "metadata": {},
   "source": [
    "## 2.2) Question\n",
    "**Question for you** Given the barplot above, do you think that females were more likely to survive the sinking of the Titanic than males? Please explain your answer. Please answer the question below (rember to insert a new cell, switch from code to markdown, and type your answer). "
   ]
  },
  {
   "cell_type": "markdown",
   "metadata": {},
   "source": [
    "Okay now, let's look at the frequency table showing how many males on board the Titanic survived and how many females survived. "
   ]
  },
  {
   "cell_type": "code",
   "execution_count": null,
   "metadata": {},
   "outputs": [],
   "source": [
    "Titanic %>% group_by(Sex, Survived) %>% summarize(Frequencey = sum(Freq))"
   ]
  },
  {
   "cell_type": "markdown",
   "metadata": {},
   "source": [
    "Let's remember the definition of the probability of an event $E$. We have that: $P(E) = \\frac{N_E}{N}$, where $N_E$ is the number of outcomes that comprise an event and $N$ is the total number of outcomes. Using the table above and the code below, we can calculate the probability that a given passenger was a male:"
   ]
  },
  {
   "cell_type": "code",
   "execution_count": null,
   "metadata": {},
   "outputs": [],
   "source": [
    "(1364 + 367) / (1364 + 367 + 126 + 344)"
   ]
  },
  {
   "cell_type": "markdown",
   "metadata": {},
   "source": [
    "Now please calculate the probability a given passenger was a female using the same process (insert cell below and make a similar calculation in \"code\"). "
   ]
  },
  {
   "cell_type": "markdown",
   "metadata": {},
   "source": [
    "## 2.3) Question: On the intersection of two events\n",
    "Remember that the intersection of two events $A$ and $B$, is the set of all ourcomes that are included in both $A$ and $B$. We denote the probability of the intersection of $A$ and $B$ as: $P(A \\cap B)$. Let's calculate the probability that a passenger survived $A$ and that a given passenger is a male $B$. Please run the two cells of code below to calculate the probability of the instersection of these events."
   ]
  },
  {
   "cell_type": "code",
   "execution_count": null,
   "metadata": {},
   "outputs": [],
   "source": [
    "Titanic %>% group_by(Sex, Survived) %>% summarize(Frequencey = sum(Freq))"
   ]
  },
  {
   "cell_type": "code",
   "execution_count": null,
   "metadata": {},
   "outputs": [],
   "source": [
    "367 / (367 + 1364 + 126 + 344)"
   ]
  },
  {
   "cell_type": "markdown",
   "metadata": {},
   "source": [
    "So there is a 16.7% chance that a given passenger survived the sinking of the Titanic and is a male. Now please calculate the probability a given passenger survived and is female using the same process (insert cell below and make a similar calculation in \"code\"). "
   ]
  },
  {
   "cell_type": "markdown",
   "metadata": {},
   "source": [
    "## 2.4) Question: On the union of two events\n",
    "Recall that the union of two events $A$ and $B$, are the set of all outcomes that are either in $A$ or $B$. To calculate the probability of the union of two events we can use the following equation: $P(A \\cup B) = P(A) + P(B) - P(A\\cap B)$. Let's use this formula to calculate the probability that a given passenger was either male or did survive. Let's call the event that a given passenger is a male $A$ and the event that a given passenger survived $B$. Please run the next two code cells below."
   ]
  },
  {
   "cell_type": "code",
   "execution_count": null,
   "metadata": {},
   "outputs": [],
   "source": [
    "Titanic %>% group_by(Sex, Survived) %>% summarize(Frequencey = sum(Freq))"
   ]
  },
  {
   "cell_type": "code",
   "execution_count": null,
   "metadata": {},
   "outputs": [],
   "source": [
    "(1364 + 367) / (1364 + 367 + 126 + 344) + (367 + 344) / (1364 + 367 + 126 + 344) - 367 / (1364 + 367 + 126 + 344)"
   ]
  },
  {
   "cell_type": "markdown",
   "metadata": {},
   "source": [
    "In the above calculation, what does (367 + 344) / (1364 + 367 + 126 + 344) represent? Please answer this question below."
   ]
  },
  {
   "cell_type": "markdown",
   "metadata": {},
   "source": [
    "Now, following the same process we used above, what is the probability that a given passenger was a female or survived? Remember to insert a cell below, type the calculation as code, and click run."
   ]
  },
  {
   "cell_type": "markdown",
   "metadata": {},
   "source": [
    "## 2.5) Question: Conditional probabilities\n",
    "Now let's look at the probability that passengers survived given their ticket type (first class, second class, third class, crew). The frequency table below will show you the data."
   ]
  },
  {
   "cell_type": "code",
   "execution_count": null,
   "metadata": {},
   "outputs": [],
   "source": [
    "Titanic %>% group_by(Class, Survived) %>% summarize(Frequencey = sum(Freq))"
   ]
  },
  {
   "cell_type": "markdown",
   "metadata": {},
   "source": [
    "Now, let $A$ be the event that a given passenger did not survive and let $B$ be the event that a given passenger is a second class passenger. We represent the probability a passenger did not survive given they were a second class passenger as $P(A|B)$. To find this probability we can use the formula: $P(A|B) = \\frac{P(A \\cap B)}{P(B)}$. Below, is the probability  $P(A \\cap B)$:"
   ]
  },
  {
   "cell_type": "code",
   "execution_count": null,
   "metadata": {},
   "outputs": [],
   "source": [
    "167 / 2201"
   ]
  },
  {
   "cell_type": "markdown",
   "metadata": {},
   "source": [
    "And below is the probability $P(B)$:"
   ]
  },
  {
   "cell_type": "code",
   "execution_count": null,
   "metadata": {},
   "outputs": [],
   "source": [
    "(167 + 118) / 2201"
   ]
  },
  {
   "cell_type": "markdown",
   "metadata": {},
   "source": [
    "Putting this together we have $P(A|B) = \\frac{P(A \\cap B)}{P(B)}$:"
   ]
  },
  {
   "cell_type": "code",
   "execution_count": null,
   "metadata": {},
   "outputs": [],
   "source": [
    "(167 / 2201) / ((167 + 118) / 2201)"
   ]
  },
  {
   "cell_type": "markdown",
   "metadata": {},
   "source": [
    "Did most second class passengers survive the sinking of the Titanic? Please answer this question below using a sentence. (Remeber to insert new cell, change to markdown, type your response, and set the text)."
   ]
  },
  {
   "cell_type": "markdown",
   "metadata": {},
   "source": [
    "Now please determine the probability that passengers did not survive for the remaining classes (1st class, 3rd class, and Crew). Please use \"code\" below to determine these probabilities. For each calculation you will need to insert a separate \"code\" cell for each equation. If you have two equations in one code cell you will only see the result of the second result when you click the run button."
   ]
  },
  {
   "cell_type": "markdown",
   "metadata": {},
   "source": [
    "## 2.6) A barplot to go along with the last question\n",
    "Let's make a barplot to go along with the last question. Please run the code below."
   ]
  },
  {
   "cell_type": "code",
   "execution_count": null,
   "metadata": {},
   "outputs": [],
   "source": [
    "ggplot(Titanic, aes(x = Class, weight = Freq, fill = Survived)) + geom_bar(position = \"dodge\") + theme_bw()"
   ]
  },
  {
   "cell_type": "markdown",
   "metadata": {},
   "source": [
    "Do the conditional probabilities you computed in question 2.1.4 make sense given the barplot? Please answer below."
   ]
  },
  {
   "cell_type": "markdown",
   "metadata": {},
   "source": [
    "## 2.7) Question: On mutually exclusive events\n",
    "Mutually exclusive events. Please explain what it means for two events to be mutually exclusive by inserting a text cell below and typing a sentence."
   ]
  },
  {
   "cell_type": "markdown",
   "metadata": {},
   "source": [
    "Remember that if two events, say $A$ and $B$, are mutually exclusive then the probability that either event happens is: $P(A \\text{ or } B) = P(A) + P(B)$. Using this fact and equation we can calculate the probability that a given passenger was either first class or a second class passenger. Let's call the event that a passenger is a first class passenger $A$ and let's call the event that a given passenger is a second class passenger $B$. Please run the next two cells of code below to see the calculation to find the probability that a given passenger is either a first class or second class passenger. "
   ]
  },
  {
   "cell_type": "code",
   "execution_count": null,
   "metadata": {},
   "outputs": [],
   "source": [
    "Titanic %>% group_by(Class) %>% summarize(Frequencey = sum(Freq))"
   ]
  },
  {
   "cell_type": "code",
   "execution_count": null,
   "metadata": {},
   "outputs": [],
   "source": [
    "(325 / (325 + 285 + 706 + 885)) + (285 / (325 + 285 + 706 + 885)) "
   ]
  },
  {
   "cell_type": "markdown",
   "metadata": {},
   "source": [
    "In the above calculation, what does 325 / (325 + 285 + 706 + 885) represent? Please answer this question by inserting a cell, changing the input to \"markdown\" and typing your answer."
   ]
  },
  {
   "cell_type": "markdown",
   "metadata": {},
   "source": [
    "Now, using a similar calculation as the calculation above, calculate the probability that a given passenger was either 3rd class or Crew. Copying, pasting, and modifying the calculation above may help. Remember that to do a calculation you need to insert a new cell, make sure the input is \"code\" and then type and run the calculation."
   ]
  },
  {
   "cell_type": "markdown",
   "metadata": {},
   "source": [
    "# 3) Bayes' Formula\n",
    "A company tells the State of New Mexico's Parole Board that they have created a test that predicts whether a prison inmate will reoffend (commit a crime again) if granted early parole. Based on the inmate's answers to a standardized test, the inmates demographics (excluding race), and characteristics of their crime, the test result will be either $B$ = \"High Risk\" or $B^C$ = \"Low risk\". The company claims that the test is highly accurate. As evidence of this the company says that in a preliminary study of 5,000 inmates granted parole, 95\\% of the 1,000 inmates who reoffended had a test result of $B$ = \"High Risk\". The company also mentions that exactly half of the inmates had a test result of $B$ = \"High Risk\" and half had a test result of $B^C$ = \"Low risk\".\n",
    "\n",
    "## 3.1)\n",
    "First, using Bayes formula, $P(A|B) = \\frac{P(B|A)P(A)}{P(B)}$, find the probability that an inmate with a test result of $B$ = \"High Risk\" will reoffend. Please do the calculations by inserting new code cell(s) below."
   ]
  },
  {
   "cell_type": "markdown",
   "metadata": {},
   "source": [
    "## 3.2) \n",
    "Given your result from 3.1, do you think that the test is \"highly accurate\" as the company claims? Please explain your thoughts with a sentence or two (insert new cell below, change to markdown, and type your thoughts). "
   ]
  }
 ],
 "metadata": {
  "kernelspec": {
   "display_name": "R",
   "language": "R",
   "name": "ir"
  },
  "language_info": {
   "codemirror_mode": "r",
   "file_extension": ".r",
   "mimetype": "text/x-r-source",
   "name": "R",
   "pygments_lexer": "r",
   "version": "3.6.1"
  }
 },
 "nbformat": 4,
 "nbformat_minor": 2
}
