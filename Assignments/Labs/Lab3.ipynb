{
 "cells": [
  {
   "cell_type": "markdown",
   "metadata": {},
   "source": [
    "# 0) Instructions:\n",
    "Please complete the workbook below. Some of the calculations are already ready to be \"run\". However, please read the text carefully to find questions that you should answer for credit. Remember that to answer a question in text, you click \"insert\", then \"insert cell below\", switch the input from \"code\" to \"markdown\", type your answer, and finally click the run button to set your text in stone. In a few questions, you will need to do some calculations on your own. Hint: for these calculations you can copy, paste, and modify code that is above the calculation that you need to do. You may work by yourself or in groups of 2. Please remember to put your name on top, remember to save the workbook, and remember to upload to Canvas."
   ]
  },
  {
   "cell_type": "markdown",
   "metadata": {},
   "source": [
    "# 1) The binomial distribution:\n",
    "The first probability distribution that we discussed in lecture was the Binomial distribution. This distribution has the following probability distribution function:\n",
    "$P(y) = \\frac{n!}{y!(n-y)!} \\pi^y (1-\\pi)^{n-y}$, where $n$ is the number of trials, $\\pi$ is the probability of success on a single trial, $1-\\pi$ is the probability of failure on a single trial, $y$ is the number of successes in $n$ trials and $n! = n \\times (n-1) \\times (n-2) \\times ... \\times 3 \\times 2 \\times 1$.\n",
    "\n",
    "## 1.1) Example: \n",
    "Let's work on the problem 4.6 from the textbook as an example. It says: *Suppose an economics examination has 25 true-or-false questions and a passing grade is obtained with 17 or more correct answers. A student answers the 25 questions by flipping a fair coin and answering true if the coin shows a head and false if it shows a tail. Using the classical interpretation of probability, what is the chance the student will pass the exam?*.\n",
    "\n",
    "This problem has $\\pi = 0.5$ and $n = 25$. We want to know $P(Y \\geq 17)$, which is the probability of having 17 or more correct answers (successes) out of the 25 questions (trials).\n",
    "\n",
    "The probability of having 17 or more successes out of 25 trials is: $P(Y \\geq 17) = P(y = 17) + P(y = 18) + P(y = 19) + P(y = 20) + P(y = 21) + P(y = 21) + P(y = 22) + P(y = 23) + P(y = 24) + P(y = 25)$. If you do not understand why this is please stop here, think about it, discuss it, or ask about it.\n",
    "\n",
    "Lets use the bionomial formula to figure out the probability of getting exactly 20 questions right, that is: $P(y = 20)$. Below you will see the formula with the values plugged in and then code for the same. Note that $x!$ in code is \"factorial(x)\"."
   ]
  },
  {
   "cell_type": "markdown",
   "metadata": {},
   "source": [
    "$p(y = 20) = \\frac{25!}{20!(25-20)!} 0.5^{20} (1-0.5)^{25-20}$"
   ]
  },
  {
   "cell_type": "code",
   "execution_count": null,
   "metadata": {},
   "outputs": [],
   "source": [
    "(factorial(25) / (factorial(20) * factorial(25-20))) * (0.50^20) * (1 - 0.5)^(25-20)"
   ]
  },
  {
   "cell_type": "markdown",
   "metadata": {},
   "source": [
    "So $P(y = 20) = 0.0015834$"
   ]
  },
  {
   "cell_type": "markdown",
   "metadata": {},
   "source": [
    "**Question for you!** What is the probability of getting exactly 21 questions right? Please insert a new code cell below, and repeat the same calculation that was just done (copy, paste, and modify)."
   ]
  },
  {
   "cell_type": "markdown",
   "metadata": {},
   "source": [
    "Now, rather than using those ugly formulas, we can use R code. Take a look at the code below:"
   ]
  },
  {
   "cell_type": "code",
   "execution_count": null,
   "metadata": {},
   "outputs": [],
   "source": [
    "dbinom(20, 25, .50)"
   ]
  },
  {
   "cell_type": "markdown",
   "metadata": {},
   "source": [
    "Does this number look farmiliar? That's right, it is $P(y = 20)$ given that $n = 25$ and $\\pi = .50$. \"dbinom\" is a way of asking for the probability density function for a bionmial distribution."
   ]
  },
  {
   "cell_type": "markdown",
   "metadata": {},
   "source": [
    "**Question for you!** Please calculate the probability of getting exactly 21 questions right using the \"dbinom\" code as was just done. Remeber to add a new code cell below, then copy, paste, and modify."
   ]
  },
  {
   "cell_type": "markdown",
   "metadata": {},
   "source": [
    "Okay, so now to calculate $P(Y \\geq 17) = P(y = 17) + P(y = 18) + P(y = 19) + P(y = 20) + P(y = 21) + P(y = 21) + P(y = 22) + P(y = 23) + P(y = 24) + P(y = 25)$. We could calculate this as follows (please scroll):"
   ]
  },
  {
   "cell_type": "code",
   "execution_count": null,
   "metadata": {},
   "outputs": [],
   "source": [
    "dbinom(17, 25, .50) + dbinom(18, 25, .50) + dbinom(19, 25, .50) + dbinom(20, 25, .50) + dbinom(21, 25, .50) + dbinom(22, 25, .50) + dbinom(23, 25, .50) + dbinom(24, 25, .50) + dbinom(25, 25, .50)"
   ]
  },
  {
   "cell_type": "markdown",
   "metadata": {},
   "source": [
    "Okay so we have calculated $P(y \\geq 17)$, which in our case is the probability of getting at least 17 questions right on the exam with 25 questions on it. This is the probability of the student passing by flipping a coin to answer each question."
   ]
  },
  {
   "cell_type": "markdown",
   "metadata": {},
   "source": [
    "There is another \"code\" that makes our life easier when working with binomial probabilities. To calculate $P(Y \\geq 17)$ we can do this:"
   ]
  },
  {
   "cell_type": "code",
   "execution_count": null,
   "metadata": {},
   "outputs": [],
   "source": [
    "pbinom(16, 25, 0.50, lower.tail = FALSE)"
   ]
  },
  {
   "cell_type": "markdown",
   "metadata": {},
   "source": [
    "Above, we see that we used the \"pbinom\" code to calculate $P(Y \\geq 17)$, given $\\pi = 0.50$ and $n = 25$. A few things to note: \"lower.tail = FALSE\" means that we are looking for $P(Y > a)$, where $a$ is some number. If we said \"lower.tail = TRUE\", that would mean that we were looking for $P(Y < a)$. Now, you notice that rather than using 17, we used 16 in our \"pbinom\" command. This is because this command is computing $P(Y > a)$ instead of $P(Y \\geq a)$. We use the fact that $P(Y > 16) = P(Y \\geq 17)$. If you don't understand why this is please stop, think about it, talk about it, or ask about it."
   ]
  },
  {
   "cell_type": "markdown",
   "metadata": {},
   "source": [
    "## 1.2) Problem:\n",
    "Suppose a statistics exam has 10 multiple choice questions (with options {a, b, c, and d}) and a passing grade is obtained with 7 or more correct answers. A student answers the 10 questions by flipping two fair coins and answering \"a\" if the student gets (Heads, Heads) on the coin tosses, \"b\" if the student gets (Heads, Tails), \"c\" if the student gets (Tails, Heads), and \"d\" if the student gets (Tails, Tails). Using the classical interpretation of probability, what is the chance the student will pass the exam? Answer this problem by inserting new cells below this one (not above!). Please use the \"dbinom\" or \"pbinom\" codes as you have seen above. Remember to switch between \"markdown\" and \"code\" depending on if you want to write text (markdown) or do calculations (code)."
   ]
  },
  {
   "cell_type": "markdown",
   "metadata": {},
   "source": [
    "## 1.3) Generating binomial distribution random values\n",
    "When we have a probability distribution such as the binomial probability distribution, we can generate \"random\" values from it. For example, lets say that 100 students are going to use the coin tossing as in \"1.1) Example\" above to try and pass the test. We can simulate the number of questions that each student would get correct (success) out of 25 problems (trials). Please run the code below and see the output of the \"rbinom\" function. "
   ]
  },
  {
   "cell_type": "code",
   "execution_count": null,
   "metadata": {},
   "outputs": [],
   "source": [
    "rbinom(100, 25, 0.50)"
   ]
  },
  {
   "cell_type": "markdown",
   "metadata": {},
   "source": [
    "In the above 100 random values (the number of correct problem answered on the 25 problem exam using a coin toss process) were generated. Each time you run that code above you will get a different set of \"number of correct problems\". "
   ]
  },
  {
   "cell_type": "markdown",
   "metadata": {},
   "source": [
    "Let's now simulate 2,000 students who are using the coin tossing to answer problems on this exam and see how many of them pass. To do this we will first generate 2000 binomial distribution random values (each one is a single students \\# of correct answers). We will then count how many students get 17 or more answers correct. Ih this process we will save the random binomial distribution values as \"x\" so we can use them later."
   ]
  },
  {
   "cell_type": "code",
   "execution_count": null,
   "metadata": {},
   "outputs": [],
   "source": [
    "x <- rbinom(2000, 25, .50)"
   ]
  },
  {
   "cell_type": "code",
   "execution_count": null,
   "metadata": {},
   "outputs": [],
   "source": [
    "x"
   ]
  },
  {
   "cell_type": "code",
   "execution_count": null,
   "metadata": {},
   "outputs": [],
   "source": [
    "as.data.frame(table(x))"
   ]
  },
  {
   "cell_type": "markdown",
   "metadata": {},
   "source": [
    "Above we have used the \"table\" code to make a frequency table that shows \"x\" the number of questions answered correctly, and \"Freq\" the frequency or number of students out of the 2,000 that got \"x\" number of questions correct. The \"as.data.frame\" code simply makes the result into a nice looking table. Please insert a cell below and answer (in markdown) the number of students who got 17 or more questions correct."
   ]
  },
  {
   "cell_type": "markdown",
   "metadata": {},
   "source": [
    "We know from \"1.1) Example\" above that the probability of passing the test using the coin flipping strategy is 0.053876. Do you see about 5.3876\\% of the students passing the test? Is it close to this percentage or far off? Please answer below (insert new cell, write answer as \"markdown\")."
   ]
  },
  {
   "cell_type": "markdown",
   "metadata": {},
   "source": [
    "So we used R to generate 2000 random numbers that come from a binomial distribution with $\\pi = 0.50$ and $n = 25$. Below, let's make a histogram showing this data:"
   ]
  },
  {
   "cell_type": "code",
   "execution_count": null,
   "metadata": {},
   "outputs": [],
   "source": [
    "hist(x)"
   ]
  },
  {
   "cell_type": "markdown",
   "metadata": {},
   "source": [
    "# 2) The Poisson Distribution\n",
    "We defined the probability distribution function for the Poisson distribution as the following. Let $y$ be the number of events occurring during a fixed interval of time, the probability distribution function for a Poisson random variable is: $P(y) = \\frac{\\mu ^ y e^{-\\mu}}{y!}$."
   ]
  },
  {
   "cell_type": "markdown",
   "metadata": {},
   "source": [
    "## 2.1) Poisson example problem\n",
    "Suppose you are trying to catch Geoduck clams https://en.wikipedia.org/wiki/Geoduck for a research study. Assume that the number of Geoducks captured in your traps follows a Poisson distribution. On average, 4 Geoducks are captured per hour. We can then determine the probabilities of specific events happening. For example: Let's determine the probability that we capture exactly 3 clams in an hour. Below you will find that we use the \"dpois\" code to calculate $P(y = 3)$. This \"dpois\" function needs to be given $y = 3$ (the first argument/position), and $\\mu = 4$ (the second argument/position). Please run the code below to calculate $P(y = 3)$."
   ]
  },
  {
   "cell_type": "code",
   "execution_count": null,
   "metadata": {},
   "outputs": [],
   "source": [
    "dpois(3, 4)"
   ]
  },
  {
   "cell_type": "markdown",
   "metadata": {},
   "source": [
    "To do this calculation by hand using the formula $P(y) = \\frac{\\mu ^ y e^{-\\mu}}{y!}$, we would do the following:"
   ]
  },
  {
   "cell_type": "code",
   "execution_count": null,
   "metadata": {},
   "outputs": [],
   "source": [
    "((4^3) * exp(-4)) / factorial(3)"
   ]
  },
  {
   "cell_type": "markdown",
   "metadata": {},
   "source": [
    "Okay, so we see that $P(y = 3) = 0.1953$. Now, let's do a more complex calculation. Let's calculate the probability that we capture four or less clams in an hour, that is $P(y \\leq 4)$. We can find this probability by remembering that $P(y \\leq 4) =P(y=0) + P(y = 1) + P(y = 2) + P(y = 3) + P(y = 4)$:"
   ]
  },
  {
   "cell_type": "code",
   "execution_count": null,
   "metadata": {},
   "outputs": [],
   "source": [
    "dpois(0, 4) + dpois(1, 4) + dpois(2, 4) + dpois(3, 4) + dpois(4, 4)"
   ]
  },
  {
   "cell_type": "markdown",
   "metadata": {},
   "source": [
    "Just like with the binomial random variable calculations we did above, where we had one function \"dbinom\" that allowed us to calculate $P(y = a)$, where $a$ is some number; and \"pbinom\" that allowed us to calculate $P(Y \\geq a)$ or $P(Y \\leq a)$, we have a \"ppois\" function that allows us to calculate $P(Y \\geq a)$ or $P(Y \\leq a)$ for Poisson random variables. Just above we found $P(y \\leq 4)$ by adding, now let's calculate this probability directly using the \"ppois\" function. The \"lower.tail = TRUE\" argument tells R that we want $P(y \\leq 4)$ instead of $P(y \\geq 4)$."
   ]
  },
  {
   "cell_type": "code",
   "execution_count": null,
   "metadata": {},
   "outputs": [],
   "source": [
    "ppois(4, 4, lower.tail = TRUE)"
   ]
  },
  {
   "cell_type": "markdown",
   "metadata": {},
   "source": [
    "## 2.2) Problem:\n",
    "Now, let's assume that you move your trap to a different location. At this location, on average you catch 5 Geoducks per hour. Please answer the questions below, following the process you utilized in the Poisson example problem."
   ]
  },
  {
   "cell_type": "markdown",
   "metadata": {},
   "source": [
    "### 2.2.1) Problem part (A)\n",
    "What is the probability of catching exactly 4 Geoducks in a given hour? Remember to insert cell below, and copy, paste, and modify code from above to answer this question. "
   ]
  },
  {
   "cell_type": "markdown",
   "metadata": {},
   "source": [
    "### 2.2.2) Problem part (B)\n",
    "What is the probability of catching 5 or less clams in a given hour?"
   ]
  },
  {
   "cell_type": "markdown",
   "metadata": {},
   "source": [
    "### 2.2.3) Problem part (C)\n",
    "What is the probability of catching more than 5 clams in a given hour?"
   ]
  },
  {
   "cell_type": "markdown",
   "metadata": {},
   "source": [
    "### 2.2.4) Problem part (D)\n",
    "If you need to catch at least 6 clams to finish your work, what is the probability that you can finish your work in one hour?"
   ]
  },
  {
   "cell_type": "markdown",
   "metadata": {},
   "source": [
    "## 2.3) Another problem\n",
    "In \"1.3) Generating binomial distribution random values\" we generated 2000 random numbers from a binomial distribution with $n = 25$ and $\\pi = 0.50$ and saved them as \"x\" by running the code \"x <- rbinom(2000, 25, .50)\". Below, please generate a set of 2000 random numbers from a Poisson distribution with $\\mu = 5$ and save this list of numbers as \"z\". You should use the function \"rpois(2000, $\\mu$)\", but you will need to substitute your value of $\\mu$. Please generate these random numbers below."
   ]
  },
  {
   "cell_type": "markdown",
   "metadata": {},
   "source": [
    "After you have generated these random numbers from a Poisson distribution, please make a histogram below using the \"hist\" function (remember you saved your numbers as \"z\" rather than \"x\")."
   ]
  },
  {
   "cell_type": "markdown",
   "metadata": {},
   "source": [
    "# 3) The Normal Distribution"
   ]
  },
  {
   "cell_type": "markdown",
   "metadata": {},
   "source": [
    "In this course we do not introduce the mathematical formula that gives the probability distribution function for the normal distribution. However, we still need to obtain probabilites from normal distributions either using tables (like the ones in the back of the textbook) or using statistical software (like R). To calculate probabilities from a normal distribution using R, we will mostly use the \"pnorm\" function. This function calculates $P(Z \\leq a)$, where $a$ is some number. For example, let's assume $\\mu = 5$, and $\\sigma = 2$ and we want to calculate the probability that $Z\\leq 3$, that is $P(Z \\leq 3)$. We would use the following code:"
   ]
  },
  {
   "cell_type": "code",
   "execution_count": null,
   "metadata": {},
   "outputs": [],
   "source": [
    "pnorm(3, mean = 5, sd = 2)"
   ]
  },
  {
   "cell_type": "markdown",
   "metadata": {},
   "source": [
    "Okay, so we see that given $\\mu = 5$ and $\\sigma = 2$, $P(Z\\leq 3) = 0.1587$. \n",
    "\n",
    "## 3.1) Problem \n",
    "Below, please calculate the probability that $P(Z \\leq 2)$ given that $\\mu = 1$, and $\\sigma = 2$. To do this please use the \"pnorm\" function."
   ]
  },
  {
   "cell_type": "markdown",
   "metadata": {},
   "source": [
    "## 3.2) Problem 2\n",
    "Below please calculate the probability that $P(2 \\leq Z \\leq 4)$, that is the probability that $Z$ is between 2 and 4. Please use the \"pnorm\" function. This may require subtracting one thing from another!"
   ]
  },
  {
   "cell_type": "markdown",
   "metadata": {},
   "source": [
    "## 3.3) Problem 3\n",
    "A systolic blood pressure (SBP) of 120 mmHg or less is considered normal or healthy for adults. Assume SBP readings are normally distributed for a given population with an average of 125 mmHg and a standard deviation of 10. A person is considered to have hypertension (or high blood pressure) if their SBP is greater than 130. In the population described, what is the probability that a given individual has hypertension (or high blood pressure)? Use the \"pnorm\" function solve this problem below. If you need to make multiple calculations, please insert a single line for each so that we can see the result."
   ]
  },
  {
   "cell_type": "markdown",
   "metadata": {},
   "source": [
    "## 3.4) Problem 4\n",
    "While a SBP of 130 or above indicates that a person has hypertension (high blood pressure), hypertension can be classified by severity. If an individual has a SBP between 130 and 140 they are considered to have Stage 1 hypertension. If an individual has a SBP greater than 140 but less than 180 they are considered to have stage 2 hypertension. Below using the \"pnorm\" function (possibly with two parts), calculate the probability that a given individual from the population described in 3.3) has Stage 1 hypertension."
   ]
  },
  {
   "cell_type": "markdown",
   "metadata": {},
   "source": [
    "## 3.5) Problem 5\n",
    "Now, below please calculate the probability that a given individual from the population has Stage 2 hypertension. "
   ]
  },
  {
   "cell_type": "markdown",
   "metadata": {},
   "source": [
    "# 4) Solving a problem using simulation (or random number generation)"
   ]
  },
  {
   "cell_type": "markdown",
   "metadata": {},
   "source": [
    "It is common in social sciences to make generalizations about two or more groups of people on the basis of comparing the means of each group. Often, but not always, this can be problematic if judgements about individuals are made on the basis of group averages. \n",
    "\n",
    "## 4.1) Example 1 and problems\n",
    "As an example, consider comparing the intelligence (as measured on a standardized test) between humans and a species of aliens called LGM (little green men). Assume for humans that the average score on an intelligence test is 100, with a standard deviation of 30. Assume for the LGM aliens, the average score on the same intelligence test is 110, with a standard deviation of 30. From this information we know that LGM aliens are on average smarter than humans. However, let's take a look at individuals. Below, we can generate intelligence test scores for 1000 humans that follow the distribution we have described:"
   ]
  },
  {
   "cell_type": "code",
   "execution_count": null,
   "metadata": {},
   "outputs": [],
   "source": [
    "humanScore <- rnorm(1000, mean = 100, sd = 30)"
   ]
  },
  {
   "cell_type": "markdown",
   "metadata": {},
   "source": [
    "Now we can generate intelligence test scores for 1000 aliens that follow the LGM alien population test score distribution:"
   ]
  },
  {
   "cell_type": "code",
   "execution_count": null,
   "metadata": {},
   "outputs": [],
   "source": [
    "alienScore <- rnorm(1000, mean = 110, sd = 30)"
   ]
  },
  {
   "cell_type": "markdown",
   "metadata": {},
   "source": [
    "Now we can create a new variable that does the following. For the first human in the dataset, it checks to see if the first alien has a higher score. If the alien has a higher score, it records \"Alien is smarter\". If the human has a higher score, it records \"Human is smarter\". It then does the same thing for the next human and next alien. It continues untill 1000 comparisons have been made. This variable is created below. "
   ]
  },
  {
   "cell_type": "code",
   "execution_count": null,
   "metadata": {},
   "outputs": [],
   "source": [
    "humanVSAlien <- ifelse(humanScore < alienScore, \"Alien is smarter\", \"Human is smarter\")"
   ]
  },
  {
   "cell_type": "markdown",
   "metadata": {},
   "source": [
    "Okay, so now we have three things...A set of human test scores, a set of LGM alien test scores, and a variable showing whether an individual alien or an individual human has a higher score. Below, we can view these three things together as a dataset (called a \"data.frame\"). Notice that the middle of the output is truncated."
   ]
  },
  {
   "cell_type": "code",
   "execution_count": null,
   "metadata": {},
   "outputs": [],
   "source": [
    "data.frame(humanScore, alienScore, humanVSAlien)"
   ]
  },
  {
   "cell_type": "markdown",
   "metadata": {},
   "source": [
    "Okay, now let's tabulate the outcomes of the variable that made 1000 comparisons of humans to aliens. Please see and run the code below."
   ]
  },
  {
   "cell_type": "code",
   "execution_count": null,
   "metadata": {},
   "outputs": [],
   "source": [
    "table(humanVSAlien)"
   ]
  },
  {
   "cell_type": "markdown",
   "metadata": {},
   "source": [
    "The table above is a frequency table. Let's convert it to a relative frequency table. This can be done with the code below."
   ]
  },
  {
   "cell_type": "code",
   "execution_count": null,
   "metadata": {},
   "outputs": [],
   "source": [
    "prop.table(table(humanVSAlien))"
   ]
  },
  {
   "cell_type": "markdown",
   "metadata": {},
   "source": [
    "**Question for you**. What do the relative frequencies above represent? What is the probability that a given alien is smarter than a given human? What is the probability a given human is smarter than a given alien? Please answer these questions below."
   ]
  },
  {
   "cell_type": "markdown",
   "metadata": {},
   "source": [
    "## 4.2) Example 2 and problem\n",
    "Below, I will repeat the same process as in 4.1) with the same exact population means, but with the other population parameter changed. I put all of this code in one cell, so you will only be able to see the result of the last line that generates the relative frequencies. Please run the code below."
   ]
  },
  {
   "cell_type": "code",
   "execution_count": null,
   "metadata": {},
   "outputs": [],
   "source": [
    "humanScore2 <- rnorm(1000, mean = 100, sd = 10)\n",
    "alienScore2 <- rnorm(1000, mean = 110, sd = 10)\n",
    "humanVSAlien2 <- ifelse(humanScore2 < alienScore2, \"Alien is smarter\", \"Human is smarter\")\n",
    "prop.table(table(humanVSAlien2))"
   ]
  },
  {
   "cell_type": "markdown",
   "metadata": {},
   "source": [
    "**Question for you**. Now you see that the relative frequencies have changed. Why is this? Now if someone asks you \"Are individual LGM aliens smarter than individual humans, has your answer changed from the 4.1)?\" In your own words what is the point of these two examples (hint: it may have something to do with variance / standard deviation). "
   ]
  }
 ],
 "metadata": {
  "kernelspec": {
   "display_name": "R",
   "language": "R",
   "name": "ir"
  },
  "language_info": {
   "codemirror_mode": "r",
   "file_extension": ".r",
   "mimetype": "text/x-r-source",
   "name": "R",
   "pygments_lexer": "r",
   "version": "3.6.1"
  }
 },
 "nbformat": 4,
 "nbformat_minor": 2
}
