{
 "cells": [
  {
   "cell_type": "markdown",
   "metadata": {},
   "source": [
    "# 0) Instructions:\n",
    "Please complete the workbook below. Some of the calculations are already ready to be \"run\". However, please read the text carefully to find questions that you should answer for credit. Remember that to answer a question in text, you click \"insert\", then \"insert cell below\", switch the input from \"code\" to \"markdown\", type your answer, and finally click the run button to set your text in stone. In a few questions, you will need to do some calculations on your own. Hint: for these calculations you can copy, paste, and modify code that is above the calculation that you need to do. You may work by yourself or in groups of 2. Please remember to put your name on top, remember to save the workbook, and remember to upload to Canvas.\n"
   ]
  },
  {
   "cell_type": "markdown",
   "metadata": {},
   "source": [
    "Please run the code below and ignore the output. This code is simply setting the height and width of the plots we will make later on and loading a set of software \"tidyverse\" that we will use."
   ]
  },
  {
   "cell_type": "code",
   "execution_count": 1,
   "metadata": {},
   "outputs": [
    {
     "name": "stderr",
     "output_type": "stream",
     "text": [
      "-- Attaching packages --------------------------------------- tidyverse 1.2.1 --\n",
      "v ggplot2 3.2.0     v purrr   0.3.2\n",
      "v tibble  2.1.3     v dplyr   0.8.3\n",
      "v tidyr   0.8.3     v stringr 1.4.0\n",
      "v readr   1.3.1     v forcats 0.4.0\n",
      "-- Conflicts ------------------------------------------ tidyverse_conflicts() --\n",
      "x dplyr::filter() masks stats::filter()\n",
      "x dplyr::lag()    masks stats::lag()\n"
     ]
    }
   ],
   "source": [
    "options(repr.plot.width = 6, repr.plot.height = 4)\n",
    "library(tidyverse)"
   ]
  },
  {
   "cell_type": "markdown",
   "metadata": {},
   "source": [
    "# 1) Sampling distributions for the mean from Normal population\n",
    "The first thing we will do today is generate 1,000 numbers from a normal distribution with $\\mu = 10$ and $s = 5$. This data represents some theoretical population. Please notice I have added the \"set.seed(3)\" function before using the \"rnorm\" command. The \"set.seed\" function when placed *right before* a command such as \"rnorm\" that generates random numbers makes these lists of random numbers reproducible. Using \"set.seed(3)\" means that the random numbers that are generated from the normal distribution will be the same if you run \"set.seed(3)\" and \"rnorm\" together again. This way as each student saves the 1,000 random numbers as \"x\", we will all have the same \"x\". Below please run the code to generate the random numbers from the normal distribution with $\\mu = 10$ and $s = 5$."
   ]
  },
  {
   "cell_type": "code",
   "execution_count": 3,
   "metadata": {},
   "outputs": [],
   "source": [
    "set.seed(3)\n",
    "x <- rnorm(n = 1000, mean = 10, sd = 5)"
   ]
  },
  {
   "cell_type": "markdown",
   "metadata": {},
   "source": [
    "Below we are going to learn a tiny bit of programming in R. We have already generated 1,000 random numbers from a normal distribution and save them as \"x\". We can take a look at individual values from \"x\" by doing the following. The first \"x[1]\" returns the first number from \"x\":"
   ]
  },
  {
   "cell_type": "code",
   "execution_count": 4,
   "metadata": {},
   "outputs": [
    {
     "data": {
      "text/html": [
       "5.19033292040059"
      ],
      "text/latex": [
       "5.19033292040059"
      ],
      "text/markdown": [
       "5.19033292040059"
      ],
      "text/plain": [
       "[1] 5.190333"
      ]
     },
     "metadata": {},
     "output_type": "display_data"
    }
   ],
   "source": [
    "x[1]"
   ]
  },
  {
   "cell_type": "markdown",
   "metadata": {},
   "source": [
    "Now to return the first and the second numbers from \"x\":"
   ]
  },
  {
   "cell_type": "code",
   "execution_count": 6,
   "metadata": {},
   "outputs": [
    {
     "data": {
      "text/html": [
       "<ol class=list-inline>\n",
       "\t<li>5.19033292040059</li>\n",
       "\t<li>8.53737138560767</li>\n",
       "</ol>\n"
      ],
      "text/latex": [
       "\\begin{enumerate*}\n",
       "\\item 5.19033292040059\n",
       "\\item 8.53737138560767\n",
       "\\end{enumerate*}\n"
      ],
      "text/markdown": [
       "1. 5.19033292040059\n",
       "2. 8.53737138560767\n",
       "\n",
       "\n"
      ],
      "text/plain": [
       "[1] 5.190333 8.537371"
      ]
     },
     "metadata": {},
     "output_type": "display_data"
    }
   ],
   "source": [
    "x[1:2]"
   ]
  },
  {
   "cell_type": "markdown",
   "metadata": {},
   "source": [
    "And now to return the first 25 numbers from \"x\":"
   ]
  },
  {
   "cell_type": "code",
   "execution_count": 5,
   "metadata": {},
   "outputs": [
    {
     "data": {
      "text/html": [
       "<ol class=list-inline>\n",
       "\t<li>5.19033292040059</li>\n",
       "\t<li>8.53737138560767</li>\n",
       "\t<li>11.2939410812063</li>\n",
       "\t<li>4.23934057042434</li>\n",
       "\t<li>10.9789141314319</li>\n",
       "\t<li>10.1506197230082</li>\n",
       "\t<li>10.4270886580614</li>\n",
       "\t<li>15.5830510635763</li>\n",
       "\t<li>3.90571292211006</li>\n",
       "\t<li>16.3368436104494</li>\n",
       "\t<li>6.2760920193243</li>\n",
       "\t<li>4.34390714582132</li>\n",
       "\t<li>6.41820754983511</li>\n",
       "\t<li>11.2632618482311</li>\n",
       "\t<li>10.760228533278</li>\n",
       "\t<li>8.4617178516079</li>\n",
       "\t<li>5.23491334545939</li>\n",
       "\t<li>6.75878594275765</li>\n",
       "\t<li>16.1215681214029</li>\n",
       "\t<li>10.9990580399148</li>\n",
       "\t<li>7.10758139070014</li>\n",
       "\t<li>5.2884963326123</li>\n",
       "\t<li>8.98135910169003</li>\n",
       "\t<li>1.6676257998492</li>\n",
       "\t<li>7.57772445424505</li>\n",
       "</ol>\n"
      ],
      "text/latex": [
       "\\begin{enumerate*}\n",
       "\\item 5.19033292040059\n",
       "\\item 8.53737138560767\n",
       "\\item 11.2939410812063\n",
       "\\item 4.23934057042434\n",
       "\\item 10.9789141314319\n",
       "\\item 10.1506197230082\n",
       "\\item 10.4270886580614\n",
       "\\item 15.5830510635763\n",
       "\\item 3.90571292211006\n",
       "\\item 16.3368436104494\n",
       "\\item 6.2760920193243\n",
       "\\item 4.34390714582132\n",
       "\\item 6.41820754983511\n",
       "\\item 11.2632618482311\n",
       "\\item 10.760228533278\n",
       "\\item 8.4617178516079\n",
       "\\item 5.23491334545939\n",
       "\\item 6.75878594275765\n",
       "\\item 16.1215681214029\n",
       "\\item 10.9990580399148\n",
       "\\item 7.10758139070014\n",
       "\\item 5.2884963326123\n",
       "\\item 8.98135910169003\n",
       "\\item 1.6676257998492\n",
       "\\item 7.57772445424505\n",
       "\\end{enumerate*}\n"
      ],
      "text/markdown": [
       "1. 5.19033292040059\n",
       "2. 8.53737138560767\n",
       "3. 11.2939410812063\n",
       "4. 4.23934057042434\n",
       "5. 10.9789141314319\n",
       "6. 10.1506197230082\n",
       "7. 10.4270886580614\n",
       "8. 15.5830510635763\n",
       "9. 3.90571292211006\n",
       "10. 16.3368436104494\n",
       "11. 6.2760920193243\n",
       "12. 4.34390714582132\n",
       "13. 6.41820754983511\n",
       "14. 11.2632618482311\n",
       "15. 10.760228533278\n",
       "16. 8.4617178516079\n",
       "17. 5.23491334545939\n",
       "18. 6.75878594275765\n",
       "19. 16.1215681214029\n",
       "20. 10.9990580399148\n",
       "21. 7.10758139070014\n",
       "22. 5.2884963326123\n",
       "23. 8.98135910169003\n",
       "24. 1.6676257998492\n",
       "25. 7.57772445424505\n",
       "\n",
       "\n"
      ],
      "text/plain": [
       " [1]  5.190333  8.537371 11.293941  4.239341 10.978914 10.150620 10.427089\n",
       " [8] 15.583051  3.905713 16.336844  6.276092  4.343907  6.418208 11.263262\n",
       "[15] 10.760229  8.461718  5.234913  6.758786 16.121568 10.999058  7.107581\n",
       "[22]  5.288496  8.981359  1.667626  7.577724"
      ]
     },
     "metadata": {},
     "output_type": "display_data"
    }
   ],
   "source": [
    "x[1:25]"
   ]
  },
  {
   "cell_type": "markdown",
   "metadata": {},
   "source": [
    "Okay now let's make a histogram and then we will be ready for our main topic \"Sampling Distributions\". The histogram below will be for our population distribution that we have created and saved as \"x\":"
   ]
  },
  {
   "cell_type": "code",
   "execution_count": 7,
   "metadata": {},
   "outputs": [
    {
     "data": {
      "image/png": "[encoded data removed]",
      "text/plain": [
       "Plot with title \"Histogram of x\""
      ]
     },
     "metadata": {},
     "output_type": "display_data"
    }
   ],
   "source": [
    "hist(x, breaks = 15)"
   ]
  },
  {
   "cell_type": "markdown",
   "metadata": {},
   "source": [
    "Now that we have our population distribution, let's take a sample from it. Notice that we are going to use \"set.seed\" again. Remember that simple random sampling is a \"random\" process (meaning we will get a different sample each time we do it). By using \"set.seed\" we make sure that we get the same sample each time. If we want true random sampling we should not use \"set.seed\". Okay, below lets take a sample of 5 numbers from our population distribution \"x\" and save it as \"xSample1\":"
   ]
  },
  {
   "cell_type": "code",
   "execution_count": 8,
   "metadata": {},
   "outputs": [],
   "source": [
    "set.seed(11)\n",
    "xSample1 <- sample(x, 5)"
   ]
  },
  {
   "cell_type": "markdown",
   "metadata": {},
   "source": [
    "Let's look at what is in \"xSample1\":"
   ]
  },
  {
   "cell_type": "code",
   "execution_count": 9,
   "metadata": {},
   "outputs": [
    {
     "data": {
      "text/html": [
       "<ol class=list-inline>\n",
       "\t<li>4.84758829537611</li>\n",
       "\t<li>13.682510728443</li>\n",
       "\t<li>17.0654913469088</li>\n",
       "\t<li>13.2190927759455</li>\n",
       "\t<li>9.2415769941705</li>\n",
       "</ol>\n"
      ],
      "text/latex": [
       "\\begin{enumerate*}\n",
       "\\item 4.84758829537611\n",
       "\\item 13.682510728443\n",
       "\\item 17.0654913469088\n",
       "\\item 13.2190927759455\n",
       "\\item 9.2415769941705\n",
       "\\end{enumerate*}\n"
      ],
      "text/markdown": [
       "1. 4.84758829537611\n",
       "2. 13.682510728443\n",
       "3. 17.0654913469088\n",
       "4. 13.2190927759455\n",
       "5. 9.2415769941705\n",
       "\n",
       "\n"
      ],
      "text/plain": [
       "[1]  4.847588 13.682511 17.065491 13.219093  9.241577"
      ]
     },
     "metadata": {},
     "output_type": "display_data"
    }
   ],
   "source": [
    "xSample1"
   ]
  },
  {
   "cell_type": "markdown",
   "metadata": {},
   "source": [
    "Now, let's take the mean of the values in this sample:"
   ]
  },
  {
   "cell_type": "code",
   "execution_count": 10,
   "metadata": {},
   "outputs": [
    {
     "data": {
      "text/html": [
       "11.6112520281688"
      ],
      "text/latex": [
       "11.6112520281688"
      ],
      "text/markdown": [
       "11.6112520281688"
      ],
      "text/plain": [
       "[1] 11.61125"
      ]
     },
     "metadata": {},
     "output_type": "display_data"
    }
   ],
   "source": [
    "mean(xSample1)"
   ]
  },
  {
   "cell_type": "markdown",
   "metadata": {},
   "source": [
    "Okay so we have drawn a simple random sample of size 5 and calculated the sample mean for that sample. Let's do the same thing for 4 more samples: "
   ]
  },
  {
   "cell_type": "code",
   "execution_count": 11,
   "metadata": {},
   "outputs": [],
   "source": [
    "set.seed(12)\n",
    "xSample2 <- sample(x, 5)\n",
    "\n",
    "set.seed(13)\n",
    "xSample3 <- sample(x, 5)\n",
    "\n",
    "set.seed(14)\n",
    "xSample4 <- sample(x, 5)\n",
    "\n",
    "set.seed(15)\n",
    "xSample5 <- sample(x, 5)"
   ]
  },
  {
   "cell_type": "markdown",
   "metadata": {},
   "source": [
    "**Your turn!** Below, please create one more simple random sample called \"xSample6\" and please run the command \"set.seed(16)\" before making \"xSample6\"."
   ]
  },
  {
   "cell_type": "markdown",
   "metadata": {},
   "source": [
    "Now lets calculate the sample mean of all the sample means by hand. Yes this is a sample mean of sample means. Make sure you have already created \"xSample6\" or you will get an error when you run the code below to calculate the mean of means:"
   ]
  },
  {
   "cell_type": "code",
   "execution_count": 13,
   "metadata": {},
   "outputs": [
    {
     "data": {
      "text/html": [
       "10.5703170197833"
      ],
      "text/latex": [
       "10.5703170197833"
      ],
      "text/markdown": [
       "10.5703170197833"
      ],
      "text/plain": [
       "[1] 10.57032"
      ]
     },
     "metadata": {},
     "output_type": "display_data"
    }
   ],
   "source": [
    "(mean(xSample1) + mean(xSample2) + mean(xSample3) + mean(xSample4) + mean(xSample5) + mean(xSample6)) / 6"
   ]
  },
  {
   "cell_type": "markdown",
   "metadata": {},
   "source": [
    "As you might remember we can do this dirrectly using the mean command: "
   ]
  },
  {
   "cell_type": "code",
   "execution_count": 15,
   "metadata": {},
   "outputs": [
    {
     "data": {
      "text/html": [
       "10.4595354657656"
      ],
      "text/latex": [
       "10.4595354657656"
      ],
      "text/markdown": [
       "10.4595354657656"
      ],
      "text/plain": [
       "[1] 10.45954"
      ]
     },
     "metadata": {},
     "output_type": "display_data"
    }
   ],
   "source": [
    "mean(c(mean(xSample1), mean(xSample2), mean(xSample3), mean(xSample4), mean(xSample5)), mean(xSample6))"
   ]
  },
  {
   "cell_type": "markdown",
   "metadata": {},
   "source": [
    "**Question for you**. Is the mean of sample means close to the population mean?"
   ]
  },
  {
   "cell_type": "markdown",
   "metadata": {},
   "source": [
    "Just as we can calculate the mean of sample means from our simple random samples, we can calculate their sample standard deviations:"
   ]
  },
  {
   "cell_type": "code",
   "execution_count": 16,
   "metadata": {},
   "outputs": [
    {
     "data": {
      "text/html": [
       "2.04066512842203"
      ],
      "text/latex": [
       "2.04066512842203"
      ],
      "text/markdown": [
       "2.04066512842203"
      ],
      "text/plain": [
       "[1] 2.040665"
      ]
     },
     "metadata": {},
     "output_type": "display_data"
    }
   ],
   "source": [
    "sd(c(mean(xSample1), mean(xSample2), mean(xSample3), mean(xSample4), mean(xSample5)), mean(xSample6))"
   ]
  },
  {
   "cell_type": "markdown",
   "metadata": {},
   "source": [
    "**Question for you**. Is the standard deviation of sample means close to the population standard deviation, $\\sigma$? Or is it closer to $\\sigma / \\sqrt{n}$? Run the code below to calculate $\\sigma / \\sqrt{n}$, and then answer these questions in \"markdown\" below that calculation."
   ]
  },
  {
   "cell_type": "code",
   "execution_count": 17,
   "metadata": {},
   "outputs": [
    {
     "data": {
      "text/html": [
       "2.23606797749979"
      ],
      "text/latex": [
       "2.23606797749979"
      ],
      "text/markdown": [
       "2.23606797749979"
      ],
      "text/plain": [
       "[1] 2.236068"
      ]
     },
     "metadata": {},
     "output_type": "display_data"
    }
   ],
   "source": [
    "5 / sqrt(5)"
   ]
  },
  {
   "cell_type": "markdown",
   "metadata": {},
   "source": [
    "So now, what if we wanted to repeat this process of drawing a simple random sample and calculating each sample mean many more times than the 6 times we have done so far? We can use the \"replicate\" function, which simply takes a process and replicates it a bunch of times. For example, run the code below and then we will investigate what was done:"
   ]
  },
  {
   "cell_type": "code",
   "execution_count": 18,
   "metadata": {},
   "outputs": [],
   "source": [
    "set.seed(333)\n",
    "sixSamples <- replicate(6, sample(x, 10))"
   ]
  },
  {
   "cell_type": "markdown",
   "metadata": {},
   "source": [
    "We generated a matrix containing 6 simple random samples of size 10 from \"x\". Let's view these below. Each column is a simple random sample (hence there are 6 columns). "
   ]
  },
  {
   "cell_type": "code",
   "execution_count": 19,
   "metadata": {},
   "outputs": [
    {
     "data": {
      "text/html": [
       "<table>\n",
       "<tbody>\n",
       "\t<tr><td> 2.211599</td><td>13.639916</td><td>13.079211</td><td>13.429310</td><td>12.073176</td><td> 8.425641</td></tr>\n",
       "\t<tr><td>10.121119</td><td>11.770786</td><td>12.456806</td><td> 7.931549</td><td>12.671939</td><td>15.087306</td></tr>\n",
       "\t<tr><td>11.302179</td><td>13.968806</td><td> 9.413151</td><td>11.487456</td><td>13.429310</td><td>12.150209</td></tr>\n",
       "\t<tr><td>14.959466</td><td>11.631734</td><td> 1.839233</td><td>20.490489</td><td>10.814562</td><td>11.182707</td></tr>\n",
       "\t<tr><td>16.564787</td><td> 6.672860</td><td>12.585720</td><td>10.071286</td><td> 3.682604</td><td> 1.786408</td></tr>\n",
       "\t<tr><td> 9.168081</td><td>15.356845</td><td>10.583157</td><td> 9.855814</td><td>10.471828</td><td>19.397974</td></tr>\n",
       "\t<tr><td> 8.537371</td><td>18.083259</td><td>16.426873</td><td> 5.138496</td><td>22.320277</td><td>10.857669</td></tr>\n",
       "\t<tr><td> 7.560556</td><td>10.341814</td><td> 3.869376</td><td> 9.389898</td><td> 6.359069</td><td>12.704994</td></tr>\n",
       "\t<tr><td> 7.905851</td><td> 8.425641</td><td> 9.329488</td><td>16.310382</td><td> 0.116742</td><td>10.583157</td></tr>\n",
       "\t<tr><td>14.203215</td><td>10.982922</td><td>19.333682</td><td>20.200129</td><td>11.135731</td><td>15.987737</td></tr>\n",
       "</tbody>\n",
       "</table>\n"
      ],
      "text/latex": [
       "\\begin{tabular}{llllll}\n",
       "\t  2.211599 & 13.639916 & 13.079211 & 13.429310 & 12.073176 &  8.425641\\\\\n",
       "\t 10.121119 & 11.770786 & 12.456806 &  7.931549 & 12.671939 & 15.087306\\\\\n",
       "\t 11.302179 & 13.968806 &  9.413151 & 11.487456 & 13.429310 & 12.150209\\\\\n",
       "\t 14.959466 & 11.631734 &  1.839233 & 20.490489 & 10.814562 & 11.182707\\\\\n",
       "\t 16.564787 &  6.672860 & 12.585720 & 10.071286 &  3.682604 &  1.786408\\\\\n",
       "\t  9.168081 & 15.356845 & 10.583157 &  9.855814 & 10.471828 & 19.397974\\\\\n",
       "\t  8.537371 & 18.083259 & 16.426873 &  5.138496 & 22.320277 & 10.857669\\\\\n",
       "\t  7.560556 & 10.341814 &  3.869376 &  9.389898 &  6.359069 & 12.704994\\\\\n",
       "\t  7.905851 &  8.425641 &  9.329488 & 16.310382 &  0.116742 & 10.583157\\\\\n",
       "\t 14.203215 & 10.982922 & 19.333682 & 20.200129 & 11.135731 & 15.987737\\\\\n",
       "\\end{tabular}\n"
      ],
      "text/markdown": [
       "\n",
       "|  2.211599 | 13.639916 | 13.079211 | 13.429310 | 12.073176 |  8.425641 |\n",
       "| 10.121119 | 11.770786 | 12.456806 |  7.931549 | 12.671939 | 15.087306 |\n",
       "| 11.302179 | 13.968806 |  9.413151 | 11.487456 | 13.429310 | 12.150209 |\n",
       "| 14.959466 | 11.631734 |  1.839233 | 20.490489 | 10.814562 | 11.182707 |\n",
       "| 16.564787 |  6.672860 | 12.585720 | 10.071286 |  3.682604 |  1.786408 |\n",
       "|  9.168081 | 15.356845 | 10.583157 |  9.855814 | 10.471828 | 19.397974 |\n",
       "|  8.537371 | 18.083259 | 16.426873 |  5.138496 | 22.320277 | 10.857669 |\n",
       "|  7.560556 | 10.341814 |  3.869376 |  9.389898 |  6.359069 | 12.704994 |\n",
       "|  7.905851 |  8.425641 |  9.329488 | 16.310382 |  0.116742 | 10.583157 |\n",
       "| 14.203215 | 10.982922 | 19.333682 | 20.200129 | 11.135731 | 15.987737 |\n",
       "\n"
      ],
      "text/plain": [
       "      [,1]      [,2]      [,3]      [,4]      [,5]      [,6]     \n",
       " [1,]  2.211599 13.639916 13.079211 13.429310 12.073176  8.425641\n",
       " [2,] 10.121119 11.770786 12.456806  7.931549 12.671939 15.087306\n",
       " [3,] 11.302179 13.968806  9.413151 11.487456 13.429310 12.150209\n",
       " [4,] 14.959466 11.631734  1.839233 20.490489 10.814562 11.182707\n",
       " [5,] 16.564787  6.672860 12.585720 10.071286  3.682604  1.786408\n",
       " [6,]  9.168081 15.356845 10.583157  9.855814 10.471828 19.397974\n",
       " [7,]  8.537371 18.083259 16.426873  5.138496 22.320277 10.857669\n",
       " [8,]  7.560556 10.341814  3.869376  9.389898  6.359069 12.704994\n",
       " [9,]  7.905851  8.425641  9.329488 16.310382  0.116742 10.583157\n",
       "[10,] 14.203215 10.982922 19.333682 20.200129 11.135731 15.987737"
      ]
     },
     "metadata": {},
     "output_type": "display_data"
    }
   ],
   "source": [
    "sixSamples"
   ]
  },
  {
   "cell_type": "markdown",
   "metadata": {},
   "source": [
    "In order to return the values that are in the first simple random sample we would use the following \"sixSamples[, 1]\", as below. This is asking for the first column of this matrix. This first column is the first simple random sample:"
   ]
  },
  {
   "cell_type": "code",
   "execution_count": 20,
   "metadata": {},
   "outputs": [
    {
     "data": {
      "text/html": [
       "<ol class=list-inline>\n",
       "\t<li>2.21159876802747</li>\n",
       "\t<li>10.1211191467985</li>\n",
       "\t<li>11.3021792937794</li>\n",
       "\t<li>14.9594663957243</li>\n",
       "\t<li>16.5647870480756</li>\n",
       "\t<li>9.16808082584317</li>\n",
       "\t<li>8.53737138560767</li>\n",
       "\t<li>7.56055585437488</li>\n",
       "\t<li>7.905851389322</li>\n",
       "\t<li>14.2032146392753</li>\n",
       "</ol>\n"
      ],
      "text/latex": [
       "\\begin{enumerate*}\n",
       "\\item 2.21159876802747\n",
       "\\item 10.1211191467985\n",
       "\\item 11.3021792937794\n",
       "\\item 14.9594663957243\n",
       "\\item 16.5647870480756\n",
       "\\item 9.16808082584317\n",
       "\\item 8.53737138560767\n",
       "\\item 7.56055585437488\n",
       "\\item 7.905851389322\n",
       "\\item 14.2032146392753\n",
       "\\end{enumerate*}\n"
      ],
      "text/markdown": [
       "1. 2.21159876802747\n",
       "2. 10.1211191467985\n",
       "3. 11.3021792937794\n",
       "4. 14.9594663957243\n",
       "5. 16.5647870480756\n",
       "6. 9.16808082584317\n",
       "7. 8.53737138560767\n",
       "8. 7.56055585437488\n",
       "9. 7.905851389322\n",
       "10. 14.2032146392753\n",
       "\n",
       "\n"
      ],
      "text/plain": [
       " [1]  2.211599 10.121119 11.302179 14.959466 16.564787  9.168081  8.537371\n",
       " [8]  7.560556  7.905851 14.203215"
      ]
     },
     "metadata": {},
     "output_type": "display_data"
    }
   ],
   "source": [
    "sixSamples[, 1]"
   ]
  },
  {
   "cell_type": "markdown",
   "metadata": {},
   "source": [
    "**Question for you** Please return the values from the second simple random sample using the same exact process as above (insert new cell below, and copy, paste, and modify the code from above)."
   ]
  },
  {
   "cell_type": "markdown",
   "metadata": {},
   "source": [
    "Okay, so now you can generate as many simple random samples as you would like from the population distribution \"x\". Now let's take the mean of the first simple random sample:"
   ]
  },
  {
   "cell_type": "code",
   "execution_count": 21,
   "metadata": {},
   "outputs": [
    {
     "data": {
      "text/html": [
       "10.2534224746828"
      ],
      "text/latex": [
       "10.2534224746828"
      ],
      "text/markdown": [
       "10.2534224746828"
      ],
      "text/plain": [
       "[1] 10.25342"
      ]
     },
     "metadata": {},
     "output_type": "display_data"
    }
   ],
   "source": [
    "mean(sixSamples[, 1])"
   ]
  },
  {
   "cell_type": "markdown",
   "metadata": {},
   "source": [
    "Rather than computing 5 more means in order to get the means of each of our simple random samples, we can use the \"apply\" function. This function applies a calculation (such as finding the sample mean) across a matrix. More specifically, below you see \"apply(sixSamples, 2, mean)\". This is going to take the mean of each of the columns of \"sixSamples\". The number 2 tells us to take the mean by column (instead of by rows). So by running this command we will compute the sample mean for each of our simple random samples from \"x\" in one command:"
   ]
  },
  {
   "cell_type": "code",
   "execution_count": 22,
   "metadata": {},
   "outputs": [
    {
     "data": {
      "text/html": [
       "<ol class=list-inline>\n",
       "\t<li>10.2534224746828</li>\n",
       "\t<li>12.087458353155</li>\n",
       "\t<li>10.8916696783578</li>\n",
       "\t<li>12.4304810162592</li>\n",
       "\t<li>10.3075237860035</li>\n",
       "\t<li>11.8163802529081</li>\n",
       "</ol>\n"
      ],
      "text/latex": [
       "\\begin{enumerate*}\n",
       "\\item 10.2534224746828\n",
       "\\item 12.087458353155\n",
       "\\item 10.8916696783578\n",
       "\\item 12.4304810162592\n",
       "\\item 10.3075237860035\n",
       "\\item 11.8163802529081\n",
       "\\end{enumerate*}\n"
      ],
      "text/markdown": [
       "1. 10.2534224746828\n",
       "2. 12.087458353155\n",
       "3. 10.8916696783578\n",
       "4. 12.4304810162592\n",
       "5. 10.3075237860035\n",
       "6. 11.8163802529081\n",
       "\n",
       "\n"
      ],
      "text/plain": [
       "[1] 10.25342 12.08746 10.89167 12.43048 10.30752 11.81638"
      ]
     },
     "metadata": {},
     "output_type": "display_data"
    }
   ],
   "source": [
    "apply(sixSamples, 2, mean)"
   ]
  },
  {
   "cell_type": "markdown",
   "metadata": {},
   "source": [
    "Let's go big. Below, lets generate 1000 simple random samples from \"x\" with each one having size 10. "
   ]
  },
  {
   "cell_type": "code",
   "execution_count": 23,
   "metadata": {},
   "outputs": [],
   "source": [
    "set.seed(22)\n",
    "oneThousandSamples <- replicate(1000, sample(x, 10))"
   ]
  },
  {
   "cell_type": "markdown",
   "metadata": {},
   "source": [
    "Now lets compute the sample mean for every single one of the 1,000 samples and let's save this as \"meansOneThousandSamples\":"
   ]
  },
  {
   "cell_type": "code",
   "execution_count": 24,
   "metadata": {},
   "outputs": [],
   "source": [
    "meansOneThousandSamples <- apply(oneThousandSamples, 2, mean)"
   ]
  },
  {
   "cell_type": "markdown",
   "metadata": {},
   "source": [
    "To see the first 10 sample means, we could ask for them:"
   ]
  },
  {
   "cell_type": "code",
   "execution_count": 25,
   "metadata": {},
   "outputs": [
    {
     "data": {
      "text/html": [
       "<ol class=list-inline>\n",
       "\t<li>11.2628415969562</li>\n",
       "\t<li>10.0631107713536</li>\n",
       "\t<li>8.99791520039788</li>\n",
       "\t<li>11.4048976394688</li>\n",
       "\t<li>11.7715884215114</li>\n",
       "\t<li>9.56293631869954</li>\n",
       "\t<li>8.96625156277232</li>\n",
       "\t<li>9.20845663849849</li>\n",
       "\t<li>9.97723871574825</li>\n",
       "\t<li>10.3913537130502</li>\n",
       "</ol>\n"
      ],
      "text/latex": [
       "\\begin{enumerate*}\n",
       "\\item 11.2628415969562\n",
       "\\item 10.0631107713536\n",
       "\\item 8.99791520039788\n",
       "\\item 11.4048976394688\n",
       "\\item 11.7715884215114\n",
       "\\item 9.56293631869954\n",
       "\\item 8.96625156277232\n",
       "\\item 9.20845663849849\n",
       "\\item 9.97723871574825\n",
       "\\item 10.3913537130502\n",
       "\\end{enumerate*}\n"
      ],
      "text/markdown": [
       "1. 11.2628415969562\n",
       "2. 10.0631107713536\n",
       "3. 8.99791520039788\n",
       "4. 11.4048976394688\n",
       "5. 11.7715884215114\n",
       "6. 9.56293631869954\n",
       "7. 8.96625156277232\n",
       "8. 9.20845663849849\n",
       "9. 9.97723871574825\n",
       "10. 10.3913537130502\n",
       "\n",
       "\n"
      ],
      "text/plain": [
       " [1] 11.262842 10.063111  8.997915 11.404898 11.771588  9.562936  8.966252\n",
       " [8]  9.208457  9.977239 10.391354"
      ]
     },
     "metadata": {},
     "output_type": "display_data"
    }
   ],
   "source": [
    "meansOneThousandSamples[1:10]"
   ]
  },
  {
   "cell_type": "markdown",
   "metadata": {},
   "source": [
    "Now we are getting to the very important part! Let's make a histogram of the sample means of the 1,000 samples that were generated from our population distribution \"x\". We call this a sampling distribution. It is the distribution of a statistic (the mean) that we have computed from sets of samples."
   ]
  },
  {
   "cell_type": "code",
   "execution_count": 30,
   "metadata": {},
   "outputs": [
    {
     "data": {
      "image/png": "[encoded data removed]",
      "text/plain": [
       "Plot with title \"Histogram of meansOneThousandSamples\""
      ]
     },
     "metadata": {},
     "output_type": "display_data"
    }
   ],
   "source": [
    "hist(meansOneThousandSamples)"
   ]
  },
  {
   "cell_type": "markdown",
   "metadata": {},
   "source": [
    "Below, let's calculate the mean and standard deviation of the sample means from our 1,000 simple random samples."
   ]
  },
  {
   "cell_type": "code",
   "execution_count": 27,
   "metadata": {},
   "outputs": [
    {
     "data": {
      "text/html": [
       "10.0892276861754"
      ],
      "text/latex": [
       "10.0892276861754"
      ],
      "text/markdown": [
       "10.0892276861754"
      ],
      "text/plain": [
       "[1] 10.08923"
      ]
     },
     "metadata": {},
     "output_type": "display_data"
    }
   ],
   "source": [
    "mean(meansOneThousandSamples)"
   ]
  },
  {
   "cell_type": "code",
   "execution_count": 28,
   "metadata": {},
   "outputs": [
    {
     "data": {
      "text/html": [
       "1.58748002014027"
      ],
      "text/latex": [
       "1.58748002014027"
      ],
      "text/markdown": [
       "1.58748002014027"
      ],
      "text/plain": [
       "[1] 1.58748"
      ]
     },
     "metadata": {},
     "output_type": "display_data"
    }
   ],
   "source": [
    "sd(meansOneThousandSamples)"
   ]
  },
  {
   "cell_type": "markdown",
   "metadata": {},
   "source": [
    "**Question for you** Is the standard deviation of the sample means from the simple random samples drawn from \"x\" of size 10 closer to $\\sigma$ or $\\sigma / \\sqrt{n}$? Please answer the question after calculating $\\sigma / \\sqrt{n}$ below:"
   ]
  },
  {
   "cell_type": "code",
   "execution_count": 29,
   "metadata": {},
   "outputs": [
    {
     "data": {
      "text/html": [
       "1.58113883008419"
      ],
      "text/latex": [
       "1.58113883008419"
      ],
      "text/markdown": [
       "1.58113883008419"
      ],
      "text/plain": [
       "[1] 1.581139"
      ]
     },
     "metadata": {},
     "output_type": "display_data"
    }
   ],
   "source": [
    "5 / sqrt(10)"
   ]
  },
  {
   "cell_type": "markdown",
   "metadata": {},
   "source": [
    "Below, we are going to compare the histograms for the population distribution and the sampling distribution for the mean of \"x\". We are going to plot the histogram for the sampling distribution (of the sample means from the 1,000 simple random samples from \"x\") directly on top of the population distribution. We are going to make the colors slightly translucent so that you can see the population distribution although it is behind the sampling distribution. Please ignore the complicated looking code and only enjoy the picture!"
   ]
  },
  {
   "cell_type": "code",
   "execution_count": 41,
   "metadata": {},
   "outputs": [
    {
     "data": {
      "image/png": "[encoded data removed]",
      "text/plain": [
       "plot without title"
      ]
     },
     "metadata": {},
     "output_type": "display_data"
    }
   ],
   "source": [
    "dfPopSamp <- rbind(data.frame(x = x, Distribution = \"Population\"),\n",
    "                   data.frame(x = meansOneThousandSamples, Distribution = \"Sampling\"))\n",
    "ggplot(dfPopSamp, aes(x = x, fill = Distribution)) + \n",
    "    geom_histogram(alpha = 0.65, position = \"identity\", color = \"black\", bins = 25) + theme_bw() + ylab(\"Frequency\")"
   ]
  },
  {
   "cell_type": "markdown",
   "metadata": {},
   "source": [
    "**Question for you** Looking at the histograms above, what would you say about the relationship between the population distribution and the sampling distribution of the sample mean (from samples of size 10)? Do they share the same mean? Do they have the same variance / standard deviation? Is the variability in one greater than the variablility in the other? Please answer these questions below."
   ]
  },
  {
   "cell_type": "markdown",
   "metadata": {},
   "source": [
    "# 2) Sampling distributions for other statistics from a Normal distribution"
   ]
  },
  {
   "cell_type": "markdown",
   "metadata": {},
   "source": [
    "## 2.1) Sampling distribution of the sample median:"
   ]
  },
  {
   "cell_type": "markdown",
   "metadata": {},
   "source": [
    "We have now seen what the sampling distribution looks like when we compute the sample mean for many simple random samples drawn from a normal distribution. Now let's study the sampling distribution for another statistic such as the median. First lets remind ourselvs that we had a matrix that had six simple random samples from our normal population distribution \"x\". We can see the first sample again below:"
   ]
  },
  {
   "cell_type": "code",
   "execution_count": 42,
   "metadata": {},
   "outputs": [
    {
     "data": {
      "text/html": [
       "<ol class=list-inline>\n",
       "\t<li>2.21159876802747</li>\n",
       "\t<li>10.1211191467985</li>\n",
       "\t<li>11.3021792937794</li>\n",
       "\t<li>14.9594663957243</li>\n",
       "\t<li>16.5647870480756</li>\n",
       "\t<li>9.16808082584317</li>\n",
       "\t<li>8.53737138560767</li>\n",
       "\t<li>7.56055585437488</li>\n",
       "\t<li>7.905851389322</li>\n",
       "\t<li>14.2032146392753</li>\n",
       "</ol>\n"
      ],
      "text/latex": [
       "\\begin{enumerate*}\n",
       "\\item 2.21159876802747\n",
       "\\item 10.1211191467985\n",
       "\\item 11.3021792937794\n",
       "\\item 14.9594663957243\n",
       "\\item 16.5647870480756\n",
       "\\item 9.16808082584317\n",
       "\\item 8.53737138560767\n",
       "\\item 7.56055585437488\n",
       "\\item 7.905851389322\n",
       "\\item 14.2032146392753\n",
       "\\end{enumerate*}\n"
      ],
      "text/markdown": [
       "1. 2.21159876802747\n",
       "2. 10.1211191467985\n",
       "3. 11.3021792937794\n",
       "4. 14.9594663957243\n",
       "5. 16.5647870480756\n",
       "6. 9.16808082584317\n",
       "7. 8.53737138560767\n",
       "8. 7.56055585437488\n",
       "9. 7.905851389322\n",
       "10. 14.2032146392753\n",
       "\n",
       "\n"
      ],
      "text/plain": [
       " [1]  2.211599 10.121119 11.302179 14.959466 16.564787  9.168081  8.537371\n",
       " [8]  7.560556  7.905851 14.203215"
      ]
     },
     "metadata": {},
     "output_type": "display_data"
    }
   ],
   "source": [
    "sixSamples[, 1]"
   ]
  },
  {
   "cell_type": "markdown",
   "metadata": {},
   "source": [
    "And we can compute the median for this sample:"
   ]
  },
  {
   "cell_type": "code",
   "execution_count": 43,
   "metadata": {},
   "outputs": [
    {
     "data": {
      "text/html": [
       "9.64459998632082"
      ],
      "text/latex": [
       "9.64459998632082"
      ],
      "text/markdown": [
       "9.64459998632082"
      ],
      "text/plain": [
       "[1] 9.6446"
      ]
     },
     "metadata": {},
     "output_type": "display_data"
    }
   ],
   "source": [
    "median(sixSamples[, 1])"
   ]
  },
  {
   "cell_type": "markdown",
   "metadata": {},
   "source": [
    "As before we can use the \"apply\" function to calculate the median for each of the six samples:"
   ]
  },
  {
   "cell_type": "code",
   "execution_count": 45,
   "metadata": {},
   "outputs": [
    {
     "data": {
      "text/html": [
       "<ol class=list-inline>\n",
       "\t<li>9.64459998632082</li>\n",
       "\t<li>11.7012598084911</li>\n",
       "\t<li>11.519981459919</li>\n",
       "\t<li>10.7793711076682</li>\n",
       "\t<li>10.975146340123</li>\n",
       "\t<li>11.6664582491902</li>\n",
       "</ol>\n"
      ],
      "text/latex": [
       "\\begin{enumerate*}\n",
       "\\item 9.64459998632082\n",
       "\\item 11.7012598084911\n",
       "\\item 11.519981459919\n",
       "\\item 10.7793711076682\n",
       "\\item 10.975146340123\n",
       "\\item 11.6664582491902\n",
       "\\end{enumerate*}\n"
      ],
      "text/markdown": [
       "1. 9.64459998632082\n",
       "2. 11.7012598084911\n",
       "3. 11.519981459919\n",
       "4. 10.7793711076682\n",
       "5. 10.975146340123\n",
       "6. 11.6664582491902\n",
       "\n",
       "\n"
      ],
      "text/plain": [
       "[1]  9.64460 11.70126 11.51998 10.77937 10.97515 11.66646"
      ]
     },
     "metadata": {},
     "output_type": "display_data"
    }
   ],
   "source": [
    "apply(sixSamples, 2, median)"
   ]
  },
  {
   "cell_type": "markdown",
   "metadata": {},
   "source": [
    "Now also remeber that we have a set of 1,000 simple random samples from \"x\". Let's calculate the median for each of these 1,000 samples and save it as \"medianOneThousandSamples\":"
   ]
  },
  {
   "cell_type": "code",
   "execution_count": 46,
   "metadata": {},
   "outputs": [],
   "source": [
    "medianOneThousandSamples <- apply(oneThousandSamples, 2, median)"
   ]
  },
  {
   "cell_type": "markdown",
   "metadata": {},
   "source": [
    "Let's take a look at the histogram of this sampling distribution (of the sample medians):"
   ]
  },
  {
   "cell_type": "code",
   "execution_count": 47,
   "metadata": {},
   "outputs": [
    {
     "data": {
      "image/png": "[encoded data removed]",
      "text/plain": [
       "Plot with title \"Histogram of medianOneThousandSamples\""
      ]
     },
     "metadata": {},
     "output_type": "display_data"
    }
   ],
   "source": [
    "hist(medianOneThousandSamples)"
   ]
  },
  {
   "cell_type": "markdown",
   "metadata": {},
   "source": [
    "We can estimate the mean of the sampling distribution of the median:"
   ]
  },
  {
   "cell_type": "code",
   "execution_count": 52,
   "metadata": {},
   "outputs": [
    {
     "data": {
      "text/html": [
       "10.0729605836311"
      ],
      "text/latex": [
       "10.0729605836311"
      ],
      "text/markdown": [
       "10.0729605836311"
      ],
      "text/plain": [
       "[1] 10.07296"
      ]
     },
     "metadata": {},
     "output_type": "display_data"
    }
   ],
   "source": [
    "mean(medianOneThousandSamples)"
   ]
  },
  {
   "cell_type": "markdown",
   "metadata": {},
   "source": [
    "We can also estimate the standard deviation of the sampling distribution of the median, as shown below. "
   ]
  },
  {
   "cell_type": "code",
   "execution_count": 56,
   "metadata": {},
   "outputs": [
    {
     "data": {
      "text/html": [
       "1.91559776944808"
      ],
      "text/latex": [
       "1.91559776944808"
      ],
      "text/markdown": [
       "1.91559776944808"
      ],
      "text/plain": [
       "[1] 1.915598"
      ]
     },
     "metadata": {},
     "output_type": "display_data"
    }
   ],
   "source": [
    "sd(medianOneThousandSamples)"
   ]
  },
  {
   "cell_type": "markdown",
   "metadata": {},
   "source": [
    "While we don't discuss this in this course, it is known from theory that the standard deviation of the sampling distribution of the median is $\\sigma_{\\text{median}} = 1.253 \\frac{\\sigma}{\\sqrt{n}}$. Let's see if our calculated standard deviation from our medians from the 1,000 samples is close to this theoretical value:"
   ]
  },
  {
   "cell_type": "code",
   "execution_count": 54,
   "metadata": {},
   "outputs": [
    {
     "data": {
      "text/html": [
       "1.98116695409549"
      ],
      "text/latex": [
       "1.98116695409549"
      ],
      "text/markdown": [
       "1.98116695409549"
      ],
      "text/plain": [
       "[1] 1.981167"
      ]
     },
     "metadata": {},
     "output_type": "display_data"
    }
   ],
   "source": [
    "1.253 * 5 / sqrt(10)"
   ]
  },
  {
   "cell_type": "markdown",
   "metadata": {},
   "source": [
    "## 2.2) Sampling distribution of the sample standard deviation"
   ]
  },
  {
   "cell_type": "markdown",
   "metadata": {},
   "source": [
    "Now, let's also calculate the sample standard deviation of each one of the 1,000 simple random samples from \"x\":"
   ]
  },
  {
   "cell_type": "code",
   "execution_count": 48,
   "metadata": {},
   "outputs": [],
   "source": [
    "sdOneThousandSamples <- apply(oneThousandSamples, 2, sd)"
   ]
  },
  {
   "cell_type": "markdown",
   "metadata": {},
   "source": [
    "Now let's make a histogram for the sampling distribution of the sample standard deviation given samples of size 10 from \"x\""
   ]
  },
  {
   "cell_type": "code",
   "execution_count": 51,
   "metadata": {},
   "outputs": [
    {
     "data": {
      "image/png": "[encoded data removed]",
      "text/plain": [
       "Plot with title \"Histogram of sdOneThousandSamples\""
      ]
     },
     "metadata": {},
     "output_type": "display_data"
    }
   ],
   "source": [
    "hist(sdOneThousandSamples)"
   ]
  },
  {
   "cell_type": "markdown",
   "metadata": {},
   "source": [
    "## 2.3) Sampling distribution of the sample max:"
   ]
  },
  {
   "cell_type": "markdown",
   "metadata": {},
   "source": [
    "Now, let's see what the sampling distribution of the sample maximum is from our set of one thousand samples. We will use the \"apply\" command as before to calculate the maximum value for each of the 1,000 samples of size 10 that we drew from our population \"x\":"
   ]
  },
  {
   "cell_type": "code",
   "execution_count": 57,
   "metadata": {},
   "outputs": [],
   "source": [
    "maxOneThousandSamples <- apply(oneThousandSamples, 2, max)"
   ]
  },
  {
   "cell_type": "markdown",
   "metadata": {},
   "source": [
    "Now let's make a histogram showing the distribution of sample maximums:"
   ]
  },
  {
   "cell_type": "code",
   "execution_count": 58,
   "metadata": {},
   "outputs": [
    {
     "data": {
      "image/png": "[encoded data removed]",
      "text/plain": [
       "Plot with title \"Histogram of maxOneThousandSamples\""
      ]
     },
     "metadata": {},
     "output_type": "display_data"
    }
   ],
   "source": [
    "hist(maxOneThousandSamples)"
   ]
  },
  {
   "cell_type": "markdown",
   "metadata": {},
   "source": [
    "## 2.4) Question:\n",
    "Now let's take a look at the sampling distribution of the sample minimum using the 1,000 samples we have from \"x\". Below, insert a new cell and create \"minOneThousandSamples\" using the \"apply\" function. You should be able to copy, paste, and modify the code we utilized above for calculating the sample maximums called \"maxOneThousandSamples\". Then insert a new cell and make a histogram of \"minOneThousandSamples\"."
   ]
  },
  {
   "cell_type": "markdown",
   "metadata": {},
   "source": [
    "## 2.5) Question:\n",
    "We have made histograms of the sampling distributions of the mean, median, sample standard deviation, sample maximum value, and sample minimum value. They all have similar shapes. Would you say they generally have the same type of distribution? If so what kind? "
   ]
  },
  {
   "cell_type": "markdown",
   "metadata": {},
   "source": [
    "# 3) A real world example"
   ]
  },
  {
   "cell_type": "markdown",
   "metadata": {},
   "source": [
    "The importance of the central limit theorem is that the sampling distribution of statistics that we are interested in (such as the mean, median, variance, or even quartiles) are approximately normal (and this approximation gets better and better as our sample size increases). We can actually apply the central limit theorem for discrete random variables. Below we will work through an example using the Binomial distribution. First let's generate 10,000 random numbers from a Binomial distribution with $n=1000$ and $\\pi = .003$. We will use the \"binom\" function which has the following form \"rbinom(Number of random numbers, $n$, $\\pi$)\". We will save these random numbers as \"a\". "
   ]
  },
  {
   "cell_type": "code",
   "execution_count": 34,
   "metadata": {},
   "outputs": [],
   "source": [
    "set.seed(2)\n",
    "a <- rbinom(10000, 1000, 0.003)"
   ]
  },
  {
   "cell_type": "markdown",
   "metadata": {},
   "source": [
    "Let's take a look at the first 100 numbers that are in \"a\":"
   ]
  },
  {
   "cell_type": "code",
   "execution_count": 35,
   "metadata": {},
   "outputs": [
    {
     "data": {
      "text/html": [
       "<ol class=list-inline>\n",
       "\t<li>1</li>\n",
       "\t<li>4</li>\n",
       "\t<li>3</li>\n",
       "\t<li>1</li>\n",
       "\t<li>6</li>\n",
       "\t<li>6</li>\n",
       "\t<li>1</li>\n",
       "\t<li>5</li>\n",
       "\t<li>3</li>\n",
       "\t<li>3</li>\n",
       "\t<li>3</li>\n",
       "\t<li>2</li>\n",
       "\t<li>4</li>\n",
       "\t<li>1</li>\n",
       "\t<li>2</li>\n",
       "\t<li>5</li>\n",
       "\t<li>7</li>\n",
       "\t<li>2</li>\n",
       "\t<li>3</li>\n",
       "\t<li>1</li>\n",
       "\t<li>4</li>\n",
       "\t<li>2</li>\n",
       "\t<li>5</li>\n",
       "\t<li>1</li>\n",
       "\t<li>2</li>\n",
       "\t<li>3</li>\n",
       "\t<li>1</li>\n",
       "\t<li>2</li>\n",
       "\t<li>6</li>\n",
       "\t<li>1</li>\n",
       "\t<li>0</li>\n",
       "\t<li>1</li>\n",
       "\t<li>4</li>\n",
       "\t<li>5</li>\n",
       "\t<li>3</li>\n",
       "\t<li>3</li>\n",
       "\t<li>5</li>\n",
       "\t<li>2</li>\n",
       "\t<li>4</li>\n",
       "\t<li>1</li>\n",
       "\t<li>7</li>\n",
       "\t<li>2</li>\n",
       "\t<li>1</li>\n",
       "\t<li>1</li>\n",
       "\t<li>6</li>\n",
       "\t<li>4</li>\n",
       "\t<li>7</li>\n",
       "\t<li>2</li>\n",
       "\t<li>3</li>\n",
       "\t<li>4</li>\n",
       "\t<li>0</li>\n",
       "\t<li>0</li>\n",
       "\t<li>4</li>\n",
       "\t<li>6</li>\n",
       "\t<li>2</li>\n",
       "\t<li>4</li>\n",
       "\t<li>4</li>\n",
       "\t<li>8</li>\n",
       "\t<li>3</li>\n",
       "\t<li>4</li>\n",
       "\t<li>4</li>\n",
       "\t<li>5</li>\n",
       "\t<li>3</li>\n",
       "\t<li>2</li>\n",
       "\t<li>5</li>\n",
       "\t<li>3</li>\n",
       "\t<li>2</li>\n",
       "\t<li>3</li>\n",
       "\t<li>2</li>\n",
       "\t<li>1</li>\n",
       "\t<li>2</li>\n",
       "\t<li>2</li>\n",
       "\t<li>0</li>\n",
       "\t<li>1</li>\n",
       "\t<li>1</li>\n",
       "\t<li>4</li>\n",
       "\t<li>2</li>\n",
       "\t<li>5</li>\n",
       "\t<li>2</li>\n",
       "\t<li>3</li>\n",
       "\t<li>2</li>\n",
       "\t<li>4</li>\n",
       "\t<li>0</li>\n",
       "\t<li>2</li>\n",
       "\t<li>2</li>\n",
       "\t<li>5</li>\n",
       "\t<li>7</li>\n",
       "\t<li>2</li>\n",
       "\t<li>4</li>\n",
       "\t<li>2</li>\n",
       "\t<li>7</li>\n",
       "\t<li>2</li>\n",
       "\t<li>2</li>\n",
       "\t<li>3</li>\n",
       "\t<li>3</li>\n",
       "\t<li>1</li>\n",
       "\t<li>3</li>\n",
       "\t<li>1</li>\n",
       "\t<li>1</li>\n",
       "\t<li>3</li>\n",
       "</ol>\n"
      ],
      "text/latex": [
       "\\begin{enumerate*}\n",
       "\\item 1\n",
       "\\item 4\n",
       "\\item 3\n",
       "\\item 1\n",
       "\\item 6\n",
       "\\item 6\n",
       "\\item 1\n",
       "\\item 5\n",
       "\\item 3\n",
       "\\item 3\n",
       "\\item 3\n",
       "\\item 2\n",
       "\\item 4\n",
       "\\item 1\n",
       "\\item 2\n",
       "\\item 5\n",
       "\\item 7\n",
       "\\item 2\n",
       "\\item 3\n",
       "\\item 1\n",
       "\\item 4\n",
       "\\item 2\n",
       "\\item 5\n",
       "\\item 1\n",
       "\\item 2\n",
       "\\item 3\n",
       "\\item 1\n",
       "\\item 2\n",
       "\\item 6\n",
       "\\item 1\n",
       "\\item 0\n",
       "\\item 1\n",
       "\\item 4\n",
       "\\item 5\n",
       "\\item 3\n",
       "\\item 3\n",
       "\\item 5\n",
       "\\item 2\n",
       "\\item 4\n",
       "\\item 1\n",
       "\\item 7\n",
       "\\item 2\n",
       "\\item 1\n",
       "\\item 1\n",
       "\\item 6\n",
       "\\item 4\n",
       "\\item 7\n",
       "\\item 2\n",
       "\\item 3\n",
       "\\item 4\n",
       "\\item 0\n",
       "\\item 0\n",
       "\\item 4\n",
       "\\item 6\n",
       "\\item 2\n",
       "\\item 4\n",
       "\\item 4\n",
       "\\item 8\n",
       "\\item 3\n",
       "\\item 4\n",
       "\\item 4\n",
       "\\item 5\n",
       "\\item 3\n",
       "\\item 2\n",
       "\\item 5\n",
       "\\item 3\n",
       "\\item 2\n",
       "\\item 3\n",
       "\\item 2\n",
       "\\item 1\n",
       "\\item 2\n",
       "\\item 2\n",
       "\\item 0\n",
       "\\item 1\n",
       "\\item 1\n",
       "\\item 4\n",
       "\\item 2\n",
       "\\item 5\n",
       "\\item 2\n",
       "\\item 3\n",
       "\\item 2\n",
       "\\item 4\n",
       "\\item 0\n",
       "\\item 2\n",
       "\\item 2\n",
       "\\item 5\n",
       "\\item 7\n",
       "\\item 2\n",
       "\\item 4\n",
       "\\item 2\n",
       "\\item 7\n",
       "\\item 2\n",
       "\\item 2\n",
       "\\item 3\n",
       "\\item 3\n",
       "\\item 1\n",
       "\\item 3\n",
       "\\item 1\n",
       "\\item 1\n",
       "\\item 3\n",
       "\\end{enumerate*}\n"
      ],
      "text/markdown": [
       "1. 1\n",
       "2. 4\n",
       "3. 3\n",
       "4. 1\n",
       "5. 6\n",
       "6. 6\n",
       "7. 1\n",
       "8. 5\n",
       "9. 3\n",
       "10. 3\n",
       "11. 3\n",
       "12. 2\n",
       "13. 4\n",
       "14. 1\n",
       "15. 2\n",
       "16. 5\n",
       "17. 7\n",
       "18. 2\n",
       "19. 3\n",
       "20. 1\n",
       "21. 4\n",
       "22. 2\n",
       "23. 5\n",
       "24. 1\n",
       "25. 2\n",
       "26. 3\n",
       "27. 1\n",
       "28. 2\n",
       "29. 6\n",
       "30. 1\n",
       "31. 0\n",
       "32. 1\n",
       "33. 4\n",
       "34. 5\n",
       "35. 3\n",
       "36. 3\n",
       "37. 5\n",
       "38. 2\n",
       "39. 4\n",
       "40. 1\n",
       "41. 7\n",
       "42. 2\n",
       "43. 1\n",
       "44. 1\n",
       "45. 6\n",
       "46. 4\n",
       "47. 7\n",
       "48. 2\n",
       "49. 3\n",
       "50. 4\n",
       "51. 0\n",
       "52. 0\n",
       "53. 4\n",
       "54. 6\n",
       "55. 2\n",
       "56. 4\n",
       "57. 4\n",
       "58. 8\n",
       "59. 3\n",
       "60. 4\n",
       "61. 4\n",
       "62. 5\n",
       "63. 3\n",
       "64. 2\n",
       "65. 5\n",
       "66. 3\n",
       "67. 2\n",
       "68. 3\n",
       "69. 2\n",
       "70. 1\n",
       "71. 2\n",
       "72. 2\n",
       "73. 0\n",
       "74. 1\n",
       "75. 1\n",
       "76. 4\n",
       "77. 2\n",
       "78. 5\n",
       "79. 2\n",
       "80. 3\n",
       "81. 2\n",
       "82. 4\n",
       "83. 0\n",
       "84. 2\n",
       "85. 2\n",
       "86. 5\n",
       "87. 7\n",
       "88. 2\n",
       "89. 4\n",
       "90. 2\n",
       "91. 7\n",
       "92. 2\n",
       "93. 2\n",
       "94. 3\n",
       "95. 3\n",
       "96. 1\n",
       "97. 3\n",
       "98. 1\n",
       "99. 1\n",
       "100. 3\n",
       "\n",
       "\n"
      ],
      "text/plain": [
       "  [1] 1 4 3 1 6 6 1 5 3 3 3 2 4 1 2 5 7 2 3 1 4 2 5 1 2 3 1 2 6 1 0 1 4 5 3 3 5\n",
       " [38] 2 4 1 7 2 1 1 6 4 7 2 3 4 0 0 4 6 2 4 4 8 3 4 4 5 3 2 5 3 2 3 2 1 2 2 0 1\n",
       " [75] 1 4 2 5 2 3 2 4 0 2 2 5 7 2 4 2 7 2 2 3 3 1 3 1 1 3"
      ]
     },
     "metadata": {},
     "output_type": "display_data"
    }
   ],
   "source": [
    "a[1:100]"
   ]
  },
  {
   "cell_type": "markdown",
   "metadata": {},
   "source": [
    "Now, please run the code below to make a histogram. "
   ]
  },
  {
   "cell_type": "code",
   "execution_count": 38,
   "metadata": {},
   "outputs": [
    {
     "data": {
      "image/png": "[encoded data removed]",
      "text/plain": [
       "Plot with title \"Histogram of a\""
      ]
     },
     "metadata": {},
     "output_type": "display_data"
    }
   ],
   "source": [
    "hist(a)"
   ]
  },
  {
   "cell_type": "markdown",
   "metadata": {},
   "source": [
    "When we make a histogram of \"a\", as above, we can notice that our distribution does not look like a normal distribution at all--it has a long right tail. "
   ]
  },
  {
   "cell_type": "markdown",
   "metadata": {},
   "source": [
    "Now let's see what happens when we take 1000 samples from our population of size 20 and calculate the sample mean. We will use the same process as we did below, that is we will use the replicate function to take 1000 samples from our population and we will save these samples as \"samplesFromBinomial\". We will then calculate the sample mean from each sample and call it \"meansSamplesFromBinomial\". Please run the code below to do this process."
   ]
  },
  {
   "cell_type": "code",
   "execution_count": 43,
   "metadata": {},
   "outputs": [],
   "source": [
    "set.seed(22)\n",
    "samplesFromBinomial <- replicate(1000, sample(a, 20))\n",
    "meansSamplesFromBinomial <- apply(samplesFromBinomial, 2, mean)"
   ]
  },
  {
   "cell_type": "markdown",
   "metadata": {},
   "source": [
    "Now let's take a look at what the first 10 sample means are:"
   ]
  },
  {
   "cell_type": "code",
   "execution_count": 45,
   "metadata": {},
   "outputs": [
    {
     "data": {
      "text/html": [
       "<ol class=list-inline>\n",
       "\t<li>2.8</li>\n",
       "\t<li>3.15</li>\n",
       "\t<li>2.85</li>\n",
       "\t<li>3.7</li>\n",
       "\t<li>3.05</li>\n",
       "\t<li>2.85</li>\n",
       "\t<li>3.15</li>\n",
       "\t<li>3.15</li>\n",
       "\t<li>3.2</li>\n",
       "\t<li>3.2</li>\n",
       "</ol>\n"
      ],
      "text/latex": [
       "\\begin{enumerate*}\n",
       "\\item 2.8\n",
       "\\item 3.15\n",
       "\\item 2.85\n",
       "\\item 3.7\n",
       "\\item 3.05\n",
       "\\item 2.85\n",
       "\\item 3.15\n",
       "\\item 3.15\n",
       "\\item 3.2\n",
       "\\item 3.2\n",
       "\\end{enumerate*}\n"
      ],
      "text/markdown": [
       "1. 2.8\n",
       "2. 3.15\n",
       "3. 2.85\n",
       "4. 3.7\n",
       "5. 3.05\n",
       "6. 2.85\n",
       "7. 3.15\n",
       "8. 3.15\n",
       "9. 3.2\n",
       "10. 3.2\n",
       "\n",
       "\n"
      ],
      "text/plain": [
       " [1] 2.80 3.15 2.85 3.70 3.05 2.85 3.15 3.15 3.20 3.20"
      ]
     },
     "metadata": {},
     "output_type": "display_data"
    }
   ],
   "source": [
    "meansSamplesFromBinomial[1:10]"
   ]
  },
  {
   "cell_type": "markdown",
   "metadata": {},
   "source": [
    "And let's make a histogram of the sampling distribution of the sample means from our Binomial distribution:"
   ]
  },
  {
   "cell_type": "code",
   "execution_count": 46,
   "metadata": {},
   "outputs": [
    {
     "data": {
      "image/png": "[encoded data removed]",
      "text/plain": [
       "Plot with title \"Histogram of meansSamplesFromBinomial\""
      ]
     },
     "metadata": {},
     "output_type": "display_data"
    }
   ],
   "source": [
    "hist(meansSamplesFromBinomial)"
   ]
  },
  {
   "cell_type": "markdown",
   "metadata": {},
   "source": [
    "**Question for you** What distribution does the above histogram appear to be? Please answer the question below in markdown (text)."
   ]
  },
  {
   "cell_type": "markdown",
   "metadata": {},
   "source": [
    "**Question for you** What does the mean of the above histogram appear to be? Please take a guess and record your answer below as markdown."
   ]
  },
  {
   "cell_type": "markdown",
   "metadata": {},
   "source": [
    "Now let's compute the mean of that sampling distribution:"
   ]
  },
  {
   "cell_type": "code",
   "execution_count": 47,
   "metadata": {},
   "outputs": [
    {
     "data": {
      "text/html": [
       "3.0406"
      ],
      "text/latex": [
       "3.0406"
      ],
      "text/markdown": [
       "3.0406"
      ],
      "text/plain": [
       "[1] 3.0406"
      ]
     },
     "metadata": {},
     "output_type": "display_data"
    }
   ],
   "source": [
    "mean(meansSamplesFromBinomial)"
   ]
  },
  {
   "cell_type": "markdown",
   "metadata": {},
   "source": [
    "Interesting, the mean of the sampling distribution is about 3.0. Where does this number come from?! **Question for you**:  Below please calculate $\\pi * n$. To do this please multiply the value of $\\pi$ times the value of $n$ in code below:"
   ]
  },
  {
   "cell_type": "markdown",
   "metadata": {},
   "source": [
    "**Extra credit bonus question Part 1!**. (This question is all or nothing--no partial credit). Above we saw that if we have a sample from a binomial distribution, if we compute the sample mean it will somehow be related to $n$ and $\\pi$. Propose a formula for determining the value of $\\pi$ if you did not know it (but you did know $n$). That is if you have computed $\\bar{X}$ and you know $n$, what is a good guess for the $\\pi$?"
   ]
  },
  {
   "cell_type": "markdown",
   "metadata": {},
   "source": [
    "**Extra credit bonus question Part 2!**. Imagine you have the following sample \"b\" that is from a Binomial random variable with $n = 20$. You do not know $\\pi$. Try to make a good guess as to the value of $\\pi$. Record your answer at the end of this notebook in markdown. "
   ]
  },
  {
   "cell_type": "code",
   "execution_count": 48,
   "metadata": {},
   "outputs": [
    {
     "data": {
      "text/html": [
       "<ol class=list-inline>\n",
       "\t<li>4</li>\n",
       "\t<li>9</li>\n",
       "\t<li>6</li>\n",
       "\t<li>4</li>\n",
       "\t<li>8</li>\n",
       "\t<li>6</li>\n",
       "\t<li>9</li>\n",
       "\t<li>3</li>\n",
       "\t<li>6</li>\n",
       "\t<li>9</li>\n",
       "\t<li>1</li>\n",
       "\t<li>7</li>\n",
       "\t<li>4</li>\n",
       "\t<li>4</li>\n",
       "\t<li>6</li>\n",
       "\t<li>4</li>\n",
       "\t<li>7</li>\n",
       "\t<li>4</li>\n",
       "\t<li>4</li>\n",
       "\t<li>3</li>\n",
       "</ol>\n"
      ],
      "text/latex": [
       "\\begin{enumerate*}\n",
       "\\item 4\n",
       "\\item 9\n",
       "\\item 6\n",
       "\\item 4\n",
       "\\item 8\n",
       "\\item 6\n",
       "\\item 9\n",
       "\\item 3\n",
       "\\item 6\n",
       "\\item 9\n",
       "\\item 1\n",
       "\\item 7\n",
       "\\item 4\n",
       "\\item 4\n",
       "\\item 6\n",
       "\\item 4\n",
       "\\item 7\n",
       "\\item 4\n",
       "\\item 4\n",
       "\\item 3\n",
       "\\end{enumerate*}\n"
      ],
      "text/markdown": [
       "1. 4\n",
       "2. 9\n",
       "3. 6\n",
       "4. 4\n",
       "5. 8\n",
       "6. 6\n",
       "7. 9\n",
       "8. 3\n",
       "9. 6\n",
       "10. 9\n",
       "11. 1\n",
       "12. 7\n",
       "13. 4\n",
       "14. 4\n",
       "15. 6\n",
       "16. 4\n",
       "17. 7\n",
       "18. 4\n",
       "19. 4\n",
       "20. 3\n",
       "\n",
       "\n"
      ],
      "text/plain": [
       " [1] 4 9 6 4 8 6 9 3 6 9 1 7 4 4 6 4 7 4 4 3"
      ]
     },
     "metadata": {},
     "output_type": "display_data"
    }
   ],
   "source": [
    "b <- c(4, 9, 6, 4, 8, 6, 9, 3, 6, 9, 1, 7, 4, 4, 6, 4, 7, 4, 4, 3)\n",
    "b"
   ]
  }
 ],
 "metadata": {
  "kernelspec": {
   "display_name": "R",
   "language": "R",
   "name": "ir"
  },
  "language_info": {
   "codemirror_mode": "r",
   "file_extension": ".r",
   "mimetype": "text/x-r-source",
   "name": "R",
   "pygments_lexer": "r",
   "version": "3.6.1"
  }
 },
 "nbformat": 4,
 "nbformat_minor": 2
}
