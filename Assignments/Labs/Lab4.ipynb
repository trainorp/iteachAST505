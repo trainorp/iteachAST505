{
 "cells": [
  {
   "cell_type": "markdown",
   "metadata": {},
   "source": [
    "# 0) Instructions:\n",
    "Please complete the workbook below. Some of the calculations are already ready to be \"run\". However, please read the text carefully to find questions that you should answer for credit. Please remember to answer in text by inserting new text cells. In a few questions, you will need to do some calculations on your own. Hint: for these calculations you can copy, paste, and modify code that is above the calculation that you need to do. You may work by yourself or in groups of 2. Please remember to put your name on top, remember to save the workbook, and remember to upload to Canvas.\n"
   ]
  },
  {
   "cell_type": "markdown",
   "metadata": {},
   "source": [
    "Please run the code below and ignore the output. This code is simply setting the height and width of the plots we will make later on and loading a set of software \"tidyverse\" that we will use."
   ]
  },
  {
   "cell_type": "code",
   "execution_count": null,
   "metadata": {},
   "outputs": [],
   "source": [
    "options(repr.plot.width = 6, repr.plot.height = 4)\n",
    "library(tidyverse)"
   ]
  },
  {
   "cell_type": "markdown",
   "metadata": {},
   "source": [
    "# 1) Sampling distributions for the mean from Normal population\n",
    "The first thing we will do today is generate 1,000 numbers from a normal distribution with $\\mu = 10$ and $s = 5$. This data represents some theoretical population. Please notice I have added the \"set.seed(3)\" function before using the \"rnorm\" command. The \"set.seed\" function when placed *right before* a command such as \"rnorm\" that generates random numbers makes these lists of random numbers reproducible. Using \"set.seed(3)\" means that the random numbers that are generated from the normal distribution will be the same if you run \"set.seed(3)\" and \"rnorm\" together again. This way as each student saves the 1,000 random numbers as \"x\", we will all have the same \"x\". Below please run the code to generate the random numbers from the normal distribution with $\\mu = 10$ and $s = 5$."
   ]
  },
  {
   "cell_type": "code",
   "execution_count": null,
   "metadata": {},
   "outputs": [],
   "source": [
    "set.seed(3)\n",
    "x <- rnorm(n = 1000, mean = 10, sd = 5)"
   ]
  },
  {
   "cell_type": "markdown",
   "metadata": {},
   "source": [
    "Below we are going to learn a tiny bit of programming in R. We have already generated 1,000 random numbers from a normal distribution and save them as \"x\". We can take a look at individual values from \"x\" by doing the following. The first \"x[1]\" returns the first number from \"x\":"
   ]
  },
  {
   "cell_type": "code",
   "execution_count": null,
   "metadata": {},
   "outputs": [],
   "source": [
    "x[1]"
   ]
  },
  {
   "cell_type": "markdown",
   "metadata": {},
   "source": [
    "Now to return the first and the second numbers from \"x\":"
   ]
  },
  {
   "cell_type": "code",
   "execution_count": null,
   "metadata": {},
   "outputs": [],
   "source": [
    "x[1:2]"
   ]
  },
  {
   "cell_type": "markdown",
   "metadata": {},
   "source": [
    "And now to return the first 25 numbers from \"x\":"
   ]
  },
  {
   "cell_type": "code",
   "execution_count": null,
   "metadata": {},
   "outputs": [],
   "source": [
    "x[1:25]"
   ]
  },
  {
   "cell_type": "markdown",
   "metadata": {},
   "source": [
    "Okay now let's make a histogram and then we will be ready for our main topic \"Sampling Distributions\". The histogram below will be for our population distribution that we have created and saved as \"x\":"
   ]
  },
  {
   "cell_type": "code",
   "execution_count": null,
   "metadata": {},
   "outputs": [],
   "source": [
    "hist(x, breaks = 15)"
   ]
  },
  {
   "cell_type": "markdown",
   "metadata": {},
   "source": [
    "Now that we have our population distribution, let's take a sample from it. Notice that we are going to use \"set.seed\" again. Remember that simple random sampling is a \"random\" process (meaning we will get a different sample each time we do it). By using \"set.seed\" we make sure that we get the same sample each time. If we want true random sampling we should not use \"set.seed\". Okay, below lets take a sample of 5 numbers from our population distribution \"x\" and save it as \"xSample1\":"
   ]
  },
  {
   "cell_type": "code",
   "execution_count": null,
   "metadata": {},
   "outputs": [],
   "source": [
    "set.seed(11)\n",
    "xSample1 <- sample(x, 5)"
   ]
  },
  {
   "cell_type": "markdown",
   "metadata": {},
   "source": [
    "Let's look at what is in \"xSample1\":"
   ]
  },
  {
   "cell_type": "code",
   "execution_count": null,
   "metadata": {},
   "outputs": [],
   "source": [
    "xSample1"
   ]
  },
  {
   "cell_type": "markdown",
   "metadata": {},
   "source": [
    "Now, let's take the mean of the values in this sample:"
   ]
  },
  {
   "cell_type": "code",
   "execution_count": null,
   "metadata": {},
   "outputs": [],
   "source": [
    "mean(xSample1)"
   ]
  },
  {
   "cell_type": "markdown",
   "metadata": {},
   "source": [
    "Okay so we have drawn a simple random sample of size 5 and calculated the sample mean for that sample. Let's do the same thing for 4 more samples: "
   ]
  },
  {
   "cell_type": "code",
   "execution_count": null,
   "metadata": {},
   "outputs": [],
   "source": [
    "set.seed(12)\n",
    "xSample2 <- sample(x, 5)\n",
    "\n",
    "set.seed(13)\n",
    "xSample3 <- sample(x, 5)\n",
    "\n",
    "set.seed(14)\n",
    "xSample4 <- sample(x, 5)\n",
    "\n",
    "set.seed(15)\n",
    "xSample5 <- sample(x, 5)"
   ]
  },
  {
   "cell_type": "markdown",
   "metadata": {},
   "source": [
    "**Your turn!** Below, please create one more simple random sample called \"xSample6\" and please run the command \"set.seed(16)\" before making \"xSample6\"."
   ]
  },
  {
   "cell_type": "markdown",
   "metadata": {},
   "source": [
    "Now lets calculate the sample mean of all the sample means by hand. Yes this is a sample mean of sample means. Make sure you have already created \"xSample6\" or you will get an error when you run the code below to calculate the mean of means:"
   ]
  },
  {
   "cell_type": "code",
   "execution_count": null,
   "metadata": {},
   "outputs": [],
   "source": [
    "(mean(xSample1) + mean(xSample2) + mean(xSample3) + mean(xSample4) + mean(xSample5) + mean(xSample6)) / 6"
   ]
  },
  {
   "cell_type": "markdown",
   "metadata": {},
   "source": [
    "As you might remember we can do this dirrectly using the mean command: "
   ]
  },
  {
   "cell_type": "code",
   "execution_count": null,
   "metadata": {},
   "outputs": [],
   "source": [
    "mean(c(mean(xSample1), mean(xSample2), mean(xSample3), mean(xSample4), mean(xSample5)), mean(xSample6))"
   ]
  },
  {
   "cell_type": "markdown",
   "metadata": {},
   "source": [
    "**Question for you**. Is the mean of sample means close to the population mean?"
   ]
  },
  {
   "cell_type": "markdown",
   "metadata": {},
   "source": [
    "Just as we can calculate the mean of sample means from our simple random samples, we can calculate their sample standard deviations:"
   ]
  },
  {
   "cell_type": "code",
   "execution_count": null,
   "metadata": {},
   "outputs": [],
   "source": [
    "sd(c(mean(xSample1), mean(xSample2), mean(xSample3), mean(xSample4), mean(xSample5), mean(xSample6)))"
   ]
  },
  {
   "cell_type": "markdown",
   "metadata": {},
   "source": [
    "**Question for you**. Is the standard deviation of sample means close to the population standard deviation, $\\sigma$? Or is it closer to $\\sigma / \\sqrt{n}$? Run the code below to calculate $\\sigma / \\sqrt{n}$, and then answer these questions in \"markdown\" below that calculation."
   ]
  },
  {
   "cell_type": "code",
   "execution_count": null,
   "metadata": {},
   "outputs": [],
   "source": [
    "5 / sqrt(5)"
   ]
  },
  {
   "cell_type": "markdown",
   "metadata": {},
   "source": [
    "So now, what if we wanted to repeat this process of drawing a simple random sample and calculating each sample mean many more times than the 6 times we have done so far? We can use the \"replicate\" function, which simply takes a process and replicates it a bunch of times. For example, run the code below and then we will investigate what was done:"
   ]
  },
  {
   "cell_type": "code",
   "execution_count": null,
   "metadata": {},
   "outputs": [],
   "source": [
    "set.seed(333)\n",
    "sixSamples <- replicate(6, sample(x, 10))"
   ]
  },
  {
   "cell_type": "markdown",
   "metadata": {},
   "source": [
    "We generated a matrix containing 6 simple random samples of size 10 from \"x\". Let's view these below. Each column is a simple random sample (hence there are 6 columns). "
   ]
  },
  {
   "cell_type": "code",
   "execution_count": null,
   "metadata": {},
   "outputs": [],
   "source": [
    "sixSamples"
   ]
  },
  {
   "cell_type": "markdown",
   "metadata": {},
   "source": [
    "In order to return the values that are in the first simple random sample we would use the following \"sixSamples[, 1]\", as below. This is asking for the first column of this matrix. This first column is the first simple random sample:"
   ]
  },
  {
   "cell_type": "code",
   "execution_count": null,
   "metadata": {},
   "outputs": [],
   "source": [
    "sixSamples[, 1]"
   ]
  },
  {
   "cell_type": "markdown",
   "metadata": {},
   "source": [
    "**Question for you** Please return the values from the second simple random sample using the same exact process as above (insert new cell below, and copy, paste, and modify the code from above)."
   ]
  },
  {
   "cell_type": "markdown",
   "metadata": {},
   "source": [
    "Okay, so now you can generate as many simple random samples as you would like from the population distribution \"x\". Now let's take the mean of the first simple random sample:"
   ]
  },
  {
   "cell_type": "code",
   "execution_count": null,
   "metadata": {},
   "outputs": [],
   "source": [
    "mean(sixSamples[, 1])"
   ]
  },
  {
   "cell_type": "markdown",
   "metadata": {},
   "source": [
    "Rather than computing 5 more means in order to get the means of each of our simple random samples, we can use the \"apply\" function. This function applies a calculation (such as finding the sample mean) across a matrix. More specifically, below you see \"apply(sixSamples, 2, mean)\". This is going to take the mean of each of the columns of \"sixSamples\". The number 2 tells us to take the mean by column (instead of by rows). So by running this command we will compute the sample mean for each of our simple random samples from \"x\" in one command:"
   ]
  },
  {
   "cell_type": "code",
   "execution_count": null,
   "metadata": {},
   "outputs": [],
   "source": [
    "apply(sixSamples, 2, mean)"
   ]
  },
  {
   "cell_type": "markdown",
   "metadata": {},
   "source": [
    "Let's go big. Below, lets generate 1000 simple random samples from \"x\" with each one having size 10. "
   ]
  },
  {
   "cell_type": "code",
   "execution_count": null,
   "metadata": {},
   "outputs": [],
   "source": [
    "set.seed(22)\n",
    "oneThousandSamples <- replicate(1000, sample(x, 10))"
   ]
  },
  {
   "cell_type": "markdown",
   "metadata": {},
   "source": [
    "Now lets compute the sample mean for every single one of the 1,000 samples and let's save this as \"meansOneThousandSamples\":"
   ]
  },
  {
   "cell_type": "code",
   "execution_count": null,
   "metadata": {},
   "outputs": [],
   "source": [
    "meansOneThousandSamples <- apply(oneThousandSamples, 2, mean)"
   ]
  },
  {
   "cell_type": "markdown",
   "metadata": {},
   "source": [
    "To see the first 10 sample means, we could ask for them:"
   ]
  },
  {
   "cell_type": "code",
   "execution_count": null,
   "metadata": {},
   "outputs": [],
   "source": [
    "meansOneThousandSamples[1:10]"
   ]
  },
  {
   "cell_type": "markdown",
   "metadata": {},
   "source": [
    "Now we are getting to the very important part! Let's make a histogram of the sample means of the 1,000 samples that were generated from our population distribution \"x\". We call this a sampling distribution. It is the distribution of a statistic (the mean) that we have computed from sets of samples."
   ]
  },
  {
   "cell_type": "code",
   "execution_count": null,
   "metadata": {},
   "outputs": [],
   "source": [
    "hist(meansOneThousandSamples)"
   ]
  },
  {
   "cell_type": "markdown",
   "metadata": {},
   "source": [
    "Below, let's calculate the mean and standard deviation of the sample means from our 1,000 simple random samples."
   ]
  },
  {
   "cell_type": "code",
   "execution_count": null,
   "metadata": {},
   "outputs": [],
   "source": [
    "mean(meansOneThousandSamples)"
   ]
  },
  {
   "cell_type": "code",
   "execution_count": null,
   "metadata": {},
   "outputs": [],
   "source": [
    "sd(meansOneThousandSamples)"
   ]
  },
  {
   "cell_type": "markdown",
   "metadata": {},
   "source": [
    "**Question for you** Is the standard deviation of the sample means from the simple random samples drawn from \"x\" of size 10 closer to $\\sigma$ or $\\sigma / \\sqrt{n}$? Please answer the question after calculating $\\sigma / \\sqrt{n}$ below:"
   ]
  },
  {
   "cell_type": "code",
   "execution_count": null,
   "metadata": {},
   "outputs": [],
   "source": [
    "5 / sqrt(10)"
   ]
  },
  {
   "cell_type": "markdown",
   "metadata": {},
   "source": [
    "Below, we are going to compare the histograms for the population distribution and the sampling distribution for the mean of \"x\". We are going to plot the histogram for the sampling distribution (of the sample means from the 1,000 simple random samples from \"x\") directly on top of the population distribution. We are going to make the colors slightly translucent so that you can see the population distribution although it is behind the sampling distribution. Please ignore the complicated looking code and only enjoy the picture!"
   ]
  },
  {
   "cell_type": "code",
   "execution_count": null,
   "metadata": {},
   "outputs": [],
   "source": [
    "dfPopSamp <- rbind(data.frame(x = x, Distribution = \"Population\"),\n",
    "                   data.frame(x = meansOneThousandSamples, Distribution = \"Sampling\"))\n",
    "ggplot(dfPopSamp, aes(x = x, fill = Distribution)) + \n",
    "    geom_histogram(alpha = 0.65, position = \"identity\", color = \"black\", bins = 25) + theme_bw() + ylab(\"Frequency\")"
   ]
  },
  {
   "cell_type": "markdown",
   "metadata": {},
   "source": [
    "**Question for you** Looking at the histograms above, what would you say about the relationship between the population distribution and the sampling distribution of the sample mean (from samples of size 10)? Do they share the same mean? Do they have the same variance / standard deviation? Is the variability in one greater than the variablility in the other? Please answer these questions below."
   ]
  },
  {
   "cell_type": "markdown",
   "metadata": {},
   "source": [
    "# 2) Sampling distributions for other statistics from a Normal distribution"
   ]
  },
  {
   "cell_type": "markdown",
   "metadata": {},
   "source": [
    "## 2.1) Sampling distribution of the sample median:"
   ]
  },
  {
   "cell_type": "markdown",
   "metadata": {},
   "source": [
    "We have now seen what the sampling distribution looks like when we compute the sample mean for many simple random samples drawn from a normal distribution. Now let's study the sampling distribution for another statistic such as the median. First lets remind ourselvs that we had a matrix that had six simple random samples from our normal population distribution \"x\". We can see the first sample again below:"
   ]
  },
  {
   "cell_type": "code",
   "execution_count": null,
   "metadata": {},
   "outputs": [],
   "source": [
    "sixSamples[, 1]"
   ]
  },
  {
   "cell_type": "markdown",
   "metadata": {},
   "source": [
    "And we can compute the median for this sample:"
   ]
  },
  {
   "cell_type": "code",
   "execution_count": null,
   "metadata": {},
   "outputs": [],
   "source": [
    "median(sixSamples[, 1])"
   ]
  },
  {
   "cell_type": "markdown",
   "metadata": {},
   "source": [
    "As before we can use the \"apply\" function to calculate the median for each of the six samples:"
   ]
  },
  {
   "cell_type": "code",
   "execution_count": null,
   "metadata": {},
   "outputs": [],
   "source": [
    "apply(sixSamples, 2, median)"
   ]
  },
  {
   "cell_type": "markdown",
   "metadata": {},
   "source": [
    "Now also remeber that we have a set of 1,000 simple random samples from \"x\". Let's calculate the median for each of these 1,000 samples and save it as \"medianOneThousandSamples\":"
   ]
  },
  {
   "cell_type": "code",
   "execution_count": null,
   "metadata": {},
   "outputs": [],
   "source": [
    "medianOneThousandSamples <- apply(oneThousandSamples, 2, median)"
   ]
  },
  {
   "cell_type": "markdown",
   "metadata": {},
   "source": [
    "Let's take a look at the histogram of this sampling distribution (of the sample medians):"
   ]
  },
  {
   "cell_type": "code",
   "execution_count": null,
   "metadata": {},
   "outputs": [],
   "source": [
    "hist(medianOneThousandSamples)"
   ]
  },
  {
   "cell_type": "markdown",
   "metadata": {},
   "source": [
    "We can estimate the mean of the sampling distribution of the median:"
   ]
  },
  {
   "cell_type": "code",
   "execution_count": null,
   "metadata": {},
   "outputs": [],
   "source": [
    "mean(medianOneThousandSamples)"
   ]
  },
  {
   "cell_type": "markdown",
   "metadata": {},
   "source": [
    "We can also estimate the standard deviation of the sampling distribution of the median, as shown below. "
   ]
  },
  {
   "cell_type": "code",
   "execution_count": null,
   "metadata": {},
   "outputs": [],
   "source": [
    "sd(medianOneThousandSamples)"
   ]
  },
  {
   "cell_type": "markdown",
   "metadata": {},
   "source": [
    "While we don't discuss this in this course, it is known from theory that the standard deviation of the sampling distribution of the median is $\\sigma_{\\text{median}} = 1.253 \\frac{\\sigma}{\\sqrt{n}}$. Let's see if our calculated standard deviation from our medians from the 1,000 samples is close to this theoretical value:"
   ]
  },
  {
   "cell_type": "code",
   "execution_count": null,
   "metadata": {},
   "outputs": [],
   "source": [
    "1.253 * 5 / sqrt(10)"
   ]
  },
  {
   "cell_type": "markdown",
   "metadata": {},
   "source": [
    "## 2.2) Sampling distribution of the sample standard deviation"
   ]
  },
  {
   "cell_type": "markdown",
   "metadata": {},
   "source": [
    "Now, let's also calculate the sample standard deviation of each one of the 1,000 simple random samples from \"x\":"
   ]
  },
  {
   "cell_type": "code",
   "execution_count": null,
   "metadata": {},
   "outputs": [],
   "source": [
    "sdOneThousandSamples <- apply(oneThousandSamples, 2, sd)"
   ]
  },
  {
   "cell_type": "markdown",
   "metadata": {},
   "source": [
    "Now let's make a histogram for the sampling distribution of the sample standard deviation given samples of size 10 from \"x\""
   ]
  },
  {
   "cell_type": "code",
   "execution_count": null,
   "metadata": {},
   "outputs": [],
   "source": [
    "hist(sdOneThousandSamples)"
   ]
  },
  {
   "cell_type": "markdown",
   "metadata": {},
   "source": [
    "## 2.3) Sampling distribution of the sample max:"
   ]
  },
  {
   "cell_type": "markdown",
   "metadata": {},
   "source": [
    "Now, let's see what the sampling distribution of the sample maximum is from our set of one thousand samples. We will use the \"apply\" command as before to calculate the maximum value for each of the 1,000 samples of size 10 that we drew from our population \"x\":"
   ]
  },
  {
   "cell_type": "code",
   "execution_count": null,
   "metadata": {},
   "outputs": [],
   "source": [
    "maxOneThousandSamples <- apply(oneThousandSamples, 2, max)"
   ]
  },
  {
   "cell_type": "markdown",
   "metadata": {},
   "source": [
    "Now let's make a histogram showing the distribution of sample maximums:"
   ]
  },
  {
   "cell_type": "code",
   "execution_count": null,
   "metadata": {},
   "outputs": [],
   "source": [
    "hist(maxOneThousandSamples)"
   ]
  },
  {
   "cell_type": "markdown",
   "metadata": {},
   "source": [
    "## 2.4) Question:\n",
    "Now let's take a look at the sampling distribution of the sample minimum using the 1,000 samples we have from \"x\". Below, insert a new cell and create \"minOneThousandSamples\" using the \"apply\" function. You should be able to copy, paste, and modify the code we utilized above for calculating the sample maximums called \"maxOneThousandSamples\". Then insert a new cell and make a histogram of \"minOneThousandSamples\"."
   ]
  },
  {
   "cell_type": "markdown",
   "metadata": {},
   "source": [
    "## 2.5) Question:\n",
    "We have made histograms of the sampling distributions of the mean, median, sample standard deviation, sample maximum value, and sample minimum value. They all have similar shapes. Would you say they generally have the same type of distribution? If so what kind? "
   ]
  },
  {
   "cell_type": "markdown",
   "metadata": {},
   "source": [
    "# 3) A real world example"
   ]
  },
  {
   "cell_type": "markdown",
   "metadata": {},
   "source": [
    "The importance of the central limit theorem is that the sampling distribution of statistics that we are interested in (such as the mean, median, variance, or even quartiles) are approximately normal (and this approximation gets better and better as our sample size increases). We can actually apply the central limit theorem for discrete random variables. Below we will work through an example using the Binomial distribution. First let's generate 10,000 random numbers from a Binomial distribution with $n=1000$ and $\\pi = .003$. We will use the \"binom\" function which has the following form \"rbinom(Number of random numbers, $n$, $\\pi$)\". We will save these random numbers as \"a\". "
   ]
  },
  {
   "cell_type": "code",
   "execution_count": null,
   "metadata": {},
   "outputs": [],
   "source": [
    "set.seed(2)\n",
    "a <- rbinom(10000, 1000, 0.003)"
   ]
  },
  {
   "cell_type": "markdown",
   "metadata": {},
   "source": [
    "Let's take a look at the first 100 numbers that are in \"a\":"
   ]
  },
  {
   "cell_type": "code",
   "execution_count": null,
   "metadata": {},
   "outputs": [],
   "source": [
    "a[1:100]"
   ]
  },
  {
   "cell_type": "markdown",
   "metadata": {},
   "source": [
    "Now, please run the code below to make a histogram. "
   ]
  },
  {
   "cell_type": "code",
   "execution_count": null,
   "metadata": {},
   "outputs": [],
   "source": [
    "hist(a)"
   ]
  },
  {
   "cell_type": "markdown",
   "metadata": {},
   "source": [
    "When we make a histogram of \"a\", as above, we can notice that our distribution does not look like a normal distribution at all--it has a long right tail. "
   ]
  },
  {
   "cell_type": "markdown",
   "metadata": {},
   "source": [
    "Now let's see what happens when we take 1000 samples from our population of size 20 and calculate the sample mean. We will use the same process as we did below, that is we will use the replicate function to take 1000 samples from our population and we will save these samples as \"samplesFromBinomial\". We will then calculate the sample mean from each sample and call it \"meansSamplesFromBinomial\". Please run the code below to do this process."
   ]
  },
  {
   "cell_type": "code",
   "execution_count": null,
   "metadata": {},
   "outputs": [],
   "source": [
    "set.seed(22)\n",
    "samplesFromBinomial <- replicate(1000, sample(a, 20))\n",
    "meansSamplesFromBinomial <- apply(samplesFromBinomial, 2, mean)"
   ]
  },
  {
   "cell_type": "markdown",
   "metadata": {},
   "source": [
    "Now let's take a look at what the first 10 sample means are:"
   ]
  },
  {
   "cell_type": "code",
   "execution_count": null,
   "metadata": {},
   "outputs": [],
   "source": [
    "meansSamplesFromBinomial[1:10]"
   ]
  },
  {
   "cell_type": "markdown",
   "metadata": {},
   "source": [
    "And let's make a histogram of the sampling distribution of the sample means from our Binomial distribution:"
   ]
  },
  {
   "cell_type": "code",
   "execution_count": null,
   "metadata": {},
   "outputs": [],
   "source": [
    "hist(meansSamplesFromBinomial)"
   ]
  },
  {
   "cell_type": "markdown",
   "metadata": {},
   "source": [
    "**Question for you** What distribution does the above histogram appear to be? Please answer the question below in markdown (text)."
   ]
  },
  {
   "cell_type": "markdown",
   "metadata": {},
   "source": [
    "**Question for you** What does the mean of the above histogram appear to be? Please take a guess and record your answer below as markdown."
   ]
  },
  {
   "cell_type": "markdown",
   "metadata": {},
   "source": [
    "Now let's compute the mean of that sampling distribution:"
   ]
  },
  {
   "cell_type": "code",
   "execution_count": null,
   "metadata": {},
   "outputs": [],
   "source": [
    "mean(meansSamplesFromBinomial)"
   ]
  },
  {
   "cell_type": "markdown",
   "metadata": {},
   "source": [
    "Interesting, the mean of the sampling distribution is about 3.0. Where does this number come from?! **Question for you**:  Below please calculate $\\pi * n$. To do this please multiply the value of $\\pi$ times the value of $n$ in code below:"
   ]
  },
  {
   "cell_type": "markdown",
   "metadata": {},
   "source": [
    "**Extra credit bonus question Part 1!**. (This question is all or nothing--no partial credit). Above we saw that if we have a sample from a binomial distribution, if we compute the sample mean it will somehow be related to $n$ and $\\pi$. Propose a formula for determining the value of $\\pi$ if you did not know it (but you did know $n$). That is if you have computed $\\bar{X}$ and you know $n$, what is a good guess for the $\\pi$?"
   ]
  },
  {
   "cell_type": "markdown",
   "metadata": {},
   "source": [
    "**Extra credit bonus question Part 2!**. Imagine you have the following sample \"b\" that is from a Binomial random variable with $n = 20$. You do not know $\\pi$. Try to make a good guess as to the value of $\\pi$. Record your answer at the end of this notebook in markdown. "
   ]
  },
  {
   "cell_type": "code",
   "execution_count": null,
   "metadata": {},
   "outputs": [],
   "source": [
    "b <- c(4, 9, 6, 4, 8, 6, 9, 3, 6, 9, 1, 7, 4, 4, 6, 4, 7, 4, 4, 3)\n",
    "b"
   ]
  }
 ],
 "metadata": {
  "kernelspec": {
   "display_name": "R",
   "language": "R",
   "name": "ir"
  },
  "language_info": {
   "codemirror_mode": "r",
   "file_extension": ".r",
   "mimetype": "text/x-r-source",
   "name": "R",
   "pygments_lexer": "r",
   "version": "4.0.2"
  }
 },
 "nbformat": 4,
 "nbformat_minor": 2
}
