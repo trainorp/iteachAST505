{
 "cells": [
  {
   "cell_type": "markdown",
   "metadata": {},
   "source": [
    "# 0) Instructions:\n",
    "Please complete the workbook below. Some of the calculations are already ready to be \"run\". However, please read the text carefully to find questions that you should answer for credit. Remember that to answer a question in text, you click \"insert\", then \"insert cell below\", switch the input from \"code\" to \"markdown\", type your answer, and finally click the run button to set your text in stone. In a few questions, you will need to do some calculations on your own. Hint: for these calculations you can copy, paste, and modify code that is above the calculation that you need to do. You may work by yourself or in groups of 2. Please remember to put your name on top, remember to save the workbook, and remember to upload to Canvas."
   ]
  },
  {
   "cell_type": "markdown",
   "metadata": {},
   "source": [
    "Please run the code below and ignore the output. This code is simply setting the height and width of the plots we will make later on and loading a set of software \"tidyverse\" that we will use."
   ]
  },
  {
   "cell_type": "code",
   "execution_count": null,
   "metadata": {},
   "outputs": [],
   "source": [
    "options(repr.plot.width = 6, repr.plot.height = 4)\n",
    "library(tidyverse)"
   ]
  },
  {
   "cell_type": "markdown",
   "metadata": {},
   "source": [
    "# 1) Sampling distributions for the mean from Normal population\n",
    "The first thing we will do today is generate 1,000 numbers from a normal distribution with $\\mu = 10$ and $s = 5$. This data represents some theoretical population. Please notice I have added the \"set.seed(3)\" function before using the \"rnorm\" command. The \"set.seed\" function when placed *right before* a command such as \"rnorm\" that generates random numbers makes these lists of random numbers reproducible. Using \"set.seed(3)\" means that the random numbers that are generated from the normal distribution will be the same if you run \"set.seed(3)\" and \"rnorm\" together again. This way as each student saves the 1,000 random numbers as \"x\", we will all have the same \"x\". Below please run the code to generate the random numbers from the normal distribution with $\\mu = 10$ and $s = 5$."
   ]
  },
  {
   "cell_type": "code",
   "execution_count": null,
   "metadata": {},
   "outputs": [],
   "source": [
    "set.seed(3)\n",
    "x <- rnorm(n = 1000, mean = 10, sd = 5)"
   ]
  },
  {
   "cell_type": "markdown",
   "metadata": {},
   "source": [
    "Below we are going to learn a tiny bit of programming in R. We have already generated 1,000 random numbers from a normal distribution and save them as \"x\". We can take a look at individual values from \"x\" by doing the following. The first \"x[1]\" returns the first number from \"x\":"
   ]
  },
  {
   "cell_type": "code",
   "execution_count": null,
   "metadata": {},
   "outputs": [],
   "source": [
    "x[1]"
   ]
  },
  {
   "cell_type": "markdown",
   "metadata": {},
   "source": [
    "Now to return the first and the second numbers from \"x\":"
   ]
  },
  {
   "cell_type": "code",
   "execution_count": null,
   "metadata": {},
   "outputs": [],
   "source": [
    "x[1:2]"
   ]
  },
  {
   "cell_type": "markdown",
   "metadata": {},
   "source": [
    "And now to return the first 25 numbers from \"x\":"
   ]
  },
  {
   "cell_type": "code",
   "execution_count": null,
   "metadata": {},
   "outputs": [],
   "source": [
    "x[1:25]"
   ]
  },
  {
   "cell_type": "markdown",
   "metadata": {},
   "source": [
    "Okay now let's make a histogram and then we will be ready for our main topic \"Sampling Distributions\". The histogram below will be for our population distribution that we have created and saved as \"x\":"
   ]
  },
  {
   "cell_type": "code",
   "execution_count": null,
   "metadata": {},
   "outputs": [],
   "source": [
    "hist(x, breaks = 15)"
   ]
  },
  {
   "cell_type": "markdown",
   "metadata": {},
   "source": [
    "Now that we have our population distribution, let's take a sample from it. Notice that we are going to use \"set.seed\" again. Remember that simple random sampling is a \"random\" process (meaning we will get a different sample each time we do it). By using \"set.seed\" we make sure that we get the same sample each time. If we want true random sampling we should not use \"set.seed\". Okay, below lets take a sample of 5 numbers from our population distribution \"x\" and save it as \"xSample1\":"
   ]
  },
  {
   "cell_type": "code",
   "execution_count": null,
   "metadata": {},
   "outputs": [],
   "source": [
    "set.seed(11)\n",
    "xSample1 <- sample(x, 5)"
   ]
  },
  {
   "cell_type": "markdown",
   "metadata": {},
   "source": [
    "Let's look at what is in \"xSample1\":"
   ]
  },
  {
   "cell_type": "code",
   "execution_count": null,
   "metadata": {},
   "outputs": [],
   "source": [
    "xSample1"
   ]
  },
  {
   "cell_type": "markdown",
   "metadata": {},
   "source": [
    "Now, let's take the mean of the values in this sample:"
   ]
  },
  {
   "cell_type": "code",
   "execution_count": null,
   "metadata": {},
   "outputs": [],
   "source": [
    "mean(xSample1)"
   ]
  },
  {
   "cell_type": "markdown",
   "metadata": {},
   "source": [
    "Okay so we have drawn a simple random sample of size 5 and calculated the sample mean for that sample. Let's do the same thing for 4 more samples: "
   ]
  },
  {
   "cell_type": "code",
   "execution_count": null,
   "metadata": {},
   "outputs": [],
   "source": [
    "set.seed(12)\n",
    "xSample2 <- sample(x, 5)\n",
    "\n",
    "set.seed(13)\n",
    "xSample3 <- sample(x, 5)\n",
    "\n",
    "set.seed(14)\n",
    "xSample4 <- sample(x, 5)\n",
    "\n",
    "set.seed(15)\n",
    "xSample5 <- sample(x, 5)"
   ]
  },
  {
   "cell_type": "markdown",
   "metadata": {},
   "source": [
    "**Your turn!** Below, please create one more simple random sample called \"xSample6\" and please run the command \"set.seed(16)\" before making \"xSample6\"."
   ]
  },
  {
   "cell_type": "markdown",
   "metadata": {},
   "source": [
    "Now lets calculate the sample mean of all the sample means by hand. Yes this is a sample mean of sample means. Make sure you have already created \"xSample6\" or you will get an error when you run the code below to calculate the mean of means:"
   ]
  },
  {
   "cell_type": "code",
   "execution_count": null,
   "metadata": {},
   "outputs": [],
   "source": [
    "(mean(xSample1) + mean(xSample2) + mean(xSample3) + mean(xSample4) + mean(xSample5) + mean(xSample6)) / 6"
   ]
  },
  {
   "cell_type": "markdown",
   "metadata": {},
   "source": [
    "As you might remember we can do this dirrectly using the mean command: "
   ]
  },
  {
   "cell_type": "code",
   "execution_count": null,
   "metadata": {},
   "outputs": [],
   "source": [
    "mean(c(mean(xSample1), mean(xSample2), mean(xSample3), mean(xSample4), mean(xSample5), mean(xSample6)))"
   ]
  },
  {
   "cell_type": "markdown",
   "metadata": {},
   "source": [
    "**Question for you**. Is the mean of sample means close to the population mean? Please insert a new cell and answer below in \"markdown\"."
   ]
  },
  {
   "cell_type": "markdown",
   "metadata": {},
   "source": [
    "Just as we can calculate the mean of sample means from our simple random samples, we can calculate their sample standard deviations:"
   ]
  },
  {
   "cell_type": "code",
   "execution_count": null,
   "metadata": {},
   "outputs": [],
   "source": [
    "sd(c(mean(xSample1), mean(xSample2), mean(xSample3), mean(xSample4), mean(xSample5), mean(xSample6)))"
   ]
  },
  {
   "cell_type": "markdown",
   "metadata": {},
   "source": [
    "**Question for you**. Is the standard deviation of sample means close to the population standard deviation, $\\sigma$? Or is it closer to $\\sigma / \\sqrt{n}$? Run the code below to calculate $\\sigma / \\sqrt{n}$, and then answer these questions in \"markdown\" below that calculation."
   ]
  },
  {
   "cell_type": "code",
   "execution_count": null,
   "metadata": {},
   "outputs": [],
   "source": [
    "5 / sqrt(5)"
   ]
  },
  {
   "cell_type": "markdown",
   "metadata": {},
   "source": [
    "So now, what if we wanted to repeat this process of drawing a simple random sample and calculating each sample mean many more times than the 6 times we have done so far? We can use the \"replicate\" function, which simply takes a process and replicates it a bunch of times. For example, run the code below and then we will investigate what was done:"
   ]
  },
  {
   "cell_type": "code",
   "execution_count": null,
   "metadata": {},
   "outputs": [],
   "source": [
    "set.seed(333)\n",
    "sixSamples <- replicate(6, sample(x, 5))"
   ]
  },
  {
   "cell_type": "markdown",
   "metadata": {},
   "source": [
    "We generated a matrix containing 6 simple random samples of $n=5$ from \"x\". Let's view these below. Each column is a simple random sample (hence there are 6 columns). "
   ]
  },
  {
   "cell_type": "code",
   "execution_count": null,
   "metadata": {},
   "outputs": [],
   "source": [
    "sixSamples"
   ]
  },
  {
   "cell_type": "markdown",
   "metadata": {},
   "source": [
    "In order to return the values that are in the first simple random sample we would use the following \"sixSamples[, 1]\", as below. This is asking for the first column of this matrix. This first column is the first simple random sample:"
   ]
  },
  {
   "cell_type": "code",
   "execution_count": null,
   "metadata": {},
   "outputs": [],
   "source": [
    "sixSamples[, 1]"
   ]
  },
  {
   "cell_type": "markdown",
   "metadata": {},
   "source": [
    "**Question for you** Please return the values from the second simple random sample using the same exact process as above (insert new cell below, and copy, paste, and modify the code from above)."
   ]
  },
  {
   "cell_type": "markdown",
   "metadata": {},
   "source": [
    "Okay, so now you can generate as many simple random samples as you would like from the population distribution \"x\". Now let's take the mean of the first simple random sample:"
   ]
  },
  {
   "cell_type": "markdown",
   "metadata": {},
   "source": [
    "mean(sixSamples[, 1])"
   ]
  },
  {
   "cell_type": "markdown",
   "metadata": {},
   "source": [
    "Rather than computing 5 more means in order to get the means of each of our simple random samples, we can use the \"apply\" function. This function applies a calculation (such as finding the sample mean) across a matrix. More specifically, below you see \"apply(sixSamples, 2, mean)\". This is going to take the mean of each of the columns of \"sixSamples\". The number 2 tells us to take the mean by column (instead of by rows). So by running this command we will compute the sample mean for each of our simple random samples from \"x\" in one command:"
   ]
  },
  {
   "cell_type": "code",
   "execution_count": null,
   "metadata": {},
   "outputs": [],
   "source": [
    "apply(sixSamples, 2, mean)"
   ]
  },
  {
   "cell_type": "markdown",
   "metadata": {},
   "source": [
    "Let's go big. Below, lets generate 1000 simple random samples from \"x\" with each one having size $n=10$. "
   ]
  },
  {
   "cell_type": "code",
   "execution_count": null,
   "metadata": {},
   "outputs": [],
   "source": [
    "set.seed(22)\n",
    "oneThousandSamples <- replicate(1000, sample(x, 10))"
   ]
  },
  {
   "cell_type": "markdown",
   "metadata": {},
   "source": [
    "Now lets compute the sample mean for every single one of the 1,000 samples and let's save this as \"meansOneThousandSamples\":"
   ]
  },
  {
   "cell_type": "code",
   "execution_count": null,
   "metadata": {},
   "outputs": [],
   "source": [
    "meansOneThousandSamples <- apply(oneThousandSamples, 2, mean)"
   ]
  },
  {
   "cell_type": "markdown",
   "metadata": {},
   "source": [
    "To see the first 4 sample means, we could ask for them:"
   ]
  },
  {
   "cell_type": "code",
   "execution_count": null,
   "metadata": {},
   "outputs": [],
   "source": [
    "meansOneThousandSamples[1:4]"
   ]
  },
  {
   "cell_type": "markdown",
   "metadata": {},
   "source": [
    "Now we are getting to the very important part! Let's make a histogram of the sample means of the 1,000 samples that were generated from our population distribution \"x\". We call this a sampling distribution. It is the distribution of a statistic (the mean) that we have computed from sets of samples."
   ]
  },
  {
   "cell_type": "code",
   "execution_count": null,
   "metadata": {},
   "outputs": [],
   "source": [
    "hist(meansOneThousandSamples)"
   ]
  },
  {
   "cell_type": "markdown",
   "metadata": {},
   "source": [
    "Below, let's calculate the mean and standard deviation of the sample means from our 1,000 simple random samples."
   ]
  },
  {
   "cell_type": "code",
   "execution_count": null,
   "metadata": {},
   "outputs": [],
   "source": [
    "mean(meansOneThousandSamples)"
   ]
  },
  {
   "cell_type": "code",
   "execution_count": null,
   "metadata": {},
   "outputs": [],
   "source": [
    "sd(meansOneThousandSamples)"
   ]
  },
  {
   "cell_type": "markdown",
   "metadata": {},
   "source": [
    "**Question for you** Is the standard deviation of the sample means from the simple random samples drawn from \"x\" of size 10 closer to $\\sigma$ or $\\sigma / \\sqrt{n}$? Please answer the question after calculating $\\sigma / \\sqrt{n}$ below:"
   ]
  },
  {
   "cell_type": "code",
   "execution_count": null,
   "metadata": {},
   "outputs": [],
   "source": [
    "5 / sqrt(10)"
   ]
  },
  {
   "cell_type": "markdown",
   "metadata": {},
   "source": [
    "Below, we are going to compare the histograms for the population distribution and the sampling distribution for the mean of \"x\". We are going to plot the histogram for the sampling distribution (of the sample means from the 1,000 simple random samples from \"x\") directly on top of the population distribution. We are going to make the colors slightly translucent so that you can see the population distribution although it is behind the sampling distribution. Please ignore the complicated looking code and only enjoy the picture!"
   ]
  },
  {
   "cell_type": "code",
   "execution_count": null,
   "metadata": {},
   "outputs": [],
   "source": [
    "dfPopSamp <- rbind(data.frame(x = x, Distribution = \"Population\"),\n",
    "                   data.frame(x = meansOneThousandSamples, Distribution = \"Sampling\"))\n",
    "ggplot(dfPopSamp, aes(x = x, fill = Distribution)) + \n",
    "    geom_histogram(alpha = 0.65, position = \"identity\", color = \"black\", bins = 25) + theme_bw() + ylab(\"Frequency\")"
   ]
  },
  {
   "cell_type": "markdown",
   "metadata": {},
   "source": [
    "# 2) The CLT in practice\n",
    "The importance of the central limit theorem is that the sampling distribution of some of the statistics that we are interested in (such as the sample mean) is approximately normal (and this approximation gets better and better as our sample size increases). We can actually apply the central limit theorem for discrete random variables. Below we will work through an example using the Binomial distribution. First let's generate 10,000 random numbers from a Binomial distribution with $n=1000$ and $\\pi = .003$. We will use the \"binom\" function which has the following form \"rbinom(Number of random numbers, $n$, $\\pi$)\". We will save these random numbers as \"a\". "
   ]
  },
  {
   "cell_type": "code",
   "execution_count": null,
   "metadata": {},
   "outputs": [],
   "source": [
    "set.seed(2)\n",
    "a <- rbinom(10000, 1000, 0.003)"
   ]
  },
  {
   "cell_type": "markdown",
   "metadata": {},
   "source": [
    "Let's take a look at the first 100 numbers that are in \"a\":"
   ]
  },
  {
   "cell_type": "code",
   "execution_count": null,
   "metadata": {},
   "outputs": [],
   "source": [
    "a[1:100]"
   ]
  },
  {
   "cell_type": "markdown",
   "metadata": {},
   "source": [
    "Now, please run the code below to make a histogram. "
   ]
  },
  {
   "cell_type": "code",
   "execution_count": null,
   "metadata": {},
   "outputs": [],
   "source": [
    "hist(a)"
   ]
  },
  {
   "cell_type": "markdown",
   "metadata": {},
   "source": [
    "When we make a histogram of \"a\", as above, we can notice that our distribution does not look like a normal distribution at all--it has a long right tail. "
   ]
  },
  {
   "cell_type": "markdown",
   "metadata": {},
   "source": [
    "Now let's see what happens when we take 1000 samples from our population of size 20 and calculate the sample mean. We will use the same process as we did below, that is we will use the replicate function to take 1000 samples from our population and we will save these samples as \"samplesFromBinomial\". We will then calculate the sample mean from each sample and call it \"meansSamplesFromBinomial\". Please run the code below to do this process."
   ]
  },
  {
   "cell_type": "code",
   "execution_count": null,
   "metadata": {},
   "outputs": [],
   "source": [
    "set.seed(22)\n",
    "samplesFromBinomial <- replicate(1000, sample(a, 20))\n",
    "meansSamplesFromBinomial <- apply(samplesFromBinomial, 2, mean)"
   ]
  },
  {
   "cell_type": "markdown",
   "metadata": {},
   "source": [
    "Now let's take a look at what the first 10 sample means are:"
   ]
  },
  {
   "cell_type": "code",
   "execution_count": null,
   "metadata": {},
   "outputs": [],
   "source": [
    "meansSamplesFromBinomial[1:10]"
   ]
  },
  {
   "cell_type": "markdown",
   "metadata": {},
   "source": [
    "And let's make a histogram of the sampling distribution of the sample means from our Binomial distribution:"
   ]
  },
  {
   "cell_type": "code",
   "execution_count": null,
   "metadata": {},
   "outputs": [],
   "source": [
    "hist(meansSamplesFromBinomial)"
   ]
  },
  {
   "cell_type": "markdown",
   "metadata": {},
   "source": [
    "**Question for you** What distribution does the above histogram appear to be? Please answer the question below in markdown (text)."
   ]
  },
  {
   "cell_type": "markdown",
   "metadata": {},
   "source": [
    "**Question for you** What does the mean of the above histogram appear to be? Please take a guess and record your answer below as markdown."
   ]
  },
  {
   "cell_type": "markdown",
   "metadata": {},
   "source": [
    "Now let's compute the mean of that sampling distribution:"
   ]
  },
  {
   "cell_type": "code",
   "execution_count": null,
   "metadata": {},
   "outputs": [],
   "source": [
    "mean(meansSamplesFromBinomial)"
   ]
  },
  {
   "cell_type": "markdown",
   "metadata": {},
   "source": [
    "Interesting, the mean of the sampling distribution is about 3.0. Where does this number come from?! **Question for you**:  Below please calculate $\\pi * n$. To do this please multiply the value of $\\pi$ times the value of $n$ in code below:"
   ]
  },
  {
   "cell_type": "markdown",
   "metadata": {},
   "source": [
    "# 3) Real world data analysis: Acute myeloid leukemia data"
   ]
  },
  {
   "cell_type": "markdown",
   "metadata": {},
   "source": [
    "Ok, now we will transition to the matrial from Lecture 8: Inference regarding population means from normally-distributed populations."
   ]
  },
  {
   "cell_type": "markdown",
   "metadata": {},
   "source": [
    "We will need a dataset that are contained in a \"software packages\". This package need to be installed for this lab to work. Please run the line of code below to install the package we need. You should see a star once the installation process starts. When it is finished you will see the message \"package 'Stat2Data' successfully unpacked and MD5 sums checked\". Please do not continue until you see this message. "
   ]
  },
  {
   "cell_type": "code",
   "execution_count": null,
   "metadata": {},
   "outputs": [],
   "source": [
    "install.packages(\"Stat2Data\", dep = TRUE)"
   ]
  },
  {
   "cell_type": "markdown",
   "metadata": {},
   "source": [
    "Acute myeloid leukemia (AML) is a type of cancer that originates in the bone marrow. Today we will work with a dataset from a study of AML treatment. This data is contained in the \"Stat2Data\" package. Below we are going to load the package \"Stat2Data\" which has a dataset that we will use. This dataset, called \"Leukemia\" is then going to be loaded with the \"data()\" command. Please run the code below (it will not return anything). "
   ]
  },
  {
   "cell_type": "code",
   "execution_count": null,
   "metadata": {},
   "outputs": [],
   "source": [
    "library(Stat2Data)\n",
    "data(Leukemia)"
   ]
  },
  {
   "cell_type": "markdown",
   "metadata": {},
   "source": [
    "To see what the dataset looks like we can call it by name (run the code below to do this). To see what the variables in this dataset are please see here: (https://rdrr.io/rforge/Stat2Data/man/Leukemia.html). Below, let's call the name of this dataset to see what it contains:"
   ]
  },
  {
   "cell_type": "code",
   "execution_count": null,
   "metadata": {},
   "outputs": [],
   "source": [
    "Leukemia"
   ]
  },
  {
   "cell_type": "markdown",
   "metadata": {},
   "source": [
    "The variable \"Infil\" or \"Percentage of absolute marrow leukemia infiltrate\", gives us an idea of how severe each patient's case was. Basically this measure tells us the degree to which myeloblasts (a type of bad immature white blood cell) have invaded the bone marrow. Below, we are going to use the money sign to tell us that we want to retrieve the values for the \"Infil\" variable from out dataset. Anytime we have a dataset and we want to retrieve the values from one variable we will use the money sign in this way. Note there is no space between the name of the dataset, the \"$\" sign, and the variable we are interested in:"
   ]
  },
  {
   "cell_type": "code",
   "execution_count": null,
   "metadata": {},
   "outputs": [],
   "source": [
    "Leukemia$Infil"
   ]
  },
  {
   "cell_type": "markdown",
   "metadata": {},
   "source": [
    "Now, let's make a histogram of the \"Infil\" variable values below:"
   ]
  },
  {
   "cell_type": "code",
   "execution_count": null,
   "metadata": {},
   "outputs": [],
   "source": [
    "hist(Leukemia$Infil)"
   ]
  },
  {
   "cell_type": "markdown",
   "metadata": {},
   "source": [
    "## 3.1) A confidence interval using the Student's t-distribution by hand\n",
    "Below we are going to work through determining a confidence interval for the mean of a population, $\\mu$, using the Student's t-distribution \"by hand\". Let's assume that we want to estimate what the population mean \"Percentage of absolute marrow leukemia infiltrate\" (the \"infil\" variable) for this population (patients with acute myeloid leukemia). For this confidence interval we will use a confidence coefficient of $1-\\alpha = 0.95$, also known as a 95\\% confidence interval. It is a good idea to pay close attention in this section, as this process is what you will do on quizzes / exams. "
   ]
  },
  {
   "cell_type": "markdown",
   "metadata": {},
   "source": [
    "**Question for you**. Given we want to determine this confidence interval for the population mean, do you think we know the population standard deviation $\\sigma$ already? Please answer the question with a sentence below (Please insert a cell below and change to \"markdown\"). "
   ]
  },
  {
   "cell_type": "markdown",
   "metadata": {},
   "source": [
    "**Question for you**. Given your answer to the question above, will we need to use quantiles from the Normal distribution or the Student's t-distribution? Please insert a new cell and answer below in \"markdown\"."
   ]
  },
  {
   "cell_type": "markdown",
   "metadata": {},
   "source": [
    "Now let's calculate our 95\\% confidence interval for the population mean. Our first step is calculating the sample mean of the \"Infil\" variable. We can do that using the \"mean\" command as below:"
   ]
  },
  {
   "cell_type": "code",
   "execution_count": null,
   "metadata": {},
   "outputs": [],
   "source": [
    "mean(Leukemia$Infil)"
   ]
  },
  {
   "cell_type": "markdown",
   "metadata": {},
   "source": [
    "We can (and will need to) save the value of this sample mean. As you probably know by now, to save something we use the \"<-\" notation. Below we will save the sample mean of the \"Infil\" variable as \"sampMean\":"
   ]
  },
  {
   "cell_type": "code",
   "execution_count": null,
   "metadata": {},
   "outputs": [],
   "source": [
    "sampMean <- mean(Leukemia$Infil)"
   ]
  },
  {
   "cell_type": "markdown",
   "metadata": {},
   "source": [
    "Okay, so we have the sample mean saved. Now let's compute the sample standard deviation for the same variable: "
   ]
  },
  {
   "cell_type": "code",
   "execution_count": null,
   "metadata": {},
   "outputs": [],
   "source": [
    "sd(Leukemia$Infil)"
   ]
  },
  {
   "cell_type": "markdown",
   "metadata": {},
   "source": [
    "As with the sample mean we will need to save the value of the sample standard deviation of \"Infil\". Let's save this as \"sampSD\": "
   ]
  },
  {
   "cell_type": "code",
   "execution_count": null,
   "metadata": {},
   "outputs": [],
   "source": [
    "sampSD <- sd(Leukemia$Infil)"
   ]
  },
  {
   "cell_type": "markdown",
   "metadata": {},
   "source": [
    "Now let's pause and remember what the formula is for computing a confidence interval for the population mean (given that $\\sigma$ is unknown).\n",
    "\n",
    "**Question for you**. What is the formula for computing this type of confidence interval? Please answer the question below using plain English (you do not need to use symbols or fancy math--just describe using words). Please insert a cell below and answer in \"markdown\". "
   ]
  },
  {
   "cell_type": "markdown",
   "metadata": {},
   "source": [
    "Okay, so we have one remaining value that we need to determine before we can determine our 95\\% confidence interval for the population mean. We need to know the sample size $n$:"
   ]
  },
  {
   "cell_type": "code",
   "execution_count": null,
   "metadata": {},
   "outputs": [],
   "source": [
    "length(Leukemia$Infil)"
   ]
  },
  {
   "cell_type": "markdown",
   "metadata": {},
   "source": [
    "As before, we will need to save this value. Let's save it as \"n\": "
   ]
  },
  {
   "cell_type": "code",
   "execution_count": null,
   "metadata": {},
   "outputs": [],
   "source": [
    "n <- length(Leukemia$Infil)"
   ]
  },
  {
   "cell_type": "markdown",
   "metadata": {},
   "source": [
    "**Question for you**. Since we want a 95\\% confidence interval what is $\\alpha$? Also, what is $\\alpha/2$. Please answer these questions below (insert a new cell and change to \"markdown\"). You can use plain English (like saying \"alpha is\"). "
   ]
  },
  {
   "cell_type": "markdown",
   "metadata": {},
   "source": [
    "Great! We are now ready to determine the quantiles from the Student's t-distribution that will allow us to know the width of our 95\\% confidence interval for the population mean. We are looking for the value $t_{\\alpha /2, \\text{df}=n-1}$. To do this we are going to use the \"qt\" function. This function has the following form for determining the quantile for a lower tailed probability: \"qt($\\alpha /2$, df, lower.tail = FALSE)\". Please remember that we have already saved \"n\", so we can plug this into the \"qt\" function as \"n\". "
   ]
  },
  {
   "cell_type": "code",
   "execution_count": null,
   "metadata": {},
   "outputs": [],
   "source": [
    "qt(.05/2, df = n-1, lower.tail = FALSE)"
   ]
  },
  {
   "cell_type": "markdown",
   "metadata": {},
   "source": [
    "Okay, above we took a look at what this quantile is from the Student's t-distribution. Now, let's save this value as \"tValue\" so that we can use it when determining our confidence interval:"
   ]
  },
  {
   "cell_type": "code",
   "execution_count": null,
   "metadata": {},
   "outputs": [],
   "source": [
    "tValue <- qt(.05/2, df = n-1, lower.tail = FALSE)"
   ]
  },
  {
   "cell_type": "markdown",
   "metadata": {},
   "source": [
    "Wohoo! We are now ready to determine our 95\\% confidence interval for the population mean. First, let's compute the lower endpoint of this interval: "
   ]
  },
  {
   "cell_type": "code",
   "execution_count": null,
   "metadata": {},
   "outputs": [],
   "source": [
    "sampMean - tValue * sampSD / sqrt(n)"
   ]
  },
  {
   "cell_type": "markdown",
   "metadata": {},
   "source": [
    "Now, let's compute the upper endpoint of this interval:"
   ]
  },
  {
   "cell_type": "code",
   "execution_count": null,
   "metadata": {},
   "outputs": [],
   "source": [
    "sampMean + tValue * sampSD / sqrt(n)"
   ]
  },
  {
   "cell_type": "markdown",
   "metadata": {},
   "source": [
    "**Question for you**. What is the 95\\% confidence interval for $\\mu$ (the \"Percentage of absolute marrow leukemia infiltrate\" for patients with acute myeloid leukemia). Please insert a new cell below, and answer the question in \"markdown\". It is a good idea to report 2 or 3 digits to the right of the decimal place."
   ]
  },
  {
   "cell_type": "markdown",
   "metadata": {},
   "source": [
    "## 3.2) A confidence interval using the Student's t-distribution using software\n",
    "Now, we are going to talk about a shortcut way to determine confidence intervals using R, without doing calculations \"by hand\". This will rely on using the \"t.test\" function. Later we will use the \"t.test\" function to conduct statistical tests regarding the value of a population parameter $\\mu$. When the \"t.test\" function is utilized, it will also estimate a confidence interval for the population parameter $\\mu$ assuming that the population standard deviation $\\sigma$ is unknown. To get a confidence interval using the \"t.test\" function we will use \"t.test(variable of interest, conf.level = $1-\\alpha$)\". If you do not specify \"conf.level\", the default is to assume that \"conf.level = 0.95\". In other words, if you do not tell R otherwise, it will estimate a 95\\% confidence interval. However, below we will explicitly tell R that we want a 95\\% confidence interval by setting \"conf.level = 0.95\". Please run the code below and take a look at the output. "
   ]
  },
  {
   "cell_type": "code",
   "execution_count": null,
   "metadata": {},
   "outputs": [],
   "source": [
    "t.test(Leukemia$Infil, conf.level = 0.95)"
   ]
  },
  {
   "cell_type": "markdown",
   "metadata": {},
   "source": [
    "Okay, you may have noticed a few things. At the very bottom of the output from \"t.test\", it should say \"sample estimates: mean of x\". This is providing you the sample mean, which we have said is a good estimate of the population mean $\\mu$. You will also notice that R has computed a \"95 percent confidence interval\". Finally, you may notice that R has done a statistical test. It has tested $H_0: \\mu = 0$, $H_a: \\mu \\neq 0$. We can ignore this hypothesis test. R by default tests this hypothesis; For us we just want the confidence interval--we will do some hypothesis testing later using the \"t.test\" command. "
   ]
  },
  {
   "cell_type": "markdown",
   "metadata": {},
   "source": [
    "**Question for you**. Let's compute a 90\\% confidence interval for the population mean $\\mu$ (that is the population mean of the \"infil\" variable which is the \"Percentage of absolute marrow leukemia infiltrate\". Below, please insert a new \"code\" cell, copy and paste the \"t.test\" command that we ran above, and change the \"conf.level\" or confidence coefficient to what it should be for a 90\\% confidence coefficient."
   ]
  },
  {
   "cell_type": "markdown",
   "metadata": {},
   "source": [
    "**Another question for you**. Let's now compute a 99% confidence interval. Insert a new \"code\" cell below and repeat the process to determine a 99\\% confidence interval. "
   ]
  },
  {
   "cell_type": "markdown",
   "metadata": {},
   "source": [
    "**Another Another question for you**. Now that you have determined a 90\\%, 95\\%, and 99\\% confidence interval for the population mean \"Percentage of absolute marrow leukemia infiltrate\", which confidence interval is most narrow? Which confidence interval is the widest. Please insert a new cell below, change to \"markdown\", and answer the question using a sentence. "
   ]
  },
  {
   "cell_type": "markdown",
   "metadata": {},
   "source": [
    "## 3.3) Testing hypotheses regarding the value of $\\mu$ assuming $\\sigma$ is unkown by hand\n",
    "Now, let's assume that we wanted to know if the \"Percentage of absolute marrow leukemia infiltrate\" is greater than 50 for patients who have acute myeloid leukemia. Let's first state what our hypotheses would be:\n",
    "\n",
    "$H_0$: The \"Percentage of absolute marrow leukemia infiltrate\" is less than or equal to 50\n",
    "\n",
    "$H_a$: The \"Percentage of absolute marrow leukemia infiltrate\" is greater than 50. \n",
    "\n",
    "In symbols this would be:\n",
    "\n",
    "$H_0: \\mu \\leq 50$\n",
    "\n",
    "$H_a: \\mu > 50$\n",
    "\n",
    "Let's assume that we would like to test this hypothesis for a fixed type I error rate of $\\alpha = .05$. "
   ]
  },
  {
   "cell_type": "markdown",
   "metadata": {},
   "source": [
    "**Question for you**. Is this a one-sided hypothesis test, or a two-sided test. On which side or sides of the sampling distribution of our test statistic would the rejection region be? Please answer this question with a sentence below (insert cell, change to \"markdown\"). "
   ]
  },
  {
   "cell_type": "markdown",
   "metadata": {},
   "source": [
    "Okay, now let's recall what our test statistic is going to be. We are going to compute the test statistic $t =\\frac{\\bar{y}-\\mu_0}{s/\\sqrt{n}}$. Below, let's compute \"by hand\" what this test statistic value should be. Please remember that we already computed $\\bar{y}$ and saved it as \"sampMean\", we computed $s$ and saved it as \"sampSD\", and we determined $n$ and we saved it as \"n\". If these values were not saved above the following calculation will return an error, otherwise it will return the test statistic that we need:"
   ]
  },
  {
   "cell_type": "code",
   "execution_count": null,
   "metadata": {},
   "outputs": [],
   "source": [
    "(sampMean - 50) / (sampSD / sqrt(n))"
   ]
  },
  {
   "cell_type": "markdown",
   "metadata": {},
   "source": [
    "Okay, now that we have seen what our test statistic is, let's save it as \"testStatistic\": "
   ]
  },
  {
   "cell_type": "code",
   "execution_count": null,
   "metadata": {},
   "outputs": [],
   "source": [
    "testStatistic <- (sampMean - 50) / (sampSD / sqrt(n))"
   ]
  },
  {
   "cell_type": "markdown",
   "metadata": {},
   "source": [
    "Okay, now we need to determine what our rejection region should be for this test. Given that $\\alpha = 0.05$, and $\\text{df}=n-1=50$, we can determine the quantile from a Student's t-distribution that we need. Given our specific alternative hypothesis $H_a: \\mu > 50$, the rejection region will be to right of this value from the Student's t-distribution. We often refer to this value as the \"critical value\". Below let's figure out what this value should be. To do this we will use the \"qt\" function which will give us quantiles from a Student's t-distribution\". We will use this function as \"qt($\\alpha$, df, lower.tail = FALSE)\":"
   ]
  },
  {
   "cell_type": "code",
   "execution_count": null,
   "metadata": {},
   "outputs": [],
   "source": [
    "qt(.05, df = n - 1, lower.tail = FALSE)"
   ]
  },
  {
   "cell_type": "markdown",
   "metadata": {},
   "source": [
    "Okay, so now we have our \"critical value\". Now, if the test statistic is to the right of this value we can reject the null hypothesis."
   ]
  },
  {
   "cell_type": "markdown",
   "metadata": {},
   "source": [
    "**Question for you.** Is the test statistic that we have computed in the rejection region? Please answer this question below by inserting a new cell, changing to markdown, and writing a sentence. "
   ]
  },
  {
   "cell_type": "markdown",
   "metadata": {},
   "source": [
    "**Question for you.** Do we have evidence that supports rejecting the null hypothesis?"
   ]
  },
  {
   "cell_type": "markdown",
   "metadata": {},
   "source": [
    "**Question for you**. What would you conclude from this hypothesis test about the \"Percentage of absolute marrow leukemia infiltrate\" in patients with acute myeloid leukemia. Please insert a cell below and answer in \"markdown\". Please explain your answer in non-technical terms (you do not need to use symbols, just plain English). "
   ]
  },
  {
   "cell_type": "markdown",
   "metadata": {},
   "source": [
    "Okay now let's determin the \"level of significance\" or \"p-value\" for the hypothesis test that we have conducted above. Remember that the p-value depends on the type of alternative hypothesis that we have assumed before doing the test. For us, since we did a one-sided test with the alternative hyothesis $H_a: \\mu > 50$, we need to find the probability of observing a test statistic as great as the one we have observed, or greater. So we are looking for $P(t> TS)$. We can do this by using the \"pt\" (probability from a Student's t-Distribution function), with a specified degrees of freedom and \"lower.tail=FALSE\" to get the right-tailed probability. "
   ]
  },
  {
   "cell_type": "code",
   "execution_count": null,
   "metadata": {},
   "outputs": [],
   "source": [
    "pt(testStatistic, df = n - 1, lower.tail = FALSE)"
   ]
  },
  {
   "cell_type": "markdown",
   "metadata": {},
   "source": [
    "## 3.4) Testing hypotheses regarding the value of $\\mu$ assuming $\\sigma$ is unkown using software\n",
    "Now that we have gone through the process of conducting this hypothesis test \"by hand\", let's see how to do it using software instead. We are going to use the \"t.test\" function. We will need to specify our alternative hypothesis.\n",
    "\n",
    "Let's recall what our hypotheses were: \n",
    "\n",
    "$H_0: \\mu \\leq 50$\n",
    "\n",
    "$H_a: \\mu > 50$\n",
    "\n",
    "So we will tell R that our alternative is that $\\mu$ is greater than some value $\\mu_0$ and we will tell it that $\\mu_0 = 50$. So we will say \"alternative = \"greater\"\", and \"mu = 50\". Note that R uses \"mu\" to mean $\\mu_0$. Please run the code below to see this output:"
   ]
  },
  {
   "cell_type": "code",
   "execution_count": null,
   "metadata": {},
   "outputs": [],
   "source": [
    "t.test(Leukemia$Infil, alternative = \"greater\", mu = 50)"
   ]
  },
  {
   "cell_type": "markdown",
   "metadata": {},
   "source": [
    "Okay, so we see the same test statistic that we computed before, t = 2.6525, we see the degrees of freedom df = 50, and we see the p-value = 0.005339. We also see the sample mean at the bottom (58.19608). If we we specify that we have a one-tailed test (as in this case), we will get a strange confidence interval. These confidence intervals are \"one-sided\" confidence intervals. We do not talk about these confidence intervals in class. So if you want to use R to determine a confidence interval we do this separately and we do not specify \"alternative = \"greater\"\" or \"alternative = \"less\"\"."
   ]
  }
 ],
 "metadata": {
  "kernelspec": {
   "display_name": "R",
   "language": "R",
   "name": "ir"
  },
  "language_info": {
   "codemirror_mode": "r",
   "file_extension": ".r",
   "mimetype": "text/x-r-source",
   "name": "R",
   "pygments_lexer": "r",
   "version": "3.6.1"
  }
 },
 "nbformat": 4,
 "nbformat_minor": 2
}
