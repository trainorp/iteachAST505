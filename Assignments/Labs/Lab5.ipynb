{
 "cells": [
  {
   "cell_type": "markdown",
   "metadata": {},
   "source": [
    "# 0) Instructions:\n",
    "Please complete the workbook below. Some of the calculations are already ready to be \"run\". However, please read the text carefully to find questions that you should answer for credit. Remember that to answer a question in text, you click \"insert\", then \"insert cell below\", switch the input from \"code\" to \"markdown\", type your answer, and finally click the run button to set your text in stone. In a few questions, you will need to do some calculations on your own. Hint: for these calculations you can copy, paste, and modify code that is above the calculation that you need to do. You may work by yourself or in groups of 2. Please remember to put your name on top, remember to save the workbook, and remember to upload to Canvas.\n",
    "\n",
    "**Please read** Please run the code below and ignore the output. This code is simply setting the height and width of the plots we will make later on and loading a set of software \"tidyverse\" that we will use."
   ]
  },
  {
   "cell_type": "code",
   "execution_count": 1,
   "metadata": {},
   "outputs": [
    {
     "name": "stderr",
     "output_type": "stream",
     "text": [
      "-- Attaching packages --------------------------------------- tidyverse 1.2.1 --\n",
      "v ggplot2 3.2.0     v purrr   0.3.2\n",
      "v tibble  2.1.3     v dplyr   0.8.3\n",
      "v tidyr   0.8.3     v stringr 1.4.0\n",
      "v readr   1.3.1     v forcats 0.4.0\n",
      "-- Conflicts ------------------------------------------ tidyverse_conflicts() --\n",
      "x dplyr::filter() masks stats::filter()\n",
      "x dplyr::lag()    masks stats::lag()\n"
     ]
    }
   ],
   "source": [
    "options(repr.plot.width = 6, repr.plot.height = 4)\n",
    "library(tidyverse)"
   ]
  },
  {
   "cell_type": "markdown",
   "metadata": {},
   "source": [
    "In today's lab we will need some datasets that are contained in different \"software packages\". These need to be installed for this lab to work. Please run the line of code below to install the package we need. You should see a star once the installation process starts. When it is finished you will see the message \"package 'Stat2Data' successfully unpacked and MD5 sums checked\". Please do not continue until you see this message. "
   ]
  },
  {
   "cell_type": "code",
   "execution_count": 8,
   "metadata": {},
   "outputs": [
    {
     "name": "stderr",
     "output_type": "stream",
     "text": [
      "Installing package into 'C:/Users/ptrainor/Documents/R/win-library/3.6'\n",
      "(as 'lib' is unspecified)\n"
     ]
    },
    {
     "name": "stdout",
     "output_type": "stream",
     "text": [
      "package 'Stat2Data' successfully unpacked and MD5 sums checked\n",
      "\n",
      "The downloaded binary packages are in\n",
      "\tC:\\Users\\ptrainor\\AppData\\Local\\Temp\\RtmpItx5kd\\downloaded_packages\n"
     ]
    }
   ],
   "source": [
    "install.packages(\"Stat2Data\", dep = TRUE)"
   ]
  },
  {
   "cell_type": "markdown",
   "metadata": {},
   "source": [
    "# 1) Acute myeloid leukemia data\n",
    "Acute myeloid leukemia (AML) is a type of cancer that originates in the bone marrow. Today we will work with a dataset from a study of AML treatment. This data is contained in the \"Stat2Data\" package. Below we are going to load the package \"Stat2Data\" which has a dataset that we will use. This dataset, called \"Leukemia\" is then going to be loaded with the \"data()\" command. Please run the code below (it will not return anything). "
   ]
  },
  {
   "cell_type": "code",
   "execution_count": 1,
   "metadata": {},
   "outputs": [],
   "source": [
    "library(Stat2Data)\n",
    "data(Leukemia)"
   ]
  },
  {
   "cell_type": "markdown",
   "metadata": {},
   "source": [
    "To see what the dataset looks like we can call it by name (run the code below to do this). To see what the variables in this dataset are please see here: (https://rdrr.io/rforge/Stat2Data/man/Leukemia.html). Below, let's call the name of this dataset to see what it contains:"
   ]
  },
  {
   "cell_type": "code",
   "execution_count": 2,
   "metadata": {},
   "outputs": [
    {
     "data": {
      "text/html": [
       "<table>\n",
       "<thead><tr><th scope=col>Age</th><th scope=col>Smear</th><th scope=col>Infil</th><th scope=col>Index</th><th scope=col>Blasts</th><th scope=col>Temp</th><th scope=col>Resp</th><th scope=col>Time</th><th scope=col>Status</th></tr></thead>\n",
       "<tbody>\n",
       "\t<tr><td>20   </td><td>78   </td><td>39   </td><td> 7   </td><td>  0.6</td><td> 990 </td><td>1    </td><td>18   </td><td>0    </td></tr>\n",
       "\t<tr><td>25   </td><td>64   </td><td>61   </td><td>16   </td><td> 35.0</td><td>1030 </td><td>1    </td><td>31   </td><td>1    </td></tr>\n",
       "\t<tr><td>26   </td><td>61   </td><td>55   </td><td>12   </td><td>  7.5</td><td> 982 </td><td>1    </td><td>31   </td><td>0    </td></tr>\n",
       "\t<tr><td>26   </td><td>64   </td><td>64   </td><td>16   </td><td> 21.0</td><td>1000 </td><td>1    </td><td>31   </td><td>0    </td></tr>\n",
       "\t<tr><td>27   </td><td>95   </td><td>95   </td><td> 6   </td><td>  7.5</td><td> 980 </td><td>1    </td><td>36   </td><td>0    </td></tr>\n",
       "\t<tr><td>27   </td><td>80   </td><td>64   </td><td> 8   </td><td>  0.6</td><td>1010 </td><td>0    </td><td> 1   </td><td>0    </td></tr>\n",
       "\t<tr><td>28   </td><td>88   </td><td>88   </td><td>20   </td><td>  4.8</td><td> 986 </td><td>1    </td><td> 9   </td><td>0    </td></tr>\n",
       "\t<tr><td>28   </td><td>70   </td><td>70   </td><td>14   </td><td> 10.0</td><td>1010 </td><td>1    </td><td>39   </td><td>1    </td></tr>\n",
       "\t<tr><td>31   </td><td>72   </td><td>72   </td><td> 5   </td><td>  2.3</td><td> 988 </td><td>1    </td><td>20   </td><td>1    </td></tr>\n",
       "\t<tr><td>33   </td><td>58   </td><td>58   </td><td> 7   </td><td>  5.7</td><td> 986 </td><td>0    </td><td> 4   </td><td>0    </td></tr>\n",
       "\t<tr><td>33   </td><td>92   </td><td>92   </td><td> 5   </td><td>  2.6</td><td> 980 </td><td>1    </td><td>45   </td><td>1    </td></tr>\n",
       "\t<tr><td>33   </td><td>42   </td><td>38   </td><td>12   </td><td>  2.5</td><td> 984 </td><td>1    </td><td>36   </td><td>0    </td></tr>\n",
       "\t<tr><td>34   </td><td>26   </td><td>26   </td><td> 7   </td><td>  7.0</td><td> 982 </td><td>0    </td><td>12   </td><td>0    </td></tr>\n",
       "\t<tr><td>36   </td><td>55   </td><td>55   </td><td>14   </td><td>  4.5</td><td> 986 </td><td>1    </td><td> 8   </td><td>0    </td></tr>\n",
       "\t<tr><td>37   </td><td>71   </td><td>71   </td><td>15   </td><td>  4.4</td><td>1020 </td><td>0    </td><td> 1   </td><td>0    </td></tr>\n",
       "\t<tr><td>40   </td><td>91   </td><td>91   </td><td> 9   </td><td> 35.0</td><td> 986 </td><td>1    </td><td>15   </td><td>0    </td></tr>\n",
       "\t<tr><td>40   </td><td>52   </td><td>49   </td><td>12   </td><td>  2.1</td><td> 988 </td><td>1    </td><td>24   </td><td>0    </td></tr>\n",
       "\t<tr><td>43   </td><td>74   </td><td>63   </td><td> 4   </td><td>  0.1</td><td> 986 </td><td>0    </td><td> 2   </td><td>0    </td></tr>\n",
       "\t<tr><td>45   </td><td>78   </td><td>47   </td><td>14   </td><td>  4.2</td><td> 980 </td><td>1    </td><td>33   </td><td>0    </td></tr>\n",
       "\t<tr><td>45   </td><td>60   </td><td>36   </td><td>10   </td><td>  0.6</td><td> 992 </td><td>1    </td><td>29   </td><td>1    </td></tr>\n",
       "\t<tr><td>45   </td><td>82   </td><td>32   </td><td>10   </td><td> 28.1</td><td>1016 </td><td>0    </td><td> 7   </td><td>0    </td></tr>\n",
       "\t<tr><td>45   </td><td>79   </td><td>79   </td><td> 4   </td><td>  1.1</td><td>1030 </td><td>0    </td><td> 0   </td><td>0    </td></tr>\n",
       "\t<tr><td>47   </td><td>56   </td><td>28   </td><td> 2   </td><td>  0.9</td><td> 990 </td><td>0    </td><td> 1   </td><td>0    </td></tr>\n",
       "\t<tr><td>48   </td><td>60   </td><td>54   </td><td>10   </td><td>  2.2</td><td>1002 </td><td>0    </td><td> 2   </td><td>0    </td></tr>\n",
       "\t<tr><td>50   </td><td>83   </td><td>66   </td><td>19   </td><td> 11.6</td><td> 996 </td><td>1    </td><td>12   </td><td>0    </td></tr>\n",
       "\t<tr><td>50   </td><td>36   </td><td>32   </td><td>14   </td><td>  4.5</td><td> 992 </td><td>1    </td><td> 9   </td><td>0    </td></tr>\n",
       "\t<tr><td>51   </td><td>88   </td><td>70   </td><td> 8   </td><td>  0.5</td><td> 982 </td><td>0    </td><td> 1   </td><td>0    </td></tr>\n",
       "\t<tr><td>52   </td><td>87   </td><td>87   </td><td> 7   </td><td> 10.3</td><td> 986 </td><td>0    </td><td> 1   </td><td>0    </td></tr>\n",
       "\t<tr><td>53   </td><td>75   </td><td>68   </td><td>13   </td><td>  2.3</td><td> 980 </td><td>1    </td><td> 9   </td><td>0    </td></tr>\n",
       "\t<tr><td>53   </td><td>65   </td><td>65   </td><td> 6   </td><td>  2.3</td><td> 982 </td><td>0    </td><td> 5   </td><td>0    </td></tr>\n",
       "\t<tr><td>56   </td><td>97   </td><td>92   </td><td>10   </td><td> 16.0</td><td> 992 </td><td>1    </td><td>27   </td><td>1    </td></tr>\n",
       "\t<tr><td>57   </td><td>87   </td><td>83   </td><td>19   </td><td> 21.6</td><td>1020 </td><td>0    </td><td> 1   </td><td>0    </td></tr>\n",
       "\t<tr><td>59   </td><td>45   </td><td>45   </td><td> 8   </td><td>  1.1</td><td> 999 </td><td>0    </td><td>13   </td><td>0    </td></tr>\n",
       "\t<tr><td>59   </td><td>36   </td><td>34   </td><td> 5   </td><td>  0.0</td><td>1038 </td><td>0    </td><td> 1   </td><td>0    </td></tr>\n",
       "\t<tr><td>60   </td><td>39   </td><td>33   </td><td> 7   </td><td>  0.9</td><td> 988 </td><td>0    </td><td> 5   </td><td>0    </td></tr>\n",
       "\t<tr><td>60   </td><td>76   </td><td>53   </td><td>12   </td><td>  0.4</td><td> 982 </td><td>0    </td><td> 1   </td><td>0    </td></tr>\n",
       "\t<tr><td>61   </td><td>46   </td><td>37   </td><td> 4   </td><td>  1.4</td><td>1006 </td><td>0    </td><td> 3   </td><td>0    </td></tr>\n",
       "\t<tr><td>61   </td><td>39   </td><td> 8   </td><td> 8   </td><td>  0.3</td><td> 990 </td><td>0    </td><td> 4   </td><td>0    </td></tr>\n",
       "\t<tr><td>61   </td><td>90   </td><td>90   </td><td> 1   </td><td>  9.9</td><td> 990 </td><td>0    </td><td> 1   </td><td>0    </td></tr>\n",
       "\t<tr><td>62   </td><td>84   </td><td>84   </td><td>19   </td><td>115.0</td><td>1020 </td><td>1    </td><td>18   </td><td>0    </td></tr>\n",
       "\t<tr><td>63   </td><td>42   </td><td>27   </td><td> 5   </td><td>  0.3</td><td>1014 </td><td>0    </td><td> 1   </td><td>0    </td></tr>\n",
       "\t<tr><td>65   </td><td>75   </td><td>75   </td><td>10   </td><td> 20.0</td><td>1004 </td><td>0    </td><td> 2   </td><td>0    </td></tr>\n",
       "\t<tr><td>71   </td><td>44   </td><td>22   </td><td> 6   </td><td>  0.3</td><td> 990 </td><td>0    </td><td> 1   </td><td>0    </td></tr>\n",
       "\t<tr><td>71   </td><td>63   </td><td>63   </td><td>11   </td><td> 10.0</td><td> 986 </td><td>1    </td><td> 8   </td><td>0    </td></tr>\n",
       "\t<tr><td>73   </td><td>33   </td><td>33   </td><td> 4   </td><td>  0.5</td><td>1010 </td><td>0    </td><td> 3   </td><td>0    </td></tr>\n",
       "\t<tr><td>73   </td><td>93   </td><td>84   </td><td> 6   </td><td> 38.0</td><td>1020 </td><td>0    </td><td> 4   </td><td>0    </td></tr>\n",
       "\t<tr><td>74   </td><td>58   </td><td>58   </td><td>10   </td><td>  2.4</td><td>1002 </td><td>1    </td><td>14   </td><td>0    </td></tr>\n",
       "\t<tr><td>74   </td><td>32   </td><td>30   </td><td>16   </td><td>  6.7</td><td> 988 </td><td>0    </td><td> 3   </td><td>0    </td></tr>\n",
       "\t<tr><td>75   </td><td>60   </td><td>60   </td><td>17   </td><td>  8.2</td><td> 990 </td><td>1    </td><td>13   </td><td>0    </td></tr>\n",
       "\t<tr><td>77   </td><td>69   </td><td>69   </td><td> 9   </td><td>  1.5</td><td> 986 </td><td>1    </td><td>13   </td><td>0    </td></tr>\n",
       "\t<tr><td>80   </td><td>73   </td><td>73   </td><td> 7   </td><td>  1.5</td><td> 986 </td><td>0    </td><td> 1   </td><td>0    </td></tr>\n",
       "</tbody>\n",
       "</table>\n"
      ],
      "text/latex": [
       "\\begin{tabular}{r|lllllllll}\n",
       " Age & Smear & Infil & Index & Blasts & Temp & Resp & Time & Status\\\\\n",
       "\\hline\n",
       "\t 20    & 78    & 39    &  7    &   0.6 &  990  & 1     & 18    & 0    \\\\\n",
       "\t 25    & 64    & 61    & 16    &  35.0 & 1030  & 1     & 31    & 1    \\\\\n",
       "\t 26    & 61    & 55    & 12    &   7.5 &  982  & 1     & 31    & 0    \\\\\n",
       "\t 26    & 64    & 64    & 16    &  21.0 & 1000  & 1     & 31    & 0    \\\\\n",
       "\t 27    & 95    & 95    &  6    &   7.5 &  980  & 1     & 36    & 0    \\\\\n",
       "\t 27    & 80    & 64    &  8    &   0.6 & 1010  & 0     &  1    & 0    \\\\\n",
       "\t 28    & 88    & 88    & 20    &   4.8 &  986  & 1     &  9    & 0    \\\\\n",
       "\t 28    & 70    & 70    & 14    &  10.0 & 1010  & 1     & 39    & 1    \\\\\n",
       "\t 31    & 72    & 72    &  5    &   2.3 &  988  & 1     & 20    & 1    \\\\\n",
       "\t 33    & 58    & 58    &  7    &   5.7 &  986  & 0     &  4    & 0    \\\\\n",
       "\t 33    & 92    & 92    &  5    &   2.6 &  980  & 1     & 45    & 1    \\\\\n",
       "\t 33    & 42    & 38    & 12    &   2.5 &  984  & 1     & 36    & 0    \\\\\n",
       "\t 34    & 26    & 26    &  7    &   7.0 &  982  & 0     & 12    & 0    \\\\\n",
       "\t 36    & 55    & 55    & 14    &   4.5 &  986  & 1     &  8    & 0    \\\\\n",
       "\t 37    & 71    & 71    & 15    &   4.4 & 1020  & 0     &  1    & 0    \\\\\n",
       "\t 40    & 91    & 91    &  9    &  35.0 &  986  & 1     & 15    & 0    \\\\\n",
       "\t 40    & 52    & 49    & 12    &   2.1 &  988  & 1     & 24    & 0    \\\\\n",
       "\t 43    & 74    & 63    &  4    &   0.1 &  986  & 0     &  2    & 0    \\\\\n",
       "\t 45    & 78    & 47    & 14    &   4.2 &  980  & 1     & 33    & 0    \\\\\n",
       "\t 45    & 60    & 36    & 10    &   0.6 &  992  & 1     & 29    & 1    \\\\\n",
       "\t 45    & 82    & 32    & 10    &  28.1 & 1016  & 0     &  7    & 0    \\\\\n",
       "\t 45    & 79    & 79    &  4    &   1.1 & 1030  & 0     &  0    & 0    \\\\\n",
       "\t 47    & 56    & 28    &  2    &   0.9 &  990  & 0     &  1    & 0    \\\\\n",
       "\t 48    & 60    & 54    & 10    &   2.2 & 1002  & 0     &  2    & 0    \\\\\n",
       "\t 50    & 83    & 66    & 19    &  11.6 &  996  & 1     & 12    & 0    \\\\\n",
       "\t 50    & 36    & 32    & 14    &   4.5 &  992  & 1     &  9    & 0    \\\\\n",
       "\t 51    & 88    & 70    &  8    &   0.5 &  982  & 0     &  1    & 0    \\\\\n",
       "\t 52    & 87    & 87    &  7    &  10.3 &  986  & 0     &  1    & 0    \\\\\n",
       "\t 53    & 75    & 68    & 13    &   2.3 &  980  & 1     &  9    & 0    \\\\\n",
       "\t 53    & 65    & 65    &  6    &   2.3 &  982  & 0     &  5    & 0    \\\\\n",
       "\t 56    & 97    & 92    & 10    &  16.0 &  992  & 1     & 27    & 1    \\\\\n",
       "\t 57    & 87    & 83    & 19    &  21.6 & 1020  & 0     &  1    & 0    \\\\\n",
       "\t 59    & 45    & 45    &  8    &   1.1 &  999  & 0     & 13    & 0    \\\\\n",
       "\t 59    & 36    & 34    &  5    &   0.0 & 1038  & 0     &  1    & 0    \\\\\n",
       "\t 60    & 39    & 33    &  7    &   0.9 &  988  & 0     &  5    & 0    \\\\\n",
       "\t 60    & 76    & 53    & 12    &   0.4 &  982  & 0     &  1    & 0    \\\\\n",
       "\t 61    & 46    & 37    &  4    &   1.4 & 1006  & 0     &  3    & 0    \\\\\n",
       "\t 61    & 39    &  8    &  8    &   0.3 &  990  & 0     &  4    & 0    \\\\\n",
       "\t 61    & 90    & 90    &  1    &   9.9 &  990  & 0     &  1    & 0    \\\\\n",
       "\t 62    & 84    & 84    & 19    & 115.0 & 1020  & 1     & 18    & 0    \\\\\n",
       "\t 63    & 42    & 27    &  5    &   0.3 & 1014  & 0     &  1    & 0    \\\\\n",
       "\t 65    & 75    & 75    & 10    &  20.0 & 1004  & 0     &  2    & 0    \\\\\n",
       "\t 71    & 44    & 22    &  6    &   0.3 &  990  & 0     &  1    & 0    \\\\\n",
       "\t 71    & 63    & 63    & 11    &  10.0 &  986  & 1     &  8    & 0    \\\\\n",
       "\t 73    & 33    & 33    &  4    &   0.5 & 1010  & 0     &  3    & 0    \\\\\n",
       "\t 73    & 93    & 84    &  6    &  38.0 & 1020  & 0     &  4    & 0    \\\\\n",
       "\t 74    & 58    & 58    & 10    &   2.4 & 1002  & 1     & 14    & 0    \\\\\n",
       "\t 74    & 32    & 30    & 16    &   6.7 &  988  & 0     &  3    & 0    \\\\\n",
       "\t 75    & 60    & 60    & 17    &   8.2 &  990  & 1     & 13    & 0    \\\\\n",
       "\t 77    & 69    & 69    &  9    &   1.5 &  986  & 1     & 13    & 0    \\\\\n",
       "\t 80    & 73    & 73    &  7    &   1.5 &  986  & 0     &  1    & 0    \\\\\n",
       "\\end{tabular}\n"
      ],
      "text/markdown": [
       "\n",
       "| Age | Smear | Infil | Index | Blasts | Temp | Resp | Time | Status |\n",
       "|---|---|---|---|---|---|---|---|---|\n",
       "| 20    | 78    | 39    |  7    |   0.6 |  990  | 1     | 18    | 0     |\n",
       "| 25    | 64    | 61    | 16    |  35.0 | 1030  | 1     | 31    | 1     |\n",
       "| 26    | 61    | 55    | 12    |   7.5 |  982  | 1     | 31    | 0     |\n",
       "| 26    | 64    | 64    | 16    |  21.0 | 1000  | 1     | 31    | 0     |\n",
       "| 27    | 95    | 95    |  6    |   7.5 |  980  | 1     | 36    | 0     |\n",
       "| 27    | 80    | 64    |  8    |   0.6 | 1010  | 0     |  1    | 0     |\n",
       "| 28    | 88    | 88    | 20    |   4.8 |  986  | 1     |  9    | 0     |\n",
       "| 28    | 70    | 70    | 14    |  10.0 | 1010  | 1     | 39    | 1     |\n",
       "| 31    | 72    | 72    |  5    |   2.3 |  988  | 1     | 20    | 1     |\n",
       "| 33    | 58    | 58    |  7    |   5.7 |  986  | 0     |  4    | 0     |\n",
       "| 33    | 92    | 92    |  5    |   2.6 |  980  | 1     | 45    | 1     |\n",
       "| 33    | 42    | 38    | 12    |   2.5 |  984  | 1     | 36    | 0     |\n",
       "| 34    | 26    | 26    |  7    |   7.0 |  982  | 0     | 12    | 0     |\n",
       "| 36    | 55    | 55    | 14    |   4.5 |  986  | 1     |  8    | 0     |\n",
       "| 37    | 71    | 71    | 15    |   4.4 | 1020  | 0     |  1    | 0     |\n",
       "| 40    | 91    | 91    |  9    |  35.0 |  986  | 1     | 15    | 0     |\n",
       "| 40    | 52    | 49    | 12    |   2.1 |  988  | 1     | 24    | 0     |\n",
       "| 43    | 74    | 63    |  4    |   0.1 |  986  | 0     |  2    | 0     |\n",
       "| 45    | 78    | 47    | 14    |   4.2 |  980  | 1     | 33    | 0     |\n",
       "| 45    | 60    | 36    | 10    |   0.6 |  992  | 1     | 29    | 1     |\n",
       "| 45    | 82    | 32    | 10    |  28.1 | 1016  | 0     |  7    | 0     |\n",
       "| 45    | 79    | 79    |  4    |   1.1 | 1030  | 0     |  0    | 0     |\n",
       "| 47    | 56    | 28    |  2    |   0.9 |  990  | 0     |  1    | 0     |\n",
       "| 48    | 60    | 54    | 10    |   2.2 | 1002  | 0     |  2    | 0     |\n",
       "| 50    | 83    | 66    | 19    |  11.6 |  996  | 1     | 12    | 0     |\n",
       "| 50    | 36    | 32    | 14    |   4.5 |  992  | 1     |  9    | 0     |\n",
       "| 51    | 88    | 70    |  8    |   0.5 |  982  | 0     |  1    | 0     |\n",
       "| 52    | 87    | 87    |  7    |  10.3 |  986  | 0     |  1    | 0     |\n",
       "| 53    | 75    | 68    | 13    |   2.3 |  980  | 1     |  9    | 0     |\n",
       "| 53    | 65    | 65    |  6    |   2.3 |  982  | 0     |  5    | 0     |\n",
       "| 56    | 97    | 92    | 10    |  16.0 |  992  | 1     | 27    | 1     |\n",
       "| 57    | 87    | 83    | 19    |  21.6 | 1020  | 0     |  1    | 0     |\n",
       "| 59    | 45    | 45    |  8    |   1.1 |  999  | 0     | 13    | 0     |\n",
       "| 59    | 36    | 34    |  5    |   0.0 | 1038  | 0     |  1    | 0     |\n",
       "| 60    | 39    | 33    |  7    |   0.9 |  988  | 0     |  5    | 0     |\n",
       "| 60    | 76    | 53    | 12    |   0.4 |  982  | 0     |  1    | 0     |\n",
       "| 61    | 46    | 37    |  4    |   1.4 | 1006  | 0     |  3    | 0     |\n",
       "| 61    | 39    |  8    |  8    |   0.3 |  990  | 0     |  4    | 0     |\n",
       "| 61    | 90    | 90    |  1    |   9.9 |  990  | 0     |  1    | 0     |\n",
       "| 62    | 84    | 84    | 19    | 115.0 | 1020  | 1     | 18    | 0     |\n",
       "| 63    | 42    | 27    |  5    |   0.3 | 1014  | 0     |  1    | 0     |\n",
       "| 65    | 75    | 75    | 10    |  20.0 | 1004  | 0     |  2    | 0     |\n",
       "| 71    | 44    | 22    |  6    |   0.3 |  990  | 0     |  1    | 0     |\n",
       "| 71    | 63    | 63    | 11    |  10.0 |  986  | 1     |  8    | 0     |\n",
       "| 73    | 33    | 33    |  4    |   0.5 | 1010  | 0     |  3    | 0     |\n",
       "| 73    | 93    | 84    |  6    |  38.0 | 1020  | 0     |  4    | 0     |\n",
       "| 74    | 58    | 58    | 10    |   2.4 | 1002  | 1     | 14    | 0     |\n",
       "| 74    | 32    | 30    | 16    |   6.7 |  988  | 0     |  3    | 0     |\n",
       "| 75    | 60    | 60    | 17    |   8.2 |  990  | 1     | 13    | 0     |\n",
       "| 77    | 69    | 69    |  9    |   1.5 |  986  | 1     | 13    | 0     |\n",
       "| 80    | 73    | 73    |  7    |   1.5 |  986  | 0     |  1    | 0     |\n",
       "\n"
      ],
      "text/plain": [
       "   Age Smear Infil Index Blasts Temp Resp Time Status\n",
       "1  20  78    39     7      0.6   990 1    18   0     \n",
       "2  25  64    61    16     35.0  1030 1    31   1     \n",
       "3  26  61    55    12      7.5   982 1    31   0     \n",
       "4  26  64    64    16     21.0  1000 1    31   0     \n",
       "5  27  95    95     6      7.5   980 1    36   0     \n",
       "6  27  80    64     8      0.6  1010 0     1   0     \n",
       "7  28  88    88    20      4.8   986 1     9   0     \n",
       "8  28  70    70    14     10.0  1010 1    39   1     \n",
       "9  31  72    72     5      2.3   988 1    20   1     \n",
       "10 33  58    58     7      5.7   986 0     4   0     \n",
       "11 33  92    92     5      2.6   980 1    45   1     \n",
       "12 33  42    38    12      2.5   984 1    36   0     \n",
       "13 34  26    26     7      7.0   982 0    12   0     \n",
       "14 36  55    55    14      4.5   986 1     8   0     \n",
       "15 37  71    71    15      4.4  1020 0     1   0     \n",
       "16 40  91    91     9     35.0   986 1    15   0     \n",
       "17 40  52    49    12      2.1   988 1    24   0     \n",
       "18 43  74    63     4      0.1   986 0     2   0     \n",
       "19 45  78    47    14      4.2   980 1    33   0     \n",
       "20 45  60    36    10      0.6   992 1    29   1     \n",
       "21 45  82    32    10     28.1  1016 0     7   0     \n",
       "22 45  79    79     4      1.1  1030 0     0   0     \n",
       "23 47  56    28     2      0.9   990 0     1   0     \n",
       "24 48  60    54    10      2.2  1002 0     2   0     \n",
       "25 50  83    66    19     11.6   996 1    12   0     \n",
       "26 50  36    32    14      4.5   992 1     9   0     \n",
       "27 51  88    70     8      0.5   982 0     1   0     \n",
       "28 52  87    87     7     10.3   986 0     1   0     \n",
       "29 53  75    68    13      2.3   980 1     9   0     \n",
       "30 53  65    65     6      2.3   982 0     5   0     \n",
       "31 56  97    92    10     16.0   992 1    27   1     \n",
       "32 57  87    83    19     21.6  1020 0     1   0     \n",
       "33 59  45    45     8      1.1   999 0    13   0     \n",
       "34 59  36    34     5      0.0  1038 0     1   0     \n",
       "35 60  39    33     7      0.9   988 0     5   0     \n",
       "36 60  76    53    12      0.4   982 0     1   0     \n",
       "37 61  46    37     4      1.4  1006 0     3   0     \n",
       "38 61  39     8     8      0.3   990 0     4   0     \n",
       "39 61  90    90     1      9.9   990 0     1   0     \n",
       "40 62  84    84    19    115.0  1020 1    18   0     \n",
       "41 63  42    27     5      0.3  1014 0     1   0     \n",
       "42 65  75    75    10     20.0  1004 0     2   0     \n",
       "43 71  44    22     6      0.3   990 0     1   0     \n",
       "44 71  63    63    11     10.0   986 1     8   0     \n",
       "45 73  33    33     4      0.5  1010 0     3   0     \n",
       "46 73  93    84     6     38.0  1020 0     4   0     \n",
       "47 74  58    58    10      2.4  1002 1    14   0     \n",
       "48 74  32    30    16      6.7   988 0     3   0     \n",
       "49 75  60    60    17      8.2   990 1    13   0     \n",
       "50 77  69    69     9      1.5   986 1    13   0     \n",
       "51 80  73    73     7      1.5   986 0     1   0     "
      ]
     },
     "metadata": {},
     "output_type": "display_data"
    }
   ],
   "source": [
    "Leukemia"
   ]
  },
  {
   "cell_type": "markdown",
   "metadata": {},
   "source": [
    "The variable \"Infil\" or \"Percentage of absolute marrow leukemia infiltrate\", gives us an idea of how severe each patient's case was. Basically this measure tells us the degree to which myeloblasts (a type of bad immature white blood cell) have invaded the bone marrow. Below, we are going to use the money sign to tell us that we want to retrieve the values for the \"Infil\" variable from out dataset. Anytime we have a dataset and we want to retrieve the values from one variable we will use the money sign in this way. Note there is no space between the name of the dataset, the \"$\" sign, and the variable we are interested in:"
   ]
  },
  {
   "cell_type": "code",
   "execution_count": 21,
   "metadata": {},
   "outputs": [
    {
     "data": {
      "text/html": [
       "<ol class=list-inline>\n",
       "\t<li>39</li>\n",
       "\t<li>61</li>\n",
       "\t<li>55</li>\n",
       "\t<li>64</li>\n",
       "\t<li>95</li>\n",
       "\t<li>64</li>\n",
       "\t<li>88</li>\n",
       "\t<li>70</li>\n",
       "\t<li>72</li>\n",
       "\t<li>58</li>\n",
       "\t<li>92</li>\n",
       "\t<li>38</li>\n",
       "\t<li>26</li>\n",
       "\t<li>55</li>\n",
       "\t<li>71</li>\n",
       "\t<li>91</li>\n",
       "\t<li>49</li>\n",
       "\t<li>63</li>\n",
       "\t<li>47</li>\n",
       "\t<li>36</li>\n",
       "\t<li>32</li>\n",
       "\t<li>79</li>\n",
       "\t<li>28</li>\n",
       "\t<li>54</li>\n",
       "\t<li>66</li>\n",
       "\t<li>32</li>\n",
       "\t<li>70</li>\n",
       "\t<li>87</li>\n",
       "\t<li>68</li>\n",
       "\t<li>65</li>\n",
       "\t<li>92</li>\n",
       "\t<li>83</li>\n",
       "\t<li>45</li>\n",
       "\t<li>34</li>\n",
       "\t<li>33</li>\n",
       "\t<li>53</li>\n",
       "\t<li>37</li>\n",
       "\t<li>8</li>\n",
       "\t<li>90</li>\n",
       "\t<li>84</li>\n",
       "\t<li>27</li>\n",
       "\t<li>75</li>\n",
       "\t<li>22</li>\n",
       "\t<li>63</li>\n",
       "\t<li>33</li>\n",
       "\t<li>84</li>\n",
       "\t<li>58</li>\n",
       "\t<li>30</li>\n",
       "\t<li>60</li>\n",
       "\t<li>69</li>\n",
       "\t<li>73</li>\n",
       "</ol>\n"
      ],
      "text/latex": [
       "\\begin{enumerate*}\n",
       "\\item 39\n",
       "\\item 61\n",
       "\\item 55\n",
       "\\item 64\n",
       "\\item 95\n",
       "\\item 64\n",
       "\\item 88\n",
       "\\item 70\n",
       "\\item 72\n",
       "\\item 58\n",
       "\\item 92\n",
       "\\item 38\n",
       "\\item 26\n",
       "\\item 55\n",
       "\\item 71\n",
       "\\item 91\n",
       "\\item 49\n",
       "\\item 63\n",
       "\\item 47\n",
       "\\item 36\n",
       "\\item 32\n",
       "\\item 79\n",
       "\\item 28\n",
       "\\item 54\n",
       "\\item 66\n",
       "\\item 32\n",
       "\\item 70\n",
       "\\item 87\n",
       "\\item 68\n",
       "\\item 65\n",
       "\\item 92\n",
       "\\item 83\n",
       "\\item 45\n",
       "\\item 34\n",
       "\\item 33\n",
       "\\item 53\n",
       "\\item 37\n",
       "\\item 8\n",
       "\\item 90\n",
       "\\item 84\n",
       "\\item 27\n",
       "\\item 75\n",
       "\\item 22\n",
       "\\item 63\n",
       "\\item 33\n",
       "\\item 84\n",
       "\\item 58\n",
       "\\item 30\n",
       "\\item 60\n",
       "\\item 69\n",
       "\\item 73\n",
       "\\end{enumerate*}\n"
      ],
      "text/markdown": [
       "1. 39\n",
       "2. 61\n",
       "3. 55\n",
       "4. 64\n",
       "5. 95\n",
       "6. 64\n",
       "7. 88\n",
       "8. 70\n",
       "9. 72\n",
       "10. 58\n",
       "11. 92\n",
       "12. 38\n",
       "13. 26\n",
       "14. 55\n",
       "15. 71\n",
       "16. 91\n",
       "17. 49\n",
       "18. 63\n",
       "19. 47\n",
       "20. 36\n",
       "21. 32\n",
       "22. 79\n",
       "23. 28\n",
       "24. 54\n",
       "25. 66\n",
       "26. 32\n",
       "27. 70\n",
       "28. 87\n",
       "29. 68\n",
       "30. 65\n",
       "31. 92\n",
       "32. 83\n",
       "33. 45\n",
       "34. 34\n",
       "35. 33\n",
       "36. 53\n",
       "37. 37\n",
       "38. 8\n",
       "39. 90\n",
       "40. 84\n",
       "41. 27\n",
       "42. 75\n",
       "43. 22\n",
       "44. 63\n",
       "45. 33\n",
       "46. 84\n",
       "47. 58\n",
       "48. 30\n",
       "49. 60\n",
       "50. 69\n",
       "51. 73\n",
       "\n",
       "\n"
      ],
      "text/plain": [
       " [1] 39 61 55 64 95 64 88 70 72 58 92 38 26 55 71 91 49 63 47 36 32 79 28 54 66\n",
       "[26] 32 70 87 68 65 92 83 45 34 33 53 37  8 90 84 27 75 22 63 33 84 58 30 60 69\n",
       "[51] 73"
      ]
     },
     "metadata": {},
     "output_type": "display_data"
    }
   ],
   "source": [
    "Leukemia$Infil"
   ]
  },
  {
   "cell_type": "markdown",
   "metadata": {},
   "source": [
    "Now, let's make a histogram of the \"Infil\" variable values below:"
   ]
  },
  {
   "cell_type": "code",
   "execution_count": 20,
   "metadata": {},
   "outputs": [
    {
     "data": {
      "image/png": "[encoded data removed]",
      "text/plain": [
       "Plot with title \"Histogram of Leukemia$Infil\""
      ]
     },
     "metadata": {},
     "output_type": "display_data"
    }
   ],
   "source": [
    "hist(Leukemia$Infil)"
   ]
  },
  {
   "cell_type": "markdown",
   "metadata": {},
   "source": [
    "## 1.1) A confidence interval using the Student's t-distribution by hand\n",
    "Below we are going to work through determining a confidence interval for the mean of a population, $\\mu$, using the Student's t-distribution \"by hand\". Let's assume that we want to estimate what the population mean \"Percentage of absolute marrow leukemia infiltrate\" (the \"infil\" variable) for this population (patients with acute myeloid leukemia). For this confidence interval we will use a confidence coefficient of $1-\\alpha = 0.95$, also known as a 95\\% confidence interval. It is a good idea to pay close attention in this section, as this process is what you will do on quizzes / exams. "
   ]
  },
  {
   "cell_type": "markdown",
   "metadata": {},
   "source": [
    "**Question for you**. Given we want to determine this confidence interval for the population mean, do you think we know the population standard deviation $\\sigma$ already? Please answer the question with a sentence below (Please insert a cell below and change to \"markdown\"). "
   ]
  },
  {
   "cell_type": "markdown",
   "metadata": {},
   "source": [
    "**Question for you**. Given your answer to the question above, will we need to use quantiles from the Normal distribution or the Student's t-distribution? Please insert a new cell and answer below in \"markdown\"."
   ]
  },
  {
   "cell_type": "markdown",
   "metadata": {},
   "source": [
    "Now let's calculate our 95\\% confidence interval for the population mean. Our first step is calculating the sample mean of the \"Infil\" variable. We can do that using the \"mean\" command as below:"
   ]
  },
  {
   "cell_type": "code",
   "execution_count": 22,
   "metadata": {},
   "outputs": [
    {
     "data": {
      "text/html": [
       "58.1960784313725"
      ],
      "text/latex": [
       "58.1960784313725"
      ],
      "text/markdown": [
       "58.1960784313725"
      ],
      "text/plain": [
       "[1] 58.19608"
      ]
     },
     "metadata": {},
     "output_type": "display_data"
    }
   ],
   "source": [
    "mean(Leukemia$Infil)"
   ]
  },
  {
   "cell_type": "markdown",
   "metadata": {},
   "source": [
    "We can (and will need to) save the value of this sample mean. As you probably know by now, to save something we use the \"<-\" notation. Below we will save the sample mean of the \"Infil\" variable as \"sampMean\":"
   ]
  },
  {
   "cell_type": "code",
   "execution_count": 3,
   "metadata": {},
   "outputs": [],
   "source": [
    "sampMean <- mean(Leukemia$Infil)"
   ]
  },
  {
   "cell_type": "markdown",
   "metadata": {},
   "source": [
    "Okay, so we have the sample mean saved. Now let's compute the sample standard deviation for the same variable: "
   ]
  },
  {
   "cell_type": "code",
   "execution_count": 24,
   "metadata": {},
   "outputs": [
    {
     "data": {
      "text/html": [
       "22.0662816150281"
      ],
      "text/latex": [
       "22.0662816150281"
      ],
      "text/markdown": [
       "22.0662816150281"
      ],
      "text/plain": [
       "[1] 22.06628"
      ]
     },
     "metadata": {},
     "output_type": "display_data"
    }
   ],
   "source": [
    "sd(Leukemia$Infil)"
   ]
  },
  {
   "cell_type": "markdown",
   "metadata": {},
   "source": [
    "As with the sample mean we will need to save the value of the sample standard deviation of \"Infil\". Let's save this as \"sampSD\": "
   ]
  },
  {
   "cell_type": "code",
   "execution_count": 8,
   "metadata": {},
   "outputs": [],
   "source": [
    "sampSD <- sd(Leukemia$Infil)"
   ]
  },
  {
   "cell_type": "markdown",
   "metadata": {},
   "source": [
    "Now let's pause and remember what the formula is for computing a confidence interval for the population mean (given that $\\sigma$ is unknown).\n",
    "\n",
    "**Question for you**. What is the formula for computing this type of confidence interval? Please answer the question below using plain English (you do not need to use symbols or fancy math--just describe using words). Please insert a cell below and answer in \"markdown\". "
   ]
  },
  {
   "cell_type": "markdown",
   "metadata": {},
   "source": [
    "Okay, so we have one remaining value that we need to determine before we can determine our 95\\% confidence interval for the population mean. We need to know the sample size $n$:"
   ]
  },
  {
   "cell_type": "code",
   "execution_count": 28,
   "metadata": {},
   "outputs": [
    {
     "data": {
      "text/html": [
       "51"
      ],
      "text/latex": [
       "51"
      ],
      "text/markdown": [
       "51"
      ],
      "text/plain": [
       "[1] 51"
      ]
     },
     "metadata": {},
     "output_type": "display_data"
    }
   ],
   "source": [
    "length(Leukemia$Infil)"
   ]
  },
  {
   "cell_type": "markdown",
   "metadata": {},
   "source": [
    "As before, we will need to save this value. Let's save it as \"n\": "
   ]
  },
  {
   "cell_type": "code",
   "execution_count": 10,
   "metadata": {},
   "outputs": [],
   "source": [
    "n <- length(Leukemia$Infil)"
   ]
  },
  {
   "cell_type": "markdown",
   "metadata": {},
   "source": [
    "**Question for you**. Since we want a 95\\% confidence interval what is $\\alpha$? Also, what is $\\alpha/2$. Please answer these questions below (insert a new cell and change to \"markdown\"). You can use plain English (like saying \"alpha is\"). "
   ]
  },
  {
   "cell_type": "markdown",
   "metadata": {},
   "source": [
    "Great! We are now ready to determine the quantiles from the Student's t-distribution that will allow us to know the width of our 95\\% confidence interval for the population mean. We are looking for the value $t_{\\alpha /2, \\text{df}=n-1}$. To do this we are going to use the \"qt\" function. This function has the following form for determining the quantile for a lower tailed probability: \"qt($\\alpha /2$, df, lower.tail = FALSE)\". Please remember that we have already saved \"n\", so we can plug this into the \"qt\" function as \"n\". "
   ]
  },
  {
   "cell_type": "code",
   "execution_count": 34,
   "metadata": {},
   "outputs": [
    {
     "data": {
      "text/html": [
       "2.00855911210076"
      ],
      "text/latex": [
       "2.00855911210076"
      ],
      "text/markdown": [
       "2.00855911210076"
      ],
      "text/plain": [
       "[1] 2.008559"
      ]
     },
     "metadata": {},
     "output_type": "display_data"
    }
   ],
   "source": [
    "qt(.05/2, df = n-1, lower.tail = FALSE)"
   ]
  },
  {
   "cell_type": "markdown",
   "metadata": {},
   "source": [
    "Okay, above we took a look at what this quantile is from the Student's t-distribution. Now, let's save this value as \"tValue\" so that we can use it when determining our confidence interval:"
   ]
  },
  {
   "cell_type": "code",
   "execution_count": 35,
   "metadata": {},
   "outputs": [],
   "source": [
    "tValue <- qt(.05/2, df = n-1, lower.tail = FALSE)"
   ]
  },
  {
   "cell_type": "markdown",
   "metadata": {},
   "source": [
    "Wohoo! We are now ready to determine our 95\\% confidence interval for the population mean. First, let's compute the lower endpoint of this interval: "
   ]
  },
  {
   "cell_type": "code",
   "execution_count": 36,
   "metadata": {},
   "outputs": [
    {
     "data": {
      "text/html": [
       "51.9898367177537"
      ],
      "text/latex": [
       "51.9898367177537"
      ],
      "text/markdown": [
       "51.9898367177537"
      ],
      "text/plain": [
       "[1] 51.98984"
      ]
     },
     "metadata": {},
     "output_type": "display_data"
    }
   ],
   "source": [
    "sampMean - tValue * sampSD / sqrt(n)"
   ]
  },
  {
   "cell_type": "markdown",
   "metadata": {},
   "source": [
    "Now, let's compute the upper endpoint of this interval:"
   ]
  },
  {
   "cell_type": "code",
   "execution_count": 37,
   "metadata": {},
   "outputs": [
    {
     "data": {
      "text/html": [
       "64.4023201449914"
      ],
      "text/latex": [
       "64.4023201449914"
      ],
      "text/markdown": [
       "64.4023201449914"
      ],
      "text/plain": [
       "[1] 64.40232"
      ]
     },
     "metadata": {},
     "output_type": "display_data"
    }
   ],
   "source": [
    "sampMean + tValue * sampSD / sqrt(n)"
   ]
  },
  {
   "cell_type": "markdown",
   "metadata": {},
   "source": [
    "**Question for you**. What is the 95\\% confidence interval for $\\mu$ (the \"Percentage of absolute marrow leukemia infiltrate\" for patients with acute myeloid leukemia). Please insert a new cell below, and answer the question in \"markdown\". It is a good idea to report 2 or 3 digits to the right of the decimal place."
   ]
  },
  {
   "cell_type": "markdown",
   "metadata": {},
   "source": [
    "## 1.2) A confidence interval using the Student's t-distribution using software\n",
    "Now, we are going to talk about a shortcut way to determine confidence intervals using R, without doing calculations \"by hand\". This will rely on using the \"t.test\" function. Later we will use the \"t.test\" function to conduct statistical tests regarding the value of a population parameter $\\mu$. When the \"t.test\" function is utilized, it will also estimate a confidence interval for the population parameter $\\mu$ assuming that the population standard deviation $\\sigma$ is unknown. To get a confidence interval using the \"t.test\" function we will use \"t.test(variable of interest, conf.level = $1-\\alpha$)\". If you do not specify \"conf.level\", the default is to assume that \"conf.level = 0.95\". In other words, if you do not tell R otherwise, it will estimate a 95\\% confidence interval. However, below we will explicitly tell R that we want a 95\\% confidence interval by setting \"conf.level = 0.95\". Please run the code below and take a look at the output. "
   ]
  },
  {
   "cell_type": "code",
   "execution_count": 5,
   "metadata": {},
   "outputs": [
    {
     "data": {
      "text/plain": [
       "\n",
       "\tOne Sample t-test\n",
       "\n",
       "data:  Leukemia$Infil\n",
       "t = 18.834, df = 50, p-value < 2.2e-16\n",
       "alternative hypothesis: true mean is not equal to 0\n",
       "95 percent confidence interval:\n",
       " 51.98984 64.40232\n",
       "sample estimates:\n",
       "mean of x \n",
       " 58.19608 \n"
      ]
     },
     "metadata": {},
     "output_type": "display_data"
    }
   ],
   "source": [
    "t.test(Leukemia$Infil, conf.level = 0.95)"
   ]
  },
  {
   "cell_type": "markdown",
   "metadata": {},
   "source": [
    "Okay, you may have noticed a few things. At the very bottom of the output from \"t.test\", it should say \"sample estimates: mean of x\". This is providing you the sample mean, which we have said is a good estimate of the population mean $\\mu$. You will also notice that R has computed a \"95 percent confidence interval\". Finally, you may notice that R has done a statistical test. It has tested $H_0: \\mu = 0$, $H_a: \\mu \\neq 0$. We can ignore this hypothesis test. R by default tests this hypothesis; For us we just want the confidence interval--we will do some hypothesis testing later using the \"t.test\" command. "
   ]
  },
  {
   "cell_type": "markdown",
   "metadata": {},
   "source": [
    "**Question for you**. Let's compute a 90\\% confidence interval for the population mean $\\mu$ (that is the population mean of the \"infil\" variable which is the \"Percentage of absolute marrow leukemia infiltrate\". Below, please insert a new \"code\" cell, copy and paste the \"t.test\" command that we ran above, and change the \"conf.level\" or confidence coefficient to what it should be for a 90\\% confidence coefficient."
   ]
  },
  {
   "cell_type": "markdown",
   "metadata": {},
   "source": [
    "**Another question for you**. Let's now compute a 99% confidence interval. Insert a new \"code\" cell below and repeat the process to determine a 99\\% confidence interval. "
   ]
  },
  {
   "cell_type": "markdown",
   "metadata": {},
   "source": [
    "**Another Another question for you**. Now that you have determined a 90\\%, 95\\%, and 99\\% confidence interval for the population mean \"Percentage of absolute marrow leukemia infiltrate\", which confidence interval is most narrow? Which confidence interval is the widest. Please insert a new cell below, change to \"markdown\", and answer the question using a sentence. "
   ]
  },
  {
   "cell_type": "markdown",
   "metadata": {},
   "source": [
    "## 1.3) Testing hypotheses regarding the value of $\\mu$ assuming $\\sigma$ is unkown by hand\n",
    "Now, let's assume that we wanted to know if the \"Percentage of absolute marrow leukemia infiltrate\" is greater than 50 for patients who have acute myeloid leukemia. Let's first state what our hypotheses would be:\n",
    "\n",
    "$H_0$: The \"Percentage of absolute marrow leukemia infiltrate\" is less than or equal to 50\n",
    "\n",
    "$H_a$: The \"Percentage of absolute marrow leukemia infiltrate\" is greater than 50. \n",
    "\n",
    "In symbols this would be:\n",
    "\n",
    "$H_0: \\mu \\leq 50$\n",
    "\n",
    "$H_a: \\mu > 50$\n",
    "\n",
    "Let's assume that we would like to test this hypothesis for a fixed type I error rate of $\\alpha = .05$. "
   ]
  },
  {
   "cell_type": "markdown",
   "metadata": {},
   "source": [
    "**Question for you**. Is this a one-sided hypothesis test, or a two-sided test. On which side or sides of the sampling distribution of our test statistic would the rejection region be? Please answer this question with a sentence below (insert cell, change to \"markdown\"). "
   ]
  },
  {
   "cell_type": "markdown",
   "metadata": {},
   "source": [
    "Okay, now let's recall what our test statistic is going to be. We are going to compute the test statistic $t =\\frac{\\bar{y}-\\mu_0}{s/\\sqrt{n}}$. Below, let's compute \"by hand\" what this test statistic value should be. Please remember that we already computed $\\bar{y}$ and saved it as \"sampMean\", we computed $s$ and saved it as \"sampSD\", and we determined $n$ and we saved it as \"n\". If these values were not saved above the following calculation will return an error, otherwise it will return the test statistic that we need:"
   ]
  },
  {
   "cell_type": "code",
   "execution_count": 11,
   "metadata": {},
   "outputs": [
    {
     "data": {
      "text/html": [
       "2.6525405835711"
      ],
      "text/latex": [
       "2.6525405835711"
      ],
      "text/markdown": [
       "2.6525405835711"
      ],
      "text/plain": [
       "[1] 2.652541"
      ]
     },
     "metadata": {},
     "output_type": "display_data"
    }
   ],
   "source": [
    "(sampMean - 50) / (sampSD / sqrt(n))"
   ]
  },
  {
   "cell_type": "markdown",
   "metadata": {},
   "source": [
    "Okay, now that we have seen what our test statistic is, let's save it as \"testStatistic\": "
   ]
  },
  {
   "cell_type": "code",
   "execution_count": 14,
   "metadata": {},
   "outputs": [],
   "source": [
    "testStatistic <- (sampMean - 50) / (sampSD / sqrt(n))"
   ]
  },
  {
   "cell_type": "markdown",
   "metadata": {},
   "source": [
    "Okay, now we need to determine what our rejection region should be for this test. Given that $\\alpha = 0.05$, and $\\text{df}=n-1=50$, we can determine the quantile from a Student's t-distribution that we need. Given our specific alternative hypothesis $H_a: \\mu > 50$, the rejection region will be to right of this value from the Student's t-distribution. We often refer to this value as the \"critical value\". Below let's figure out what this value should be. To do this we will use the \"qt\" function which will give us quantiles from a Student's t-distribution\". We will use this function as \"qt($\\alpha$, df, lower.tail = FALSE)\":"
   ]
  },
  {
   "cell_type": "code",
   "execution_count": 15,
   "metadata": {},
   "outputs": [
    {
     "data": {
      "text/html": [
       "1.6759050251631"
      ],
      "text/latex": [
       "1.6759050251631"
      ],
      "text/markdown": [
       "1.6759050251631"
      ],
      "text/plain": [
       "[1] 1.675905"
      ]
     },
     "metadata": {},
     "output_type": "display_data"
    }
   ],
   "source": [
    "qt(.05, df = n - 1, lower.tail = FALSE)"
   ]
  },
  {
   "cell_type": "markdown",
   "metadata": {},
   "source": [
    "Okay, so now we have our \"critical value\". Now, if the test statistic is to the right of this value we can reject the null hypothesis."
   ]
  },
  {
   "cell_type": "markdown",
   "metadata": {},
   "source": [
    "**Question for you.** Is the test statistic that we have computed in the rejection region? Please answer this question below by inserting a new cell, changing to markdown, and writing a sentence. "
   ]
  },
  {
   "cell_type": "markdown",
   "metadata": {},
   "source": [
    "**Question for you.** Do we have evidence that supports rejecting the null hypothesis?"
   ]
  },
  {
   "cell_type": "markdown",
   "metadata": {},
   "source": [
    "**Question for you**. What would you conclude from this hypothesis test about the \"Percentage of absolute marrow leukemia infiltrate\" in patients with acute myeloid leukemia. Please insert a cell below and answer in \"markdown\". Please explain your answer in non-technical terms (you do not need to use symbols, just plain English). "
   ]
  },
  {
   "cell_type": "markdown",
   "metadata": {},
   "source": [
    "Okay now let's determin the \"level of significance\" or \"p-value\" for the hypothesis test that we have conducted above. Remember that the p-value depends on the type of alternative hypothesis that we have assumed before doing the test. For us, since we did a one-sided test with the alternative hyothesis $H_a: \\mu > 50$, we need to find the probability of observing a test statistic as great as the one we have observed, or greater. So we are looking for $P(t> TS)$. We can do this by using the \"pt\" (probability from a Student's t-Distribution function), with a specified degrees of freedom and \"lower.tail=FALSE\" to get the right-tailed probability. "
   ]
  },
  {
   "cell_type": "code",
   "execution_count": 13,
   "metadata": {},
   "outputs": [
    {
     "data": {
      "text/html": [
       "0.0053388552665606"
      ],
      "text/latex": [
       "0.0053388552665606"
      ],
      "text/markdown": [
       "0.0053388552665606"
      ],
      "text/plain": [
       "[1] 0.005338855"
      ]
     },
     "metadata": {},
     "output_type": "display_data"
    }
   ],
   "source": [
    "pt(testStatistic, df = n - 1, lower.tail = FALSE)"
   ]
  },
  {
   "cell_type": "markdown",
   "metadata": {},
   "source": [
    "## 1.4) Testing hypotheses regarding the value of $\\mu$ assuming $\\sigma$ is unkown using software\n",
    "Now that we have gone through the process of conducting this hypothesis test \"by hand\", let's see how to do it using software instead. We are going to use the \"t.test\" function. We will need to specify our alternative hypothesis.\n",
    "\n",
    "Let's recall what our hypotheses were: \n",
    "\n",
    "$H_0: \\mu \\leq 50$\n",
    "\n",
    "$H_a: \\mu > 50$\n",
    "\n",
    "So we will tell R that our alternative is that $\\mu$ is greater than some value $\\mu_0$ and we will tell it that $\\mu_0 = 50$. So we will say \"alternative = \"greater\"\", and \"mu = 50\". Note that R uses \"mu\" to mean $\\mu_0$. Please run the code below to see this output:"
   ]
  },
  {
   "cell_type": "code",
   "execution_count": 45,
   "metadata": {},
   "outputs": [
    {
     "data": {
      "text/plain": [
       "\n",
       "\tOne Sample t-test\n",
       "\n",
       "data:  Leukemia$Infil\n",
       "t = 2.6525, df = 50, p-value = 0.005339\n",
       "alternative hypothesis: true mean is greater than 50\n",
       "95 percent confidence interval:\n",
       " 53.0177     Inf\n",
       "sample estimates:\n",
       "mean of x \n",
       " 58.19608 \n"
      ]
     },
     "metadata": {},
     "output_type": "display_data"
    }
   ],
   "source": [
    "t.test(Leukemia$Infil, alternative = \"greater\", mu = 50)"
   ]
  },
  {
   "cell_type": "markdown",
   "metadata": {},
   "source": [
    "Okay, so we see the same test statistic that we computed before, t = 2.6525, we see the degrees of freedom df = 50, and we see the p-value = 0.005339. We also see the sample mean at the bottom (58.19608). If we we specify that we have a one-tailed test (as in this case), we will get a strange confidence interval. These confidence intervals are \"one-sided\" confidence intervals. We do not talk about these confidence intervals in class. So if you want to use R to determine a confidence interval we do this separately and we do not specify \"alternative = \"greater\"\" or \"alternative = \"less\"\"."
   ]
  },
  {
   "cell_type": "markdown",
   "metadata": {},
   "source": [
    "# 2) Suicide attempts and fatalities in rural China\n",
    "The next dataset we will look at was published in the article Sun J, Guo X, Zhang J, Wang M, Jia C, Xu A (2015) \"Incidence and fatality of serious suicide attempts in a predominantly rural population in Shandong, China: a public health surveillance study,\" BMJ Open 5(2): e006762. https://doi.org/10.1136/bmjopen-2014-006762. \n",
    "\n",
    "To see the description of the variables that are in this dataset you can look here: https://rdrr.io/cran/Stat2Data/man/SuicideChina.html\n",
    "\n",
    "The code below \"data()\" will load the dataset and save it as \"SuicideChina\". Please run that code below."
   ]
  },
  {
   "cell_type": "code",
   "execution_count": 17,
   "metadata": {},
   "outputs": [],
   "source": [
    "data(SuicideChina)"
   ]
  },
  {
   "cell_type": "markdown",
   "metadata": {},
   "source": [
    "Now, we don't want to try and print out what is in this dataset, because the sample size is 2,571. However, we can use the \"head\" command to print out just the first few observations in this dataset. Please run the code below to see the first few:"
   ]
  },
  {
   "cell_type": "code",
   "execution_count": 69,
   "metadata": {},
   "outputs": [
    {
     "data": {
      "text/html": [
       "<table>\n",
       "<thead><tr><th scope=col>Person_ID</th><th scope=col>Hospitalised</th><th scope=col>Died</th><th scope=col>Urban</th><th scope=col>Year</th><th scope=col>Month</th><th scope=col>Sex</th><th scope=col>Age</th><th scope=col>Education</th><th scope=col>Occupation</th><th scope=col>method</th></tr></thead>\n",
       "<tbody>\n",
       "\t<tr><td>1           </td><td>yes         </td><td>no          </td><td>no          </td><td>2010        </td><td>12          </td><td>female      </td><td>39          </td><td>Secondary   </td><td>household   </td><td>Other poison</td></tr>\n",
       "\t<tr><td>2           </td><td>no          </td><td>yes         </td><td>no          </td><td>2009        </td><td> 3          </td><td>male        </td><td>83          </td><td>primary     </td><td>farming     </td><td>Hanging     </td></tr>\n",
       "\t<tr><td>3           </td><td>no          </td><td>yes         </td><td>no          </td><td>2010        </td><td> 2          </td><td>male        </td><td>60          </td><td>primary     </td><td>farming     </td><td>Hanging     </td></tr>\n",
       "\t<tr><td>4           </td><td>no          </td><td>yes         </td><td>no          </td><td>2011        </td><td> 1          </td><td>male        </td><td>73          </td><td>primary     </td><td>farming     </td><td>Hanging     </td></tr>\n",
       "\t<tr><td>5           </td><td>yes         </td><td>no          </td><td>no          </td><td>2009        </td><td> 8          </td><td>male        </td><td>51          </td><td>Secondary   </td><td>farming     </td><td>Pesticide   </td></tr>\n",
       "\t<tr><td>6           </td><td>no          </td><td>yes         </td><td>no          </td><td>2009        </td><td>11          </td><td>male        </td><td>62          </td><td>iliterate   </td><td>farming     </td><td>Pesticide   </td></tr>\n",
       "</tbody>\n",
       "</table>\n"
      ],
      "text/latex": [
       "\\begin{tabular}{r|lllllllllll}\n",
       " Person\\_ID & Hospitalised & Died & Urban & Year & Month & Sex & Age & Education & Occupation & method\\\\\n",
       "\\hline\n",
       "\t 1            & yes          & no           & no           & 2010         & 12           & female       & 39           & Secondary    & household    & Other poison\\\\\n",
       "\t 2            & no           & yes          & no           & 2009         &  3           & male         & 83           & primary      & farming      & Hanging     \\\\\n",
       "\t 3            & no           & yes          & no           & 2010         &  2           & male         & 60           & primary      & farming      & Hanging     \\\\\n",
       "\t 4            & no           & yes          & no           & 2011         &  1           & male         & 73           & primary      & farming      & Hanging     \\\\\n",
       "\t 5            & yes          & no           & no           & 2009         &  8           & male         & 51           & Secondary    & farming      & Pesticide   \\\\\n",
       "\t 6            & no           & yes          & no           & 2009         & 11           & male         & 62           & iliterate    & farming      & Pesticide   \\\\\n",
       "\\end{tabular}\n"
      ],
      "text/markdown": [
       "\n",
       "| Person_ID | Hospitalised | Died | Urban | Year | Month | Sex | Age | Education | Occupation | method |\n",
       "|---|---|---|---|---|---|---|---|---|---|---|\n",
       "| 1            | yes          | no           | no           | 2010         | 12           | female       | 39           | Secondary    | household    | Other poison |\n",
       "| 2            | no           | yes          | no           | 2009         |  3           | male         | 83           | primary      | farming      | Hanging      |\n",
       "| 3            | no           | yes          | no           | 2010         |  2           | male         | 60           | primary      | farming      | Hanging      |\n",
       "| 4            | no           | yes          | no           | 2011         |  1           | male         | 73           | primary      | farming      | Hanging      |\n",
       "| 5            | yes          | no           | no           | 2009         |  8           | male         | 51           | Secondary    | farming      | Pesticide    |\n",
       "| 6            | no           | yes          | no           | 2009         | 11           | male         | 62           | iliterate    | farming      | Pesticide    |\n",
       "\n"
      ],
      "text/plain": [
       "  Person_ID Hospitalised Died Urban Year Month Sex    Age Education Occupation\n",
       "1 1         yes          no   no    2010 12    female 39  Secondary household \n",
       "2 2         no           yes  no    2009  3    male   83  primary   farming   \n",
       "3 3         no           yes  no    2010  2    male   60  primary   farming   \n",
       "4 4         no           yes  no    2011  1    male   73  primary   farming   \n",
       "5 5         yes          no   no    2009  8    male   51  Secondary farming   \n",
       "6 6         no           yes  no    2009 11    male   62  iliterate farming   \n",
       "  method      \n",
       "1 Other poison\n",
       "2 Hanging     \n",
       "3 Hanging     \n",
       "4 Hanging     \n",
       "5 Pesticide   \n",
       "6 Pesticide   "
      ]
     },
     "metadata": {},
     "output_type": "display_data"
    }
   ],
   "source": [
    "head(SuicideChina)"
   ]
  },
  {
   "cell_type": "markdown",
   "metadata": {},
   "source": [
    "In this problem we will test hypotheses regarding the mean age of people who attempt suicide. Let's first make a histogram of the age of all of the people in this data:"
   ]
  },
  {
   "cell_type": "code",
   "execution_count": 72,
   "metadata": {},
   "outputs": [
    {
     "data": {
      "image/png": "[encoded data removed]",
      "text/plain": [
       "Plot with title \"Histogram of SuicideChina$Age\""
      ]
     },
     "metadata": {},
     "output_type": "display_data"
    }
   ],
   "source": [
    "hist(SuicideChina$Age)"
   ]
  },
  {
   "cell_type": "markdown",
   "metadata": {},
   "source": [
    "Now let's take a look at what the mean age is:"
   ]
  },
  {
   "cell_type": "code",
   "execution_count": 73,
   "metadata": {},
   "outputs": [
    {
     "data": {
      "text/html": [
       "52.6308829249319"
      ],
      "text/latex": [
       "52.6308829249319"
      ],
      "text/markdown": [
       "52.6308829249319"
      ],
      "text/plain": [
       "[1] 52.63088"
      ]
     },
     "metadata": {},
     "output_type": "display_data"
    }
   ],
   "source": [
    "mean(SuicideChina$Age)"
   ]
  },
  {
   "cell_type": "markdown",
   "metadata": {},
   "source": [
    "Let's assume that you want to determine if the mean age of those people who attempt suicide is less than 60. \n",
    "**Question for you**. Please insert a cell below, change it to markdown, and explain in plain English what your null and alternative hypotheses would be. "
   ]
  },
  {
   "cell_type": "markdown",
   "metadata": {},
   "source": [
    "**Question for you**. Now, insert a cell below and copy and paste the \"t.test\" command from question 1.4) to use R to conduct the statistical test. Assume that $\\alpha = 0.05$."
   ]
  },
  {
   "cell_type": "markdown",
   "metadata": {},
   "source": [
    "**Question for you**. Now that you have conducted this statistical test, please write a few sent"
   ]
  }
 ],
 "metadata": {
  "kernelspec": {
   "display_name": "R",
   "language": "R",
   "name": "ir"
  },
  "language_info": {
   "codemirror_mode": "r",
   "file_extension": ".r",
   "mimetype": "text/x-r-source",
   "name": "R",
   "pygments_lexer": "r",
   "version": "3.6.1"
  }
 },
 "nbformat": 4,
 "nbformat_minor": 2
}
