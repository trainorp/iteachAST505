{
 "cells": [
  {
   "cell_type": "markdown",
   "metadata": {},
   "source": [
    "# 0) Instructions:\n",
    "Please complete the workbook below. Some of the calculations are already ready to be \"run\". However, please read the text carefully to find questions that you should answer for credit. Remember that to answer a question in text, you click \"insert\", then \"insert cell below\", switch the input from \"code\" to \"markdown\", type your answer, and finally click the run button to set your text in stone. In a few questions, you will need to do some calculations on your own. Hint: for these calculations you can copy, paste, and modify code that is above the calculation that you need to do. You may work by yourself or in groups of 2. Please remember to put your name on top, remember to save the workbook, and remember to upload to Canvas.\n",
    "\n",
    "**Please read** Please run the code below and ignore the output. This code is simply setting the height and width of the plots we will make later on and loading a set of software \"tidyverse\" that we will use."
   ]
  },
  {
   "cell_type": "code",
   "execution_count": 1,
   "metadata": {},
   "outputs": [
    {
     "name": "stderr",
     "output_type": "stream",
     "text": [
      "-- Attaching packages --------------------------------------- tidyverse 1.2.1 --\n",
      "v ggplot2 3.2.0     v purrr   0.3.2\n",
      "v tibble  2.1.3     v dplyr   0.8.3\n",
      "v tidyr   0.8.3     v stringr 1.4.0\n",
      "v readr   1.3.1     v forcats 0.4.0\n",
      "-- Conflicts ------------------------------------------ tidyverse_conflicts() --\n",
      "x dplyr::filter() masks stats::filter()\n",
      "x dplyr::lag()    masks stats::lag()\n"
     ]
    }
   ],
   "source": [
    "options(repr.plot.width = 6, repr.plot.height = 4)\n",
    "library(tidyverse)"
   ]
  },
  {
   "cell_type": "markdown",
   "metadata": {},
   "source": [
    "In today's lab we will need some datasets that are contained in different \"software packages\". These need to be installed for this lab to work. Please run the line of code below to install the package we need. You should see a star once the installation process starts. When it is finished you will see the message \"package 'Stat2Data' successfully unpacked and MD5 sums checked\". Please do not continue until you see this message. "
   ]
  },
  {
   "cell_type": "code",
   "execution_count": 8,
   "metadata": {},
   "outputs": [
    {
     "name": "stderr",
     "output_type": "stream",
     "text": [
      "Installing package into 'C:/Users/ptrainor/Documents/R/win-library/3.6'\n",
      "(as 'lib' is unspecified)\n"
     ]
    },
    {
     "name": "stdout",
     "output_type": "stream",
     "text": [
      "package 'Stat2Data' successfully unpacked and MD5 sums checked\n",
      "\n",
      "The downloaded binary packages are in\n",
      "\tC:\\Users\\ptrainor\\AppData\\Local\\Temp\\RtmpItx5kd\\downloaded_packages\n"
     ]
    }
   ],
   "source": [
    "install.packages(\"Stat2Data\", dep = TRUE)"
   ]
  },
  {
   "cell_type": "markdown",
   "metadata": {},
   "source": [
    "# 1) Acute myeloid leukemia data\n",
    "Acute myeloid leukemia (AML) is a type of cancer that originates in the bone marrow. Today we will work with a dataset from a study of AML treatment. This data is contained in the \"Stat2Data\" package. Below we are going to load the package \"Stat2Data\" which has a dataset that we will use. This dataset, called \"Leukemia\" is then going to be loaded with the \"data()\" command. Please run the code below (it will not return anything). "
   ]
  },
  {
   "cell_type": "code",
   "execution_count": 16,
   "metadata": {},
   "outputs": [],
   "source": [
    "library(Stat2Data)\n",
    "data(Leukemia)"
   ]
  },
  {
   "cell_type": "markdown",
   "metadata": {},
   "source": [
    "To see what the dataset looks like we can call it by name (run the code below to do this). To see what the variables in this dataset are please see here: (https://rdrr.io/rforge/Stat2Data/man/Leukemia.html) "
   ]
  },
  {
   "cell_type": "code",
   "execution_count": 17,
   "metadata": {},
   "outputs": [
    {
     "data": {
      "text/html": [
       "<table>\n",
       "<thead><tr><th scope=col>Age</th><th scope=col>Smear</th><th scope=col>Infil</th><th scope=col>Index</th><th scope=col>Blasts</th><th scope=col>Temp</th><th scope=col>Resp</th><th scope=col>Time</th><th scope=col>Status</th></tr></thead>\n",
       "<tbody>\n",
       "\t<tr><td>20   </td><td>78   </td><td>39   </td><td> 7   </td><td>  0.6</td><td> 990 </td><td>1    </td><td>18   </td><td>0    </td></tr>\n",
       "\t<tr><td>25   </td><td>64   </td><td>61   </td><td>16   </td><td> 35.0</td><td>1030 </td><td>1    </td><td>31   </td><td>1    </td></tr>\n",
       "\t<tr><td>26   </td><td>61   </td><td>55   </td><td>12   </td><td>  7.5</td><td> 982 </td><td>1    </td><td>31   </td><td>0    </td></tr>\n",
       "\t<tr><td>26   </td><td>64   </td><td>64   </td><td>16   </td><td> 21.0</td><td>1000 </td><td>1    </td><td>31   </td><td>0    </td></tr>\n",
       "\t<tr><td>27   </td><td>95   </td><td>95   </td><td> 6   </td><td>  7.5</td><td> 980 </td><td>1    </td><td>36   </td><td>0    </td></tr>\n",
       "\t<tr><td>27   </td><td>80   </td><td>64   </td><td> 8   </td><td>  0.6</td><td>1010 </td><td>0    </td><td> 1   </td><td>0    </td></tr>\n",
       "\t<tr><td>28   </td><td>88   </td><td>88   </td><td>20   </td><td>  4.8</td><td> 986 </td><td>1    </td><td> 9   </td><td>0    </td></tr>\n",
       "\t<tr><td>28   </td><td>70   </td><td>70   </td><td>14   </td><td> 10.0</td><td>1010 </td><td>1    </td><td>39   </td><td>1    </td></tr>\n",
       "\t<tr><td>31   </td><td>72   </td><td>72   </td><td> 5   </td><td>  2.3</td><td> 988 </td><td>1    </td><td>20   </td><td>1    </td></tr>\n",
       "\t<tr><td>33   </td><td>58   </td><td>58   </td><td> 7   </td><td>  5.7</td><td> 986 </td><td>0    </td><td> 4   </td><td>0    </td></tr>\n",
       "\t<tr><td>33   </td><td>92   </td><td>92   </td><td> 5   </td><td>  2.6</td><td> 980 </td><td>1    </td><td>45   </td><td>1    </td></tr>\n",
       "\t<tr><td>33   </td><td>42   </td><td>38   </td><td>12   </td><td>  2.5</td><td> 984 </td><td>1    </td><td>36   </td><td>0    </td></tr>\n",
       "\t<tr><td>34   </td><td>26   </td><td>26   </td><td> 7   </td><td>  7.0</td><td> 982 </td><td>0    </td><td>12   </td><td>0    </td></tr>\n",
       "\t<tr><td>36   </td><td>55   </td><td>55   </td><td>14   </td><td>  4.5</td><td> 986 </td><td>1    </td><td> 8   </td><td>0    </td></tr>\n",
       "\t<tr><td>37   </td><td>71   </td><td>71   </td><td>15   </td><td>  4.4</td><td>1020 </td><td>0    </td><td> 1   </td><td>0    </td></tr>\n",
       "\t<tr><td>40   </td><td>91   </td><td>91   </td><td> 9   </td><td> 35.0</td><td> 986 </td><td>1    </td><td>15   </td><td>0    </td></tr>\n",
       "\t<tr><td>40   </td><td>52   </td><td>49   </td><td>12   </td><td>  2.1</td><td> 988 </td><td>1    </td><td>24   </td><td>0    </td></tr>\n",
       "\t<tr><td>43   </td><td>74   </td><td>63   </td><td> 4   </td><td>  0.1</td><td> 986 </td><td>0    </td><td> 2   </td><td>0    </td></tr>\n",
       "\t<tr><td>45   </td><td>78   </td><td>47   </td><td>14   </td><td>  4.2</td><td> 980 </td><td>1    </td><td>33   </td><td>0    </td></tr>\n",
       "\t<tr><td>45   </td><td>60   </td><td>36   </td><td>10   </td><td>  0.6</td><td> 992 </td><td>1    </td><td>29   </td><td>1    </td></tr>\n",
       "\t<tr><td>45   </td><td>82   </td><td>32   </td><td>10   </td><td> 28.1</td><td>1016 </td><td>0    </td><td> 7   </td><td>0    </td></tr>\n",
       "\t<tr><td>45   </td><td>79   </td><td>79   </td><td> 4   </td><td>  1.1</td><td>1030 </td><td>0    </td><td> 0   </td><td>0    </td></tr>\n",
       "\t<tr><td>47   </td><td>56   </td><td>28   </td><td> 2   </td><td>  0.9</td><td> 990 </td><td>0    </td><td> 1   </td><td>0    </td></tr>\n",
       "\t<tr><td>48   </td><td>60   </td><td>54   </td><td>10   </td><td>  2.2</td><td>1002 </td><td>0    </td><td> 2   </td><td>0    </td></tr>\n",
       "\t<tr><td>50   </td><td>83   </td><td>66   </td><td>19   </td><td> 11.6</td><td> 996 </td><td>1    </td><td>12   </td><td>0    </td></tr>\n",
       "\t<tr><td>50   </td><td>36   </td><td>32   </td><td>14   </td><td>  4.5</td><td> 992 </td><td>1    </td><td> 9   </td><td>0    </td></tr>\n",
       "\t<tr><td>51   </td><td>88   </td><td>70   </td><td> 8   </td><td>  0.5</td><td> 982 </td><td>0    </td><td> 1   </td><td>0    </td></tr>\n",
       "\t<tr><td>52   </td><td>87   </td><td>87   </td><td> 7   </td><td> 10.3</td><td> 986 </td><td>0    </td><td> 1   </td><td>0    </td></tr>\n",
       "\t<tr><td>53   </td><td>75   </td><td>68   </td><td>13   </td><td>  2.3</td><td> 980 </td><td>1    </td><td> 9   </td><td>0    </td></tr>\n",
       "\t<tr><td>53   </td><td>65   </td><td>65   </td><td> 6   </td><td>  2.3</td><td> 982 </td><td>0    </td><td> 5   </td><td>0    </td></tr>\n",
       "\t<tr><td>56   </td><td>97   </td><td>92   </td><td>10   </td><td> 16.0</td><td> 992 </td><td>1    </td><td>27   </td><td>1    </td></tr>\n",
       "\t<tr><td>57   </td><td>87   </td><td>83   </td><td>19   </td><td> 21.6</td><td>1020 </td><td>0    </td><td> 1   </td><td>0    </td></tr>\n",
       "\t<tr><td>59   </td><td>45   </td><td>45   </td><td> 8   </td><td>  1.1</td><td> 999 </td><td>0    </td><td>13   </td><td>0    </td></tr>\n",
       "\t<tr><td>59   </td><td>36   </td><td>34   </td><td> 5   </td><td>  0.0</td><td>1038 </td><td>0    </td><td> 1   </td><td>0    </td></tr>\n",
       "\t<tr><td>60   </td><td>39   </td><td>33   </td><td> 7   </td><td>  0.9</td><td> 988 </td><td>0    </td><td> 5   </td><td>0    </td></tr>\n",
       "\t<tr><td>60   </td><td>76   </td><td>53   </td><td>12   </td><td>  0.4</td><td> 982 </td><td>0    </td><td> 1   </td><td>0    </td></tr>\n",
       "\t<tr><td>61   </td><td>46   </td><td>37   </td><td> 4   </td><td>  1.4</td><td>1006 </td><td>0    </td><td> 3   </td><td>0    </td></tr>\n",
       "\t<tr><td>61   </td><td>39   </td><td> 8   </td><td> 8   </td><td>  0.3</td><td> 990 </td><td>0    </td><td> 4   </td><td>0    </td></tr>\n",
       "\t<tr><td>61   </td><td>90   </td><td>90   </td><td> 1   </td><td>  9.9</td><td> 990 </td><td>0    </td><td> 1   </td><td>0    </td></tr>\n",
       "\t<tr><td>62   </td><td>84   </td><td>84   </td><td>19   </td><td>115.0</td><td>1020 </td><td>1    </td><td>18   </td><td>0    </td></tr>\n",
       "\t<tr><td>63   </td><td>42   </td><td>27   </td><td> 5   </td><td>  0.3</td><td>1014 </td><td>0    </td><td> 1   </td><td>0    </td></tr>\n",
       "\t<tr><td>65   </td><td>75   </td><td>75   </td><td>10   </td><td> 20.0</td><td>1004 </td><td>0    </td><td> 2   </td><td>0    </td></tr>\n",
       "\t<tr><td>71   </td><td>44   </td><td>22   </td><td> 6   </td><td>  0.3</td><td> 990 </td><td>0    </td><td> 1   </td><td>0    </td></tr>\n",
       "\t<tr><td>71   </td><td>63   </td><td>63   </td><td>11   </td><td> 10.0</td><td> 986 </td><td>1    </td><td> 8   </td><td>0    </td></tr>\n",
       "\t<tr><td>73   </td><td>33   </td><td>33   </td><td> 4   </td><td>  0.5</td><td>1010 </td><td>0    </td><td> 3   </td><td>0    </td></tr>\n",
       "\t<tr><td>73   </td><td>93   </td><td>84   </td><td> 6   </td><td> 38.0</td><td>1020 </td><td>0    </td><td> 4   </td><td>0    </td></tr>\n",
       "\t<tr><td>74   </td><td>58   </td><td>58   </td><td>10   </td><td>  2.4</td><td>1002 </td><td>1    </td><td>14   </td><td>0    </td></tr>\n",
       "\t<tr><td>74   </td><td>32   </td><td>30   </td><td>16   </td><td>  6.7</td><td> 988 </td><td>0    </td><td> 3   </td><td>0    </td></tr>\n",
       "\t<tr><td>75   </td><td>60   </td><td>60   </td><td>17   </td><td>  8.2</td><td> 990 </td><td>1    </td><td>13   </td><td>0    </td></tr>\n",
       "\t<tr><td>77   </td><td>69   </td><td>69   </td><td> 9   </td><td>  1.5</td><td> 986 </td><td>1    </td><td>13   </td><td>0    </td></tr>\n",
       "\t<tr><td>80   </td><td>73   </td><td>73   </td><td> 7   </td><td>  1.5</td><td> 986 </td><td>0    </td><td> 1   </td><td>0    </td></tr>\n",
       "</tbody>\n",
       "</table>\n"
      ],
      "text/latex": [
       "\\begin{tabular}{r|lllllllll}\n",
       " Age & Smear & Infil & Index & Blasts & Temp & Resp & Time & Status\\\\\n",
       "\\hline\n",
       "\t 20    & 78    & 39    &  7    &   0.6 &  990  & 1     & 18    & 0    \\\\\n",
       "\t 25    & 64    & 61    & 16    &  35.0 & 1030  & 1     & 31    & 1    \\\\\n",
       "\t 26    & 61    & 55    & 12    &   7.5 &  982  & 1     & 31    & 0    \\\\\n",
       "\t 26    & 64    & 64    & 16    &  21.0 & 1000  & 1     & 31    & 0    \\\\\n",
       "\t 27    & 95    & 95    &  6    &   7.5 &  980  & 1     & 36    & 0    \\\\\n",
       "\t 27    & 80    & 64    &  8    &   0.6 & 1010  & 0     &  1    & 0    \\\\\n",
       "\t 28    & 88    & 88    & 20    &   4.8 &  986  & 1     &  9    & 0    \\\\\n",
       "\t 28    & 70    & 70    & 14    &  10.0 & 1010  & 1     & 39    & 1    \\\\\n",
       "\t 31    & 72    & 72    &  5    &   2.3 &  988  & 1     & 20    & 1    \\\\\n",
       "\t 33    & 58    & 58    &  7    &   5.7 &  986  & 0     &  4    & 0    \\\\\n",
       "\t 33    & 92    & 92    &  5    &   2.6 &  980  & 1     & 45    & 1    \\\\\n",
       "\t 33    & 42    & 38    & 12    &   2.5 &  984  & 1     & 36    & 0    \\\\\n",
       "\t 34    & 26    & 26    &  7    &   7.0 &  982  & 0     & 12    & 0    \\\\\n",
       "\t 36    & 55    & 55    & 14    &   4.5 &  986  & 1     &  8    & 0    \\\\\n",
       "\t 37    & 71    & 71    & 15    &   4.4 & 1020  & 0     &  1    & 0    \\\\\n",
       "\t 40    & 91    & 91    &  9    &  35.0 &  986  & 1     & 15    & 0    \\\\\n",
       "\t 40    & 52    & 49    & 12    &   2.1 &  988  & 1     & 24    & 0    \\\\\n",
       "\t 43    & 74    & 63    &  4    &   0.1 &  986  & 0     &  2    & 0    \\\\\n",
       "\t 45    & 78    & 47    & 14    &   4.2 &  980  & 1     & 33    & 0    \\\\\n",
       "\t 45    & 60    & 36    & 10    &   0.6 &  992  & 1     & 29    & 1    \\\\\n",
       "\t 45    & 82    & 32    & 10    &  28.1 & 1016  & 0     &  7    & 0    \\\\\n",
       "\t 45    & 79    & 79    &  4    &   1.1 & 1030  & 0     &  0    & 0    \\\\\n",
       "\t 47    & 56    & 28    &  2    &   0.9 &  990  & 0     &  1    & 0    \\\\\n",
       "\t 48    & 60    & 54    & 10    &   2.2 & 1002  & 0     &  2    & 0    \\\\\n",
       "\t 50    & 83    & 66    & 19    &  11.6 &  996  & 1     & 12    & 0    \\\\\n",
       "\t 50    & 36    & 32    & 14    &   4.5 &  992  & 1     &  9    & 0    \\\\\n",
       "\t 51    & 88    & 70    &  8    &   0.5 &  982  & 0     &  1    & 0    \\\\\n",
       "\t 52    & 87    & 87    &  7    &  10.3 &  986  & 0     &  1    & 0    \\\\\n",
       "\t 53    & 75    & 68    & 13    &   2.3 &  980  & 1     &  9    & 0    \\\\\n",
       "\t 53    & 65    & 65    &  6    &   2.3 &  982  & 0     &  5    & 0    \\\\\n",
       "\t 56    & 97    & 92    & 10    &  16.0 &  992  & 1     & 27    & 1    \\\\\n",
       "\t 57    & 87    & 83    & 19    &  21.6 & 1020  & 0     &  1    & 0    \\\\\n",
       "\t 59    & 45    & 45    &  8    &   1.1 &  999  & 0     & 13    & 0    \\\\\n",
       "\t 59    & 36    & 34    &  5    &   0.0 & 1038  & 0     &  1    & 0    \\\\\n",
       "\t 60    & 39    & 33    &  7    &   0.9 &  988  & 0     &  5    & 0    \\\\\n",
       "\t 60    & 76    & 53    & 12    &   0.4 &  982  & 0     &  1    & 0    \\\\\n",
       "\t 61    & 46    & 37    &  4    &   1.4 & 1006  & 0     &  3    & 0    \\\\\n",
       "\t 61    & 39    &  8    &  8    &   0.3 &  990  & 0     &  4    & 0    \\\\\n",
       "\t 61    & 90    & 90    &  1    &   9.9 &  990  & 0     &  1    & 0    \\\\\n",
       "\t 62    & 84    & 84    & 19    & 115.0 & 1020  & 1     & 18    & 0    \\\\\n",
       "\t 63    & 42    & 27    &  5    &   0.3 & 1014  & 0     &  1    & 0    \\\\\n",
       "\t 65    & 75    & 75    & 10    &  20.0 & 1004  & 0     &  2    & 0    \\\\\n",
       "\t 71    & 44    & 22    &  6    &   0.3 &  990  & 0     &  1    & 0    \\\\\n",
       "\t 71    & 63    & 63    & 11    &  10.0 &  986  & 1     &  8    & 0    \\\\\n",
       "\t 73    & 33    & 33    &  4    &   0.5 & 1010  & 0     &  3    & 0    \\\\\n",
       "\t 73    & 93    & 84    &  6    &  38.0 & 1020  & 0     &  4    & 0    \\\\\n",
       "\t 74    & 58    & 58    & 10    &   2.4 & 1002  & 1     & 14    & 0    \\\\\n",
       "\t 74    & 32    & 30    & 16    &   6.7 &  988  & 0     &  3    & 0    \\\\\n",
       "\t 75    & 60    & 60    & 17    &   8.2 &  990  & 1     & 13    & 0    \\\\\n",
       "\t 77    & 69    & 69    &  9    &   1.5 &  986  & 1     & 13    & 0    \\\\\n",
       "\t 80    & 73    & 73    &  7    &   1.5 &  986  & 0     &  1    & 0    \\\\\n",
       "\\end{tabular}\n"
      ],
      "text/markdown": [
       "\n",
       "| Age | Smear | Infil | Index | Blasts | Temp | Resp | Time | Status |\n",
       "|---|---|---|---|---|---|---|---|---|\n",
       "| 20    | 78    | 39    |  7    |   0.6 |  990  | 1     | 18    | 0     |\n",
       "| 25    | 64    | 61    | 16    |  35.0 | 1030  | 1     | 31    | 1     |\n",
       "| 26    | 61    | 55    | 12    |   7.5 |  982  | 1     | 31    | 0     |\n",
       "| 26    | 64    | 64    | 16    |  21.0 | 1000  | 1     | 31    | 0     |\n",
       "| 27    | 95    | 95    |  6    |   7.5 |  980  | 1     | 36    | 0     |\n",
       "| 27    | 80    | 64    |  8    |   0.6 | 1010  | 0     |  1    | 0     |\n",
       "| 28    | 88    | 88    | 20    |   4.8 |  986  | 1     |  9    | 0     |\n",
       "| 28    | 70    | 70    | 14    |  10.0 | 1010  | 1     | 39    | 1     |\n",
       "| 31    | 72    | 72    |  5    |   2.3 |  988  | 1     | 20    | 1     |\n",
       "| 33    | 58    | 58    |  7    |   5.7 |  986  | 0     |  4    | 0     |\n",
       "| 33    | 92    | 92    |  5    |   2.6 |  980  | 1     | 45    | 1     |\n",
       "| 33    | 42    | 38    | 12    |   2.5 |  984  | 1     | 36    | 0     |\n",
       "| 34    | 26    | 26    |  7    |   7.0 |  982  | 0     | 12    | 0     |\n",
       "| 36    | 55    | 55    | 14    |   4.5 |  986  | 1     |  8    | 0     |\n",
       "| 37    | 71    | 71    | 15    |   4.4 | 1020  | 0     |  1    | 0     |\n",
       "| 40    | 91    | 91    |  9    |  35.0 |  986  | 1     | 15    | 0     |\n",
       "| 40    | 52    | 49    | 12    |   2.1 |  988  | 1     | 24    | 0     |\n",
       "| 43    | 74    | 63    |  4    |   0.1 |  986  | 0     |  2    | 0     |\n",
       "| 45    | 78    | 47    | 14    |   4.2 |  980  | 1     | 33    | 0     |\n",
       "| 45    | 60    | 36    | 10    |   0.6 |  992  | 1     | 29    | 1     |\n",
       "| 45    | 82    | 32    | 10    |  28.1 | 1016  | 0     |  7    | 0     |\n",
       "| 45    | 79    | 79    |  4    |   1.1 | 1030  | 0     |  0    | 0     |\n",
       "| 47    | 56    | 28    |  2    |   0.9 |  990  | 0     |  1    | 0     |\n",
       "| 48    | 60    | 54    | 10    |   2.2 | 1002  | 0     |  2    | 0     |\n",
       "| 50    | 83    | 66    | 19    |  11.6 |  996  | 1     | 12    | 0     |\n",
       "| 50    | 36    | 32    | 14    |   4.5 |  992  | 1     |  9    | 0     |\n",
       "| 51    | 88    | 70    |  8    |   0.5 |  982  | 0     |  1    | 0     |\n",
       "| 52    | 87    | 87    |  7    |  10.3 |  986  | 0     |  1    | 0     |\n",
       "| 53    | 75    | 68    | 13    |   2.3 |  980  | 1     |  9    | 0     |\n",
       "| 53    | 65    | 65    |  6    |   2.3 |  982  | 0     |  5    | 0     |\n",
       "| 56    | 97    | 92    | 10    |  16.0 |  992  | 1     | 27    | 1     |\n",
       "| 57    | 87    | 83    | 19    |  21.6 | 1020  | 0     |  1    | 0     |\n",
       "| 59    | 45    | 45    |  8    |   1.1 |  999  | 0     | 13    | 0     |\n",
       "| 59    | 36    | 34    |  5    |   0.0 | 1038  | 0     |  1    | 0     |\n",
       "| 60    | 39    | 33    |  7    |   0.9 |  988  | 0     |  5    | 0     |\n",
       "| 60    | 76    | 53    | 12    |   0.4 |  982  | 0     |  1    | 0     |\n",
       "| 61    | 46    | 37    |  4    |   1.4 | 1006  | 0     |  3    | 0     |\n",
       "| 61    | 39    |  8    |  8    |   0.3 |  990  | 0     |  4    | 0     |\n",
       "| 61    | 90    | 90    |  1    |   9.9 |  990  | 0     |  1    | 0     |\n",
       "| 62    | 84    | 84    | 19    | 115.0 | 1020  | 1     | 18    | 0     |\n",
       "| 63    | 42    | 27    |  5    |   0.3 | 1014  | 0     |  1    | 0     |\n",
       "| 65    | 75    | 75    | 10    |  20.0 | 1004  | 0     |  2    | 0     |\n",
       "| 71    | 44    | 22    |  6    |   0.3 |  990  | 0     |  1    | 0     |\n",
       "| 71    | 63    | 63    | 11    |  10.0 |  986  | 1     |  8    | 0     |\n",
       "| 73    | 33    | 33    |  4    |   0.5 | 1010  | 0     |  3    | 0     |\n",
       "| 73    | 93    | 84    |  6    |  38.0 | 1020  | 0     |  4    | 0     |\n",
       "| 74    | 58    | 58    | 10    |   2.4 | 1002  | 1     | 14    | 0     |\n",
       "| 74    | 32    | 30    | 16    |   6.7 |  988  | 0     |  3    | 0     |\n",
       "| 75    | 60    | 60    | 17    |   8.2 |  990  | 1     | 13    | 0     |\n",
       "| 77    | 69    | 69    |  9    |   1.5 |  986  | 1     | 13    | 0     |\n",
       "| 80    | 73    | 73    |  7    |   1.5 |  986  | 0     |  1    | 0     |\n",
       "\n"
      ],
      "text/plain": [
       "   Age Smear Infil Index Blasts Temp Resp Time Status\n",
       "1  20  78    39     7      0.6   990 1    18   0     \n",
       "2  25  64    61    16     35.0  1030 1    31   1     \n",
       "3  26  61    55    12      7.5   982 1    31   0     \n",
       "4  26  64    64    16     21.0  1000 1    31   0     \n",
       "5  27  95    95     6      7.5   980 1    36   0     \n",
       "6  27  80    64     8      0.6  1010 0     1   0     \n",
       "7  28  88    88    20      4.8   986 1     9   0     \n",
       "8  28  70    70    14     10.0  1010 1    39   1     \n",
       "9  31  72    72     5      2.3   988 1    20   1     \n",
       "10 33  58    58     7      5.7   986 0     4   0     \n",
       "11 33  92    92     5      2.6   980 1    45   1     \n",
       "12 33  42    38    12      2.5   984 1    36   0     \n",
       "13 34  26    26     7      7.0   982 0    12   0     \n",
       "14 36  55    55    14      4.5   986 1     8   0     \n",
       "15 37  71    71    15      4.4  1020 0     1   0     \n",
       "16 40  91    91     9     35.0   986 1    15   0     \n",
       "17 40  52    49    12      2.1   988 1    24   0     \n",
       "18 43  74    63     4      0.1   986 0     2   0     \n",
       "19 45  78    47    14      4.2   980 1    33   0     \n",
       "20 45  60    36    10      0.6   992 1    29   1     \n",
       "21 45  82    32    10     28.1  1016 0     7   0     \n",
       "22 45  79    79     4      1.1  1030 0     0   0     \n",
       "23 47  56    28     2      0.9   990 0     1   0     \n",
       "24 48  60    54    10      2.2  1002 0     2   0     \n",
       "25 50  83    66    19     11.6   996 1    12   0     \n",
       "26 50  36    32    14      4.5   992 1     9   0     \n",
       "27 51  88    70     8      0.5   982 0     1   0     \n",
       "28 52  87    87     7     10.3   986 0     1   0     \n",
       "29 53  75    68    13      2.3   980 1     9   0     \n",
       "30 53  65    65     6      2.3   982 0     5   0     \n",
       "31 56  97    92    10     16.0   992 1    27   1     \n",
       "32 57  87    83    19     21.6  1020 0     1   0     \n",
       "33 59  45    45     8      1.1   999 0    13   0     \n",
       "34 59  36    34     5      0.0  1038 0     1   0     \n",
       "35 60  39    33     7      0.9   988 0     5   0     \n",
       "36 60  76    53    12      0.4   982 0     1   0     \n",
       "37 61  46    37     4      1.4  1006 0     3   0     \n",
       "38 61  39     8     8      0.3   990 0     4   0     \n",
       "39 61  90    90     1      9.9   990 0     1   0     \n",
       "40 62  84    84    19    115.0  1020 1    18   0     \n",
       "41 63  42    27     5      0.3  1014 0     1   0     \n",
       "42 65  75    75    10     20.0  1004 0     2   0     \n",
       "43 71  44    22     6      0.3   990 0     1   0     \n",
       "44 71  63    63    11     10.0   986 1     8   0     \n",
       "45 73  33    33     4      0.5  1010 0     3   0     \n",
       "46 73  93    84     6     38.0  1020 0     4   0     \n",
       "47 74  58    58    10      2.4  1002 1    14   0     \n",
       "48 74  32    30    16      6.7   988 0     3   0     \n",
       "49 75  60    60    17      8.2   990 1    13   0     \n",
       "50 77  69    69     9      1.5   986 1    13   0     \n",
       "51 80  73    73     7      1.5   986 0     1   0     "
      ]
     },
     "metadata": {},
     "output_type": "display_data"
    }
   ],
   "source": [
    "Leukemia"
   ]
  },
  {
   "cell_type": "markdown",
   "metadata": {},
   "source": [
    "The variable \"Infil\" or \"Percentage of absolute marrow leukemia infiltrate\", gives us an idea of how severe each patient's case was. Basically this measure tells us the degree to which myeloblasts (a type of bad immature white blood cell) have invaded the bone marrow. "
   ]
  },
  {
   "cell_type": "code",
   "execution_count": 21,
   "metadata": {},
   "outputs": [
    {
     "data": {
      "text/html": [
       "<ol class=list-inline>\n",
       "\t<li>39</li>\n",
       "\t<li>61</li>\n",
       "\t<li>55</li>\n",
       "\t<li>64</li>\n",
       "\t<li>95</li>\n",
       "\t<li>64</li>\n",
       "\t<li>88</li>\n",
       "\t<li>70</li>\n",
       "\t<li>72</li>\n",
       "\t<li>58</li>\n",
       "\t<li>92</li>\n",
       "\t<li>38</li>\n",
       "\t<li>26</li>\n",
       "\t<li>55</li>\n",
       "\t<li>71</li>\n",
       "\t<li>91</li>\n",
       "\t<li>49</li>\n",
       "\t<li>63</li>\n",
       "\t<li>47</li>\n",
       "\t<li>36</li>\n",
       "\t<li>32</li>\n",
       "\t<li>79</li>\n",
       "\t<li>28</li>\n",
       "\t<li>54</li>\n",
       "\t<li>66</li>\n",
       "\t<li>32</li>\n",
       "\t<li>70</li>\n",
       "\t<li>87</li>\n",
       "\t<li>68</li>\n",
       "\t<li>65</li>\n",
       "\t<li>92</li>\n",
       "\t<li>83</li>\n",
       "\t<li>45</li>\n",
       "\t<li>34</li>\n",
       "\t<li>33</li>\n",
       "\t<li>53</li>\n",
       "\t<li>37</li>\n",
       "\t<li>8</li>\n",
       "\t<li>90</li>\n",
       "\t<li>84</li>\n",
       "\t<li>27</li>\n",
       "\t<li>75</li>\n",
       "\t<li>22</li>\n",
       "\t<li>63</li>\n",
       "\t<li>33</li>\n",
       "\t<li>84</li>\n",
       "\t<li>58</li>\n",
       "\t<li>30</li>\n",
       "\t<li>60</li>\n",
       "\t<li>69</li>\n",
       "\t<li>73</li>\n",
       "</ol>\n"
      ],
      "text/latex": [
       "\\begin{enumerate*}\n",
       "\\item 39\n",
       "\\item 61\n",
       "\\item 55\n",
       "\\item 64\n",
       "\\item 95\n",
       "\\item 64\n",
       "\\item 88\n",
       "\\item 70\n",
       "\\item 72\n",
       "\\item 58\n",
       "\\item 92\n",
       "\\item 38\n",
       "\\item 26\n",
       "\\item 55\n",
       "\\item 71\n",
       "\\item 91\n",
       "\\item 49\n",
       "\\item 63\n",
       "\\item 47\n",
       "\\item 36\n",
       "\\item 32\n",
       "\\item 79\n",
       "\\item 28\n",
       "\\item 54\n",
       "\\item 66\n",
       "\\item 32\n",
       "\\item 70\n",
       "\\item 87\n",
       "\\item 68\n",
       "\\item 65\n",
       "\\item 92\n",
       "\\item 83\n",
       "\\item 45\n",
       "\\item 34\n",
       "\\item 33\n",
       "\\item 53\n",
       "\\item 37\n",
       "\\item 8\n",
       "\\item 90\n",
       "\\item 84\n",
       "\\item 27\n",
       "\\item 75\n",
       "\\item 22\n",
       "\\item 63\n",
       "\\item 33\n",
       "\\item 84\n",
       "\\item 58\n",
       "\\item 30\n",
       "\\item 60\n",
       "\\item 69\n",
       "\\item 73\n",
       "\\end{enumerate*}\n"
      ],
      "text/markdown": [
       "1. 39\n",
       "2. 61\n",
       "3. 55\n",
       "4. 64\n",
       "5. 95\n",
       "6. 64\n",
       "7. 88\n",
       "8. 70\n",
       "9. 72\n",
       "10. 58\n",
       "11. 92\n",
       "12. 38\n",
       "13. 26\n",
       "14. 55\n",
       "15. 71\n",
       "16. 91\n",
       "17. 49\n",
       "18. 63\n",
       "19. 47\n",
       "20. 36\n",
       "21. 32\n",
       "22. 79\n",
       "23. 28\n",
       "24. 54\n",
       "25. 66\n",
       "26. 32\n",
       "27. 70\n",
       "28. 87\n",
       "29. 68\n",
       "30. 65\n",
       "31. 92\n",
       "32. 83\n",
       "33. 45\n",
       "34. 34\n",
       "35. 33\n",
       "36. 53\n",
       "37. 37\n",
       "38. 8\n",
       "39. 90\n",
       "40. 84\n",
       "41. 27\n",
       "42. 75\n",
       "43. 22\n",
       "44. 63\n",
       "45. 33\n",
       "46. 84\n",
       "47. 58\n",
       "48. 30\n",
       "49. 60\n",
       "50. 69\n",
       "51. 73\n",
       "\n",
       "\n"
      ],
      "text/plain": [
       " [1] 39 61 55 64 95 64 88 70 72 58 92 38 26 55 71 91 49 63 47 36 32 79 28 54 66\n",
       "[26] 32 70 87 68 65 92 83 45 34 33 53 37  8 90 84 27 75 22 63 33 84 58 30 60 69\n",
       "[51] 73"
      ]
     },
     "metadata": {},
     "output_type": "display_data"
    }
   ],
   "source": [
    "Leukemia$Infil"
   ]
  },
  {
   "cell_type": "code",
   "execution_count": 20,
   "metadata": {},
   "outputs": [
    {
     "data": {
      "image/png": "[encoded data removed]",
      "text/plain": [
       "Plot with title \"Histogram of Leukemia$Infil\""
      ]
     },
     "metadata": {},
     "output_type": "display_data"
    }
   ],
   "source": [
    "hist(Leukemia$Infil)"
   ]
  },
  {
   "cell_type": "code",
   "execution_count": 22,
   "metadata": {},
   "outputs": [
    {
     "data": {
      "text/html": [
       "58.1960784313725"
      ],
      "text/latex": [
       "58.1960784313725"
      ],
      "text/markdown": [
       "58.1960784313725"
      ],
      "text/plain": [
       "[1] 58.19608"
      ]
     },
     "metadata": {},
     "output_type": "display_data"
    }
   ],
   "source": [
    "mean(Leukemia$Infil)"
   ]
  },
  {
   "cell_type": "code",
   "execution_count": 27,
   "metadata": {},
   "outputs": [],
   "source": [
    "sampMean <- mean(Leukemia$Infil)"
   ]
  },
  {
   "cell_type": "code",
   "execution_count": 24,
   "metadata": {},
   "outputs": [
    {
     "data": {
      "text/html": [
       "22.0662816150281"
      ],
      "text/latex": [
       "22.0662816150281"
      ],
      "text/markdown": [
       "22.0662816150281"
      ],
      "text/plain": [
       "[1] 22.06628"
      ]
     },
     "metadata": {},
     "output_type": "display_data"
    }
   ],
   "source": [
    "sd(Leukemia$Infil)"
   ]
  },
  {
   "cell_type": "code",
   "execution_count": 26,
   "metadata": {},
   "outputs": [],
   "source": [
    "sampSD <- sd(Leukemia$Infil)"
   ]
  },
  {
   "cell_type": "code",
   "execution_count": 28,
   "metadata": {},
   "outputs": [
    {
     "data": {
      "text/html": [
       "51"
      ],
      "text/latex": [
       "51"
      ],
      "text/markdown": [
       "51"
      ],
      "text/plain": [
       "[1] 51"
      ]
     },
     "metadata": {},
     "output_type": "display_data"
    }
   ],
   "source": [
    "length(Leukemia$Infil)"
   ]
  },
  {
   "cell_type": "code",
   "execution_count": 29,
   "metadata": {},
   "outputs": [],
   "source": [
    "n <- length(Leukemia$Infil)"
   ]
  },
  {
   "cell_type": "code",
   "execution_count": 34,
   "metadata": {},
   "outputs": [
    {
     "data": {
      "text/html": [
       "2.00855911210076"
      ],
      "text/latex": [
       "2.00855911210076"
      ],
      "text/markdown": [
       "2.00855911210076"
      ],
      "text/plain": [
       "[1] 2.008559"
      ]
     },
     "metadata": {},
     "output_type": "display_data"
    }
   ],
   "source": [
    "qt(.05/2, df = n-1, lower.tail = FALSE)"
   ]
  },
  {
   "cell_type": "code",
   "execution_count": 35,
   "metadata": {},
   "outputs": [],
   "source": [
    "tValue <- qt(.05/2, df = n-1, lower.tail = FALSE)"
   ]
  },
  {
   "cell_type": "code",
   "execution_count": 36,
   "metadata": {},
   "outputs": [
    {
     "data": {
      "text/html": [
       "51.9898367177537"
      ],
      "text/latex": [
       "51.9898367177537"
      ],
      "text/markdown": [
       "51.9898367177537"
      ],
      "text/plain": [
       "[1] 51.98984"
      ]
     },
     "metadata": {},
     "output_type": "display_data"
    }
   ],
   "source": [
    "sampMean - tValue * sampSD / sqrt(n)"
   ]
  },
  {
   "cell_type": "code",
   "execution_count": 37,
   "metadata": {},
   "outputs": [
    {
     "data": {
      "text/html": [
       "64.4023201449914"
      ],
      "text/latex": [
       "64.4023201449914"
      ],
      "text/markdown": [
       "64.4023201449914"
      ],
      "text/plain": [
       "[1] 64.40232"
      ]
     },
     "metadata": {},
     "output_type": "display_data"
    }
   ],
   "source": [
    "sampMean + tValue * sampSD / sqrt(n)"
   ]
  },
  {
   "cell_type": "code",
   "execution_count": 42,
   "metadata": {},
   "outputs": [
    {
     "data": {
      "text/plain": [
       "\n",
       "\tOne Sample t-test\n",
       "\n",
       "data:  Leukemia$Infil\n",
       "t = 18.834, df = 50, p-value < 2.2e-16\n",
       "alternative hypothesis: true mean is not equal to 0\n",
       "95 percent confidence interval:\n",
       " 51.98984 64.40232\n",
       "sample estimates:\n",
       "mean of x \n",
       " 58.19608 \n"
      ]
     },
     "metadata": {},
     "output_type": "display_data"
    }
   ],
   "source": [
    "t.test(x = Leukemia$Infil)"
   ]
  },
  {
   "cell_type": "code",
   "execution_count": 46,
   "metadata": {},
   "outputs": [
    {
     "data": {
      "text/html": [
       "2.6525405835711"
      ],
      "text/latex": [
       "2.6525405835711"
      ],
      "text/markdown": [
       "2.6525405835711"
      ],
      "text/plain": [
       "[1] 2.652541"
      ]
     },
     "metadata": {},
     "output_type": "display_data"
    }
   ],
   "source": [
    "(sampMean - 50) / (sampSD / sqrt(n))"
   ]
  },
  {
   "cell_type": "code",
   "execution_count": 47,
   "metadata": {},
   "outputs": [],
   "source": [
    "testStatistic <- (sampMean - 50) / (sampSD / sqrt(n))"
   ]
  },
  {
   "cell_type": "code",
   "execution_count": 48,
   "metadata": {},
   "outputs": [
    {
     "data": {
      "text/html": [
       "0.0053388552665606"
      ],
      "text/latex": [
       "0.0053388552665606"
      ],
      "text/markdown": [
       "0.0053388552665606"
      ],
      "text/plain": [
       "[1] 0.005338855"
      ]
     },
     "metadata": {},
     "output_type": "display_data"
    }
   ],
   "source": [
    "pt(testStatistic, df = n - 1, lower.tail = FALSE)"
   ]
  },
  {
   "cell_type": "code",
   "execution_count": 45,
   "metadata": {},
   "outputs": [
    {
     "data": {
      "text/plain": [
       "\n",
       "\tOne Sample t-test\n",
       "\n",
       "data:  Leukemia$Infil\n",
       "t = 2.6525, df = 50, p-value = 0.005339\n",
       "alternative hypothesis: true mean is greater than 50\n",
       "95 percent confidence interval:\n",
       " 53.0177     Inf\n",
       "sample estimates:\n",
       "mean of x \n",
       " 58.19608 \n"
      ]
     },
     "metadata": {},
     "output_type": "display_data"
    }
   ],
   "source": [
    "t.test(x = Leukemia$Infil, alternative = \"greater\", mu = 50)"
   ]
  },
  {
   "cell_type": "code",
   "execution_count": 54,
   "metadata": {},
   "outputs": [
    {
     "data": {
      "text/html": [
       "<table>\n",
       "<thead><tr><th></th><th scope=col>Age</th><th scope=col>Smear</th><th scope=col>Infil</th><th scope=col>Index</th><th scope=col>Blasts</th><th scope=col>Temp</th><th scope=col>Resp</th><th scope=col>Time</th><th scope=col>Status</th></tr></thead>\n",
       "<tbody>\n",
       "\t<tr><th scope=row>2</th><td>25  </td><td>64  </td><td>61  </td><td>16  </td><td>35.0</td><td>1030</td><td>1   </td><td>31  </td><td>1   </td></tr>\n",
       "\t<tr><th scope=row>8</th><td>28  </td><td>70  </td><td>70  </td><td>14  </td><td>10.0</td><td>1010</td><td>1   </td><td>39  </td><td>1   </td></tr>\n",
       "\t<tr><th scope=row>9</th><td>31  </td><td>72  </td><td>72  </td><td> 5  </td><td> 2.3</td><td> 988</td><td>1   </td><td>20  </td><td>1   </td></tr>\n",
       "\t<tr><th scope=row>11</th><td>33  </td><td>92  </td><td>92  </td><td> 5  </td><td> 2.6</td><td> 980</td><td>1   </td><td>45  </td><td>1   </td></tr>\n",
       "\t<tr><th scope=row>20</th><td>45  </td><td>60  </td><td>36  </td><td>10  </td><td> 0.6</td><td> 992</td><td>1   </td><td>29  </td><td>1   </td></tr>\n",
       "\t<tr><th scope=row>31</th><td>56  </td><td>97  </td><td>92  </td><td>10  </td><td>16.0</td><td> 992</td><td>1   </td><td>27  </td><td>1   </td></tr>\n",
       "</tbody>\n",
       "</table>\n"
      ],
      "text/latex": [
       "\\begin{tabular}{r|lllllllll}\n",
       "  & Age & Smear & Infil & Index & Blasts & Temp & Resp & Time & Status\\\\\n",
       "\\hline\n",
       "\t2 & 25   & 64   & 61   & 16   & 35.0 & 1030 & 1    & 31   & 1   \\\\\n",
       "\t8 & 28   & 70   & 70   & 14   & 10.0 & 1010 & 1    & 39   & 1   \\\\\n",
       "\t9 & 31   & 72   & 72   &  5   &  2.3 &  988 & 1    & 20   & 1   \\\\\n",
       "\t11 & 33   & 92   & 92   &  5   &  2.6 &  980 & 1    & 45   & 1   \\\\\n",
       "\t20 & 45   & 60   & 36   & 10   &  0.6 &  992 & 1    & 29   & 1   \\\\\n",
       "\t31 & 56   & 97   & 92   & 10   & 16.0 &  992 & 1    & 27   & 1   \\\\\n",
       "\\end{tabular}\n"
      ],
      "text/markdown": [
       "\n",
       "| <!--/--> | Age | Smear | Infil | Index | Blasts | Temp | Resp | Time | Status |\n",
       "|---|---|---|---|---|---|---|---|---|---|\n",
       "| 2 | 25   | 64   | 61   | 16   | 35.0 | 1030 | 1    | 31   | 1    |\n",
       "| 8 | 28   | 70   | 70   | 14   | 10.0 | 1010 | 1    | 39   | 1    |\n",
       "| 9 | 31   | 72   | 72   |  5   |  2.3 |  988 | 1    | 20   | 1    |\n",
       "| 11 | 33   | 92   | 92   |  5   |  2.6 |  980 | 1    | 45   | 1    |\n",
       "| 20 | 45   | 60   | 36   | 10   |  0.6 |  992 | 1    | 29   | 1    |\n",
       "| 31 | 56   | 97   | 92   | 10   | 16.0 |  992 | 1    | 27   | 1    |\n",
       "\n"
      ],
      "text/plain": [
       "   Age Smear Infil Index Blasts Temp Resp Time Status\n",
       "2  25  64    61    16    35.0   1030 1    31   1     \n",
       "8  28  70    70    14    10.0   1010 1    39   1     \n",
       "9  31  72    72     5     2.3    988 1    20   1     \n",
       "11 33  92    92     5     2.6    980 1    45   1     \n",
       "20 45  60    36    10     0.6    992 1    29   1     \n",
       "31 56  97    92    10    16.0    992 1    27   1     "
      ]
     },
     "metadata": {},
     "output_type": "display_data"
    }
   ],
   "source": [
    "Leukemia[Leukemia$Status == 1, ]"
   ]
  },
  {
   "cell_type": "code",
   "execution_count": 62,
   "metadata": {},
   "outputs": [],
   "source": [
    "LeukemiaDied <- Leukemia[Leukemia$Status == 0, ]\n",
    "LeukemiaSurvived <- Leukemia[Leukemia$Status == 1, ]"
   ]
  },
  {
   "cell_type": "code",
   "execution_count": 63,
   "metadata": {},
   "outputs": [],
   "source": [
    "meanDied <- mean(LeukemiaDied$Infil)"
   ]
  },
  {
   "cell_type": "code",
   "execution_count": 64,
   "metadata": {},
   "outputs": [],
   "source": [
    "sdDied <- sd(LeukemiaDied$Infil)"
   ]
  },
  {
   "cell_type": "code",
   "execution_count": 65,
   "metadata": {},
   "outputs": [],
   "source": [
    "nDied <- length(LeukemiaDied$Infil)"
   ]
  },
  {
   "cell_type": "code",
   "execution_count": 66,
   "metadata": {},
   "outputs": [],
   "source": [
    "tValueDied <- qt(.05/2, df = nDied-1, lower.tail = FALSE)"
   ]
  },
  {
   "cell_type": "code",
   "execution_count": 105,
   "metadata": {},
   "outputs": [
    {
     "data": {
      "image/png": "[encoded data removed]",
      "text/plain": [
       "plot without title"
      ]
     },
     "metadata": {},
     "output_type": "display_data"
    }
   ],
   "source": [
    "plot(Leukemia$Infil, Leukemia$Blasts)"
   ]
  },
  {
   "cell_type": "markdown",
   "metadata": {},
   "source": [
    "# 2) Suicide attempts and fatalities in rural China\n",
    "The next dataset we will look at was published in the article Sun J, Guo X, Zhang J, Wang M, Jia C, Xu A (2015) \"Incidence and fatality of serious suicide attempts in a predominantly rural population in Shandong, China: a public health surveillance study,\" BMJ Open 5(2): e006762. https://doi.org/10.1136/bmjopen-2014-006762. \n",
    "\n",
    "https://rdrr.io/cran/Stat2Data/man/SuicideChina.html"
   ]
  },
  {
   "cell_type": "code",
   "execution_count": 68,
   "metadata": {},
   "outputs": [],
   "source": [
    "data(SuicideChina)"
   ]
  },
  {
   "cell_type": "code",
   "execution_count": 69,
   "metadata": {},
   "outputs": [
    {
     "data": {
      "text/html": [
       "<table>\n",
       "<thead><tr><th scope=col>Person_ID</th><th scope=col>Hospitalised</th><th scope=col>Died</th><th scope=col>Urban</th><th scope=col>Year</th><th scope=col>Month</th><th scope=col>Sex</th><th scope=col>Age</th><th scope=col>Education</th><th scope=col>Occupation</th><th scope=col>method</th></tr></thead>\n",
       "<tbody>\n",
       "\t<tr><td>1           </td><td>yes         </td><td>no          </td><td>no          </td><td>2010        </td><td>12          </td><td>female      </td><td>39          </td><td>Secondary   </td><td>household   </td><td>Other poison</td></tr>\n",
       "\t<tr><td>2           </td><td>no          </td><td>yes         </td><td>no          </td><td>2009        </td><td> 3          </td><td>male        </td><td>83          </td><td>primary     </td><td>farming     </td><td>Hanging     </td></tr>\n",
       "\t<tr><td>3           </td><td>no          </td><td>yes         </td><td>no          </td><td>2010        </td><td> 2          </td><td>male        </td><td>60          </td><td>primary     </td><td>farming     </td><td>Hanging     </td></tr>\n",
       "\t<tr><td>4           </td><td>no          </td><td>yes         </td><td>no          </td><td>2011        </td><td> 1          </td><td>male        </td><td>73          </td><td>primary     </td><td>farming     </td><td>Hanging     </td></tr>\n",
       "\t<tr><td>5           </td><td>yes         </td><td>no          </td><td>no          </td><td>2009        </td><td> 8          </td><td>male        </td><td>51          </td><td>Secondary   </td><td>farming     </td><td>Pesticide   </td></tr>\n",
       "\t<tr><td>6           </td><td>no          </td><td>yes         </td><td>no          </td><td>2009        </td><td>11          </td><td>male        </td><td>62          </td><td>iliterate   </td><td>farming     </td><td>Pesticide   </td></tr>\n",
       "</tbody>\n",
       "</table>\n"
      ],
      "text/latex": [
       "\\begin{tabular}{r|lllllllllll}\n",
       " Person\\_ID & Hospitalised & Died & Urban & Year & Month & Sex & Age & Education & Occupation & method\\\\\n",
       "\\hline\n",
       "\t 1            & yes          & no           & no           & 2010         & 12           & female       & 39           & Secondary    & household    & Other poison\\\\\n",
       "\t 2            & no           & yes          & no           & 2009         &  3           & male         & 83           & primary      & farming      & Hanging     \\\\\n",
       "\t 3            & no           & yes          & no           & 2010         &  2           & male         & 60           & primary      & farming      & Hanging     \\\\\n",
       "\t 4            & no           & yes          & no           & 2011         &  1           & male         & 73           & primary      & farming      & Hanging     \\\\\n",
       "\t 5            & yes          & no           & no           & 2009         &  8           & male         & 51           & Secondary    & farming      & Pesticide   \\\\\n",
       "\t 6            & no           & yes          & no           & 2009         & 11           & male         & 62           & iliterate    & farming      & Pesticide   \\\\\n",
       "\\end{tabular}\n"
      ],
      "text/markdown": [
       "\n",
       "| Person_ID | Hospitalised | Died | Urban | Year | Month | Sex | Age | Education | Occupation | method |\n",
       "|---|---|---|---|---|---|---|---|---|---|---|\n",
       "| 1            | yes          | no           | no           | 2010         | 12           | female       | 39           | Secondary    | household    | Other poison |\n",
       "| 2            | no           | yes          | no           | 2009         |  3           | male         | 83           | primary      | farming      | Hanging      |\n",
       "| 3            | no           | yes          | no           | 2010         |  2           | male         | 60           | primary      | farming      | Hanging      |\n",
       "| 4            | no           | yes          | no           | 2011         |  1           | male         | 73           | primary      | farming      | Hanging      |\n",
       "| 5            | yes          | no           | no           | 2009         |  8           | male         | 51           | Secondary    | farming      | Pesticide    |\n",
       "| 6            | no           | yes          | no           | 2009         | 11           | male         | 62           | iliterate    | farming      | Pesticide    |\n",
       "\n"
      ],
      "text/plain": [
       "  Person_ID Hospitalised Died Urban Year Month Sex    Age Education Occupation\n",
       "1 1         yes          no   no    2010 12    female 39  Secondary household \n",
       "2 2         no           yes  no    2009  3    male   83  primary   farming   \n",
       "3 3         no           yes  no    2010  2    male   60  primary   farming   \n",
       "4 4         no           yes  no    2011  1    male   73  primary   farming   \n",
       "5 5         yes          no   no    2009  8    male   51  Secondary farming   \n",
       "6 6         no           yes  no    2009 11    male   62  iliterate farming   \n",
       "  method      \n",
       "1 Other poison\n",
       "2 Hanging     \n",
       "3 Hanging     \n",
       "4 Hanging     \n",
       "5 Pesticide   \n",
       "6 Pesticide   "
      ]
     },
     "metadata": {},
     "output_type": "display_data"
    }
   ],
   "source": [
    "head(SuicideChina)"
   ]
  },
  {
   "cell_type": "code",
   "execution_count": 72,
   "metadata": {},
   "outputs": [
    {
     "data": {
      "image/png": "[encoded data removed]",
      "text/plain": [
       "Plot with title \"Histogram of SuicideChina$Age\""
      ]
     },
     "metadata": {},
     "output_type": "display_data"
    }
   ],
   "source": [
    "hist(SuicideChina$Age)"
   ]
  },
  {
   "cell_type": "code",
   "execution_count": 73,
   "metadata": {},
   "outputs": [
    {
     "data": {
      "text/html": [
       "52.6308829249319"
      ],
      "text/latex": [
       "52.6308829249319"
      ],
      "text/markdown": [
       "52.6308829249319"
      ],
      "text/plain": [
       "[1] 52.63088"
      ]
     },
     "metadata": {},
     "output_type": "display_data"
    }
   ],
   "source": [
    "mean(SuicideChina$Age)"
   ]
  },
  {
   "cell_type": "code",
   "execution_count": 77,
   "metadata": {},
   "outputs": [],
   "source": [
    "meanAge <- mean(SuicideChina$Age)"
   ]
  },
  {
   "cell_type": "code",
   "execution_count": 74,
   "metadata": {},
   "outputs": [
    {
     "data": {
      "text/html": [
       "19.7838780795388"
      ],
      "text/latex": [
       "19.7838780795388"
      ],
      "text/markdown": [
       "19.7838780795388"
      ],
      "text/plain": [
       "[1] 19.78388"
      ]
     },
     "metadata": {},
     "output_type": "display_data"
    }
   ],
   "source": [
    "sd(SuicideChina$Age)"
   ]
  },
  {
   "cell_type": "code",
   "execution_count": 78,
   "metadata": {},
   "outputs": [],
   "source": [
    "sdAge <- sd(SuicideChina$Age)"
   ]
  },
  {
   "cell_type": "code",
   "execution_count": 80,
   "metadata": {},
   "outputs": [
    {
     "data": {
      "text/html": [
       "2571"
      ],
      "text/latex": [
       "2571"
      ],
      "text/markdown": [
       "2571"
      ],
      "text/plain": [
       "[1] 2571"
      ]
     },
     "metadata": {},
     "output_type": "display_data"
    }
   ],
   "source": [
    "length(SuicideChina$Age)"
   ]
  },
  {
   "cell_type": "code",
   "execution_count": 79,
   "metadata": {},
   "outputs": [],
   "source": [
    "nAge <- length(SuicideChina$Age)"
   ]
  },
  {
   "cell_type": "code",
   "execution_count": 83,
   "metadata": {},
   "outputs": [],
   "source": [
    "ageTestStatistic <- (meanAge - 60) / (sdAge / sqrt(nAge))"
   ]
  },
  {
   "cell_type": "code",
   "execution_count": 84,
   "metadata": {},
   "outputs": [
    {
     "data": {
      "text/html": [
       "-31.701390477366"
      ],
      "text/latex": [
       "-31.701390477366"
      ],
      "text/markdown": [
       "-31.701390477366"
      ],
      "text/plain": [
       "[1] -31.70139"
      ]
     },
     "metadata": {},
     "output_type": "display_data"
    }
   ],
   "source": [
    "ageTestStatistic"
   ]
  },
  {
   "cell_type": "code",
   "execution_count": 86,
   "metadata": {},
   "outputs": [
    {
     "data": {
      "text/html": [
       "9.52319504535028e-187"
      ],
      "text/latex": [
       "9.52319504535028e-187"
      ],
      "text/markdown": [
       "9.52319504535028e-187"
      ],
      "text/plain": [
       "[1] 9.523195e-187"
      ]
     },
     "metadata": {},
     "output_type": "display_data"
    }
   ],
   "source": [
    "pt(ageTestStatistic, df = nAge - 1, lower.tail = TRUE)"
   ]
  },
  {
   "cell_type": "code",
   "execution_count": 88,
   "metadata": {},
   "outputs": [
    {
     "data": {
      "text/plain": [
       "\n",
       "  no  yes \n",
       "1315 1256 "
      ]
     },
     "metadata": {},
     "output_type": "display_data"
    }
   ],
   "source": [
    "table(SuicideChina$Died)"
   ]
  },
  {
   "cell_type": "markdown",
   "metadata": {},
   "source": [
    "$\\hat{\\pi} + z_{\\alpha / 2} *\\sqrt{\\frac{\\hat{\\pi} (1-\\hat{\\pi})}{n}}$ $\\mu = n \\pi$ and $\\sigma = \\sqrt{n \\pi (1-\\pi)}$"
   ]
  },
  {
   "cell_type": "code",
   "execution_count": 99,
   "metadata": {},
   "outputs": [],
   "source": [
    "nSuicideAttempts <- 1315 + 1256"
   ]
  },
  {
   "cell_type": "code",
   "execution_count": 100,
   "metadata": {},
   "outputs": [],
   "source": [
    "hatPi <- 1256 / nSuicideAttempts"
   ]
  },
  {
   "cell_type": "code",
   "execution_count": 101,
   "metadata": {},
   "outputs": [
    {
     "data": {
      "text/html": [
       "0.488525865422015"
      ],
      "text/latex": [
       "0.488525865422015"
      ],
      "text/markdown": [
       "0.488525865422015"
      ],
      "text/plain": [
       "[1] 0.4885259"
      ]
     },
     "metadata": {},
     "output_type": "display_data"
    }
   ],
   "source": [
    "hatPi"
   ]
  },
  {
   "cell_type": "code",
   "execution_count": 102,
   "metadata": {},
   "outputs": [
    {
     "data": {
      "text/html": [
       "1.95996398454005"
      ],
      "text/latex": [
       "1.95996398454005"
      ],
      "text/markdown": [
       "1.95996398454005"
      ],
      "text/plain": [
       "[1] 1.959964"
      ]
     },
     "metadata": {},
     "output_type": "display_data"
    }
   ],
   "source": [
    "qnorm(.05 / 2, lower.tail = FALSE)"
   ]
  },
  {
   "cell_type": "code",
   "execution_count": 103,
   "metadata": {},
   "outputs": [
    {
     "data": {
      "text/html": [
       "0.469203838977001"
      ],
      "text/latex": [
       "0.469203838977001"
      ],
      "text/markdown": [
       "0.469203838977001"
      ],
      "text/plain": [
       "[1] 0.4692038"
      ]
     },
     "metadata": {},
     "output_type": "display_data"
    }
   ],
   "source": [
    "hatPi - qnorm(.05 / 2, lower.tail = FALSE) * sqrt((hatPi * (1 - hatPi)) / nSuicideAttempts)"
   ]
  },
  {
   "cell_type": "code",
   "execution_count": 104,
   "metadata": {},
   "outputs": [
    {
     "data": {
      "text/html": [
       "0.507847891867029"
      ],
      "text/latex": [
       "0.507847891867029"
      ],
      "text/markdown": [
       "0.507847891867029"
      ],
      "text/plain": [
       "[1] 0.5078479"
      ]
     },
     "metadata": {},
     "output_type": "display_data"
    }
   ],
   "source": [
    "hatPi + qnorm(.05 / 2, lower.tail = FALSE) * sqrt((hatPi * (1 - hatPi)) / nSuicideAttempts)"
   ]
  }
 ],
 "metadata": {
  "kernelspec": {
   "display_name": "R",
   "language": "R",
   "name": "ir"
  },
  "language_info": {
   "codemirror_mode": "r",
   "file_extension": ".r",
   "mimetype": "text/x-r-source",
   "name": "R",
   "pygments_lexer": "r",
   "version": "3.6.1"
  }
 },
 "nbformat": 4,
 "nbformat_minor": 2
}
