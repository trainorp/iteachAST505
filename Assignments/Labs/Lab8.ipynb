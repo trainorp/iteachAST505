{
 "cells": [
  {
   "cell_type": "markdown",
   "metadata": {},
   "source": [
    "# 0) Instructions:\n",
    "Please complete the workbook below. Some of the calculations are already ready to be \"run\". However, please read the text carefully to find questions that you should answer for credit. Remember that to answer a question in text, you click \"insert\", then \"insert cell below\", switch the input from \"code\" to \"markdown\", type your answer, and finally click the run button to set your text in stone. In a few questions, you will need to do some calculations on your own. Hint: for these calculations you can copy, paste, and modify code that is above the calculation that you need to do. You may work by yourself or in groups of 2. Please remember to put your name on top, remember to save the workbook, and remember to upload to Canvas.\n",
    "\n",
    "**Please read** Please run the code below to install the \"pwr\" package. **Do not proceed until the star goes away! Do not click run twice**!"
   ]
  },
  {
   "cell_type": "code",
   "execution_count": null,
   "metadata": {},
   "outputs": [],
   "source": [
    "install.packages('pwr', dep = TRUE)"
   ]
  },
  {
   "cell_type": "markdown",
   "metadata": {},
   "source": [
    "**Please read** Please run the code below and ignore the output. This code is simply setting the height and width of the plots we will make later on and loading the \"tidyverse\" and \"pwr\" packages that we will use."
   ]
  },
  {
   "cell_type": "code",
   "execution_count": null,
   "metadata": {},
   "outputs": [],
   "source": [
    "options(repr.plot.width = 6, repr.plot.height = 5)\n",
    "library(tidyverse)\n",
    "library(pwr)"
   ]
  },
  {
   "cell_type": "markdown",
   "metadata": {},
   "source": [
    "# 1) Power for tests regarding $\\mu$\n",
    "\n",
    "## 1.1) Computing power \"by hand\""
   ]
  },
  {
   "cell_type": "markdown",
   "metadata": {},
   "source": [
    "In Lecture \\#12 we had an example of a city wanting to test whether the population mean $\\mu$ of lead (in PPB) in tap water was less than 5. "
   ]
  },
  {
   "cell_type": "markdown",
   "metadata": {},
   "source": [
    "**Question for you.** Please explain what the null and alternative hypotheses are given this scenario. Also please explain whether it is a one-sided test, or two-sided test. If it is a one-sided test, what side is the rejection region on? Please answer these questions below (insert new cell, change to markdown, and type your responses). "
   ]
  },
  {
   "cell_type": "markdown",
   "metadata": {},
   "source": [
    "In that same example from Lecture \\#12, the city wanted to conduct the test at $\\alpha = 0.01$, knew that $\\sigma = 1$, and wanted to calculate the power from using a random sample of $n=10$ taps for determining the amount of lead. To make this calculation, the formula $\\text{Power}=1-\\beta = 1 - P\\left(Z \\leq z_{\\alpha} - \\frac{\\mu_0 - \\mu_a}{\\sigma / \\sqrt{n}} \\right)$ was used. For example, to determine the power if the true population mean was $4.5$, the following was done: "
   ]
  },
  {
   "cell_type": "code",
   "execution_count": null,
   "metadata": {},
   "outputs": [],
   "source": [
    "1 - pnorm(qnorm(.01, lower.tail = FALSE) - .5 / (1 / sqrt(10)), lower.tail = TRUE)"
   ]
  },
  {
   "cell_type": "markdown",
   "metadata": {},
   "source": [
    "The formula above looks complicated, but it is not too bad. We use \"pnorm(x, lower.tail = TRUE)\" to get the left tailed probability from the normal distribution and \"qnorm($z_\\alpha$, lower.tail = FALSE)\" to get $z_\\alpha$. The entire calculation told us that the power (or probability of rejecting the null hypothesis given that the population mean is 4.5 instead of the $\\mu_0=5$ tested against) was 0.228. Equivalently, since $\\text{Power} = 1-\\beta$, the probability of making a Type II error was $1-0.228=0.772$. This means that the probability of not rejecting the null hypothesis that $\\mu > 5$, when the true population mean is 4.5 is 0.772."
   ]
  },
  {
   "cell_type": "markdown",
   "metadata": {},
   "source": [
    "**Question for you** Using the same formula for determining power in this scenario, and copying and pasting the code into a new code cell below, determine the power the city would have if they conducted the same hypothesis test using $\\alpha = 0.05$ instead of $\\alpha = 0.01$. After using the formula with new values, please insert a markdown cell below to explain your result. "
   ]
  },
  {
   "cell_type": "markdown",
   "metadata": {},
   "source": [
    "## 1.2) Computing power using software\n",
    "Power calculation are often difficult to do by hand. Also, when doing a Power analysis before conducting an experiment or when planning a study, many different scenarios may be evaluated. As a result, you usually will need to use software for power calculations. \n",
    "\n",
    "Below, we will redo the first power calculation we did in this lab using the \"pwr.norm.test\" function from the *pwr* package in R. This function has a few arguments that we need to know about. If we supply an \"n\" this is the sample size we will have, if we specify \"sig.level\" this is our $\\alpha$ value, if we specify an \"alternative\" this tells the function whether we have a one-sided test (with alternatives \"less\" or \"greater\") or a two-sided test (\"two.sided\"). Finally, the argument \"d\" is the value $\\frac{\\mu_a - \\mu_0}{\\sigma}$. For the city's experiment to determine the amount of lead in the water, they wanted to see the power if $\\mu_a = 4.5$, given $\\mu_0 = 5$, and $\\sigma = 1$. Consequently $d = \\frac{\\mu_a - \\mu_0}{\\sigma} = \\frac{4.5 - 5}{1} = -0.5$. Here is that calculation:"
   ]
  },
  {
   "cell_type": "code",
   "execution_count": null,
   "metadata": {},
   "outputs": [],
   "source": [
    "pwr.norm.test(n = 10, d = -.5, sig.level = .01, power = , alternative = \"less\")"
   ]
  },
  {
   "cell_type": "markdown",
   "metadata": {},
   "source": [
    "Notice that in that above \"pwr.norm.test\" code we used \"power = \". By specifying one of the arguments as \"equal to blank\", we are asking the function to find that value for us. So in the last calculation by saing \"power = \", we were asking it to compute power given the other arguments that we supplied (\"n\", \"d\", \"sig.level\", \"alternative\")."
   ]
  },
  {
   "cell_type": "markdown",
   "metadata": {},
   "source": [
    "Often, we want to determine the power we would have (in advance of doing an experiment or starting a study) for various hypothetical true population values $\\mu_a$. For example, in the case of the city wanting to determine if the amount of lead is less than 5 ppb, they might want to know the power if the true population mean is 1, 2, 3, 4, 4.5 or even 4.95. Next, we will make a sequence or list of possible values of $\\mu_a$ and see the power we have for each of them. First, let's see how to create a sequence of possible $\\mu_a$ values that goes from 3 to 5 with steps of 0.05: "
   ]
  },
  {
   "cell_type": "code",
   "execution_count": null,
   "metadata": {},
   "outputs": [],
   "source": [
    "seq(from = 3, to = 5, by = 0.05)"
   ]
  },
  {
   "cell_type": "markdown",
   "metadata": {},
   "source": [
    "Great, now to use the \"pwr.norm.test\" function we need to use the argument \"d\", where $d = \\frac{\\mu_a - \\mu_0}{\\sigma}$. Since $\\sigma = 1$, and anything divided by 1 is itself we can make the sequence of \"d\" values by taking the last sequence me made and subtracting our $\\mu_0=5$:"
   ]
  },
  {
   "cell_type": "code",
   "execution_count": null,
   "metadata": {},
   "outputs": [],
   "source": [
    "seq(from = 3, to = 5, by = 0.05) - 5"
   ]
  },
  {
   "cell_type": "markdown",
   "metadata": {},
   "source": [
    "Of course this is the same thing as the following:"
   ]
  },
  {
   "cell_type": "code",
   "execution_count": null,
   "metadata": {},
   "outputs": [],
   "source": [
    "seq(from = -2, to = 0, by = 0.05)"
   ]
  },
  {
   "cell_type": "markdown",
   "metadata": {},
   "source": [
    "So we will use the above sequence for determining the power the city would have for various true population means $\\mu_a$:"
   ]
  },
  {
   "cell_type": "code",
   "execution_count": null,
   "metadata": {},
   "outputs": [],
   "source": [
    "pwr.norm.test(n = 10, d = seq(from = -2, to = 0, by = .05), sig.level = .01, power =, alternative = \"less\") "
   ]
  },
  {
   "cell_type": "markdown",
   "metadata": {},
   "source": [
    "The above output looks messy. However, we can see that there are the values \"d\", \"n\", \"sig.level\" ($\\alpha$), and the \"power\" that has been determined by the function. To make plots of these values we will want to pull out just the power values. To do this we can use the \"\\\\$\". You probably noticed before that when we had a dataset that contained variables (as columns), we could use the \"\\\\$\" to pull out the variable (or column) that we were interested in. We will do the same thing here. The output contains many things, but we only want the \"power\" values. So we will add \"$power\" to the end of the \"pwr.norm.test\" command to get just the power values out: "
   ]
  },
  {
   "cell_type": "code",
   "execution_count": null,
   "metadata": {},
   "outputs": [],
   "source": [
    "pwr.norm.test(n = 10, d = seq(-2, 0, .05), sig.level = .01, power =, alternative = \"less\")$power"
   ]
  },
  {
   "cell_type": "markdown",
   "metadata": {},
   "source": [
    "**Question for you** Now, using the same code as above, determine the power that the city would have if they had a higher tolerance for making Type I errors (falsely rejecting the null hypothesis that $\\mu \\geq 5$, when the null hypothesis is true). Determine the power the city would have given the same $n$ and \"d\" values as above, but with an $\\alpha$ of 0.10. Please copy, paste, and modify the code from above to answer this question. After using the code to determine the power values, please insert a markdown cell below and describe wether the power would be higher or lower for the same \"d\" values when you change $\\alpha$ from 0.01 to 0.10."
   ]
  },
  {
   "cell_type": "markdown",
   "metadata": {},
   "source": [
    "## 1.3) Making a plot of Power versus $d = (\\mu_a - \\mu_0) / \\sigma$\n",
    "Plots are often the best way for us to see the power we would have for an experiment or a study given various alternative true population means. To make a plot showing the power against $d = (\\mu_a - \\mu_0) / \\sigma$, we need to first save the values \"d\" and \"Power\" so that we can make the plot. Below, we will save the values \"d\" as a new variable called \"d1\" and the power values that we computed above as \"pwr1\". "
   ]
  },
  {
   "cell_type": "code",
   "execution_count": null,
   "metadata": {},
   "outputs": [],
   "source": [
    "d1 <- seq(-2, 0, .05)\n",
    "pwr1 <- pwr.norm.test(n = 10, d = seq(-2, 0, .05), sig.level = .01, power =, alternative = \"less\")$power"
   ]
  },
  {
   "cell_type": "markdown",
   "metadata": {},
   "source": [
    "Now that we have saved those \"d\" and \"power\" values, we will make a \"data.frame\" (or dataset) that has both as columns. We will also add a third column called \"sigma\" for $\\sigma$, as we will later compare power for different values of $\\sigma$. Below, we will create this \"data.frame\" and save it as \"df1\":"
   ]
  },
  {
   "cell_type": "code",
   "execution_count": null,
   "metadata": {},
   "outputs": [],
   "source": [
    "df1 <- data.frame(d = d1, pwr = pwr1, sigma = \"1\")"
   ]
  },
  {
   "cell_type": "markdown",
   "metadata": {},
   "source": [
    "Now that we have saved those \"d\" and \"power\" values in the \"data.frame\" called \"df1\", we will use them to plot the power that the city would have for the various values of $d = (\\mu_a - \\mu_0) / \\sigma$. To do this we will use the \"plot\" function. This function plots an \"x\" variable values on the horizontal axis and \"y\" variable values on the vertical axis using \"plot(x, y)\". We will add \"xlab\" and \"ylab\" arguments which will label the axes the way we would like: "
   ]
  },
  {
   "cell_type": "code",
   "execution_count": null,
   "metadata": {},
   "outputs": [],
   "source": [
    "plot(df1$d, df1$pwr, xlab = \"d / sigma\", ylab = \"Power (1-beta)\")"
   ]
  },
  {
   "cell_type": "markdown",
   "metadata": {},
   "source": [
    "There are a few different ways to make plots in R. The way we just used is the default way. \"ggplot\" is another way of making many different kinds of visualizations. It is based on adding elements of a plot together. Below is an example of making the same plot using \"ggplot\". You don't need to know this, but you might enjoy making plots this way. The first part \"ggplot(data, aes(x, y))\" tells the software that we want to make a \"ggplot\" with a specific dataset and a specific aesthetic mapping \"aes\". Then we add \"geom_point\" to plot the points, we add \"theme_bw\" to change the color theme of the plot (if you are interested, try removing this part and seeing the default theme), we add \"labs\" to change the axes labels."
   ]
  },
  {
   "cell_type": "code",
   "execution_count": null,
   "metadata": {},
   "outputs": [],
   "source": [
    "ggplot(df1, aes(x = d, y = pwr)) + geom_point() + theme_bw() + labs(x = \"d / sigma\", y = \"Power (1-beta)\")"
   ]
  },
  {
   "cell_type": "markdown",
   "metadata": {},
   "source": [
    "We can make the same plot with lines joining the points by adding \"geom_line\" to what we did before:"
   ]
  },
  {
   "cell_type": "code",
   "execution_count": null,
   "metadata": {},
   "outputs": [],
   "source": [
    "ggplot(df1, aes(x = d, y = pwr)) + geom_point() + geom_line() + \n",
    "  theme_bw() + labs(x = \"d / sigma\", y = \"Power (1-beta)\")"
   ]
  },
  {
   "cell_type": "markdown",
   "metadata": {},
   "source": [
    "## 1.4) Determining how the population variance changes power\n",
    "Now, we determine how different population variances would effect the power the city has to determine if the amount of lead in water is less than 5 ppb. If the population variance was higher we would expect to see the measurement of lead having more variability. \n",
    "\n",
    "**Question for you**. Do you think that a greater population variance will increase or decrease the power the city has to determine if the amount of lead is less than 5 ppb? For example, if the population standard deviation (remember standard deviation is the square root of variance) was 2 instead of 1 (like before), would the power increase or decrease relative to what we computed before? Please answer below (insert new cell below, change to markdown, and answer in a complete sentence). "
   ]
  },
  {
   "cell_type": "markdown",
   "metadata": {},
   "source": [
    "Below we will repeat the same calculation as before, however with $\\sigma = 2$. This means that we now have $d = \\frac{\\mu_a - \\mu_0}{\\sigma} = \\frac{\\mu_a - 5}{2}$ for the same sequence of $\\mu_a$ values. We can supply these \"d\" values by taking the exact same sequence we had before \"seq(-2, 0, .05)\" and dividing each number by 2. Let's see what the power is for this new sequence of \"d\" values with the larger $\\sigma = 2$:"
   ]
  },
  {
   "cell_type": "code",
   "execution_count": null,
   "metadata": {},
   "outputs": [],
   "source": [
    "pwr.norm.test(n = 10, d = seq(-2, 0, .05) / 2, sig.level = .01, power =, alternative = \"less\") "
   ]
  },
  {
   "cell_type": "markdown",
   "metadata": {},
   "source": [
    "Now let's see what the power values would be for $\\sigma = 0.5$. Now we will have $d = \\frac{\\mu_a - \\mu_0}{\\sigma} = \\frac{\\mu_a - 5}{0.5}$ for the same sequence of $\\mu_a$ values. "
   ]
  },
  {
   "cell_type": "code",
   "execution_count": null,
   "metadata": {},
   "outputs": [],
   "source": [
    "pwr.norm.test(n = 10, d = seq(-2, 0, .05) / .5, sig.level = .01, power =, alternative = \"less\") "
   ]
  },
  {
   "cell_type": "markdown",
   "metadata": {},
   "source": [
    "Let's now save the power values for $\\sigma = 2$ and $\\sigma = 0.5$ as new variables called \"pwr2\" for $\\sigma = 2$ and \"pwr.5\" for $\\sigma = 0.5$: "
   ]
  },
  {
   "cell_type": "code",
   "execution_count": null,
   "metadata": {},
   "outputs": [],
   "source": [
    "pwr2 <- pwr.norm.test(n = 10, d = seq(-2, 0, .05) / 2, sig.level = .01, power =, alternative = \"less\")$power\n",
    "pwr.5 <- pwr.norm.test(n = 10, d = seq(-2, 0, .05) / .5, sig.level = .01, power =, alternative = \"less\")$power"
   ]
  },
  {
   "cell_type": "markdown",
   "metadata": {},
   "source": [
    "Now that we have saved these power values, we will create a new dataset (or \"data.frame\") that contains our \"d\" values, our power values, and our $\\sigma$ values. We will create this \"data.frame\" so that we can make plots of the power for our various $\\sigma$ values: "
   ]
  },
  {
   "cell_type": "code",
   "execution_count": null,
   "metadata": {},
   "outputs": [],
   "source": [
    "df2 <- data.frame(d = d1, pwr = pwr2, sigma = \"2\")\n",
    "df.5 <- data.frame(d = d1, pwr = pwr.5, sigma = \".5\")"
   ]
  },
  {
   "cell_type": "markdown",
   "metadata": {},
   "source": [
    "Okay, now that we have three different \"data.frame\"s called \"df1\" for $\\sigma = 1$, \"df2\" for $\\sigma = 2$, and \"df.5\" for $\\sigma = 0.5$, we can combine these into one \"data.frame\". To do this we will use the \"rbind\" function. This function takes multiple \"data.frames\" and binds them together *by rows*. This means that if you had two \"data.frames\" that had 15 and 10 rows, respectively, then if you used \"rbind\" to combine them they would have 25 rows. Please run the code below to make the new \"data.frame\" called \"bigDF\" that has all of them together:"
   ]
  },
  {
   "cell_type": "code",
   "execution_count": null,
   "metadata": {},
   "outputs": [],
   "source": [
    "bigDF <- rbind(df.5, df1, df2)"
   ]
  },
  {
   "cell_type": "markdown",
   "metadata": {},
   "source": [
    "Okay, now that we have this combinded \"data.frame\", we will use \"ggplot\" to make a plot showing the different power values that we have which depend on $\\sigma$. You will notice that we have a new argument in our aesthetic mapping \"aes\"; this argument is \"color = sigma\". This argument tells R that we want to color each of our points based on the value of $\\sigma$. Please run that code below: "
   ]
  },
  {
   "cell_type": "code",
   "execution_count": null,
   "metadata": {},
   "outputs": [],
   "source": [
    "ggplot(bigDF, aes(x = d, y = pwr, color = sigma)) + geom_point() + \n",
    "  theme_bw() + labs(x = \"d / sigma\", y = \"Power (1-beta)\")"
   ]
  },
  {
   "cell_type": "markdown",
   "metadata": {},
   "source": [
    "Okay, so we made the plot that had points (it used \"geom_point()\"), now we can add another layer that has the lines connecting the points \"geom_line()\". Please run the code below to do this:"
   ]
  },
  {
   "cell_type": "code",
   "execution_count": null,
   "metadata": {},
   "outputs": [],
   "source": [
    "ggplot(bigDF, aes(x = d, y = pwr, color = sigma)) + geom_point() + geom_line() + \n",
    "  theme_bw() + labs(x = \"d / sigma\", y = \"Power (1-beta)\")"
   ]
  },
  {
   "cell_type": "markdown",
   "metadata": {},
   "source": [
    "**Question for you.** Given the above plot, what is the effect of increasing $\\sigma$ on the power the city would have? In your words, what is the relationship between the variance of some measurements and the power you will have when conducting hypothesis tests? Please answer these below (insert new cell, change to markdown, and answer with sentences). "
   ]
  },
  {
   "cell_type": "code",
   "execution_count": null,
   "metadata": {},
   "outputs": [],
   "source": [
    "pwr.norm.test(n = 10, d = seq(-2, 0, .05), sig.level = .01, power =, alternative = \"less\")"
   ]
  },
  {
   "cell_type": "code",
   "execution_count": null,
   "metadata": {},
   "outputs": [],
   "source": [
    "pwr.norm.test(n = 10, d = seq(-2, 0, .05), sig.level = .01, power =, alternative = \"two.sided\")"
   ]
  },
  {
   "cell_type": "markdown",
   "metadata": {},
   "source": [
    "## 1.5) Determining how the alternative hypothesis changes power\n",
    "Often, when we are posing hypotheses we have a specific one-sided alternative in mind. However, there are cases in which we want to test a hypothesis such as $H_0: \\mu = 5$ but we don't have an idea as to whether the true population mean is less than 5 or greater than five, so we posit $H_a: \\mu \\neq 5$. Let's compare the power that we would have if we conduct two-sided tests versus one-sided. In this analysis we will calculate the power for alternative population means that are the same distance away from $\\mu_0$, but comparing one-sided versus two-sided tests. Let's generate power values for $H_a: \\mu < 5$ (we will call it \"pwr1_Less\") and for $H_a: \\mu \\neq 5$ (we will call it \"pwr1_TwoSided\") for the same exact values of $d = \\frac{\\mu_a - \\mu_0}{\\sigma}$:"
   ]
  },
  {
   "cell_type": "code",
   "execution_count": null,
   "metadata": {},
   "outputs": [],
   "source": [
    "pwr1_Less <- pwr.norm.test(n = 10, d = seq(-2, 0, .05), sig.level = .01, power =, alternative = \"less\")$power\n",
    "pwr1_TwoSided <- pwr.norm.test(n = 10, d = seq(-2, 0, .05), sig.level = .01, power =, alternative = \"two.sided\")$power"
   ]
  },
  {
   "cell_type": "markdown",
   "metadata": {},
   "source": [
    "Now let's save the power values in \"data.frames\" that also have the \"d\" values, and a variable \"alternative\" to tell us whether it was the \"less than\" alternative or the \"two-sided\" alternative:"
   ]
  },
  {
   "cell_type": "code",
   "execution_count": null,
   "metadata": {},
   "outputs": [],
   "source": [
    "df1_Less <- data.frame(d = seq(-2, 0, .05), pwr = pwr1_Less, alternative = \"Less than\")\n",
    "df1_TwoSided <- data.frame(d = seq(-2, 0, .05), pwr = pwr1_TwoSided, alternative = \"Two-tailed\")"
   ]
  },
  {
   "cell_type": "markdown",
   "metadata": {},
   "source": [
    "Now, let's make one data.frame out of the two others for the different alternatives: "
   ]
  },
  {
   "cell_type": "code",
   "execution_count": null,
   "metadata": {},
   "outputs": [],
   "source": [
    "df1_BothAlternatives <- rbind(df1_Less, df1_TwoSided)"
   ]
  },
  {
   "cell_type": "markdown",
   "metadata": {},
   "source": [
    "And finally, let's plot the power values: "
   ]
  },
  {
   "cell_type": "code",
   "execution_count": null,
   "metadata": {},
   "outputs": [],
   "source": [
    "ggplot(df1_BothAlternatives, aes(x = d, y = pwr, color = alternative)) + geom_point() + geom_line() + \n",
    "  theme_bw() + labs(x = \"d / sigma\", y = \"Power (1-beta)\")"
   ]
  },
  {
   "cell_type": "markdown",
   "metadata": {},
   "source": [
    "**Question for you.** For a given set of values $d = \\frac{\\mu_a - \\mu_0}{\\sigma}$, fixed $n$, and fixed $\\alpha$, will a one-tailed or a two-tailed test be more powerful? Please answer with a sentence below. "
   ]
  },
  {
   "cell_type": "markdown",
   "metadata": {},
   "source": [
    "# 2) Determining sample size for tests regarding $\\mu$\n",
    "We have just seen many examples of calculating power for tests involving the value of a population mean $\\mu$. But now, how do we determine the sample size that is required for such tests. In this case we will fix the power that we would like, and calculate the sample size. \n",
    "\n",
    "In the lecture we had an example of a city wanting to test whether the population mean 𝜇 of lead (in PPB) in tap water was less than 5 against the null hypothesis that it is greater than 5. For this example the city set $\\alpha = 0.01$ and knew that $\\sigma = 1$. Now, let's assume that the city wants to calculate the sample size requirement to have 90% power if the true population mean is 4.5. Before we left the power argument blank, that is we said \"power = \", now we will fill in this argument with \"power = 0.90\" and instead leave the sample size argument blank, that is \"n = \": "
   ]
  },
  {
   "cell_type": "code",
   "execution_count": null,
   "metadata": {},
   "outputs": [],
   "source": [
    "pwr.norm.test(n = , d = (4.5 - 5.0) / 1, sig.level = 0.01, power = 0.90, alternative = \"less\") "
   ]
  },
  {
   "cell_type": "markdown",
   "metadata": {},
   "source": [
    "**Question for you.** In your own words, what does the \"d = (4.5 - 5.0) / 1\" argument represent in the calculation we did just above? Please answer below (insert new cell, change to markdown, and answer with a sentence). "
   ]
  },
  {
   "cell_type": "markdown",
   "metadata": {},
   "source": [
    "**Question for you.** Now, calculate the sample size requirement for the same set of hypotheses for the following scenarios (each should have a separate \"pwr.norm.test\" command in a separate cell: \n",
    "1. $\\mu_a = 4$, $\\alpha = 0.01$, $1-\\beta =.9$\n",
    "2. $\\mu_a = 3$, $\\alpha = 0.01$, $1-\\beta =.9$\n",
    "3. $\\mu_a = 4$, $\\alpha = 0.01$, $1-\\beta =.8$\n",
    "4. $\\mu_a = 3$, $\\alpha = 0.01$, $1-\\beta =.8$\n",
    "5. $\\mu_a = 4$, $\\alpha = 0.10$, $1-\\beta =.9$\n",
    "6. $\\mu_a = 4$, $\\alpha = 0.001$, $1-\\beta =.9$"
   ]
  },
  {
   "cell_type": "markdown",
   "metadata": {},
   "source": [
    "**Question for you.** From what you have observed in the calculations that you have just completed, what is the effect on the sample size requirement of doing the following.\n",
    "1. Changing the level of $\\alpha$, the type I error probability\n",
    "2. Changing the power\n",
    "3. Changing the probability of making a type II error\n",
    "4. Changing the alternative true population parameter $\\mu_a$ to a value that is further away from $\\mu_0$ in the same tail as the alternative hypothesis.\n",
    "\n",
    "Please insert a new cell, change to markdown, and comment on each. "
   ]
  },
  {
   "cell_type": "code",
   "execution_count": null,
   "metadata": {},
   "outputs": [],
   "source": [
    "pwr.norm.test(n = 10, d = -.5, sig.level = .01, power = , alternative = \"less\")"
   ]
  },
  {
   "cell_type": "markdown",
   "metadata": {},
   "source": [
    "# 3) $t$-Tests versus $z$ tests using the normal distribution\n",
    "In the lecture we discussed power and sample size calculations that were only based on the normal distribution. This is because using the $t$-distribution in by hand calculations is quite difficult. However, in most cases we need to use $t$-distributions because the population variance is unknown. If we assume the population variance is known, as we have done above, but then we use $t$-test procedures our hypothesis testing will have less power than we would expect for a fixed sample size; equivalently, we would need a larger sample size to acheive the power we wish. While we do not talk about these $t$-test power and sample size calculations in this class they are easy to do uing the *emph* power package in R.\n",
    "\n",
    "## 3.1) Comparing power for uknown population variance cases versus known variance (t-test versus z-test)\n",
    "Earlier, we computed the power for the example of the city of Louisville evaulating the amount of lead in tap water. We had the following hypotheses $H_0:\\mu \\geq 5$, versus $H_a: \\mu < 5$, $\\alpha = 0.01$, $n = 10$ and we looked for the power given that $d=\\frac{\\mu_a - \\mu_0}{\\sigma} = \\frac{4.5 - 5}{1} = -0.5$. In that case we assumed that the population standard deviation was known, $\\sigma = 1$. Below we will show this again. Then in the following cell we will do the same calculation, but we will assume that the population $\\sigma$ is not known, and hence we have to use a $t$-test: "
   ]
  },
  {
   "cell_type": "code",
   "execution_count": null,
   "metadata": {},
   "outputs": [],
   "source": [
    "pwr.norm.test(n = 10, d = -0.5, sig.level = .01, power = , alternative = \"less\")"
   ]
  },
  {
   "cell_type": "code",
   "execution_count": null,
   "metadata": {},
   "outputs": [],
   "source": [
    "pwr.t.test(n = 10, d = -0.5, sig.level = 0.01, type = \"one.sample\", alternative = \"less\")"
   ]
  },
  {
   "cell_type": "markdown",
   "metadata": {},
   "source": [
    "**Question for you.** How does the power change from the case where $\\sigma$ is known to the case where $\\sigma$ is unknown? Please answer the question below (insert new cell, change to markdown, and type a sentence). "
   ]
  },
  {
   "cell_type": "markdown",
   "metadata": {},
   "source": [
    "# 4) Tests involving two populations\n",
    "\n",
    "Also in lecture 12 we had the following example: \n",
    "\n",
    "*You want to test whether the \"trebi\" variety of barley has a higher yield than the \"velvet\" variety...Conduct statisitcal tests at $\\alpha = 0.025$ (suppose that for some reason if you falsely reject the null hypothesis it will be extra bad).* Also we recall that in this example there were samples of size $n = 6$ for both \"trebi\" and \"velvet\". \n",
    "\n",
    "In this example we had $H_0: \\mu_{\\text{trebi}} - \\mu_{\\text{velvet}} \\leq 0$ versus $H_a: \\mu_{\\text{trebi}} - \\mu_{\\text{velvet}} > 0$. \n",
    "\n",
    "Let's determine if the experiment was adequately powered to reject the null hypothesis that the yeild from the Trebi variety is lower than the yield for the Velvet variety, if in fact the Trebi variety yield was 23 higher than the Velvet yield. To use the \"pwr.t.test\" function to determine power for this hypothesis test we will need to calculate something called the \"effect size\". Effect size is defined as $d = (\\mu_1 - \\mu_2)/ \\sigma$, where $\\sigma$ is the population standard deviation. Let's assume the population standard deviation for both populations is 34. Then $d = 23 / 34$. Now we have everything we need to use this function, \"n\", \"d\", \"sig.level\" ($\\alpha$), \"type\" (\"two.sample\" means that we are comparing two population means by using two samples), and \"alternative\" (\"greater\" since our alternative is that $\\mu_1 - \\mu_2 > 0$)."
   ]
  },
  {
   "cell_type": "code",
   "execution_count": null,
   "metadata": {},
   "outputs": [],
   "source": [
    "pwr.t.test(n = 6, d = 23 / 34, sig.level = 0.025, power = , type = \"two.sample\", alternative = \"greater\")"
   ]
  },
  {
   "cell_type": "markdown",
   "metadata": {},
   "source": [
    "**Question for you.** Given that last power calculation, do you think the experiment was adequately powered to reject the null hypothesis if the Trebi variety yield was 23 higher than the Velvet yield? Please answer the question below. "
   ]
  },
  {
   "cell_type": "markdown",
   "metadata": {},
   "source": [
    "**Question for you.** Determine the power that the experimenters would have to reject the null hypothesis if the Trebi variety yield was 23 higher than the Velvet yield and they conducted the test at $\\alpha = 0.10$ instead of $\\alpha = 0.025$. Please copy, paste, and modify the code from above in a new cell below. "
   ]
  },
  {
   "cell_type": "markdown",
   "metadata": {},
   "source": [
    "**Question for you.** In the lecture, the following data was reported from 1931 yields with $n=6$ per variety. $\\bar{y}_{\\text{trebi}} = 127.400$, $\\bar{y}_{\\text{velvet}} = 103.467$, $s_{\\text{trebi}} = 36.671$, $s_{\\text{velvet}} = 32.647$. We calculated a test statistic that led us to the conclusion of failing to reject the null hypothesis. Now that you have done power calculations for this experimental design, do you think it is possible that a Type II error had occured when we failed to reject the null hypothesis? Why or why not? Is the value of $d = 23/34$ close to the effect size we observed when we conducted this hypothesis test in lecutre?"
   ]
  }
 ],
 "metadata": {
  "kernelspec": {
   "display_name": "R",
   "language": "R",
   "name": "ir"
  },
  "language_info": {
   "codemirror_mode": "r",
   "file_extension": ".r",
   "mimetype": "text/x-r-source",
   "name": "R",
   "pygments_lexer": "r",
   "version": "3.6.1"
  }
 },
 "nbformat": 4,
 "nbformat_minor": 2
}
