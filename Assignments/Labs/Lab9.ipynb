{
 "cells": [
  {
   "cell_type": "markdown",
   "metadata": {},
   "source": [
    "# 0) Instructions:\n",
    "Please complete the workbook below. Some of the calculations are already ready to be \"run\". However, please read the text carefully to find questions that you should answer for credit. Remember that to answer a question in text, you click \"insert\", then \"insert cell below\", switch the input from \"code\" to \"markdown\", type your answer, and finally click the run button to set your text in stone. In a few questions, you will need to do some calculations on your own. Hint: for these calculations you can copy, paste, and modify code that is above the calculation that you need to do. You may work by yourself or in groups of 2. Please remember to put your name on top, remember to save the workbook, and remember to upload to Canvas."
   ]
  },
  {
   "cell_type": "markdown",
   "metadata": {},
   "source": [
    "**Please read** Please run the code below to install the \"DescTools\", \"EnvStats\", and \"Stat2Data\" packages. **Do not proceed until the star goes away! Do not click run twice**!"
   ]
  },
  {
   "cell_type": "code",
   "execution_count": 1,
   "metadata": {},
   "outputs": [
    {
     "name": "stderr",
     "output_type": "stream",
     "text": [
      "Warning message:\n",
      "\"dependency 'RDCOMClient' is not available\""
     ]
    },
    {
     "name": "stdout",
     "output_type": "stream",
     "text": [
      "\n",
      "  There is a binary version available but the source version is later:\n",
      "           binary  source needs_compilation\n",
      "DescTools 0.99.29 0.99.30              TRUE\n",
      "\n",
      "  Binaries will be installed\n",
      "package 'DescTools' successfully unpacked and MD5 sums checked\n",
      "\n",
      "The downloaded binary packages are in\n",
      "\tC:\\Users\\ptrainor\\AppData\\Local\\Temp\\RtmpAPRmjd\\downloaded_packages\n"
     ]
    }
   ],
   "source": [
    "install.packages('DescTools', dep = TRUE)\n",
    "install.packages('EnvStats', dep = TRUE)\n",
    "install.packages('Stat2Data', dep = TRUE)"
   ]
  },
  {
   "cell_type": "markdown",
   "metadata": {},
   "source": [
    "**Please read** Please run the code below and ignore the output. This code is simply setting the height and width of the plots we will make later on and loading the packages that we will use."
   ]
  },
  {
   "cell_type": "code",
   "execution_count": 5,
   "metadata": {},
   "outputs": [
    {
     "name": "stderr",
     "output_type": "stream",
     "text": [
      "\n",
      "Attaching package: 'EnvStats'\n",
      "\n",
      "The following objects are masked from 'package:stats':\n",
      "\n",
      "    predict, predict.lm\n",
      "\n",
      "The following object is masked from 'package:base':\n",
      "\n",
      "    print.default\n",
      "\n",
      "Registered S3 methods overwritten by 'ggplot2':\n",
      "  method         from \n",
      "  [.quosures     rlang\n",
      "  c.quosures     rlang\n",
      "  print.quosures rlang\n",
      "Registered S3 method overwritten by 'rvest':\n",
      "  method            from\n",
      "  read_xml.response xml2\n",
      "-- Attaching packages --------------------------------------- tidyverse 1.2.1 --\n",
      "v ggplot2 3.1.1       v purrr   0.3.2  \n",
      "v tibble  2.1.1       v dplyr   0.8.0.1\n",
      "v tidyr   0.8.3       v stringr 1.4.0  \n",
      "v readr   1.3.1       v forcats 0.4.0  \n",
      "-- Conflicts ------------------------------------------ tidyverse_conflicts() --\n",
      "x dplyr::filter() masks stats::filter()\n",
      "x dplyr::lag()    masks stats::lag()\n"
     ]
    }
   ],
   "source": [
    "library(DescTools)\n",
    "library(EnvStats)\n",
    "library(tidyverse)\n",
    "library(Stat2Data)\n",
    "options(repr.plot.width = 6, repr.plot.height = 5)"
   ]
  },
  {
   "cell_type": "markdown",
   "metadata": {},
   "source": [
    "# 1) Comparing two population variances\n",
    "To start off we are going to go through the process of comparing two population variances. We will use a very strange real dataset from a study looking at the pH of the brains of humans who have recently died. We will only use a subset of this data but the citation is here: \"Jun Z. Li et al. (2013), \"Circadian patterns of gene expression in the human brain and disruption in major depressive disorder,\" PNAS, vol 110, no. 24, www.pnas.org/cgi/doi/10.1073/pnas.1305814110\"\n",
    "\n",
    "The first thing that we will do is load the data. Because this data in one of the packages that we loaded (\"Stat2Data\"), if we use the \"data\" command with the name of the dataset, \"BrainpH\", it will load this data and make it available to us as \"BrainpH\". When running this command you shouldn't see any output:"
   ]
  },
  {
   "cell_type": "code",
   "execution_count": 6,
   "metadata": {},
   "outputs": [],
   "source": [
    "data(BrainpH)"
   ]
  },
  {
   "cell_type": "markdown",
   "metadata": {},
   "source": [
    "Now let's see how many observations are in this dataset using the \"nrow\" function which counts the number of rows of a \"data.frame\" or dataset: "
   ]
  },
  {
   "cell_type": "code",
   "execution_count": 10,
   "metadata": {},
   "outputs": [
    {
     "data": {
      "text/html": [
       "54"
      ],
      "text/latex": [
       "54"
      ],
      "text/markdown": [
       "54"
      ],
      "text/plain": [
       "[1] 54"
      ]
     },
     "metadata": {},
     "output_type": "display_data"
    }
   ],
   "source": [
    "nrow(BrainpH)"
   ]
  },
  {
   "cell_type": "markdown",
   "metadata": {},
   "source": [
    "Since that is a good amount of observations, let's just print the first 6 observations to see what this dataset looks like. To do this we will use the \"head\" function which prints out the first 6 rows of a \"data.frame\": "
   ]
  },
  {
   "cell_type": "code",
   "execution_count": 11,
   "metadata": {},
   "outputs": [
    {
     "data": {
      "text/html": [
       "<table>\n",
       "<thead><tr><th scope=col>pH</th><th scope=col>Sex</th><th scope=col>Ethnicity</th><th scope=col>Age</th><th scope=col>DeathType</th></tr></thead>\n",
       "<tbody>\n",
       "\t<tr><td>7.13           </td><td>M              </td><td>Caucasian      </td><td>64             </td><td>Cardiac        </td></tr>\n",
       "\t<tr><td>6.50           </td><td>M              </td><td>Caucasian      </td><td>63             </td><td>Cardiac        </td></tr>\n",
       "\t<tr><td>6.40           </td><td>M              </td><td>AfricanAmerican</td><td>59             </td><td>Cardiac        </td></tr>\n",
       "\t<tr><td>6.53           </td><td>M              </td><td>Caucasian      </td><td>52             </td><td>Cardiac        </td></tr>\n",
       "\t<tr><td>6.58           </td><td>M              </td><td>Caucasian      </td><td>58             </td><td>Cardiac        </td></tr>\n",
       "\t<tr><td>6.63           </td><td>M              </td><td>Caucasian      </td><td>78             </td><td>Other          </td></tr>\n",
       "</tbody>\n",
       "</table>\n"
      ],
      "text/latex": [
       "\\begin{tabular}{r|lllll}\n",
       " pH & Sex & Ethnicity & Age & DeathType\\\\\n",
       "\\hline\n",
       "\t 7.13            & M               & Caucasian       & 64              & Cardiac        \\\\\n",
       "\t 6.50            & M               & Caucasian       & 63              & Cardiac        \\\\\n",
       "\t 6.40            & M               & AfricanAmerican & 59              & Cardiac        \\\\\n",
       "\t 6.53            & M               & Caucasian       & 52              & Cardiac        \\\\\n",
       "\t 6.58            & M               & Caucasian       & 58              & Cardiac        \\\\\n",
       "\t 6.63            & M               & Caucasian       & 78              & Other          \\\\\n",
       "\\end{tabular}\n"
      ],
      "text/markdown": [
       "\n",
       "| pH | Sex | Ethnicity | Age | DeathType |\n",
       "|---|---|---|---|---|\n",
       "| 7.13            | M               | Caucasian       | 64              | Cardiac         |\n",
       "| 6.50            | M               | Caucasian       | 63              | Cardiac         |\n",
       "| 6.40            | M               | AfricanAmerican | 59              | Cardiac         |\n",
       "| 6.53            | M               | Caucasian       | 52              | Cardiac         |\n",
       "| 6.58            | M               | Caucasian       | 58              | Cardiac         |\n",
       "| 6.63            | M               | Caucasian       | 78              | Other           |\n",
       "\n"
      ],
      "text/plain": [
       "  pH   Sex Ethnicity       Age DeathType\n",
       "1 7.13 M   Caucasian       64  Cardiac  \n",
       "2 6.50 M   Caucasian       63  Cardiac  \n",
       "3 6.40 M   AfricanAmerican 59  Cardiac  \n",
       "4 6.53 M   Caucasian       52  Cardiac  \n",
       "5 6.58 M   Caucasian       58  Cardiac  \n",
       "6 6.63 M   Caucasian       78  Other    "
      ]
     },
     "metadata": {},
     "output_type": "display_data"
    }
   ],
   "source": [
    "head(BrainpH)"
   ]
  },
  {
   "cell_type": "markdown",
   "metadata": {},
   "source": [
    "## 1.1) Hypothesis test involving two population variances by hand:\n",
    "Okay, let's say you want to know if the pH of brains from recently deceased humans has higher variability in females than in males. Let's call females \"Population 1\" and males \"Population 2\". \n",
    "\n",
    "**Question for you** To determine if there is evidence that the population variance of pH measurements is higher in females than in males, what would your null and alternative hypotheses be?. Please answer this question in a new markdown cell below. You do not need to use symbols, you can say things like (for example): \"sigma squred from population 1 is less than or equal to...\" rather than $\\sigma_1^2 \\leq ...$\"."
   ]
  },
  {
   "cell_type": "markdown",
   "metadata": {},
   "source": [
    "Okay, now that we have specified our hypotheses, let's conduct a formal statistical test with $\\alpha = 0.10$. To do this we will need a test statistic $F^* = s_1^2 / s_2^2$. So we will need to find the sample variances. For this we can use the \"aggregate\" function. This function applies a function to a variable *by a grouping variable*. So for us, we want to compute the sample variance of pH measurements separately by sex (so sex is our grouping variable). The aggregate function has a few arguments, a formula (in our case \"pH ~ Sex\") that means apply a function to \"pH\" separately by \"Sex\", \"data\" which specifies what dataset the \"pH\" and \"Sex\" variables are from, and \"FUN\" which specifies which function we would like to apply. For us we want the sample variance so we will use the \"var\" fun. Please run the code below to calculate the sample variance of pH measurements by sex: "
   ]
  },
  {
   "cell_type": "code",
   "execution_count": 14,
   "metadata": {},
   "outputs": [
    {
     "data": {
      "text/html": [
       "<table>\n",
       "<thead><tr><th scope=col>Sex</th><th scope=col>pH</th></tr></thead>\n",
       "<tbody>\n",
       "\t<tr><td>F         </td><td>0.09311667</td></tr>\n",
       "\t<tr><td>M         </td><td>0.04730883</td></tr>\n",
       "</tbody>\n",
       "</table>\n"
      ],
      "text/latex": [
       "\\begin{tabular}{r|ll}\n",
       " Sex & pH\\\\\n",
       "\\hline\n",
       "\t F          & 0.09311667\\\\\n",
       "\t M          & 0.04730883\\\\\n",
       "\\end{tabular}\n"
      ],
      "text/markdown": [
       "\n",
       "| Sex | pH |\n",
       "|---|---|\n",
       "| F          | 0.09311667 |\n",
       "| M          | 0.04730883 |\n",
       "\n"
      ],
      "text/plain": [
       "  Sex pH        \n",
       "1 F   0.09311667\n",
       "2 M   0.04730883"
      ]
     },
     "metadata": {},
     "output_type": "display_data"
    }
   ],
   "source": [
    "aggregate(pH ~ Sex, data = BrainpH, FUN = var)"
   ]
  },
  {
   "cell_type": "markdown",
   "metadata": {},
   "source": [
    "**Question for you.** Now that you have computed the sample means, what is the value of the test statistic, $F^*$? Please compute it using code below."
   ]
  },
  {
   "cell_type": "markdown",
   "metadata": {},
   "source": [
    "Okay, we now have our set of hypotheses, we know $\\alpha = 0.10$, and we have a test statistic. Let's now find the rejection region / rejection rule for determining if we have evidence to reject the null hypothesis. For this we will need quantiles from the $F$ distribution. To find these, we need to know $\\alpha$, $\\text{df}_1$, and $\\text{df}_2$. To find $\\text{df}_1$, and $\\text{df}_2$, we need to know the sample size from each populations (female and male). We can use the \"aggregate\" function again. It will have the same arguments, except instead of using \"FUN = var\" to determine the sample variance of pH measurements by sex, we will use \"FUN = length\". This will count the number of pH measurements by sex, which will give us the sample sizes we need. Please run this code below: "
   ]
  },
  {
   "cell_type": "code",
   "execution_count": 15,
   "metadata": {},
   "outputs": [
    {
     "data": {
      "text/html": [
       "<table>\n",
       "<thead><tr><th scope=col>Sex</th><th scope=col>pH</th></tr></thead>\n",
       "<tbody>\n",
       "\t<tr><td>F </td><td>10</td></tr>\n",
       "\t<tr><td>M </td><td>44</td></tr>\n",
       "</tbody>\n",
       "</table>\n"
      ],
      "text/latex": [
       "\\begin{tabular}{r|ll}\n",
       " Sex & pH\\\\\n",
       "\\hline\n",
       "\t F  & 10\\\\\n",
       "\t M  & 44\\\\\n",
       "\\end{tabular}\n"
      ],
      "text/markdown": [
       "\n",
       "| Sex | pH |\n",
       "|---|---|\n",
       "| F  | 10 |\n",
       "| M  | 44 |\n",
       "\n"
      ],
      "text/plain": [
       "  Sex pH\n",
       "1 F   10\n",
       "2 M   44"
      ]
     },
     "metadata": {},
     "output_type": "display_data"
    }
   ],
   "source": [
    "aggregate(pH ~ Sex, data = BrainpH, length)"
   ]
  },
  {
   "cell_type": "markdown",
   "metadata": {},
   "source": [
    "Now we are ready to determine the critical value from the $F$ distribution with $\\text{df}_1 = 10-1$, and $\\text{df}_2 = 44-1$. We will use the \"qf\" function which stands for \"quantile from an $F$ distribution\". We will use the \"lower.tail = FALSE\" function to look for the quantile that gives us a right tailed probability for $\\alpha$: "
   ]
  },
  {
   "cell_type": "code",
   "execution_count": null,
   "metadata": {},
   "outputs": [],
   "source": [
    "qf(0.10, df1 = 10 - 1, df2 = 44 - 1, lower.tail = FALSE)"
   ]
  },
  {
   "cell_type": "markdown",
   "metadata": {},
   "source": [
    "**Question for you.** Please state the rejection rule for this test in a new markdown cell below. "
   ]
  },
  {
   "cell_type": "markdown",
   "metadata": {},
   "source": [
    "**Question for you.** Now that you have a set of hypotheses, a rejection rule, and a test statistic, what is the conclusion of this test. Please answer below in a new markdown cell. "
   ]
  },
  {
   "cell_type": "markdown",
   "metadata": {},
   "source": [
    "Now, to compute a p-value or the level of significance for this test, we will look for $P(F>F^*)$. To do this we can use the \"pf\" function (\"probability from an $F$ distribution\"), with the correct degrees of freedom and using \"lower.tail = FALSE\" to get the right-tailed probability:"
   ]
  },
  {
   "cell_type": "code",
   "execution_count": 16,
   "metadata": {},
   "outputs": [
    {
     "data": {
      "text/html": [
       "0.0672343291108693"
      ],
      "text/latex": [
       "0.0672343291108693"
      ],
      "text/markdown": [
       "0.0672343291108693"
      ],
      "text/plain": [
       "[1] 0.06723433"
      ]
     },
     "metadata": {},
     "output_type": "display_data"
    }
   ],
   "source": [
    "pf(0.09311667 / 0.04730883, df1 = 10 - 1, df2 = 44 - 1, lower.tail = FALSE)"
   ]
  },
  {
   "cell_type": "markdown",
   "metadata": {},
   "source": [
    "## 1.2) Hypothesis test involving two population variances by hand:\n",
    "As you might expect, we can do all of the work we did in 1.1 using just one function in R \"var.test\". To use this function we will want to specify an \"x\" corresponding to the first population and a \"y\" corresponding to the second population. We will also have to specify what kind of alternative hypothesis we are posing. In this case, $H_a: \\sigma_1^2 > \\sigma_2^2$, which means we will specify 'alternative = \"greater\"'. There is one other thing to note: when we specify our measurements \"x\" and \"y\", we need them to a be a simple list of numbers. So we will use \"[]\" notation to subset our data by Sex. To see how it works, please run the following two lines before running the code with \"var.test\": "
   ]
  },
  {
   "cell_type": "code",
   "execution_count": 18,
   "metadata": {},
   "outputs": [
    {
     "data": {
      "text/html": [
       "<ol class=list-inline>\n",
       "\t<li>7.13</li>\n",
       "\t<li>6.5</li>\n",
       "\t<li>6.4</li>\n",
       "\t<li>6.53</li>\n",
       "\t<li>6.58</li>\n",
       "\t<li>6.63</li>\n",
       "\t<li>7.11</li>\n",
       "\t<li>7.04</li>\n",
       "\t<li>7</li>\n",
       "\t<li>7.15</li>\n",
       "\t<li>6.76</li>\n",
       "\t<li>6.96</li>\n",
       "\t<li>7.14</li>\n",
       "\t<li>7.21</li>\n",
       "\t<li>7.25</li>\n",
       "\t<li>7.18</li>\n",
       "\t<li>7.12</li>\n",
       "\t<li>6.55</li>\n",
       "\t<li>7.18</li>\n",
       "\t<li>7.05</li>\n",
       "\t<li>6.59</li>\n",
       "\t<li>6.88</li>\n",
       "\t<li>6.94</li>\n",
       "\t<li>6.85</li>\n",
       "\t<li>6.59</li>\n",
       "\t<li>6.6</li>\n",
       "\t<li>6.98</li>\n",
       "\t<li>6.68</li>\n",
       "\t<li>7.07</li>\n",
       "\t<li>7.21</li>\n",
       "\t<li>6.88</li>\n",
       "\t<li>7.01</li>\n",
       "\t<li>7.02</li>\n",
       "\t<li>6.69</li>\n",
       "\t<li>6.9</li>\n",
       "\t<li>6.76</li>\n",
       "\t<li>6.3</li>\n",
       "\t<li>6.64</li>\n",
       "\t<li>6.81</li>\n",
       "\t<li>6.87</li>\n",
       "\t<li>6.97</li>\n",
       "\t<li>6.62</li>\n",
       "\t<li>7.03</li>\n",
       "\t<li>6.61</li>\n",
       "\t<li>6.99</li>\n",
       "\t<li>6.6</li>\n",
       "\t<li>6.86</li>\n",
       "\t<li>7.1</li>\n",
       "\t<li>6.79</li>\n",
       "\t<li>7.02</li>\n",
       "\t<li>6.89</li>\n",
       "\t<li>6.83</li>\n",
       "\t<li>6.97</li>\n",
       "\t<li>6.76</li>\n",
       "</ol>\n"
      ],
      "text/latex": [
       "\\begin{enumerate*}\n",
       "\\item 7.13\n",
       "\\item 6.5\n",
       "\\item 6.4\n",
       "\\item 6.53\n",
       "\\item 6.58\n",
       "\\item 6.63\n",
       "\\item 7.11\n",
       "\\item 7.04\n",
       "\\item 7\n",
       "\\item 7.15\n",
       "\\item 6.76\n",
       "\\item 6.96\n",
       "\\item 7.14\n",
       "\\item 7.21\n",
       "\\item 7.25\n",
       "\\item 7.18\n",
       "\\item 7.12\n",
       "\\item 6.55\n",
       "\\item 7.18\n",
       "\\item 7.05\n",
       "\\item 6.59\n",
       "\\item 6.88\n",
       "\\item 6.94\n",
       "\\item 6.85\n",
       "\\item 6.59\n",
       "\\item 6.6\n",
       "\\item 6.98\n",
       "\\item 6.68\n",
       "\\item 7.07\n",
       "\\item 7.21\n",
       "\\item 6.88\n",
       "\\item 7.01\n",
       "\\item 7.02\n",
       "\\item 6.69\n",
       "\\item 6.9\n",
       "\\item 6.76\n",
       "\\item 6.3\n",
       "\\item 6.64\n",
       "\\item 6.81\n",
       "\\item 6.87\n",
       "\\item 6.97\n",
       "\\item 6.62\n",
       "\\item 7.03\n",
       "\\item 6.61\n",
       "\\item 6.99\n",
       "\\item 6.6\n",
       "\\item 6.86\n",
       "\\item 7.1\n",
       "\\item 6.79\n",
       "\\item 7.02\n",
       "\\item 6.89\n",
       "\\item 6.83\n",
       "\\item 6.97\n",
       "\\item 6.76\n",
       "\\end{enumerate*}\n"
      ],
      "text/markdown": [
       "1. 7.13\n",
       "2. 6.5\n",
       "3. 6.4\n",
       "4. 6.53\n",
       "5. 6.58\n",
       "6. 6.63\n",
       "7. 7.11\n",
       "8. 7.04\n",
       "9. 7\n",
       "10. 7.15\n",
       "11. 6.76\n",
       "12. 6.96\n",
       "13. 7.14\n",
       "14. 7.21\n",
       "15. 7.25\n",
       "16. 7.18\n",
       "17. 7.12\n",
       "18. 6.55\n",
       "19. 7.18\n",
       "20. 7.05\n",
       "21. 6.59\n",
       "22. 6.88\n",
       "23. 6.94\n",
       "24. 6.85\n",
       "25. 6.59\n",
       "26. 6.6\n",
       "27. 6.98\n",
       "28. 6.68\n",
       "29. 7.07\n",
       "30. 7.21\n",
       "31. 6.88\n",
       "32. 7.01\n",
       "33. 7.02\n",
       "34. 6.69\n",
       "35. 6.9\n",
       "36. 6.76\n",
       "37. 6.3\n",
       "38. 6.64\n",
       "39. 6.81\n",
       "40. 6.87\n",
       "41. 6.97\n",
       "42. 6.62\n",
       "43. 7.03\n",
       "44. 6.61\n",
       "45. 6.99\n",
       "46. 6.6\n",
       "47. 6.86\n",
       "48. 7.1\n",
       "49. 6.79\n",
       "50. 7.02\n",
       "51. 6.89\n",
       "52. 6.83\n",
       "53. 6.97\n",
       "54. 6.76\n",
       "\n",
       "\n"
      ],
      "text/plain": [
       " [1] 7.13 6.50 6.40 6.53 6.58 6.63 7.11 7.04 7.00 7.15 6.76 6.96 7.14 7.21 7.25\n",
       "[16] 7.18 7.12 6.55 7.18 7.05 6.59 6.88 6.94 6.85 6.59 6.60 6.98 6.68 7.07 7.21\n",
       "[31] 6.88 7.01 7.02 6.69 6.90 6.76 6.30 6.64 6.81 6.87 6.97 6.62 7.03 6.61 6.99\n",
       "[46] 6.60 6.86 7.10 6.79 7.02 6.89 6.83 6.97 6.76"
      ]
     },
     "metadata": {},
     "output_type": "display_data"
    }
   ],
   "source": [
    "BrainpH$pH"
   ]
  },
  {
   "cell_type": "code",
   "execution_count": 19,
   "metadata": {},
   "outputs": [
    {
     "data": {
      "text/html": [
       "<ol class=list-inline>\n",
       "\t<li>7.11</li>\n",
       "\t<li>7.21</li>\n",
       "\t<li>6.55</li>\n",
       "\t<li>7.05</li>\n",
       "\t<li>6.6</li>\n",
       "\t<li>7.21</li>\n",
       "\t<li>6.9</li>\n",
       "\t<li>6.3</li>\n",
       "\t<li>6.99</li>\n",
       "\t<li>6.83</li>\n",
       "</ol>\n"
      ],
      "text/latex": [
       "\\begin{enumerate*}\n",
       "\\item 7.11\n",
       "\\item 7.21\n",
       "\\item 6.55\n",
       "\\item 7.05\n",
       "\\item 6.6\n",
       "\\item 7.21\n",
       "\\item 6.9\n",
       "\\item 6.3\n",
       "\\item 6.99\n",
       "\\item 6.83\n",
       "\\end{enumerate*}\n"
      ],
      "text/markdown": [
       "1. 7.11\n",
       "2. 7.21\n",
       "3. 6.55\n",
       "4. 7.05\n",
       "5. 6.6\n",
       "6. 7.21\n",
       "7. 6.9\n",
       "8. 6.3\n",
       "9. 6.99\n",
       "10. 6.83\n",
       "\n",
       "\n"
      ],
      "text/plain": [
       " [1] 7.11 7.21 6.55 7.05 6.60 7.21 6.90 6.30 6.99 6.83"
      ]
     },
     "metadata": {},
     "output_type": "display_data"
    }
   ],
   "source": [
    "BrainpH$pH[BrainpH$Sex == \"F\"]"
   ]
  },
  {
   "cell_type": "code",
   "execution_count": 17,
   "metadata": {},
   "outputs": [
    {
     "data": {
      "text/plain": [
       "\n",
       "\tF test to compare two variances\n",
       "\n",
       "data:  BrainpH$pH[BrainpH$Sex == \"F\"] and BrainpH$pH[BrainpH$Sex == \"M\"]\n",
       "F = 1.9683, num df = 9, denom df = 43, p-value = 0.06723\n",
       "alternative hypothesis: true ratio of variances is greater than 1\n",
       "95 percent confidence interval:\n",
       " 0.9344956       Inf\n",
       "sample estimates:\n",
       "ratio of variances \n",
       "          1.968273 \n"
      ]
     },
     "metadata": {},
     "output_type": "display_data"
    }
   ],
   "source": [
    "var.test(x = BrainpH$pH[BrainpH$Sex == \"F\"], y = BrainpH$pH[BrainpH$Sex == \"M\"], alternative = \"greater\")"
   ]
  },
  {
   "cell_type": "markdown",
   "metadata": {},
   "source": [
    "## 1.3) A confidence interval for the ratio of population variances \"by hand\": \n",
    "Now, let's determine a confidence interval for the ratio of the population variances (of brain pH) between females and males. We will continue to have females be Population 1 and males to be Population 2. Let's determine a 90% confidence interval for this ratio. Our first step is going to be to determine $F_U = F_{\\alpha / 2, \\text{df}_2, \\text{df}_1}$. This one will be easy. We will use the \"qf\" function to look for the quantile that gives us a right-tailed probability of $\\alpha / 2$. To make sure we get the quantile for the right-tailed probability we will use \"lower.tail = FALSE\":"
   ]
  },
  {
   "cell_type": "code",
   "execution_count": 20,
   "metadata": {},
   "outputs": [
    {
     "data": {
      "text/html": [
       "2.81791814756351"
      ],
      "text/latex": [
       "2.81791814756351"
      ],
      "text/markdown": [
       "2.81791814756351"
      ],
      "text/plain": [
       "[1] 2.817918"
      ]
     },
     "metadata": {},
     "output_type": "display_data"
    }
   ],
   "source": [
    "qf(0.10 / 2, 44 - 1, 10 - 1, lower.tail = FALSE)"
   ]
  },
  {
   "cell_type": "markdown",
   "metadata": {},
   "source": [
    "Okay, now to find $F_L$ is a bit more difficult. In the lecture we discussed that to use the textbook appendix tables, we will have to use the following equation: $F_L = F_{1-\\alpha / 2, \\text{df}_2, \\text{df}_1} = 1 / F_{\\alpha / 2, \\text{df}_1, \\text{df}_2}$. So here we will find $1 / F_{\\alpha / 2, \\text{df}_1, \\text{df}_2}$:"
   ]
  },
  {
   "cell_type": "code",
   "execution_count": 21,
   "metadata": {},
   "outputs": [
    {
     "data": {
      "text/html": [
       "0.474779583127917"
      ],
      "text/latex": [
       "0.474779583127917"
      ],
      "text/markdown": [
       "0.474779583127917"
      ],
      "text/plain": [
       "[1] 0.4747796"
      ]
     },
     "metadata": {},
     "output_type": "display_data"
    }
   ],
   "source": [
    "1 / qf(0.10 / 2, 10 - 1, 44 - 1, lower.tail = FALSE)"
   ]
  },
  {
   "cell_type": "markdown",
   "metadata": {},
   "source": [
    "However, unlike the textbook appendix tables, we can find any value from the $F$ distribution using R, so we could have asked for $F_{1-\\alpha / 2, \\text{df}_2, \\text{df}_1}$ directly: "
   ]
  },
  {
   "cell_type": "code",
   "execution_count": 23,
   "metadata": {},
   "outputs": [
    {
     "data": {
      "text/html": [
       "0.474779583127917"
      ],
      "text/latex": [
       "0.474779583127917"
      ],
      "text/markdown": [
       "0.474779583127917"
      ],
      "text/plain": [
       "[1] 0.4747796"
      ]
     },
     "metadata": {},
     "output_type": "display_data"
    }
   ],
   "source": [
    "qf(1 - 0.10 / 2, 44 - 1, 10 - 1, lower.tail = FALSE)"
   ]
  },
  {
   "cell_type": "markdown",
   "metadata": {},
   "source": [
    "**Question for you.** What are the values of $F_L$ and $F_U$. Please answer in a new markdown cell below. "
   ]
  },
  {
   "cell_type": "markdown",
   "metadata": {},
   "source": [
    "Now we are ready to determine the 90% confidence interval for the ratio of population variances. We will use the formula $\\left(\\frac{s_1^2}{s_2^2} F_L, \\frac{s_1^2}{s_2^2}F_U \\right)$ :"
   ]
  },
  {
   "cell_type": "code",
   "execution_count": 24,
   "metadata": {},
   "outputs": [
    {
     "data": {
      "text/html": [
       "0.934495606102704"
      ],
      "text/latex": [
       "0.934495606102704"
      ],
      "text/markdown": [
       "0.934495606102704"
      ],
      "text/plain": [
       "[1] 0.9344956"
      ]
     },
     "metadata": {},
     "output_type": "display_data"
    }
   ],
   "source": [
    "0.09311667 / 0.04730883 * qf(1 - 0.10 / 2, 44 - 1, 10 - 1, lower.tail = FALSE)"
   ]
  },
  {
   "cell_type": "code",
   "execution_count": 25,
   "metadata": {},
   "outputs": [
    {
     "data": {
      "text/html": [
       "5.54643085093592"
      ],
      "text/latex": [
       "5.54643085093592"
      ],
      "text/markdown": [
       "5.54643085093592"
      ],
      "text/plain": [
       "[1] 5.546431"
      ]
     },
     "metadata": {},
     "output_type": "display_data"
    }
   ],
   "source": [
    "0.09311667 / 0.04730883 * qf(0.10 / 2, 44 - 1, 10 - 1, lower.tail = FALSE)"
   ]
  },
  {
   "cell_type": "markdown",
   "metadata": {},
   "source": [
    "**Question for you**. What is the 90% confidence interval for the ratio of population variances. Please answer in a new markdown cell below. "
   ]
  },
  {
   "cell_type": "markdown",
   "metadata": {},
   "source": [
    "## 1.4) A CI for the ratio of population variances using software\n",
    "Now we can use the \"var.test\" function again for determining a confidence interval. We will specify 'alternative = \"two.sided\"' so that we get a confidence interval that has symmetric Type I error probabilities on the left and right hand side (like all the confidence intervals we make in this class. Since we want a 90% confidence interval we will specify \"conf.level = 0.90\": "
   ]
  },
  {
   "cell_type": "code",
   "execution_count": 26,
   "metadata": {},
   "outputs": [
    {
     "data": {
      "text/plain": [
       "\n",
       "\tF test to compare two variances\n",
       "\n",
       "data:  BrainpH$pH[BrainpH$Sex == \"F\"] and BrainpH$pH[BrainpH$Sex == \"M\"]\n",
       "F = 1.9683, num df = 9, denom df = 43, p-value = 0.1345\n",
       "alternative hypothesis: true ratio of variances is not equal to 1\n",
       "90 percent confidence interval:\n",
       " 0.9344956 5.5464310\n",
       "sample estimates:\n",
       "ratio of variances \n",
       "          1.968273 \n"
      ]
     },
     "metadata": {},
     "output_type": "display_data"
    }
   ],
   "source": [
    "var.test(BrainpH$pH[BrainpH$Sex == \"F\"], BrainpH$pH[BrainpH$Sex == \"M\"], \n",
    "         alternative = \"two.sided\", conf.level = 0.90)"
   ]
  },
  {
   "cell_type": "markdown",
   "metadata": {},
   "source": [
    "**Question for you.** Now, please determine an 80% confidence interval for the ratio of population variances by copying, pasting, and modifying the code from above in a new code cell below. "
   ]
  },
  {
   "cell_type": "markdown",
   "metadata": {},
   "source": [
    "**Question for you.** What value of the ratio of population variances would correspond to the variances being equal between the two groups? Is this value contained in the 90% confidence interval? Is this value contained in the 80% confidence interval? Which one of these intervals agrees with the result of the hypothesis test? Please answer these questions in a new markdown cell below. "
   ]
  },
  {
   "cell_type": "markdown",
   "metadata": {},
   "source": [
    "# 2) Analysis of Variance Part 1: The overall $F$ test\n",
    "Now in this part of the lab we will change directions and dicuss comparing means between three or more populations. As an example we will analyze the weights of chickens that were fed various types of feed. This data was published in the journal *Biometrika* in 1948. Below, we will load the data using the \"data\" command, and we will also do some sampling from this dataset (this involves the \"group_by\" and \"sample_n\") commands. Feel free to run and ignore this part. Basically, the original data has unbalanced sample sizes (some $n$'s are more than others) and we have not yet discussed how to deal with this case. So we will take 10 observations from each population:"
   ]
  },
  {
   "cell_type": "code",
   "execution_count": 33,
   "metadata": {},
   "outputs": [],
   "source": [
    "data(chickwts)\n",
    "set.seed(3)\n",
    "chickwts <- chickwts %>% group_by(feed) %>% sample_n(10)"
   ]
  },
  {
   "cell_type": "markdown",
   "metadata": {},
   "source": [
    "Okay, now that the data is available to us, let's use the \"head\" function to take a look at the first 6 observations: "
   ]
  },
  {
   "cell_type": "code",
   "execution_count": 34,
   "metadata": {},
   "outputs": [
    {
     "data": {
      "text/html": [
       "<table>\n",
       "<thead><tr><th scope=col>weight</th><th scope=col>feed</th></tr></thead>\n",
       "<tbody>\n",
       "\t<tr><td>404   </td><td>casein</td></tr>\n",
       "\t<tr><td>222   </td><td>casein</td></tr>\n",
       "\t<tr><td>352   </td><td>casein</td></tr>\n",
       "\t<tr><td>260   </td><td>casein</td></tr>\n",
       "\t<tr><td>390   </td><td>casein</td></tr>\n",
       "\t<tr><td>379   </td><td>casein</td></tr>\n",
       "</tbody>\n",
       "</table>\n"
      ],
      "text/latex": [
       "\\begin{tabular}{r|ll}\n",
       " weight & feed\\\\\n",
       "\\hline\n",
       "\t 404    & casein\\\\\n",
       "\t 222    & casein\\\\\n",
       "\t 352    & casein\\\\\n",
       "\t 260    & casein\\\\\n",
       "\t 390    & casein\\\\\n",
       "\t 379    & casein\\\\\n",
       "\\end{tabular}\n"
      ],
      "text/markdown": [
       "\n",
       "| weight | feed |\n",
       "|---|---|\n",
       "| 404    | casein |\n",
       "| 222    | casein |\n",
       "| 352    | casein |\n",
       "| 260    | casein |\n",
       "| 390    | casein |\n",
       "| 379    | casein |\n",
       "\n"
      ],
      "text/plain": [
       "  weight feed  \n",
       "1 404    casein\n",
       "2 222    casein\n",
       "3 352    casein\n",
       "4 260    casein\n",
       "5 390    casein\n",
       "6 379    casein"
      ]
     },
     "metadata": {},
     "output_type": "display_data"
    }
   ],
   "source": [
    "head(chickwts)"
   ]
  },
  {
   "cell_type": "markdown",
   "metadata": {},
   "source": [
    "From that you can observe that one of the types of feeds for these chickens was \"horsebean\". Let's take a look at the other types of feed that were included in this experiment:"
   ]
  },
  {
   "cell_type": "code",
   "execution_count": 35,
   "metadata": {},
   "outputs": [
    {
     "data": {
      "text/plain": [
       "\n",
       "   casein horsebean   linseed  meatmeal   soybean sunflower \n",
       "       10        10        10        10        10        10 "
      ]
     },
     "metadata": {},
     "output_type": "display_data"
    }
   ],
   "source": [
    "table(chickwts$feed)"
   ]
  },
  {
   "cell_type": "markdown",
   "metadata": {},
   "source": [
    "Before we discuss conducting an Analysis of Variance, let's take a look at the weight data from one of the populations of chickens (that was fed linseed)\". Let's determine if these weights appear to be approximately normal. Please run the code below to make a Q-Q plot of the data: "
   ]
  },
  {
   "cell_type": "code",
   "execution_count": 36,
   "metadata": {},
   "outputs": [
    {
     "data": {
      "image/png": "[encoded data removed]",
      "text/plain": [
       "Plot with title \"Normal Q-Q Plot\""
      ]
     },
     "metadata": {},
     "output_type": "display_data"
    }
   ],
   "source": [
    "qqnorm(chickwts$weight[chickwts$feed == \"linseed\"])\n",
    "qqline(chickwts$weight[chickwts$feed == \"linseed\"])"
   ]
  },
  {
   "cell_type": "markdown",
   "metadata": {},
   "source": [
    "**Question for you.** Based on the above Q-Q plot, would you say that the data is approximately normally distributed? Please answer below in a markdown cell."
   ]
  },
  {
   "cell_type": "markdown",
   "metadata": {},
   "source": [
    "**Question for you**. Imagine that you want to determine if there is evidence that the chicken weights depends on the type of feed that is given to the chickens. Below, please explain what your null and alternative hypotheses would be for which we will use an overall $F$ test. "
   ]
  },
  {
   "cell_type": "markdown",
   "metadata": {},
   "source": [
    "Before we formally conduct an ANOVA $F$ test, let's take a look at the distribution of the weights for each sample with a different type of feed. Below we will make a boxplot that has feed on the horizontal axis (x), weight on the vertical axis (y), and is also collored (fill) inside by the feed type. "
   ]
  },
  {
   "cell_type": "code",
   "execution_count": 44,
   "metadata": {},
   "outputs": [
    {
     "data": {
      "image/png": "[encoded data removed]",
      "text/plain": [
       "plot without title"
      ]
     },
     "metadata": {},
     "output_type": "display_data"
    }
   ],
   "source": [
    "ggplot(chickwts, aes(x = feed, fill = feed, y = weight)) + geom_boxplot() + theme_bw()"
   ]
  },
  {
   "cell_type": "markdown",
   "metadata": {},
   "source": [
    "Since our ANOVA $F$ test involves population means we might want to add the means within each sample to the boxplot. Below, we will add the means as red diamonds. Also in this version, we will add the \"alpha = .5\" to the geom_boxplot layer to make the color more translucent. Art!"
   ]
  },
  {
   "cell_type": "code",
   "execution_count": 43,
   "metadata": {},
   "outputs": [
    {
     "data": {
      "image/png": "[encoded data removed]",
      "text/plain": [
       "plot without title"
      ]
     },
     "metadata": {},
     "output_type": "display_data"
    }
   ],
   "source": [
    "ggplot(chickwts, aes(x = feed, fill = feed, y = weight)) + geom_boxplot(alpha = .5) + \n",
    "  stat_summary(fun.y = mean, colour = \"darkred\", geom = \"point\", shape = 18, size = 3, show.legend = FALSE) +\n",
    "  theme_bw()"
   ]
  },
  {
   "cell_type": "markdown",
   "metadata": {},
   "source": [
    "**Question for you.** Based on the boxplot with the means shown above, do you think we will find evidence that the mean weight of chickens does depend on the type of feed? Please answer below in a new markdown cell. "
   ]
  },
  {
   "cell_type": "markdown",
   "metadata": {},
   "source": [
    "## 2.1) Conducting an ANOVA $F$ test \"by hand\"\n",
    "Let's assume that we want to conduct an ANOVA to determine if we have sufficient evidence $\\alpha = 0.01$, that the mean chicken weights differ by feed type. We have a long process to conduct an ANOVA $F$ test \"by hand\". Once we have specified our hypotheses (you have already done this in section #2), we will need to determine a critical value from an $F$ distribution that will give us a rejection rule, and we will need to determine our $F$ test statistic.  Let's start by determining the $F$ test statistic. For this we will need to determine the within-sample sum of squares (SSW) and the sum of squares between samples (SSB). Let's start with SSB first. \n",
    "\n",
    "Remember that for SSB, we use the following: $\\sum_{j = 1}^k n_j (\\bar{y}_{j.} - \\bar{y}_{..} )^2$\n",
    "\n",
    "So we will need to calculate $\\bar{y}_{j.}$ which is the mean weight for each type of feed $j$:"
   ]
  },
  {
   "cell_type": "code",
   "execution_count": 37,
   "metadata": {},
   "outputs": [
    {
     "data": {
      "text/html": [
       "<table>\n",
       "<thead><tr><th scope=col>feed</th><th scope=col>weight</th></tr></thead>\n",
       "<tbody>\n",
       "\t<tr><td>casein   </td><td>323.3    </td></tr>\n",
       "\t<tr><td>horsebean</td><td>160.2    </td></tr>\n",
       "\t<tr><td>linseed  </td><td>224.0    </td></tr>\n",
       "\t<tr><td>meatmeal </td><td>270.2    </td></tr>\n",
       "\t<tr><td>soybean  </td><td>245.4    </td></tr>\n",
       "\t<tr><td>sunflower</td><td>333.0    </td></tr>\n",
       "</tbody>\n",
       "</table>\n"
      ],
      "text/latex": [
       "\\begin{tabular}{r|ll}\n",
       " feed & weight\\\\\n",
       "\\hline\n",
       "\t casein    & 323.3    \\\\\n",
       "\t horsebean & 160.2    \\\\\n",
       "\t linseed   & 224.0    \\\\\n",
       "\t meatmeal  & 270.2    \\\\\n",
       "\t soybean   & 245.4    \\\\\n",
       "\t sunflower & 333.0    \\\\\n",
       "\\end{tabular}\n"
      ],
      "text/markdown": [
       "\n",
       "| feed | weight |\n",
       "|---|---|\n",
       "| casein    | 323.3     |\n",
       "| horsebean | 160.2     |\n",
       "| linseed   | 224.0     |\n",
       "| meatmeal  | 270.2     |\n",
       "| soybean   | 245.4     |\n",
       "| sunflower | 333.0     |\n",
       "\n"
      ],
      "text/plain": [
       "  feed      weight\n",
       "1 casein    323.3 \n",
       "2 horsebean 160.2 \n",
       "3 linseed   224.0 \n",
       "4 meatmeal  270.2 \n",
       "5 soybean   245.4 \n",
       "6 sunflower 333.0 "
      ]
     },
     "metadata": {},
     "output_type": "display_data"
    }
   ],
   "source": [
    "aggregate(weight ~ feed, data = chickwts, mean)"
   ]
  },
  {
   "cell_type": "markdown",
   "metadata": {},
   "source": [
    "Above we can see the means from each group. Now, let's save this set of means as a new \"data.frame\" called \"groupMeans\": "
   ]
  },
  {
   "cell_type": "code",
   "execution_count": 46,
   "metadata": {},
   "outputs": [],
   "source": [
    "groupMeans <- aggregate(weight ~ feed, data = chickwts, mean)"
   ]
  },
  {
   "cell_type": "markdown",
   "metadata": {},
   "source": [
    "Now to determine $\\bar{y}_{..}$, we will need to take the mean of the $\\bar{y}_{j.}$'s: "
   ]
  },
  {
   "cell_type": "code",
   "execution_count": 47,
   "metadata": {},
   "outputs": [
    {
     "data": {
      "text/html": [
       "259.35"
      ],
      "text/latex": [
       "259.35"
      ],
      "text/markdown": [
       "259.35"
      ],
      "text/plain": [
       "[1] 259.35"
      ]
     },
     "metadata": {},
     "output_type": "display_data"
    }
   ],
   "source": [
    "mean(groupMeans$weight)"
   ]
  },
  {
   "cell_type": "markdown",
   "metadata": {},
   "source": [
    "Now to calculate the $\\bar{y}_{j.} - \\bar{y}_{..} $'s we can do the following:"
   ]
  },
  {
   "cell_type": "code",
   "execution_count": 48,
   "metadata": {},
   "outputs": [
    {
     "data": {
      "text/html": [
       "<ol class=list-inline>\n",
       "\t<li>63.95</li>\n",
       "\t<li>-99.15</li>\n",
       "\t<li>-35.35</li>\n",
       "\t<li>10.85</li>\n",
       "\t<li>-13.95</li>\n",
       "\t<li>73.65</li>\n",
       "</ol>\n"
      ],
      "text/latex": [
       "\\begin{enumerate*}\n",
       "\\item 63.95\n",
       "\\item -99.15\n",
       "\\item -35.35\n",
       "\\item 10.85\n",
       "\\item -13.95\n",
       "\\item 73.65\n",
       "\\end{enumerate*}\n"
      ],
      "text/markdown": [
       "1. 63.95\n",
       "2. -99.15\n",
       "3. -35.35\n",
       "4. 10.85\n",
       "5. -13.95\n",
       "6. 73.65\n",
       "\n",
       "\n"
      ],
      "text/plain": [
       "[1]  63.95 -99.15 -35.35  10.85 -13.95  73.65"
      ]
     },
     "metadata": {},
     "output_type": "display_data"
    }
   ],
   "source": [
    "groupMeans$weight - mean(groupMeans$weight)"
   ]
  },
  {
   "cell_type": "markdown",
   "metadata": {},
   "source": [
    "Okay, so now let's save these $\\bar{y}_{j.} - \\bar{y}_{..}$ values as a new column in our \"data.frame\" that had the group means. This will allows us to square them and sum them up later on:"
   ]
  },
  {
   "cell_type": "code",
   "execution_count": 49,
   "metadata": {},
   "outputs": [],
   "source": [
    "groupMeans$meanMinusGrandMean <- groupMeans$weight - mean(groupMeans$weight)"
   ]
  },
  {
   "cell_type": "markdown",
   "metadata": {},
   "source": [
    "Okay, let's pause here and see what this \"data.frame\" looks like:"
   ]
  },
  {
   "cell_type": "code",
   "execution_count": 51,
   "metadata": {},
   "outputs": [
    {
     "data": {
      "text/html": [
       "<table>\n",
       "<thead><tr><th scope=col>feed</th><th scope=col>weight</th><th scope=col>meanMinusGrandMean</th></tr></thead>\n",
       "<tbody>\n",
       "\t<tr><td>casein   </td><td>323.3    </td><td> 63.95   </td></tr>\n",
       "\t<tr><td>horsebean</td><td>160.2    </td><td>-99.15   </td></tr>\n",
       "\t<tr><td>linseed  </td><td>224.0    </td><td>-35.35   </td></tr>\n",
       "\t<tr><td>meatmeal </td><td>270.2    </td><td> 10.85   </td></tr>\n",
       "\t<tr><td>soybean  </td><td>245.4    </td><td>-13.95   </td></tr>\n",
       "\t<tr><td>sunflower</td><td>333.0    </td><td> 73.65   </td></tr>\n",
       "</tbody>\n",
       "</table>\n"
      ],
      "text/latex": [
       "\\begin{tabular}{r|lll}\n",
       " feed & weight & meanMinusGrandMean\\\\\n",
       "\\hline\n",
       "\t casein    & 323.3     &  63.95   \\\\\n",
       "\t horsebean & 160.2     & -99.15   \\\\\n",
       "\t linseed   & 224.0     & -35.35   \\\\\n",
       "\t meatmeal  & 270.2     &  10.85   \\\\\n",
       "\t soybean   & 245.4     & -13.95   \\\\\n",
       "\t sunflower & 333.0     &  73.65   \\\\\n",
       "\\end{tabular}\n"
      ],
      "text/markdown": [
       "\n",
       "| feed | weight | meanMinusGrandMean |\n",
       "|---|---|---|\n",
       "| casein    | 323.3     |  63.95    |\n",
       "| horsebean | 160.2     | -99.15    |\n",
       "| linseed   | 224.0     | -35.35    |\n",
       "| meatmeal  | 270.2     |  10.85    |\n",
       "| soybean   | 245.4     | -13.95    |\n",
       "| sunflower | 333.0     |  73.65    |\n",
       "\n"
      ],
      "text/plain": [
       "  feed      weight meanMinusGrandMean\n",
       "1 casein    323.3   63.95            \n",
       "2 horsebean 160.2  -99.15            \n",
       "3 linseed   224.0  -35.35            \n",
       "4 meatmeal  270.2   10.85            \n",
       "5 soybean   245.4  -13.95            \n",
       "6 sunflower 333.0   73.65            "
      ]
     },
     "metadata": {},
     "output_type": "display_data"
    }
   ],
   "source": [
    "groupMeans"
   ]
  },
  {
   "cell_type": "markdown",
   "metadata": {},
   "source": [
    "Okay, now let's add a new column that will have the $(\\bar{y}_{j.} - \\bar{y}_{..} )^2$ values:"
   ]
  },
  {
   "cell_type": "code",
   "execution_count": 52,
   "metadata": {},
   "outputs": [],
   "source": [
    "groupMeans$meanMinusGrandMeanSq <- groupMeans$meanMinusGrandMean^2"
   ]
  },
  {
   "cell_type": "markdown",
   "metadata": {},
   "source": [
    "And let's take a look at this \"data.frame\" now:"
   ]
  },
  {
   "cell_type": "code",
   "execution_count": 53,
   "metadata": {},
   "outputs": [
    {
     "data": {
      "text/html": [
       "<table>\n",
       "<thead><tr><th scope=col>feed</th><th scope=col>weight</th><th scope=col>meanMinusGrandMean</th><th scope=col>meanMinusGrandMeanSq</th></tr></thead>\n",
       "<tbody>\n",
       "\t<tr><td>casein   </td><td>323.3    </td><td> 63.95   </td><td>4089.6025</td></tr>\n",
       "\t<tr><td>horsebean</td><td>160.2    </td><td>-99.15   </td><td>9830.7225</td></tr>\n",
       "\t<tr><td>linseed  </td><td>224.0    </td><td>-35.35   </td><td>1249.6225</td></tr>\n",
       "\t<tr><td>meatmeal </td><td>270.2    </td><td> 10.85   </td><td> 117.7225</td></tr>\n",
       "\t<tr><td>soybean  </td><td>245.4    </td><td>-13.95   </td><td> 194.6025</td></tr>\n",
       "\t<tr><td>sunflower</td><td>333.0    </td><td> 73.65   </td><td>5424.3225</td></tr>\n",
       "</tbody>\n",
       "</table>\n"
      ],
      "text/latex": [
       "\\begin{tabular}{r|llll}\n",
       " feed & weight & meanMinusGrandMean & meanMinusGrandMeanSq\\\\\n",
       "\\hline\n",
       "\t casein    & 323.3     &  63.95    & 4089.6025\\\\\n",
       "\t horsebean & 160.2     & -99.15    & 9830.7225\\\\\n",
       "\t linseed   & 224.0     & -35.35    & 1249.6225\\\\\n",
       "\t meatmeal  & 270.2     &  10.85    &  117.7225\\\\\n",
       "\t soybean   & 245.4     & -13.95    &  194.6025\\\\\n",
       "\t sunflower & 333.0     &  73.65    & 5424.3225\\\\\n",
       "\\end{tabular}\n"
      ],
      "text/markdown": [
       "\n",
       "| feed | weight | meanMinusGrandMean | meanMinusGrandMeanSq |\n",
       "|---|---|---|---|\n",
       "| casein    | 323.3     |  63.95    | 4089.6025 |\n",
       "| horsebean | 160.2     | -99.15    | 9830.7225 |\n",
       "| linseed   | 224.0     | -35.35    | 1249.6225 |\n",
       "| meatmeal  | 270.2     |  10.85    |  117.7225 |\n",
       "| soybean   | 245.4     | -13.95    |  194.6025 |\n",
       "| sunflower | 333.0     |  73.65    | 5424.3225 |\n",
       "\n"
      ],
      "text/plain": [
       "  feed      weight meanMinusGrandMean meanMinusGrandMeanSq\n",
       "1 casein    323.3   63.95             4089.6025           \n",
       "2 horsebean 160.2  -99.15             9830.7225           \n",
       "3 linseed   224.0  -35.35             1249.6225           \n",
       "4 meatmeal  270.2   10.85              117.7225           \n",
       "5 soybean   245.4  -13.95              194.6025           \n",
       "6 sunflower 333.0   73.65             5424.3225           "
      ]
     },
     "metadata": {},
     "output_type": "display_data"
    }
   ],
   "source": [
    "groupMeans"
   ]
  },
  {
   "cell_type": "markdown",
   "metadata": {},
   "source": [
    "We now have everything that we need to compute $\\text{SSB} = \\sum_{j = 1}^k n_j (\\bar{y}_{j.} - \\bar{y}_{..} )^2$:"
   ]
  },
  {
   "cell_type": "code",
   "execution_count": 54,
   "metadata": {},
   "outputs": [
    {
     "data": {
      "text/html": [
       "209065.95"
      ],
      "text/latex": [
       "209065.95"
      ],
      "text/markdown": [
       "209065.95"
      ],
      "text/plain": [
       "[1] 209066"
      ]
     },
     "metadata": {},
     "output_type": "display_data"
    }
   ],
   "source": [
    "sum(10 * groupMeans$meanMinusGrandMeanSq)"
   ]
  },
  {
   "cell_type": "code",
   "execution_count": null,
   "metadata": {},
   "outputs": [],
   "source": [
    "sum(10 * groupMeans$meanMinusGrandMeanSq) / (6-1)"
   ]
  },
  {
   "cell_type": "markdown",
   "metadata": {},
   "source": [
    "Now that we have SSB, let's calculate SSW. To do this we will use the formula: $(n_1 - 1) s_1^2 + (n_2 - 1) s_2^2 + (n_3 - 1) s_3^2 + ... + (n_k - 1) s_k^2$. We can use the \"aggregate\" function as we did before to calculate the sample variance for each group: "
   ]
  },
  {
   "cell_type": "code",
   "execution_count": 59,
   "metadata": {},
   "outputs": [
    {
     "data": {
      "text/html": [
       "<table>\n",
       "<thead><tr><th scope=col>feed</th><th scope=col>weight</th></tr></thead>\n",
       "<tbody>\n",
       "\t<tr><td>casein   </td><td>5062.900 </td></tr>\n",
       "\t<tr><td>horsebean</td><td>1491.956 </td></tr>\n",
       "\t<tr><td>linseed  </td><td>2561.778 </td></tr>\n",
       "\t<tr><td>meatmeal </td><td>4129.956 </td></tr>\n",
       "\t<tr><td>soybean  </td><td>2875.822 </td></tr>\n",
       "\t<tr><td>sunflower</td><td>2774.444 </td></tr>\n",
       "</tbody>\n",
       "</table>\n"
      ],
      "text/latex": [
       "\\begin{tabular}{r|ll}\n",
       " feed & weight\\\\\n",
       "\\hline\n",
       "\t casein    & 5062.900 \\\\\n",
       "\t horsebean & 1491.956 \\\\\n",
       "\t linseed   & 2561.778 \\\\\n",
       "\t meatmeal  & 4129.956 \\\\\n",
       "\t soybean   & 2875.822 \\\\\n",
       "\t sunflower & 2774.444 \\\\\n",
       "\\end{tabular}\n"
      ],
      "text/markdown": [
       "\n",
       "| feed | weight |\n",
       "|---|---|\n",
       "| casein    | 5062.900  |\n",
       "| horsebean | 1491.956  |\n",
       "| linseed   | 2561.778  |\n",
       "| meatmeal  | 4129.956  |\n",
       "| soybean   | 2875.822  |\n",
       "| sunflower | 2774.444  |\n",
       "\n"
      ],
      "text/plain": [
       "  feed      weight  \n",
       "1 casein    5062.900\n",
       "2 horsebean 1491.956\n",
       "3 linseed   2561.778\n",
       "4 meatmeal  4129.956\n",
       "5 soybean   2875.822\n",
       "6 sunflower 2774.444"
      ]
     },
     "metadata": {},
     "output_type": "display_data"
    }
   ],
   "source": [
    "aggregate(weight ~ feed, data = chickwts, FUN = var)"
   ]
  },
  {
   "cell_type": "markdown",
   "metadata": {},
   "source": [
    "Okay, let's save the above \"data.frame\" that has all of the sample variances (of chicken weights) by feed as \"varByGroup\":"
   ]
  },
  {
   "cell_type": "code",
   "execution_count": 60,
   "metadata": {},
   "outputs": [],
   "source": [
    "varByGroup <- aggregate(weight ~ feed, data = chickwts, FUN = var)"
   ]
  },
  {
   "cell_type": "markdown",
   "metadata": {},
   "source": [
    "Okay, no to find SSW, we need to multiply each one of these sample variances by the relevant sample size minus 1 (here this is 9 for all groups) and add them all together. We do this below: "
   ]
  },
  {
   "cell_type": "code",
   "execution_count": 61,
   "metadata": {},
   "outputs": [
    {
     "data": {
      "text/html": [
       "170071.7"
      ],
      "text/latex": [
       "170071.7"
      ],
      "text/markdown": [
       "170071.7"
      ],
      "text/plain": [
       "[1] 170071.7"
      ]
     },
     "metadata": {},
     "output_type": "display_data"
    }
   ],
   "source": [
    "sum(9 * varByGroup$weight)"
   ]
  },
  {
   "cell_type": "markdown",
   "metadata": {},
   "source": [
    "**Question for you.** What are the values of SSB and SSW? Please answer below in a new markdown cell. "
   ]
  },
  {
   "cell_type": "markdown",
   "metadata": {},
   "source": [
    "Our next step prior to determining our ANOVA $F$ statistic will be to determine the mean squares, $s_B^2$ and $s_W^2$, by using $s_B^2 = \\frac{\\text{SSB}}{k-1}$ and $s_W^2 = \\frac{SSW}{N-k}$. Below, in separate cells we will calculate each. We will then save them as \"s2b\" and \"s2w\". Please run the next three cells to do this. "
   ]
  },
  {
   "cell_type": "code",
   "execution_count": 67,
   "metadata": {},
   "outputs": [
    {
     "data": {
      "text/html": [
       "41813.19"
      ],
      "text/latex": [
       "41813.19"
      ],
      "text/markdown": [
       "41813.19"
      ],
      "text/plain": [
       "[1] 41813.19"
      ]
     },
     "metadata": {},
     "output_type": "display_data"
    }
   ],
   "source": [
    "209065.95 / (6 - 1)"
   ]
  },
  {
   "cell_type": "code",
   "execution_count": 68,
   "metadata": {},
   "outputs": [
    {
     "data": {
      "text/html": [
       "3149.47592592593"
      ],
      "text/latex": [
       "3149.47592592593"
      ],
      "text/markdown": [
       "3149.47592592593"
      ],
      "text/plain": [
       "[1] 3149.476"
      ]
     },
     "metadata": {},
     "output_type": "display_data"
    }
   ],
   "source": [
    "170071.7 / (60 - 6)"
   ]
  },
  {
   "cell_type": "code",
   "execution_count": 69,
   "metadata": {},
   "outputs": [],
   "source": [
    "s2b <- 209065.95 / (6 - 1)\n",
    "s2w <- 170071.7 / (60 - 6)"
   ]
  },
  {
   "cell_type": "markdown",
   "metadata": {},
   "source": [
    "Great! Now that we have these mean squares we can determine our ANOVA $F$-test statistic: $F^* = s^2_B / s^2_W$:"
   ]
  },
  {
   "cell_type": "code",
   "execution_count": 70,
   "metadata": {},
   "outputs": [
    {
     "data": {
      "text/html": [
       "13.2762373751776"
      ],
      "text/latex": [
       "13.2762373751776"
      ],
      "text/markdown": [
       "13.2762373751776"
      ],
      "text/plain": [
       "[1] 13.27624"
      ]
     },
     "metadata": {},
     "output_type": "display_data"
    }
   ],
   "source": [
    "s2b / s2w"
   ]
  },
  {
   "cell_type": "markdown",
   "metadata": {},
   "source": [
    "Now, we need to determine a critical value, to see if we have evidence that supports rejecting $H_0$. We are going to look for a quantile from the $F$ distribution that has $k-1$ and $N-k$ degrees of freedom. You will notice that these degrees of freedom are the same integers that we divided SSB and SSW by in order to find the mean squares. As an example of how to do this, let's find the quantile from an $F$ distribution with 4 and 40 degrees of freedom that would give us a quantile for a right-tailed probability of 0.025 (please note this is not the quantile we need for our ANOVA):"
   ]
  },
  {
   "cell_type": "code",
   "execution_count": 71,
   "metadata": {},
   "outputs": [
    {
     "data": {
      "text/html": [
       "3.12611416809361"
      ],
      "text/latex": [
       "3.12611416809361"
      ],
      "text/markdown": [
       "3.12611416809361"
      ],
      "text/plain": [
       "[1] 3.126114"
      ]
     },
     "metadata": {},
     "output_type": "display_data"
    }
   ],
   "source": [
    "qf(.025, df1 = 4, df2 = 40, lower.tail = FALSE)"
   ]
  },
  {
   "cell_type": "markdown",
   "metadata": {},
   "source": [
    "**Question for you.** Determine the correct critical value from an $F$ distribution that we need for conducting our overall ANOVA $F$-test. You should copy, paste, and modify the code from above to find this critical value. "
   ]
  },
  {
   "cell_type": "markdown",
   "metadata": {},
   "source": [
    "**Question for you**. Based on your observed test statistic and the critical value corresponding to this test setup, what is your conclusion? In terms of the original problem involving feed type and chicken weights, what is your conclusion? "
   ]
  },
  {
   "cell_type": "markdown",
   "metadata": {},
   "source": [
    "Now, we will determine the level of significance of the test that we have conducted. To do this we will need to determine $P(F \\geq F^*)$. As an example calculation, below you will find $P(F \\geq 10)$ from an $F$ distribution with 4 and 40 degrees of freedom: "
   ]
  },
  {
   "cell_type": "code",
   "execution_count": null,
   "metadata": {},
   "outputs": [],
   "source": [
    "pf(10, 4, 40, lower.tail = FALSE)"
   ]
  },
  {
   "cell_type": "markdown",
   "metadata": {},
   "source": [
    "**Question for you.** Copy, paste, and modify the code from above in a new code cell below to determine the level of significance of the overall ANOVA $F$-test that we have conducted. "
   ]
  },
  {
   "cell_type": "markdown",
   "metadata": {},
   "source": [
    "## 2.2) Conducting an ANOVA $F$-test using software"
   ]
  },
  {
   "cell_type": "markdown",
   "metadata": {},
   "source": [
    "To conducting an ANOVA $F$-test using R is super easy and fun. We will use the \"aov\" function. The first argument to this function is called the formula. This has the following form: \"Response variable ~ Group variable\". So for us, this will be \"weight ~ feed\" to examine if there are differences in the population means of chicken weights by feed type. the next argument is \"data\" which tells R which \"data.frame\" contains these two variables. We wrap the \"aov\" function in another function called \"summary\". What this function does is provide us with a nice summary table from the ANOVA $F$-test, showing us SSB, SSW, the mean squares, the $F^*$ test statistic, and the p-value for the test. Please run the code to see this:"
   ]
  },
  {
   "cell_type": "code",
   "execution_count": 73,
   "metadata": {},
   "outputs": [
    {
     "data": {
      "text/plain": [
       "            Df Sum Sq Mean Sq F value   Pr(>F)    \n",
       "feed         5 209066   41813   13.28 1.92e-08 ***\n",
       "Residuals   54 170072    3149                     \n",
       "---\n",
       "Signif. codes:  0 '***' 0.001 '**' 0.01 '*' 0.05 '.' 0.1 ' ' 1"
      ]
     },
     "metadata": {},
     "output_type": "display_data"
    }
   ],
   "source": [
    "summary(aov(weight ~ feed, data = chickwts))"
   ]
  }
 ],
 "metadata": {
  "kernelspec": {
   "display_name": "R",
   "language": "R",
   "name": "ir"
  },
  "language_info": {
   "codemirror_mode": "r",
   "file_extension": ".r",
   "mimetype": "text/x-r-source",
   "name": "R",
   "pygments_lexer": "r",
   "version": "3.6.1"
  }
 },
 "nbformat": 4,
 "nbformat_minor": 2
}
