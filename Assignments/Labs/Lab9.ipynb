{
 "cells": [
  {
   "cell_type": "markdown",
   "metadata": {},
   "source": [
    "# 0) Instructions:\n",
    "Please complete the workbook below. Some of the calculations are already ready to be \"run\". However, please read the text carefully to find questions that you should answer for credit. Remember that to answer a question in text, you click \"insert\", then \"insert cell below\", switch the input from \"code\" to \"markdown\", type your answer, and finally click the run button to set your text in stone. In a few questions, you will need to do some calculations on your own. Hint: for these calculations you can copy, paste, and modify code that is above the calculation that you need to do. You may work by yourself or in groups of 2. Please remember to put your name on top, remember to save the workbook, and remember to upload to Canvas."
   ]
  },
  {
   "cell_type": "markdown",
   "metadata": {},
   "source": [
    "**Please read** Please run the code below to install the \"DescTools\" package. **Do not proceed until the star goes away! Do not click run twice**!"
   ]
  },
  {
   "cell_type": "code",
   "execution_count": null,
   "metadata": {},
   "outputs": [],
   "source": [
    "install.packages('DescTools', dep = TRUE)"
   ]
  },
  {
   "cell_type": "markdown",
   "metadata": {},
   "source": [
    "**Please read** Please run the code below to install the \"EnvStats\" package. **Do not proceed until the star goes away! Do not click run twice**!"
   ]
  },
  {
   "cell_type": "code",
   "execution_count": null,
   "metadata": {},
   "outputs": [],
   "source": [
    "install.packages('EnvStats', dep = TRUE)"
   ]
  },
  {
   "cell_type": "markdown",
   "metadata": {},
   "source": [
    "**Please read** Please run the code below to install the \"Stat2Data\" package. **Do not proceed until the star goes away! Do not click run twice**!"
   ]
  },
  {
   "cell_type": "code",
   "execution_count": 9,
   "metadata": {},
   "outputs": [
    {
     "name": "stdout",
     "output_type": "stream",
     "text": [
      "package 'Stat2Data' successfully unpacked and MD5 sums checked\n",
      "\n",
      "The downloaded binary packages are in\n",
      "\tC:\\Users\\ptrainor\\AppData\\Local\\Temp\\RtmpSSbEtA\\downloaded_packages\n"
     ]
    }
   ],
   "source": [
    "install.packages('Stat2Data', dep = TRUE)"
   ]
  },
  {
   "cell_type": "code",
   "execution_count": 10,
   "metadata": {},
   "outputs": [],
   "source": [
    "library(DescTools)\n",
    "library(EnvStats)\n",
    "library(tidyverse)\n",
    "library(Stat2Data)\n",
    "options(repr.plot.width = 6, repr.plot.height = 5)"
   ]
  },
  {
   "cell_type": "code",
   "execution_count": 23,
   "metadata": {},
   "outputs": [],
   "source": [
    "data(BrainpH)"
   ]
  },
  {
   "cell_type": "markdown",
   "metadata": {},
   "source": [
    "\"Jun Z. Li et al. (2013), \"Circadian patterns of gene expression in the human brain and disruption in major depressive disorder,\" PNAS, vol 110, no. 24, www.pnas.org/cgi/doi/10.1073/pnas.1305814110\""
   ]
  },
  {
   "cell_type": "code",
   "execution_count": 24,
   "metadata": {},
   "outputs": [
    {
     "data": {
      "text/html": [
       "<table>\n",
       "<thead><tr><th scope=col>pH</th><th scope=col>Sex</th><th scope=col>Ethnicity</th><th scope=col>Age</th><th scope=col>DeathType</th></tr></thead>\n",
       "<tbody>\n",
       "\t<tr><td>7.13           </td><td>M              </td><td>Caucasian      </td><td>64             </td><td>Cardiac        </td></tr>\n",
       "\t<tr><td>6.50           </td><td>M              </td><td>Caucasian      </td><td>63             </td><td>Cardiac        </td></tr>\n",
       "\t<tr><td>6.40           </td><td>M              </td><td>AfricanAmerican</td><td>59             </td><td>Cardiac        </td></tr>\n",
       "\t<tr><td>6.53           </td><td>M              </td><td>Caucasian      </td><td>52             </td><td>Cardiac        </td></tr>\n",
       "\t<tr><td>6.58           </td><td>M              </td><td>Caucasian      </td><td>58             </td><td>Cardiac        </td></tr>\n",
       "\t<tr><td>6.63           </td><td>M              </td><td>Caucasian      </td><td>78             </td><td>Other          </td></tr>\n",
       "</tbody>\n",
       "</table>\n"
      ],
      "text/latex": [
       "\\begin{tabular}{r|lllll}\n",
       " pH & Sex & Ethnicity & Age & DeathType\\\\\n",
       "\\hline\n",
       "\t 7.13            & M               & Caucasian       & 64              & Cardiac        \\\\\n",
       "\t 6.50            & M               & Caucasian       & 63              & Cardiac        \\\\\n",
       "\t 6.40            & M               & AfricanAmerican & 59              & Cardiac        \\\\\n",
       "\t 6.53            & M               & Caucasian       & 52              & Cardiac        \\\\\n",
       "\t 6.58            & M               & Caucasian       & 58              & Cardiac        \\\\\n",
       "\t 6.63            & M               & Caucasian       & 78              & Other          \\\\\n",
       "\\end{tabular}\n"
      ],
      "text/markdown": [
       "\n",
       "| pH | Sex | Ethnicity | Age | DeathType |\n",
       "|---|---|---|---|---|\n",
       "| 7.13            | M               | Caucasian       | 64              | Cardiac         |\n",
       "| 6.50            | M               | Caucasian       | 63              | Cardiac         |\n",
       "| 6.40            | M               | AfricanAmerican | 59              | Cardiac         |\n",
       "| 6.53            | M               | Caucasian       | 52              | Cardiac         |\n",
       "| 6.58            | M               | Caucasian       | 58              | Cardiac         |\n",
       "| 6.63            | M               | Caucasian       | 78              | Other           |\n",
       "\n"
      ],
      "text/plain": [
       "  pH   Sex Ethnicity       Age DeathType\n",
       "1 7.13 M   Caucasian       64  Cardiac  \n",
       "2 6.50 M   Caucasian       63  Cardiac  \n",
       "3 6.40 M   AfricanAmerican 59  Cardiac  \n",
       "4 6.53 M   Caucasian       52  Cardiac  \n",
       "5 6.58 M   Caucasian       58  Cardiac  \n",
       "6 6.63 M   Caucasian       78  Other    "
      ]
     },
     "metadata": {},
     "output_type": "display_data"
    }
   ],
   "source": [
    "head(BrainpH)"
   ]
  },
  {
   "cell_type": "code",
   "execution_count": 25,
   "metadata": {},
   "outputs": [
    {
     "data": {
      "text/html": [
       "<table>\n",
       "<thead><tr><th scope=col>Sex</th><th scope=col>pH</th></tr></thead>\n",
       "<tbody>\n",
       "\t<tr><td>F       </td><td>6.875000</td></tr>\n",
       "\t<tr><td>M       </td><td>6.864318</td></tr>\n",
       "</tbody>\n",
       "</table>\n"
      ],
      "text/latex": [
       "\\begin{tabular}{r|ll}\n",
       " Sex & pH\\\\\n",
       "\\hline\n",
       "\t F        & 6.875000\\\\\n",
       "\t M        & 6.864318\\\\\n",
       "\\end{tabular}\n"
      ],
      "text/markdown": [
       "\n",
       "| Sex | pH |\n",
       "|---|---|\n",
       "| F        | 6.875000 |\n",
       "| M        | 6.864318 |\n",
       "\n"
      ],
      "text/plain": [
       "  Sex pH      \n",
       "1 F   6.875000\n",
       "2 M   6.864318"
      ]
     },
     "metadata": {},
     "output_type": "display_data"
    }
   ],
   "source": [
    "aggregate(pH ~ Sex, data = BrainpH, mean)"
   ]
  },
  {
   "cell_type": "code",
   "execution_count": 31,
   "metadata": {},
   "outputs": [
    {
     "data": {
      "text/html": [
       "<table>\n",
       "<thead><tr><th scope=col>Sex</th><th scope=col>pH</th></tr></thead>\n",
       "<tbody>\n",
       "\t<tr><td>F         </td><td>0.09311667</td></tr>\n",
       "\t<tr><td>M         </td><td>0.04730883</td></tr>\n",
       "</tbody>\n",
       "</table>\n"
      ],
      "text/latex": [
       "\\begin{tabular}{r|ll}\n",
       " Sex & pH\\\\\n",
       "\\hline\n",
       "\t F          & 0.09311667\\\\\n",
       "\t M          & 0.04730883\\\\\n",
       "\\end{tabular}\n"
      ],
      "text/markdown": [
       "\n",
       "| Sex | pH |\n",
       "|---|---|\n",
       "| F          | 0.09311667 |\n",
       "| M          | 0.04730883 |\n",
       "\n"
      ],
      "text/plain": [
       "  Sex pH        \n",
       "1 F   0.09311667\n",
       "2 M   0.04730883"
      ]
     },
     "metadata": {},
     "output_type": "display_data"
    }
   ],
   "source": [
    "aggregate(pH ~ Sex, data = BrainpH, var)"
   ]
  },
  {
   "cell_type": "code",
   "execution_count": 35,
   "metadata": {},
   "outputs": [
    {
     "data": {
      "text/html": [
       "<table>\n",
       "<thead><tr><th scope=col>Sex</th><th scope=col>pH</th></tr></thead>\n",
       "<tbody>\n",
       "\t<tr><td>F </td><td>10</td></tr>\n",
       "\t<tr><td>M </td><td>44</td></tr>\n",
       "</tbody>\n",
       "</table>\n"
      ],
      "text/latex": [
       "\\begin{tabular}{r|ll}\n",
       " Sex & pH\\\\\n",
       "\\hline\n",
       "\t F  & 10\\\\\n",
       "\t M  & 44\\\\\n",
       "\\end{tabular}\n"
      ],
      "text/markdown": [
       "\n",
       "| Sex | pH |\n",
       "|---|---|\n",
       "| F  | 10 |\n",
       "| M  | 44 |\n",
       "\n"
      ],
      "text/plain": [
       "  Sex pH\n",
       "1 F   10\n",
       "2 M   44"
      ]
     },
     "metadata": {},
     "output_type": "display_data"
    }
   ],
   "source": [
    "aggregate(pH ~ Sex, data = BrainpH, length)"
   ]
  },
  {
   "cell_type": "code",
   "execution_count": 32,
   "metadata": {},
   "outputs": [
    {
     "data": {
      "text/html": [
       "1.96827251910478"
      ],
      "text/latex": [
       "1.96827251910478"
      ],
      "text/markdown": [
       "1.96827251910478"
      ],
      "text/plain": [
       "[1] 1.968273"
      ]
     },
     "metadata": {},
     "output_type": "display_data"
    }
   ],
   "source": [
    "0.09311667 / 0.04730883"
   ]
  },
  {
   "cell_type": "code",
   "execution_count": 37,
   "metadata": {},
   "outputs": [
    {
     "data": {
      "text/html": [
       "1.78131976571912"
      ],
      "text/latex": [
       "1.78131976571912"
      ],
      "text/markdown": [
       "1.78131976571912"
      ],
      "text/plain": [
       "[1] 1.78132"
      ]
     },
     "metadata": {},
     "output_type": "display_data"
    }
   ],
   "source": [
    "qf(0.10, df1 = 10 - 1, df2 = 44 - 1, lower.tail = FALSE)"
   ]
  },
  {
   "cell_type": "code",
   "execution_count": 38,
   "metadata": {},
   "outputs": [
    {
     "data": {
      "text/html": [
       "0.0672343291108693"
      ],
      "text/latex": [
       "0.0672343291108693"
      ],
      "text/markdown": [
       "0.0672343291108693"
      ],
      "text/plain": [
       "[1] 0.06723433"
      ]
     },
     "metadata": {},
     "output_type": "display_data"
    }
   ],
   "source": [
    "pf(0.09311667 / 0.04730883, df1 = 10 - 1, df2 = 44 - 1, lower.tail = FALSE)"
   ]
  },
  {
   "cell_type": "code",
   "execution_count": 34,
   "metadata": {},
   "outputs": [
    {
     "data": {
      "text/plain": [
       "\n",
       "\tF test to compare two variances\n",
       "\n",
       "data:  BrainpH$pH[BrainpH$Sex == \"F\"] and BrainpH$pH[BrainpH$Sex == \"M\"]\n",
       "F = 1.9683, num df = 9, denom df = 43, p-value = 0.06723\n",
       "alternative hypothesis: true ratio of variances is greater than 1\n",
       "95 percent confidence interval:\n",
       " 0.9344956       Inf\n",
       "sample estimates:\n",
       "ratio of variances \n",
       "          1.968273 \n"
      ]
     },
     "metadata": {},
     "output_type": "display_data"
    }
   ],
   "source": [
    "var.test(BrainpH$pH[BrainpH$Sex == \"F\"], BrainpH$pH[BrainpH$Sex == \"M\"], alternative = \"greater\")"
   ]
  },
  {
   "cell_type": "code",
   "execution_count": 40,
   "metadata": {},
   "outputs": [
    {
     "data": {
      "text/html": [
       "2.81791814756351"
      ],
      "text/latex": [
       "2.81791814756351"
      ],
      "text/markdown": [
       "2.81791814756351"
      ],
      "text/plain": [
       "[1] 2.817918"
      ]
     },
     "metadata": {},
     "output_type": "display_data"
    }
   ],
   "source": [
    "qf(0.05, 44 - 1, 10 - 1, lower.tail = FALSE)"
   ]
  },
  {
   "cell_type": "code",
   "execution_count": 41,
   "metadata": {},
   "outputs": [
    {
     "data": {
      "text/html": [
       "0.474779583127917"
      ],
      "text/latex": [
       "0.474779583127917"
      ],
      "text/markdown": [
       "0.474779583127917"
      ],
      "text/plain": [
       "[1] 0.4747796"
      ]
     },
     "metadata": {},
     "output_type": "display_data"
    }
   ],
   "source": [
    "qf(1 - 0.05, 44 - 1, 10 - 1, lower.tail = FALSE)"
   ]
  },
  {
   "cell_type": "code",
   "execution_count": 43,
   "metadata": {},
   "outputs": [
    {
     "data": {
      "text/html": [
       "0.934495606102704"
      ],
      "text/latex": [
       "0.934495606102704"
      ],
      "text/markdown": [
       "0.934495606102704"
      ],
      "text/plain": [
       "[1] 0.9344956"
      ]
     },
     "metadata": {},
     "output_type": "display_data"
    }
   ],
   "source": [
    "0.09311667 / 0.04730883 * qf(1 - 0.05, 44 - 1, 10 - 1, lower.tail = FALSE)"
   ]
  },
  {
   "cell_type": "code",
   "execution_count": 44,
   "metadata": {},
   "outputs": [
    {
     "data": {
      "text/html": [
       "5.54643085093592"
      ],
      "text/latex": [
       "5.54643085093592"
      ],
      "text/markdown": [
       "5.54643085093592"
      ],
      "text/plain": [
       "[1] 5.546431"
      ]
     },
     "metadata": {},
     "output_type": "display_data"
    }
   ],
   "source": [
    "0.09311667 / 0.04730883 * qf(0.05, 44 - 1, 10 - 1, lower.tail = FALSE)"
   ]
  },
  {
   "cell_type": "code",
   "execution_count": 47,
   "metadata": {},
   "outputs": [
    {
     "data": {
      "text/plain": [
       "\n",
       "\tF test to compare two variances\n",
       "\n",
       "data:  BrainpH$pH[BrainpH$Sex == \"F\"] and BrainpH$pH[BrainpH$Sex == \"M\"]\n",
       "F = 1.9683, num df = 9, denom df = 43, p-value = 0.1345\n",
       "alternative hypothesis: true ratio of variances is not equal to 1\n",
       "90 percent confidence interval:\n",
       " 0.9344956 5.5464310\n",
       "sample estimates:\n",
       "ratio of variances \n",
       "          1.968273 \n"
      ]
     },
     "metadata": {},
     "output_type": "display_data"
    }
   ],
   "source": [
    "var.test(BrainpH$pH[BrainpH$Sex == \"F\"], BrainpH$pH[BrainpH$Sex == \"M\"], \n",
    "         alternative = \"two.sided\", conf.level = .9)"
   ]
  },
  {
   "cell_type": "code",
   "execution_count": 2,
   "metadata": {},
   "outputs": [],
   "source": [
    "data(chickwts)\n",
    "set.seed(3)\n",
    "chickwts <- chickwts %>% group_by(feed) %>% sample_n(10)"
   ]
  },
  {
   "cell_type": "code",
   "execution_count": null,
   "metadata": {},
   "outputs": [],
   "source": [
    "head(chickwts)"
   ]
  },
  {
   "cell_type": "code",
   "execution_count": null,
   "metadata": {},
   "outputs": [],
   "source": [
    "table(chickwts$feed)"
   ]
  },
  {
   "cell_type": "code",
   "execution_count": null,
   "metadata": {},
   "outputs": [],
   "source": [
    "qqnorm(chickwts$weight[chickwts$feed == \"linseed\"])\n",
    "qqline(chickwts$weight[chickwts$feed == \"linseed\"])"
   ]
  },
  {
   "cell_type": "code",
   "execution_count": null,
   "metadata": {},
   "outputs": [],
   "source": [
    "aggregate(weight ~ feed, data = chickwts, mean)"
   ]
  },
  {
   "cell_type": "code",
   "execution_count": null,
   "metadata": {},
   "outputs": [],
   "source": [
    "groupMeans <- aggregate(weight ~ feed, data = chickwts, mean)"
   ]
  },
  {
   "cell_type": "code",
   "execution_count": null,
   "metadata": {},
   "outputs": [],
   "source": [
    "mean(groupMeans$weight)"
   ]
  },
  {
   "cell_type": "code",
   "execution_count": null,
   "metadata": {},
   "outputs": [],
   "source": [
    "groupMeans$weight - mean(groupMeans$weight)"
   ]
  },
  {
   "cell_type": "code",
   "execution_count": null,
   "metadata": {},
   "outputs": [],
   "source": [
    "groupMeans$meanMinusGrandMean <- groupMeans$weight - mean(groupMeans$weight)"
   ]
  },
  {
   "cell_type": "code",
   "execution_count": null,
   "metadata": {},
   "outputs": [],
   "source": [
    "groupMeans"
   ]
  },
  {
   "cell_type": "code",
   "execution_count": null,
   "metadata": {},
   "outputs": [],
   "source": [
    "groupMeans$meanMinusGrandMeanSq <- groupMeans$meanMinusGrandMean^2"
   ]
  },
  {
   "cell_type": "code",
   "execution_count": null,
   "metadata": {},
   "outputs": [],
   "source": [
    "groupMeans"
   ]
  },
  {
   "cell_type": "code",
   "execution_count": null,
   "metadata": {},
   "outputs": [],
   "source": [
    "sum(groupMeans$meanMinusGrandMeanSq)"
   ]
  },
  {
   "cell_type": "code",
   "execution_count": null,
   "metadata": {},
   "outputs": [],
   "source": [
    "sum(10 * groupMeans$meanMinusGrandMeanSq) / (6-1)"
   ]
  },
  {
   "cell_type": "code",
   "execution_count": null,
   "metadata": {},
   "outputs": [],
   "source": [
    "groupMeans %>% select(feed, groupMean = weight)"
   ]
  },
  {
   "cell_type": "code",
   "execution_count": null,
   "metadata": {},
   "outputs": [],
   "source": [
    "chickwts %>% left_join(groupMeans %>% select(feed, groupMean = weight), by = c(\"feed\" = \"feed\"))"
   ]
  },
  {
   "cell_type": "code",
   "execution_count": null,
   "metadata": {},
   "outputs": [],
   "source": [
    "chickwts2 <- chickwts %>% \n",
    "  left_join(groupMeans %>% select(feed, groupMean = weight), by = c(\"feed\" = \"feed\"))"
   ]
  },
  {
   "cell_type": "code",
   "execution_count": null,
   "metadata": {},
   "outputs": [],
   "source": [
    "chickwts2$weight - chickwts2$groupMean"
   ]
  },
  {
   "cell_type": "code",
   "execution_count": null,
   "metadata": {},
   "outputs": [],
   "source": [
    "(chickwts2$weight - chickwts2$groupMean)^2"
   ]
  },
  {
   "cell_type": "code",
   "execution_count": null,
   "metadata": {},
   "outputs": [],
   "source": [
    "sum((chickwts2$weight - chickwts2$groupMean)^2)"
   ]
  },
  {
   "cell_type": "code",
   "execution_count": null,
   "metadata": {},
   "outputs": [],
   "source": [
    "pf(10, 4, 40, lower.tail = FALSE)"
   ]
  },
  {
   "cell_type": "code",
   "execution_count": null,
   "metadata": {},
   "outputs": [],
   "source": [
    "summary(aov(weight ~ feed, data = chickwts))"
   ]
  },
  {
   "cell_type": "code",
   "execution_count": null,
   "metadata": {},
   "outputs": [],
   "source": [
    "anova1 <- aov(weight ~ feed, data = chickwts)"
   ]
  },
  {
   "cell_type": "code",
   "execution_count": null,
   "metadata": {},
   "outputs": [],
   "source": [
    "groupMeans"
   ]
  },
  {
   "cell_type": "code",
   "execution_count": null,
   "metadata": {},
   "outputs": [],
   "source": [
    "(160.2 - 323.3) - qt(0.025, df = 60 - 6, lower.tail = FALSE) * sqrt(3149 * (1/10 + 1/10))"
   ]
  },
  {
   "cell_type": "code",
   "execution_count": null,
   "metadata": {},
   "outputs": [],
   "source": [
    "(160.2 - 323.3) + qt(0.025, df = 60 - 6, lower.tail = FALSE) * sqrt(3149 * (1/10 + 1/10))"
   ]
  },
  {
   "cell_type": "code",
   "execution_count": null,
   "metadata": {},
   "outputs": [],
   "source": [
    "(160.2 - 323.3) / sqrt(3149 * (1/10 + 1/10))"
   ]
  },
  {
   "cell_type": "code",
   "execution_count": null,
   "metadata": {},
   "outputs": [],
   "source": [
    "pt((160.2 - 323.3) / sqrt(3149 * (1/10 + 1/10)), df = 60 - 6, lower.tail = TRUE)"
   ]
  },
  {
   "cell_type": "code",
   "execution_count": null,
   "metadata": {},
   "outputs": [],
   "source": [
    "2 * pt((160.2 - 323.3) / sqrt(3149 * (1/10 + 1/10)), df = 60 - 6, lower.tail = TRUE)"
   ]
  },
  {
   "cell_type": "code",
   "execution_count": null,
   "metadata": {},
   "outputs": [],
   "source": [
    "(160.2 - 323.3) - qt(0.025, df = 60 - 6, lower.tail = FALSE) * sqrt(3149.47592592593 * (1/10 + 1/10))"
   ]
  },
  {
   "cell_type": "code",
   "execution_count": null,
   "metadata": {},
   "outputs": [],
   "source": [
    "PostHocTest(anova1, method = \"lsd\")"
   ]
  },
  {
   "cell_type": "code",
   "execution_count": null,
   "metadata": {},
   "outputs": [],
   "source": [
    "choose(6, 2)"
   ]
  },
  {
   "cell_type": "code",
   "execution_count": null,
   "metadata": {},
   "outputs": [],
   "source": [
    "0.025 / 15"
   ]
  },
  {
   "cell_type": "code",
   "execution_count": null,
   "metadata": {},
   "outputs": [],
   "source": [
    "(160.2 - 323.3) - qt(0.025 / 15, df = 60 - 6, lower.tail = FALSE) * sqrt(3149 * (1/10 + 1/10))"
   ]
  },
  {
   "cell_type": "code",
   "execution_count": null,
   "metadata": {},
   "outputs": [],
   "source": [
    "(160.2 - 323.3) + qt(0.025 / 15, df = 60 - 6, lower.tail = FALSE) * sqrt(3149 * (1/10 + 1/10))"
   ]
  },
  {
   "cell_type": "code",
   "execution_count": null,
   "metadata": {},
   "outputs": [],
   "source": [
    "15 * 2 * pt((160.2 - 323.3) / sqrt(3149 * (1/10 + 1/10)), df = 60 - 6, lower.tail = TRUE)"
   ]
  },
  {
   "cell_type": "code",
   "execution_count": null,
   "metadata": {},
   "outputs": [],
   "source": [
    "PostHocTest(anova1, method = \"bonf\")"
   ]
  },
  {
   "cell_type": "code",
   "execution_count": null,
   "metadata": {},
   "outputs": [],
   "source": [
    "PostHocTest(anova1, method = \"scheffe\")"
   ]
  },
  {
   "cell_type": "code",
   "execution_count": null,
   "metadata": {},
   "outputs": [],
   "source": [
    "TukeyHSD(anova1)"
   ]
  }
 ],
 "metadata": {
  "kernelspec": {
   "display_name": "R",
   "language": "R",
   "name": "ir"
  },
  "language_info": {
   "codemirror_mode": "r",
   "file_extension": ".r",
   "mimetype": "text/x-r-source",
   "name": "R",
   "pygments_lexer": "r",
   "version": "3.6.1"
  }
 },
 "nbformat": 4,
 "nbformat_minor": 2
}
